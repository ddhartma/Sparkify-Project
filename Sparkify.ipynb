{
 "cells": [
  {
   "cell_type": "markdown",
   "metadata": {},
   "source": [
    "# Sparkify Project Workspace\n",
    "This workspace contains a tiny subset (128MB) of the full dataset available (12GB). Feel free to use this workspace to build your project, or to explore a smaller subset with Spark before deploying your cluster on the cloud. Instructions for setting up your Spark cluster is included in the last lesson of the Extracurricular Spark Course content.\n",
    "\n",
    "You can follow the steps below to guide your data analysis and model building portion of this project."
   ]
  },
  {
   "cell_type": "markdown",
   "metadata": {},
   "source": [
    "## Content\n",
    "- [Exploratory Data Analysis Part 1](#Exploratory_Data_Analysis1)<br>\n",
    "    - [DataFrame preliminary Description](#describe_df)<br>\n",
    "    - [Study DataFrame for based on userId](#df_example_study)<br>\n",
    "- [Data Preparation](#data_prep)<br>\n",
    "    - [Drop missing/uncommon values](#filter_data)<br>\n",
    "    - [Define Churn - The Label for Machine Learning Modeling](#churn)<br>\n",
    "    - [Distribution of churned and non churned users](#Distribution_of_churned_and_non_churned_users)<br> \n",
    "- [Exploratory Data Analysis Part 2](#Exploratory_Data_Analysis2)<br>\n",
    "    - [Gender distribution based on churn](#Gender_distribution_based_on_churn)\n",
    "    - [Membership duration](#member_dur)\n",
    "    - [Total page activity based on churn](#Total_page_activity_based_on_churn)<br>\n",
    "    - [Total number of songs played by user](#total_number_of_songs_played_by_user)<br>\n",
    "    - [Average number of songs played per user per session](#Average_number_of_songs_played_by_user_per_session)<br>\n",
    "    - [Total number of thumbs up per user](#total_number_of_thumbs_up_per_user)<br>\n",
    "    - [Total number of thumbs down per user](#total_number_of_thumbs_down_per_user)<br>\n",
    "    - [Total number of errors per user](#Total_number_of_errors_per_user)<br>\n",
    "    - [Total number of \"Add to Playlist\" clicks per user](#Total_number_of_Add_to_playlist_clicks_per_user)<br>\n",
    "    - [Total number of \"Add Friend\" clicks per user](#Total_number_of_Add_Friend_clicks_per_user)<br>\n",
    "    - [Feature report](#feature_report)\n",
    "    \n",
    "- [Feature Engineering](#Feature_Engineering)<br> \n",
    "- [Modeling](#modeling)<br> \n",
    "- [Evaluation](#evaluation)<br>"
   ]
  },
  {
   "cell_type": "code",
   "execution_count": 1,
   "metadata": {},
   "outputs": [],
   "source": [
    "# import libraries\n",
    "from pyspark.sql import SparkSession\n",
    "from pyspark.sql.functions import udf\n",
    "from pyspark.sql.types import StringType\n",
    "from pyspark.sql.types import IntegerType, FloatType\n",
    "from pyspark.sql.functions import desc\n",
    "from pyspark.sql.functions import asc\n",
    "from pyspark.sql.functions import sum as Fsum,  min, max\n",
    "import pyspark.sql.functions as psqf\n",
    "from pyspark.sql.functions import col, countDistinct,  mean as _mean, stddev as _stddev\n",
    "from pyspark.sql.window import Window\n",
    "from pyspark.sql import functions as F\n",
    "from pyspark.sql.types import TimestampType\n",
    "\n",
    "from pyspark.ml import Pipeline\n",
    "from pyspark.ml.classification import LinearSVC\n",
    "from pyspark.ml.classification import LogisticRegression, RandomForestClassifier, GBTClassifier, DecisionTreeClassifier\n",
    "from pyspark.ml.evaluation import BinaryClassificationEvaluator, MulticlassClassificationEvaluator\n",
    "from pyspark.ml.feature import StandardScaler, VectorAssembler\n",
    "from pyspark.ml.regression import LinearRegression\n",
    "from pyspark.ml.tuning import CrossValidator, ParamGridBuilder\n",
    "from pyspark.ml.feature import MinMaxScaler\n",
    "from pyspark.mllib.evaluation import MulticlassMetrics\n",
    "\n",
    "\n",
    "import datetime\n",
    "\n",
    "import numpy as np\n",
    "import pandas as pd\n",
    "%matplotlib inline\n",
    "import matplotlib.pyplot as plt\n",
    "import seaborn as sns\n",
    "sns.set_style(\"darkgrid\")\n",
    "\n",
    "from IPython.display import Markdown, display, HTML\n",
    "def printmd(string):\n",
    "    display(Markdown(string))"
   ]
  },
  {
   "cell_type": "code",
   "execution_count": 2,
   "metadata": {},
   "outputs": [
    {
     "data": {
      "text/markdown": [
       "### The additional library requirements to run this notebook"
      ],
      "text/plain": [
       "<IPython.core.display.Markdown object>"
      ]
     },
     "metadata": {},
     "output_type": "display_data"
    },
    {
     "name": "stdout",
     "output_type": "stream",
     "text": [
      "[('pyspark', '2.4.3'), ('seaborn', '0.8.1'), ('pandas', '0.23.3'), ('numpy', '1.12.1'), ('matplotlib', '2.1.0')]\n"
     ]
    }
   ],
   "source": [
    "# get back the used libraries and their versions as a list of tuples\n",
    "import pkg_resources\n",
    "import types\n",
    "def get_imports():\n",
    "    \"\"\" Get a list of packages and versions for README.md\n",
    "    \n",
    "        INPUTS: \n",
    "        -----------\n",
    "            None\n",
    "\n",
    "        OUTPUTS: \n",
    "        -----------\n",
    "            list of tuples with package names and tuples\n",
    "    \"\"\"\n",
    "    for name, val in globals().items():\n",
    "        if isinstance(val, types.ModuleType):\n",
    "            # Split ensures you get root package, \n",
    "            # not just imported function\n",
    "            name = val.__name__.split(\".\")[0]\n",
    "\n",
    "        elif isinstance(val, type):\n",
    "            name = val.__module__.split(\".\")[0]\n",
    "\n",
    "        # Some packages are weird and have different\n",
    "        # imported names vs. system/pip names. Unfortunately,\n",
    "        # there is no systematic way to get pip names from\n",
    "        # a package's imported name. You'll have to add\n",
    "        # exceptions to this list manually!\n",
    "        poorly_named_packages = {\n",
    "            \"PIL\": \"Pillow\",\n",
    "            \"sklearn\": \"scikit-learn\"\n",
    "        }\n",
    "        if name in poorly_named_packages.keys():\n",
    "            name = poorly_named_packages[name]\n",
    "\n",
    "        yield name\n",
    "        \n",
    "imports = list(set(get_imports()))\n",
    "\n",
    "# Get the versions of the root package\n",
    "# by cross-checking the names of installed packages vs. imported packages\n",
    "requirements = []\n",
    "for m in pkg_resources.working_set:\n",
    "    if m.project_name in imports and m.project_name!=\"pip\":\n",
    "        requirements.append((m.project_name, m.version))\n",
    "        \n",
    "printmd('### The additional library requirements to run this notebook')\n",
    "print(requirements)"
   ]
  },
  {
   "cell_type": "code",
   "execution_count": 3,
   "metadata": {},
   "outputs": [],
   "source": [
    "# Some UDF needed in the notebook\n",
    "\n",
    "# Convert timestamps to datetime from epoch time to get the hour of the day. Create a user defined function called get_hour\n",
    "get_hour = udf(lambda x: datetime.datetime.fromtimestamp(x / 1000.0).hour)\n",
    "\n",
    "# Convert epoch time in milliseconds to econds\n",
    "get_seconds = udf(lambda x: x / 1000.0)\n",
    "\n",
    "# Convert epoch time in milliseconds to days\n",
    "get_days = udf(lambda x: x / (1000.0 * 3600 * 24))"
   ]
  },
  {
   "cell_type": "code",
   "execution_count": 4,
   "metadata": {},
   "outputs": [],
   "source": [
    "def plot_sns_bar(x, y, data, hue=None, log=False, title='', xlabel='x', ylabel='y', legend='', legend_loc='best', figsize=(8,5), save=False, hide_xtick=False, rotation=0, order=False, sort_by='', ascending=False):\n",
    "    \"\"\" plot sns bar plot\n",
    "        INPUTS:\n",
    "        ------------\n",
    "            x - (string) column name of DataFrame used as xaxis\n",
    "            y - (string) column name of DataFrame used as yaxis\n",
    "            hue - (string) grouping variable \n",
    "            data - (pandas dataframe) dataframe used fot plotting\n",
    "            log - (bool) if True use logarithmic scale for y axis, else linear \n",
    "            title - (string) title of plot\n",
    "            xlabel - (string) xlabel name \n",
    "            ylabel - (string) ylabel name\n",
    "            save - (bool) if True save plot as png\n",
    "            hide_xtick - (bool) if True hide xtick labels\n",
    "            rotation - (int) angle in degrees forxlabel rotation\n",
    "            order - (bool) if True order xaxis by sort_by\n",
    "            sort_by (string) name of dataframe column for which xaxis should be ordered\n",
    "            ascending - (bool) if True use ascending order for sort\n",
    "                            \n",
    "     \n",
    "        OUTPUTS:\n",
    "        ------------\n",
    "            No return\n",
    "            seaborn plot \n",
    "            png export \n",
    "            \n",
    "    \"\"\"\n",
    "    fig = plt.figure(figsize=figsize)\n",
    "    # make barplot and sort bars\n",
    "    if order == True:\n",
    "        g1 = sns.barplot(x=x,\n",
    "                    y=y, \n",
    "                    data=data, \n",
    "                    log=log,\n",
    "                    hue=hue,\n",
    "                    order=data.sort_values(sort_by, ascending=ascending)[x])\n",
    "    else:\n",
    "        g1 = sns.barplot(x=x,\n",
    "                    y=y, \n",
    "                    data=data,\n",
    "                    log=log,\n",
    "                    hue=hue)\n",
    "        \n",
    "    # set labels\n",
    "    if hide_xtick == True:\n",
    "        g1.set(xticklabels=[])  # remove the tick labels\n",
    "    plt.xlabel(xlabel, size=15)\n",
    "    plt.ylabel(ylabel, size=15)\n",
    "    plt.xticks(rotation=rotation)\n",
    "    plt.title(title, size=18)   \n",
    "    try:\n",
    "        g1._legend.set_bbox_to_anchor(legend_loc)\n",
    "        if legend !='':\n",
    "            plt.legend(title=legend)\n",
    "    except:\n",
    "        if legend !='':\n",
    "            plt.legend(title=legend, loc=legend_loc)\n",
    "    plt.tight_layout()\n",
    "    if save == True:\n",
    "        name = title.replace(' ', '_')\n",
    "        plt.savefig(name + \".png\", dpi=100)\n",
    "        "
   ]
  },
  {
   "cell_type": "code",
   "execution_count": 5,
   "metadata": {},
   "outputs": [],
   "source": [
    "def plot_sns_box(x, y, data, title='', xlabel='x', ylabel='y', legend='', legend_loc='best', figsize=(8,5), save=False, hide_xtick=False, rotation=0, order=False, sort_by='', ascending=False):\n",
    "    \"\"\" plot sns bar plot\n",
    "        INPUTS:\n",
    "        ------------\n",
    "            x - (string) column name of DataFrame used as xaxis\n",
    "            y - (string) column name of DataFrame used as yaxis\n",
    "            hue - (string) grouping variable \n",
    "            data - (pandas dataframe) dataframe used fot plotting\n",
    "            log - (bool) if True use logarithmic scale for y axis, else linear \n",
    "            title - (string) title of plot\n",
    "            xlabel - (string) xlabel name \n",
    "            ylabel - (string) ylabel name\n",
    "            save - (bool) if True save plot as png\n",
    "            hide_xtick - (bool) if True hide xtick labels\n",
    "            rotation - (int) angle in degrees forxlabel rotation\n",
    "            order - (bool) if True order xaxis by sort_by\n",
    "            sort_by (string) name of dataframe column for which xaxis should be ordered\n",
    "            ascending - (bool) if True use ascending order for sort\n",
    "                            \n",
    "     \n",
    "        OUTPUTS:\n",
    "        ------------\n",
    "            No return\n",
    "            seaborn plot \n",
    "            png export \n",
    "            \n",
    "    \"\"\"\n",
    "    fig = plt.figure(figsize=figsize)\n",
    "    # make barplot and sort bars\n",
    "    if order == True:\n",
    "        g1 = sns.boxplot(x=x,\n",
    "                    y=y, \n",
    "                    data=data, \n",
    "                    order=data.sort_values(sort_by, ascending=ascending)[x])\n",
    "    else:\n",
    "        g1 = sns.boxplot(x=x,\n",
    "                    y=y, \n",
    "                    data=data)\n",
    "                    \n",
    "        \n",
    "    # set labels\n",
    "    if hide_xtick == True:\n",
    "        g1.set(xticklabels=[])  # remove the tick labels\n",
    "    plt.xlabel(xlabel, size=15)\n",
    "    plt.ylabel(ylabel, size=15)\n",
    "    plt.xticks(rotation=rotation)\n",
    "    plt.title(title, size=18)\n",
    "    \n",
    "    try:\n",
    "        g1._legend.set_bbox_to_anchor(legend_loc)\n",
    "        if legend !='':\n",
    "            plt.legend(title=legend)\n",
    "    except:\n",
    "        if legend !='':\n",
    "            plt.legend(title=legend, loc=legend_loc)\n",
    "    plt.tight_layout()\n",
    "    if save == True:\n",
    "        name = title.replace(' ', '_')\n",
    "        plt.savefig(name + \".png\", dpi=100)\n",
    "        "
   ]
  },
  {
   "cell_type": "code",
   "execution_count": 6,
   "metadata": {},
   "outputs": [],
   "source": [
    "def plot_sns_distplot(data, column_to_plot, title='', xlabel='x', ylabel='y',  figsize=(8,5), save=False, bins=20, kde=True, norm_hist=True):\n",
    "    fig = plt.figure(figsize=figsize)\n",
    "    # make barplot and sort bars\n",
    "    g1 = sns.distplot(data[column_to_plot], bins=bins, kde=kde, norm_hist=norm_hist)\n",
    "    # set labels\n",
    "    plt.xlabel(xlabel, size=15)\n",
    "    plt.ylabel(ylabel, size=15)\n",
    "    plt.title(title, size=18)\n",
    "    plt.tight_layout()\n",
    "    if save == True:\n",
    "        name = title.replace(' ', '_')\n",
    "        plt.savefig(name + \".png\", dpi=100)"
   ]
  },
  {
   "cell_type": "code",
   "execution_count": 7,
   "metadata": {},
   "outputs": [],
   "source": [
    "def plot_pie(df, title, explode, **kwargs):\n",
    "    \"\"\"\n",
    "    INPUT:\n",
    "        - df - dataframe to be plotted as a pie plot, columns of df --> the pie pieces of the plot\n",
    "        - title - provide a title as string for the plot\n",
    "        - explode - listto set the explosion of each pie piece, length must be equal to number of pie pieces\n",
    "        - **kwargs - (optional) paramters to overwrite the default setting of the pie_setting_dict \n",
    "    OUTPUT:\n",
    "        - A pie chart with a specially designed layout\n",
    "    \n",
    "    AIM:\n",
    "        1.) Overwrite the default setting of the pie_setting_dict dictionary\n",
    "        2.) execute plot_df.plot_df_bar() - this function will then create the plot based on the provided settings\n",
    "    \"\"\"\n",
    "    pie_setting_dict = {'figsize' : (10,5),\n",
    "                        'shadow' : True,\n",
    "                        'autopct' : '%1.1f%%',\n",
    "                        'startangle' :90,\n",
    "                        'fontsize_title' : 14,\n",
    "                        'fontsize_text' : 14,\n",
    "                        'fontsize_legend' : 14,\n",
    "                        'legend_state' : True,\n",
    "                        'legend_title' : '',   \n",
    "                        'legend_list_to_plot' : '',\n",
    "                        'legend_move' : False,\n",
    "                        'legend_x' : None,\n",
    "                        'legend_y' : None}\n",
    "    \n",
    "    for key, value in kwargs.items():\n",
    "        pie_setting_dict[key] = value\n",
    "    plot_df.plot_df_pie(df, title, explode, pie_setting_dict)\n"
   ]
  },
  {
   "cell_type": "code",
   "execution_count": 8,
   "metadata": {},
   "outputs": [],
   "source": [
    "# create a Spark session\n",
    "spark = SparkSession \\\n",
    "    .builder \\\n",
    "    .appName(\"Wrangling Data\") \\\n",
    "    .getOrCreate()"
   ]
  },
  {
   "cell_type": "markdown",
   "metadata": {},
   "source": [
    "# Load and Clean Dataset\n",
    "In this workspace, the mini-dataset file is `mini_sparkify_event_data.json`. Load and clean the dataset, checking for invalid or missing data - for example, records without userids or sessionids. "
   ]
  },
  {
   "cell_type": "code",
   "execution_count": 9,
   "metadata": {},
   "outputs": [],
   "source": [
    "path = \"mini_sparkify_event_data.json\"\n",
    "df = spark.read.json(path)"
   ]
  },
  {
   "cell_type": "markdown",
   "metadata": {},
   "source": [
    "# <a class=\"anchor\" id=\"Exploratory_Data_Analysis1\">Exploratory Data Analysis Part 1</a>\n",
    "When you're working with the full dataset, perform EDA by loading a small subset of the data and doing basic manipulations within Spark. In this workspace, you are already provided a small subset of data you can explore.\n",
    "\n",
    "### Define Churn\n",
    "\n",
    "Once you've done some preliminary analysis, create a column `Churn` to use as the label for your model. I suggest using the `Cancellation Confirmation` events to define your churn, which happen for both paid and free users. As a bonus task, you can also look into the `Downgrade` events.\n",
    "\n",
    "### Explore Data\n",
    "Once you've defined churn, perform some exploratory data analysis to observe the behavior for users who stayed vs users who churned. You can start by exploring aggregates on these two groups of users, observing how much of a specific action they experienced per a certain time unit or number of songs played."
   ]
  },
  {
   "cell_type": "markdown",
   "metadata": {},
   "source": [
    "## <a class=\"anchor\" id=\"describe_df\">DataFrame preliminary Description</a>"
   ]
  },
  {
   "cell_type": "code",
   "execution_count": 10,
   "metadata": {},
   "outputs": [
    {
     "name": "stdout",
     "output_type": "stream",
     "text": [
      "root\n",
      " |-- artist: string (nullable = true)\n",
      " |-- auth: string (nullable = true)\n",
      " |-- firstName: string (nullable = true)\n",
      " |-- gender: string (nullable = true)\n",
      " |-- itemInSession: long (nullable = true)\n",
      " |-- lastName: string (nullable = true)\n",
      " |-- length: double (nullable = true)\n",
      " |-- level: string (nullable = true)\n",
      " |-- location: string (nullable = true)\n",
      " |-- method: string (nullable = true)\n",
      " |-- page: string (nullable = true)\n",
      " |-- registration: long (nullable = true)\n",
      " |-- sessionId: long (nullable = true)\n",
      " |-- song: string (nullable = true)\n",
      " |-- status: long (nullable = true)\n",
      " |-- ts: long (nullable = true)\n",
      " |-- userAgent: string (nullable = true)\n",
      " |-- userId: string (nullable = true)\n",
      "\n"
     ]
    }
   ],
   "source": [
    "df.printSchema()"
   ]
  },
  {
   "cell_type": "code",
   "execution_count": 11,
   "metadata": {},
   "outputs": [
    {
     "data": {
      "text/html": [
       "<div>\n",
       "<style scoped>\n",
       "    .dataframe tbody tr th:only-of-type {\n",
       "        vertical-align: middle;\n",
       "    }\n",
       "\n",
       "    .dataframe tbody tr th {\n",
       "        vertical-align: top;\n",
       "    }\n",
       "\n",
       "    .dataframe thead th {\n",
       "        text-align: right;\n",
       "    }\n",
       "</style>\n",
       "<table border=\"1\" class=\"dataframe\">\n",
       "  <thead>\n",
       "    <tr style=\"text-align: right;\">\n",
       "      <th></th>\n",
       "      <th>artist</th>\n",
       "      <th>auth</th>\n",
       "      <th>firstName</th>\n",
       "      <th>gender</th>\n",
       "      <th>itemInSession</th>\n",
       "      <th>lastName</th>\n",
       "      <th>length</th>\n",
       "      <th>level</th>\n",
       "      <th>location</th>\n",
       "      <th>method</th>\n",
       "      <th>page</th>\n",
       "      <th>registration</th>\n",
       "      <th>sessionId</th>\n",
       "      <th>song</th>\n",
       "      <th>status</th>\n",
       "      <th>ts</th>\n",
       "      <th>userAgent</th>\n",
       "      <th>userId</th>\n",
       "    </tr>\n",
       "  </thead>\n",
       "  <tbody>\n",
       "    <tr>\n",
       "      <th>0</th>\n",
       "      <td>Martha Tilston</td>\n",
       "      <td>Logged In</td>\n",
       "      <td>Colin</td>\n",
       "      <td>M</td>\n",
       "      <td>50</td>\n",
       "      <td>Freeman</td>\n",
       "      <td>277.89016</td>\n",
       "      <td>paid</td>\n",
       "      <td>Bakersfield, CA</td>\n",
       "      <td>PUT</td>\n",
       "      <td>NextSong</td>\n",
       "      <td>1.538173e+12</td>\n",
       "      <td>29</td>\n",
       "      <td>Rockpools</td>\n",
       "      <td>200</td>\n",
       "      <td>1538352117000</td>\n",
       "      <td>Mozilla/5.0 (Windows NT 6.1; WOW64; rv:31.0) G...</td>\n",
       "      <td>30</td>\n",
       "    </tr>\n",
       "    <tr>\n",
       "      <th>1</th>\n",
       "      <td>Five Iron Frenzy</td>\n",
       "      <td>Logged In</td>\n",
       "      <td>Micah</td>\n",
       "      <td>M</td>\n",
       "      <td>79</td>\n",
       "      <td>Long</td>\n",
       "      <td>236.09424</td>\n",
       "      <td>free</td>\n",
       "      <td>Boston-Cambridge-Newton, MA-NH</td>\n",
       "      <td>PUT</td>\n",
       "      <td>NextSong</td>\n",
       "      <td>1.538332e+12</td>\n",
       "      <td>8</td>\n",
       "      <td>Canada</td>\n",
       "      <td>200</td>\n",
       "      <td>1538352180000</td>\n",
       "      <td>\"Mozilla/5.0 (Windows NT 6.1; WOW64) AppleWebK...</td>\n",
       "      <td>9</td>\n",
       "    </tr>\n",
       "    <tr>\n",
       "      <th>2</th>\n",
       "      <td>Adam Lambert</td>\n",
       "      <td>Logged In</td>\n",
       "      <td>Colin</td>\n",
       "      <td>M</td>\n",
       "      <td>51</td>\n",
       "      <td>Freeman</td>\n",
       "      <td>282.82730</td>\n",
       "      <td>paid</td>\n",
       "      <td>Bakersfield, CA</td>\n",
       "      <td>PUT</td>\n",
       "      <td>NextSong</td>\n",
       "      <td>1.538173e+12</td>\n",
       "      <td>29</td>\n",
       "      <td>Time For Miracles</td>\n",
       "      <td>200</td>\n",
       "      <td>1538352394000</td>\n",
       "      <td>Mozilla/5.0 (Windows NT 6.1; WOW64; rv:31.0) G...</td>\n",
       "      <td>30</td>\n",
       "    </tr>\n",
       "    <tr>\n",
       "      <th>3</th>\n",
       "      <td>Enigma</td>\n",
       "      <td>Logged In</td>\n",
       "      <td>Micah</td>\n",
       "      <td>M</td>\n",
       "      <td>80</td>\n",
       "      <td>Long</td>\n",
       "      <td>262.71302</td>\n",
       "      <td>free</td>\n",
       "      <td>Boston-Cambridge-Newton, MA-NH</td>\n",
       "      <td>PUT</td>\n",
       "      <td>NextSong</td>\n",
       "      <td>1.538332e+12</td>\n",
       "      <td>8</td>\n",
       "      <td>Knocking On Forbidden Doors</td>\n",
       "      <td>200</td>\n",
       "      <td>1538352416000</td>\n",
       "      <td>\"Mozilla/5.0 (Windows NT 6.1; WOW64) AppleWebK...</td>\n",
       "      <td>9</td>\n",
       "    </tr>\n",
       "    <tr>\n",
       "      <th>4</th>\n",
       "      <td>Daft Punk</td>\n",
       "      <td>Logged In</td>\n",
       "      <td>Colin</td>\n",
       "      <td>M</td>\n",
       "      <td>52</td>\n",
       "      <td>Freeman</td>\n",
       "      <td>223.60771</td>\n",
       "      <td>paid</td>\n",
       "      <td>Bakersfield, CA</td>\n",
       "      <td>PUT</td>\n",
       "      <td>NextSong</td>\n",
       "      <td>1.538173e+12</td>\n",
       "      <td>29</td>\n",
       "      <td>Harder Better Faster Stronger</td>\n",
       "      <td>200</td>\n",
       "      <td>1538352676000</td>\n",
       "      <td>Mozilla/5.0 (Windows NT 6.1; WOW64; rv:31.0) G...</td>\n",
       "      <td>30</td>\n",
       "    </tr>\n",
       "  </tbody>\n",
       "</table>\n",
       "</div>"
      ],
      "text/plain": [
       "             artist       auth firstName gender  itemInSession lastName  \\\n",
       "0    Martha Tilston  Logged In     Colin      M             50  Freeman   \n",
       "1  Five Iron Frenzy  Logged In     Micah      M             79     Long   \n",
       "2      Adam Lambert  Logged In     Colin      M             51  Freeman   \n",
       "3            Enigma  Logged In     Micah      M             80     Long   \n",
       "4         Daft Punk  Logged In     Colin      M             52  Freeman   \n",
       "\n",
       "      length level                        location method      page  \\\n",
       "0  277.89016  paid                 Bakersfield, CA    PUT  NextSong   \n",
       "1  236.09424  free  Boston-Cambridge-Newton, MA-NH    PUT  NextSong   \n",
       "2  282.82730  paid                 Bakersfield, CA    PUT  NextSong   \n",
       "3  262.71302  free  Boston-Cambridge-Newton, MA-NH    PUT  NextSong   \n",
       "4  223.60771  paid                 Bakersfield, CA    PUT  NextSong   \n",
       "\n",
       "   registration  sessionId                           song  status  \\\n",
       "0  1.538173e+12         29                      Rockpools     200   \n",
       "1  1.538332e+12          8                         Canada     200   \n",
       "2  1.538173e+12         29              Time For Miracles     200   \n",
       "3  1.538332e+12          8    Knocking On Forbidden Doors     200   \n",
       "4  1.538173e+12         29  Harder Better Faster Stronger     200   \n",
       "\n",
       "              ts                                          userAgent userId  \n",
       "0  1538352117000  Mozilla/5.0 (Windows NT 6.1; WOW64; rv:31.0) G...     30  \n",
       "1  1538352180000  \"Mozilla/5.0 (Windows NT 6.1; WOW64) AppleWebK...      9  \n",
       "2  1538352394000  Mozilla/5.0 (Windows NT 6.1; WOW64; rv:31.0) G...     30  \n",
       "3  1538352416000  \"Mozilla/5.0 (Windows NT 6.1; WOW64) AppleWebK...      9  \n",
       "4  1538352676000  Mozilla/5.0 (Windows NT 6.1; WOW64; rv:31.0) G...     30  "
      ]
     },
     "execution_count": 11,
     "metadata": {},
     "output_type": "execute_result"
    }
   ],
   "source": [
    "# Readable dataframe head using pandas\n",
    "df_pd = df.toPandas()\n",
    "df_pd.head()"
   ]
  },
  {
   "cell_type": "markdown",
   "metadata": {},
   "source": [
    "### Shape of DataFrame"
   ]
  },
  {
   "cell_type": "code",
   "execution_count": 12,
   "metadata": {},
   "outputs": [
    {
     "data": {
      "text/markdown": [
       "#### Number of entries: 286500"
      ],
      "text/plain": [
       "<IPython.core.display.Markdown object>"
      ]
     },
     "metadata": {},
     "output_type": "display_data"
    },
    {
     "data": {
      "text/markdown": [
       "#### Number of columns: 18"
      ],
      "text/plain": [
       "<IPython.core.display.Markdown object>"
      ]
     },
     "metadata": {},
     "output_type": "display_data"
    }
   ],
   "source": [
    "printmd('#### Number of entries: ' + str(df.count()))\n",
    "printmd('#### Number of columns: ' + str(len(df.columns)))"
   ]
  },
  {
   "cell_type": "markdown",
   "metadata": {},
   "source": [
    "### Describe the Dataframe"
   ]
  },
  {
   "cell_type": "code",
   "execution_count": 13,
   "metadata": {},
   "outputs": [
    {
     "data": {
      "text/html": [
       "<div>\n",
       "<style scoped>\n",
       "    .dataframe tbody tr th:only-of-type {\n",
       "        vertical-align: middle;\n",
       "    }\n",
       "\n",
       "    .dataframe tbody tr th {\n",
       "        vertical-align: top;\n",
       "    }\n",
       "\n",
       "    .dataframe thead th {\n",
       "        text-align: right;\n",
       "    }\n",
       "</style>\n",
       "<table border=\"1\" class=\"dataframe\">\n",
       "  <thead>\n",
       "    <tr style=\"text-align: right;\">\n",
       "      <th></th>\n",
       "      <th>itemInSession</th>\n",
       "      <th>length</th>\n",
       "      <th>registration</th>\n",
       "      <th>sessionId</th>\n",
       "      <th>status</th>\n",
       "      <th>ts</th>\n",
       "    </tr>\n",
       "  </thead>\n",
       "  <tbody>\n",
       "    <tr>\n",
       "      <th>count</th>\n",
       "      <td>286500.000000</td>\n",
       "      <td>228108.000000</td>\n",
       "      <td>2.781540e+05</td>\n",
       "      <td>286500.000000</td>\n",
       "      <td>286500.000000</td>\n",
       "      <td>2.865000e+05</td>\n",
       "    </tr>\n",
       "    <tr>\n",
       "      <th>mean</th>\n",
       "      <td>114.414213</td>\n",
       "      <td>249.117182</td>\n",
       "      <td>1.535359e+12</td>\n",
       "      <td>1041.526555</td>\n",
       "      <td>210.054597</td>\n",
       "      <td>1.540957e+12</td>\n",
       "    </tr>\n",
       "    <tr>\n",
       "      <th>std</th>\n",
       "      <td>129.767262</td>\n",
       "      <td>99.235179</td>\n",
       "      <td>3.291322e+09</td>\n",
       "      <td>726.776263</td>\n",
       "      <td>31.505078</td>\n",
       "      <td>1.507544e+09</td>\n",
       "    </tr>\n",
       "    <tr>\n",
       "      <th>min</th>\n",
       "      <td>0.000000</td>\n",
       "      <td>0.783220</td>\n",
       "      <td>1.521381e+12</td>\n",
       "      <td>1.000000</td>\n",
       "      <td>200.000000</td>\n",
       "      <td>1.538352e+12</td>\n",
       "    </tr>\n",
       "    <tr>\n",
       "      <th>25%</th>\n",
       "      <td>27.000000</td>\n",
       "      <td>199.888530</td>\n",
       "      <td>1.533522e+12</td>\n",
       "      <td>336.000000</td>\n",
       "      <td>200.000000</td>\n",
       "      <td>1.539697e+12</td>\n",
       "    </tr>\n",
       "    <tr>\n",
       "      <th>50%</th>\n",
       "      <td>70.000000</td>\n",
       "      <td>234.500770</td>\n",
       "      <td>1.536664e+12</td>\n",
       "      <td>1013.000000</td>\n",
       "      <td>200.000000</td>\n",
       "      <td>1.540932e+12</td>\n",
       "    </tr>\n",
       "    <tr>\n",
       "      <th>75%</th>\n",
       "      <td>156.250000</td>\n",
       "      <td>277.158730</td>\n",
       "      <td>1.537672e+12</td>\n",
       "      <td>1675.000000</td>\n",
       "      <td>200.000000</td>\n",
       "      <td>1.542266e+12</td>\n",
       "    </tr>\n",
       "    <tr>\n",
       "      <th>max</th>\n",
       "      <td>1321.000000</td>\n",
       "      <td>3024.665670</td>\n",
       "      <td>1.543247e+12</td>\n",
       "      <td>2474.000000</td>\n",
       "      <td>404.000000</td>\n",
       "      <td>1.543799e+12</td>\n",
       "    </tr>\n",
       "  </tbody>\n",
       "</table>\n",
       "</div>"
      ],
      "text/plain": [
       "       itemInSession         length  registration      sessionId  \\\n",
       "count  286500.000000  228108.000000  2.781540e+05  286500.000000   \n",
       "mean      114.414213     249.117182  1.535359e+12    1041.526555   \n",
       "std       129.767262      99.235179  3.291322e+09     726.776263   \n",
       "min         0.000000       0.783220  1.521381e+12       1.000000   \n",
       "25%        27.000000     199.888530  1.533522e+12     336.000000   \n",
       "50%        70.000000     234.500770  1.536664e+12    1013.000000   \n",
       "75%       156.250000     277.158730  1.537672e+12    1675.000000   \n",
       "max      1321.000000    3024.665670  1.543247e+12    2474.000000   \n",
       "\n",
       "              status            ts  \n",
       "count  286500.000000  2.865000e+05  \n",
       "mean      210.054597  1.540957e+12  \n",
       "std        31.505078  1.507544e+09  \n",
       "min       200.000000  1.538352e+12  \n",
       "25%       200.000000  1.539697e+12  \n",
       "50%       200.000000  1.540932e+12  \n",
       "75%       200.000000  1.542266e+12  \n",
       "max       404.000000  1.543799e+12  "
      ]
     },
     "execution_count": 13,
     "metadata": {},
     "output_type": "execute_result"
    }
   ],
   "source": [
    "df.toPandas().describe()"
   ]
  },
  {
   "cell_type": "markdown",
   "metadata": {},
   "source": [
    "### Check for unique values"
   ]
  },
  {
   "cell_type": "code",
   "execution_count": 14,
   "metadata": {},
   "outputs": [
    {
     "name": "stdout",
     "output_type": "stream",
     "text": [
      "+------+----+---------+------+-------------+--------+------+-----+--------+------+----+------------+---------+-----+------+------+---------+------+\n",
      "|artist|auth|firstName|gender|itemInSession|lastName|length|level|location|method|page|registration|sessionId| song|status|    ts|userAgent|userId|\n",
      "+------+----+---------+------+-------------+--------+------+-----+--------+------+----+------------+---------+-----+------+------+---------+------+\n",
      "| 17655|   4|      189|     2|         1322|     173| 14865|    2|     114|     2|  22|         225|     2354|58480|     3|277447|       56|   226|\n",
      "+------+----+---------+------+-------------+--------+------+-----+--------+------+----+------------+---------+-----+------+------+---------+------+\n",
      "\n"
     ]
    }
   ],
   "source": [
    "# count for unique value for each column\n",
    "df.agg(*(countDistinct(col(c)).alias(c) for c in df.columns)).show()"
   ]
  },
  {
   "cell_type": "markdown",
   "metadata": {},
   "source": [
    "### Check for missing values"
   ]
  },
  {
   "cell_type": "code",
   "execution_count": 15,
   "metadata": {},
   "outputs": [
    {
     "name": "stdout",
     "output_type": "stream",
     "text": [
      "+------+----+---------+------+-------------+--------+------+-----+--------+------+----+------------+---------+-----+------+---+---------+------+\n",
      "|artist|auth|firstName|gender|itemInSession|lastName|length|level|location|method|page|registration|sessionId| song|status| ts|userAgent|userId|\n",
      "+------+----+---------+------+-------------+--------+------+-----+--------+------+----+------------+---------+-----+------+---+---------+------+\n",
      "| 58392|   0|     8346|  8346|            0|    8346| 58392|    0|    8346|     0|   0|        8346|        0|58392|     0|  0|     8346|     0|\n",
      "+------+----+---------+------+-------------+--------+------+-----+--------+------+----+------------+---------+-----+------+---+---------+------+\n",
      "\n"
     ]
    }
   ],
   "source": [
    "# count null values for each column\n",
    "df_nulls = df.select([psqf.count(psqf.when(psqf.isnull(c), c)).alias(c) for c in df.columns]).show()"
   ]
  },
  {
   "cell_type": "markdown",
   "metadata": {},
   "source": [
    "### Result: \n",
    "There are:\n",
    "- 286500 entries in the dataset\n",
    "- 226 unique users, 189 unique last names and 56 unique first names\n",
    "- 1 unique user has an empty string as user_id \n",
    "- 8346 entries with an 'empty string userId' and without first, last name and gender. Due this undefined userId it isnot clear if these entries are from one or multiple users. Those entries must be dropped from the dataframe for modeling\n",
    "- 2354 unique sessionIds\n",
    "- 0 null userIds\n",
    "- 0 null sessionIds"
   ]
  },
  {
   "cell_type": "markdown",
   "metadata": {},
   "source": [
    "### Check for uncommon entries: userId and sessionId"
   ]
  },
  {
   "cell_type": "code",
   "execution_count": 16,
   "metadata": {},
   "outputs": [],
   "source": [
    "# Missing userID\n",
    "number_missing_values = df.count() - df.dropna(how = \"any\", subset = [\"userId\", \"sessionId\"]).count()"
   ]
  },
  {
   "cell_type": "code",
   "execution_count": 17,
   "metadata": {},
   "outputs": [
    {
     "data": {
      "text/markdown": [
       "#### There are 0 missing values for userId and sessionId"
      ],
      "text/plain": [
       "<IPython.core.display.Markdown object>"
      ]
     },
     "metadata": {},
     "output_type": "display_data"
    }
   ],
   "source": [
    "printmd('#### There are ' + str(number_missing_values) + ' missing values for userId and sessionId')"
   ]
  },
  {
   "cell_type": "code",
   "execution_count": 18,
   "metadata": {},
   "outputs": [
    {
     "name": "stdout",
     "output_type": "stream",
     "text": [
      "+-------+-----------------+\n",
      "|summary|           userId|\n",
      "+-------+-----------------+\n",
      "|  count|           286500|\n",
      "|   mean|59682.02278593872|\n",
      "| stddev|109091.9499991047|\n",
      "|    min|                 |\n",
      "|    max|               99|\n",
      "+-------+-----------------+\n",
      "\n"
     ]
    }
   ],
   "source": [
    "df.describe(\"userId\").show()"
   ]
  },
  {
   "cell_type": "code",
   "execution_count": 19,
   "metadata": {},
   "outputs": [
    {
     "name": "stdout",
     "output_type": "stream",
     "text": [
      "+------+\n",
      "|userId|\n",
      "+------+\n",
      "|      |\n",
      "|    10|\n",
      "|   100|\n",
      "|100001|\n",
      "|100002|\n",
      "|100003|\n",
      "|100004|\n",
      "|100005|\n",
      "|100006|\n",
      "|100007|\n",
      "|100008|\n",
      "|100009|\n",
      "|100010|\n",
      "|100011|\n",
      "|100012|\n",
      "|100013|\n",
      "|100014|\n",
      "|100015|\n",
      "|100016|\n",
      "|100017|\n",
      "+------+\n",
      "only showing top 20 rows\n",
      "\n"
     ]
    }
   ],
   "source": [
    "df.select(\"userId\").dropDuplicates().sort(\"userId\").show()"
   ]
  },
  {
   "cell_type": "code",
   "execution_count": 20,
   "metadata": {},
   "outputs": [],
   "source": [
    "empty_string_user = df[df[\"userId\"] == \"\"]"
   ]
  },
  {
   "cell_type": "code",
   "execution_count": 21,
   "metadata": {},
   "outputs": [],
   "source": [
    "number_empty_string_user = empty_string_user.count()"
   ]
  },
  {
   "cell_type": "code",
   "execution_count": 22,
   "metadata": {},
   "outputs": [
    {
     "data": {
      "text/markdown": [
       "#### There are 8346 userId with empty string"
      ],
      "text/plain": [
       "<IPython.core.display.Markdown object>"
      ]
     },
     "metadata": {},
     "output_type": "display_data"
    }
   ],
   "source": [
    "printmd('#### There are '+ str(number_empty_string_user) + ' userId with empty string')"
   ]
  },
  {
   "cell_type": "code",
   "execution_count": 23,
   "metadata": {},
   "outputs": [
    {
     "name": "stdout",
     "output_type": "stream",
     "text": [
      "+------+---------+--------+------+-----+\n",
      "|userId|firstName|lastName|gender|level|\n",
      "+------+---------+--------+------+-----+\n",
      "|      |     null|    null|  null| free|\n",
      "|      |     null|    null|  null| free|\n",
      "|      |     null|    null|  null| free|\n",
      "|      |     null|    null|  null| free|\n",
      "|      |     null|    null|  null| free|\n",
      "|      |     null|    null|  null| free|\n",
      "|      |     null|    null|  null| free|\n",
      "|      |     null|    null|  null| free|\n",
      "|      |     null|    null|  null| free|\n",
      "|      |     null|    null|  null| free|\n",
      "|      |     null|    null|  null| free|\n",
      "|      |     null|    null|  null| free|\n",
      "|      |     null|    null|  null| free|\n",
      "|      |     null|    null|  null| free|\n",
      "|      |     null|    null|  null| free|\n",
      "|      |     null|    null|  null| free|\n",
      "|      |     null|    null|  null| free|\n",
      "|      |     null|    null|  null| free|\n",
      "|      |     null|    null|  null| free|\n",
      "|      |     null|    null|  null| free|\n",
      "+------+---------+--------+------+-----+\n",
      "only showing top 20 rows\n",
      "\n"
     ]
    }
   ],
   "source": [
    "df.select([\"userId\", \"firstName\", \"lastName\", \"gender\", \"level\"]).where(df.userId== \"\").show()"
   ]
  },
  {
   "cell_type": "code",
   "execution_count": 24,
   "metadata": {},
   "outputs": [
    {
     "name": "stdout",
     "output_type": "stream",
     "text": [
      "+------+---------+--------+------+\n",
      "|userId|firstName|lastName|gender|\n",
      "+------+---------+--------+------+\n",
      "|      |     null|    null|  null|\n",
      "+------+---------+--------+------+\n",
      "\n"
     ]
    }
   ],
   "source": [
    "df.select([\"userId\", \"firstName\", \"lastName\", \"gender\"]).where(df.userId== \"\").dropDuplicates().show()"
   ]
  },
  {
   "cell_type": "code",
   "execution_count": 25,
   "metadata": {},
   "outputs": [
    {
     "data": {
      "text/plain": [
       "8346"
      ]
     },
     "execution_count": 25,
     "metadata": {},
     "output_type": "execute_result"
    }
   ],
   "source": [
    "df.select([\"userId\", \"firstName\", \"lastName\", \"gender\"]).where(df.userId== \"\").count()"
   ]
  },
  {
   "cell_type": "code",
   "execution_count": 26,
   "metadata": {},
   "outputs": [
    {
     "data": {
      "text/plain": [
       "8346"
      ]
     },
     "execution_count": 26,
     "metadata": {},
     "output_type": "execute_result"
    }
   ],
   "source": [
    "df.select([\"userId\", \"firstName\", \"lastName\", \"gender\", \"level\"]).where(df.userId== \"\").count()"
   ]
  },
  {
   "cell_type": "markdown",
   "metadata": {},
   "source": [
    "#### Result: \n",
    "- All users with \"empty string\" userId did not provide their first name, last name and gender. \n",
    "- They are anonymous and free users. "
   ]
  },
  {
   "cell_type": "markdown",
   "metadata": {},
   "source": [
    "### For the registered users: How many paid/free accounts are there?"
   ]
  },
  {
   "cell_type": "code",
   "execution_count": 27,
   "metadata": {},
   "outputs": [
    {
     "data": {
      "text/markdown": [
       "#### There are 48 paid accounts"
      ],
      "text/plain": [
       "<IPython.core.display.Markdown object>"
      ]
     },
     "metadata": {},
     "output_type": "display_data"
    }
   ],
   "source": [
    "num_paid_accounts = df.drop_duplicates(subset=['userId']).where(df.level ==\"paid\").count()\n",
    "printmd('#### There are ' + str(num_paid_accounts) + ' paid accounts')"
   ]
  },
  {
   "cell_type": "code",
   "execution_count": 28,
   "metadata": {},
   "outputs": [
    {
     "data": {
      "text/markdown": [
       "#### There are 178 free accounts"
      ],
      "text/plain": [
       "<IPython.core.display.Markdown object>"
      ]
     },
     "metadata": {},
     "output_type": "display_data"
    }
   ],
   "source": [
    "num_free_accounts = df.drop_duplicates(subset=['userId']).where(df.level ==\"free\").count()\n",
    "printmd('#### There are ' + str(num_free_accounts) + ' free accounts')"
   ]
  },
  {
   "cell_type": "code",
   "execution_count": 29,
   "metadata": {},
   "outputs": [
    {
     "data": {
      "text/html": [
       "<div>\n",
       "<style scoped>\n",
       "    .dataframe tbody tr th:only-of-type {\n",
       "        vertical-align: middle;\n",
       "    }\n",
       "\n",
       "    .dataframe tbody tr th {\n",
       "        vertical-align: top;\n",
       "    }\n",
       "\n",
       "    .dataframe thead th {\n",
       "        text-align: right;\n",
       "    }\n",
       "</style>\n",
       "<table border=\"1\" class=\"dataframe\">\n",
       "  <thead>\n",
       "    <tr style=\"text-align: right;\">\n",
       "      <th></th>\n",
       "      <th>account_type</th>\n",
       "      <th>count</th>\n",
       "    </tr>\n",
       "  </thead>\n",
       "  <tbody>\n",
       "    <tr>\n",
       "      <th>0</th>\n",
       "      <td>paid</td>\n",
       "      <td>48</td>\n",
       "    </tr>\n",
       "    <tr>\n",
       "      <th>1</th>\n",
       "      <td>free</td>\n",
       "      <td>178</td>\n",
       "    </tr>\n",
       "  </tbody>\n",
       "</table>\n",
       "</div>"
      ],
      "text/plain": [
       "  account_type  count\n",
       "0         paid     48\n",
       "1         free    178"
      ]
     },
     "metadata": {},
     "output_type": "display_data"
    },
    {
     "data": {
      "image/png": "[encoded data removed]",
      "text/plain": [
       "<matplotlib.figure.Figure at 0x7fa2041ebeb8>"
      ]
     },
     "metadata": {
      "needs_background": "light"
     },
     "output_type": "display_data"
    }
   ],
   "source": [
    "accountType_distribution_pd = pd.DataFrame({'account_type': ['paid', 'free'], 'count': [num_paid_accounts, num_free_accounts]})\n",
    "display(accountType_distribution_pd)\n",
    "\n",
    "plot_sns_bar(x='account_type',\n",
    "             y='count', \n",
    "             data=accountType_distribution_pd, \n",
    "             title='Account type distribution of users', \n",
    "             xlabel='account_type', \n",
    "             ylabel='count', \n",
    "             save=True, \n",
    "             hide_xtick=False, \n",
    "             order=False)"
   ]
  },
  {
   "cell_type": "markdown",
   "metadata": {},
   "source": [
    "### What are the web pages a user can visit?"
   ]
  },
  {
   "cell_type": "code",
   "execution_count": 30,
   "metadata": {},
   "outputs": [
    {
     "name": "stdout",
     "output_type": "stream",
     "text": [
      "+--------------------+\n",
      "|                page|\n",
      "+--------------------+\n",
      "|               About|\n",
      "|          Add Friend|\n",
      "|     Add to Playlist|\n",
      "|              Cancel|\n",
      "|Cancellation Conf...|\n",
      "|           Downgrade|\n",
      "|               Error|\n",
      "|                Help|\n",
      "|                Home|\n",
      "|               Login|\n",
      "|              Logout|\n",
      "|            NextSong|\n",
      "|            Register|\n",
      "|         Roll Advert|\n",
      "|       Save Settings|\n",
      "|            Settings|\n",
      "|    Submit Downgrade|\n",
      "| Submit Registration|\n",
      "|      Submit Upgrade|\n",
      "|         Thumbs Down|\n",
      "|           Thumbs Up|\n",
      "|             Upgrade|\n",
      "+--------------------+\n",
      "\n"
     ]
    }
   ],
   "source": [
    "df.select(\"page\").dropDuplicates().sort(\"page\").show(n=50)"
   ]
  },
  {
   "cell_type": "code",
   "execution_count": 31,
   "metadata": {},
   "outputs": [],
   "source": [
    "page_elements = df.select(\"page\").dropDuplicates().rdd.flatMap(lambda x: x).collect()"
   ]
  },
  {
   "cell_type": "markdown",
   "metadata": {},
   "source": [
    "### Total page activity count"
   ]
  },
  {
   "cell_type": "code",
   "execution_count": 32,
   "metadata": {},
   "outputs": [
    {
     "name": "stdout",
     "output_type": "stream",
     "text": [
      "+--------------------+------+\n",
      "|                page| count|\n",
      "+--------------------+------+\n",
      "|              Cancel|    52|\n",
      "|    Submit Downgrade|    63|\n",
      "|         Thumbs Down|  2546|\n",
      "|                Home| 14457|\n",
      "|           Downgrade|  2055|\n",
      "|         Roll Advert|  3933|\n",
      "|              Logout|  3226|\n",
      "|       Save Settings|   310|\n",
      "|Cancellation Conf...|    52|\n",
      "|               About|   924|\n",
      "| Submit Registration|     5|\n",
      "|            Settings|  1514|\n",
      "|               Login|  3241|\n",
      "|            Register|    18|\n",
      "|     Add to Playlist|  6526|\n",
      "|          Add Friend|  4277|\n",
      "|            NextSong|228108|\n",
      "|           Thumbs Up| 12551|\n",
      "|                Help|  1726|\n",
      "|             Upgrade|   499|\n",
      "+--------------------+------+\n",
      "only showing top 20 rows\n",
      "\n"
     ]
    }
   ],
   "source": [
    "total_page_activity_count = df.select('userId', 'page').groupby('page').count()\n",
    "total_page_activity_count.show()"
   ]
  },
  {
   "cell_type": "code",
   "execution_count": 33,
   "metadata": {},
   "outputs": [
    {
     "data": {
      "image/png": "[encoded data removed]",
      "text/plain": [
       "<matplotlib.figure.Figure at 0x7fa1faa1af28>"
      ]
     },
     "metadata": {
      "needs_background": "light"
     },
     "output_type": "display_data"
    }
   ],
   "source": [
    "total_page_activity_count_pd = total_page_activity_count.toPandas()\n",
    "\n",
    "plot_sns_bar(x='page',\n",
    "             y='count', \n",
    "             data=total_page_activity_count_pd, \n",
    "             log=True, \n",
    "             title='Web page activities (total count)', \n",
    "             xlabel='web page', \n",
    "             ylabel='count', \n",
    "             figsize=(15,5),\n",
    "             save=True, \n",
    "             hide_xtick=False, \n",
    "             rotation=70, \n",
    "             order=True, \n",
    "             sort_by='count', \n",
    "             ascending=False)"
   ]
  },
  {
   "cell_type": "markdown",
   "metadata": {},
   "source": [
    "### Total number of songs played"
   ]
  },
  {
   "cell_type": "code",
   "execution_count": 34,
   "metadata": {},
   "outputs": [
    {
     "data": {
      "text/plain": [
       "228108"
      ]
     },
     "execution_count": 34,
     "metadata": {},
     "output_type": "execute_result"
    }
   ],
   "source": [
    "df.where(df.page=='NextSong').count()"
   ]
  },
  {
   "cell_type": "markdown",
   "metadata": {},
   "source": [
    "## <a class=\"anchor\" id=\"df_example_study\">Study DataFrame based on userId</a>\n",
    "\n",
    "- Study the the DataFrame based on a provided userId. \n",
    "- Change the **userId in the next cell** to test different users"
   ]
  },
  {
   "cell_type": "code",
   "execution_count": 35,
   "metadata": {},
   "outputs": [],
   "source": [
    "userId = 131"
   ]
  },
  {
   "cell_type": "markdown",
   "metadata": {},
   "source": [
    "### Overview"
   ]
  },
  {
   "cell_type": "code",
   "execution_count": 36,
   "metadata": {},
   "outputs": [
    {
     "data": {
      "text/html": [
       "<div>\n",
       "<style scoped>\n",
       "    .dataframe tbody tr th:only-of-type {\n",
       "        vertical-align: middle;\n",
       "    }\n",
       "\n",
       "    .dataframe tbody tr th {\n",
       "        vertical-align: top;\n",
       "    }\n",
       "\n",
       "    .dataframe thead th {\n",
       "        text-align: right;\n",
       "    }\n",
       "</style>\n",
       "<table border=\"1\" class=\"dataframe\">\n",
       "  <thead>\n",
       "    <tr style=\"text-align: right;\">\n",
       "      <th></th>\n",
       "      <th>artist</th>\n",
       "      <th>auth</th>\n",
       "      <th>firstName</th>\n",
       "      <th>gender</th>\n",
       "      <th>itemInSession</th>\n",
       "      <th>lastName</th>\n",
       "      <th>length</th>\n",
       "      <th>level</th>\n",
       "      <th>location</th>\n",
       "      <th>method</th>\n",
       "      <th>page</th>\n",
       "      <th>registration</th>\n",
       "      <th>sessionId</th>\n",
       "      <th>song</th>\n",
       "      <th>status</th>\n",
       "      <th>ts</th>\n",
       "      <th>userAgent</th>\n",
       "      <th>userId</th>\n",
       "    </tr>\n",
       "  </thead>\n",
       "  <tbody>\n",
       "    <tr>\n",
       "      <th>0</th>\n",
       "      <td>Metallica</td>\n",
       "      <td>Logged In</td>\n",
       "      <td>Kael</td>\n",
       "      <td>M</td>\n",
       "      <td>0</td>\n",
       "      <td>Baker</td>\n",
       "      <td>415.16363</td>\n",
       "      <td>free</td>\n",
       "      <td>Kingsport-Bristol-Bristol, TN-VA</td>\n",
       "      <td>PUT</td>\n",
       "      <td>NextSong</td>\n",
       "      <td>1533102330000</td>\n",
       "      <td>249</td>\n",
       "      <td>Fade To Black</td>\n",
       "      <td>200</td>\n",
       "      <td>1538384355000</td>\n",
       "      <td>\"Mozilla/5.0 (Macintosh; Intel Mac OS X 10_9_4...</td>\n",
       "      <td>131</td>\n",
       "    </tr>\n",
       "    <tr>\n",
       "      <th>1</th>\n",
       "      <td>Pearl Jam</td>\n",
       "      <td>Logged In</td>\n",
       "      <td>Kael</td>\n",
       "      <td>M</td>\n",
       "      <td>1</td>\n",
       "      <td>Baker</td>\n",
       "      <td>276.40118</td>\n",
       "      <td>free</td>\n",
       "      <td>Kingsport-Bristol-Bristol, TN-VA</td>\n",
       "      <td>PUT</td>\n",
       "      <td>NextSong</td>\n",
       "      <td>1533102330000</td>\n",
       "      <td>249</td>\n",
       "      <td>Nothingman (Live)</td>\n",
       "      <td>200</td>\n",
       "      <td>1538384770000</td>\n",
       "      <td>\"Mozilla/5.0 (Macintosh; Intel Mac OS X 10_9_4...</td>\n",
       "      <td>131</td>\n",
       "    </tr>\n",
       "    <tr>\n",
       "      <th>2</th>\n",
       "      <td>Frumpies</td>\n",
       "      <td>Logged In</td>\n",
       "      <td>Kael</td>\n",
       "      <td>M</td>\n",
       "      <td>2</td>\n",
       "      <td>Baker</td>\n",
       "      <td>134.47791</td>\n",
       "      <td>free</td>\n",
       "      <td>Kingsport-Bristol-Bristol, TN-VA</td>\n",
       "      <td>PUT</td>\n",
       "      <td>NextSong</td>\n",
       "      <td>1533102330000</td>\n",
       "      <td>249</td>\n",
       "      <td>Fuck Kitty</td>\n",
       "      <td>200</td>\n",
       "      <td>1538385046000</td>\n",
       "      <td>\"Mozilla/5.0 (Macintosh; Intel Mac OS X 10_9_4...</td>\n",
       "      <td>131</td>\n",
       "    </tr>\n",
       "    <tr>\n",
       "      <th>3</th>\n",
       "      <td>Kaiser Chiefs</td>\n",
       "      <td>Logged In</td>\n",
       "      <td>Kael</td>\n",
       "      <td>M</td>\n",
       "      <td>3</td>\n",
       "      <td>Baker</td>\n",
       "      <td>222.82404</td>\n",
       "      <td>free</td>\n",
       "      <td>Kingsport-Bristol-Bristol, TN-VA</td>\n",
       "      <td>PUT</td>\n",
       "      <td>NextSong</td>\n",
       "      <td>1533102330000</td>\n",
       "      <td>249</td>\n",
       "      <td>Half The Truth</td>\n",
       "      <td>200</td>\n",
       "      <td>1538385180000</td>\n",
       "      <td>\"Mozilla/5.0 (Macintosh; Intel Mac OS X 10_9_4...</td>\n",
       "      <td>131</td>\n",
       "    </tr>\n",
       "    <tr>\n",
       "      <th>4</th>\n",
       "      <td>Kelly Clarkson</td>\n",
       "      <td>Logged In</td>\n",
       "      <td>Kael</td>\n",
       "      <td>M</td>\n",
       "      <td>4</td>\n",
       "      <td>Baker</td>\n",
       "      <td>156.65587</td>\n",
       "      <td>free</td>\n",
       "      <td>Kingsport-Bristol-Bristol, TN-VA</td>\n",
       "      <td>PUT</td>\n",
       "      <td>NextSong</td>\n",
       "      <td>1533102330000</td>\n",
       "      <td>249</td>\n",
       "      <td>(You Make Me Feel Like A) Natural Woman</td>\n",
       "      <td>200</td>\n",
       "      <td>1538385402000</td>\n",
       "      <td>\"Mozilla/5.0 (Macintosh; Intel Mac OS X 10_9_4...</td>\n",
       "      <td>131</td>\n",
       "    </tr>\n",
       "    <tr>\n",
       "      <th>5</th>\n",
       "      <td>Darude</td>\n",
       "      <td>Logged In</td>\n",
       "      <td>Kael</td>\n",
       "      <td>M</td>\n",
       "      <td>5</td>\n",
       "      <td>Baker</td>\n",
       "      <td>516.28363</td>\n",
       "      <td>free</td>\n",
       "      <td>Kingsport-Bristol-Bristol, TN-VA</td>\n",
       "      <td>PUT</td>\n",
       "      <td>NextSong</td>\n",
       "      <td>1533102330000</td>\n",
       "      <td>249</td>\n",
       "      <td>Feel The Beat</td>\n",
       "      <td>200</td>\n",
       "      <td>1538385558000</td>\n",
       "      <td>\"Mozilla/5.0 (Macintosh; Intel Mac OS X 10_9_4...</td>\n",
       "      <td>131</td>\n",
       "    </tr>\n",
       "    <tr>\n",
       "      <th>6</th>\n",
       "      <td>Bloc Party</td>\n",
       "      <td>Logged In</td>\n",
       "      <td>Kael</td>\n",
       "      <td>M</td>\n",
       "      <td>6</td>\n",
       "      <td>Baker</td>\n",
       "      <td>235.65016</td>\n",
       "      <td>free</td>\n",
       "      <td>Kingsport-Bristol-Bristol, TN-VA</td>\n",
       "      <td>PUT</td>\n",
       "      <td>NextSong</td>\n",
       "      <td>1533102330000</td>\n",
       "      <td>249</td>\n",
       "      <td>Luno</td>\n",
       "      <td>200</td>\n",
       "      <td>1538386074000</td>\n",
       "      <td>\"Mozilla/5.0 (Macintosh; Intel Mac OS X 10_9_4...</td>\n",
       "      <td>131</td>\n",
       "    </tr>\n",
       "    <tr>\n",
       "      <th>7</th>\n",
       "      <td>Helen Reddy</td>\n",
       "      <td>Logged In</td>\n",
       "      <td>Kael</td>\n",
       "      <td>M</td>\n",
       "      <td>7</td>\n",
       "      <td>Baker</td>\n",
       "      <td>211.35628</td>\n",
       "      <td>free</td>\n",
       "      <td>Kingsport-Bristol-Bristol, TN-VA</td>\n",
       "      <td>PUT</td>\n",
       "      <td>NextSong</td>\n",
       "      <td>1533102330000</td>\n",
       "      <td>249</td>\n",
       "      <td>Angie Baby</td>\n",
       "      <td>200</td>\n",
       "      <td>1538386309000</td>\n",
       "      <td>\"Mozilla/5.0 (Macintosh; Intel Mac OS X 10_9_4...</td>\n",
       "      <td>131</td>\n",
       "    </tr>\n",
       "    <tr>\n",
       "      <th>8</th>\n",
       "      <td>Cosmo Vitelli</td>\n",
       "      <td>Logged In</td>\n",
       "      <td>Kael</td>\n",
       "      <td>M</td>\n",
       "      <td>8</td>\n",
       "      <td>Baker</td>\n",
       "      <td>206.05342</td>\n",
       "      <td>free</td>\n",
       "      <td>Kingsport-Bristol-Bristol, TN-VA</td>\n",
       "      <td>PUT</td>\n",
       "      <td>NextSong</td>\n",
       "      <td>1533102330000</td>\n",
       "      <td>249</td>\n",
       "      <td>Robot Soul (Radio Edit)</td>\n",
       "      <td>200</td>\n",
       "      <td>1538386520000</td>\n",
       "      <td>\"Mozilla/5.0 (Macintosh; Intel Mac OS X 10_9_4...</td>\n",
       "      <td>131</td>\n",
       "    </tr>\n",
       "    <tr>\n",
       "      <th>9</th>\n",
       "      <td>Eminem</td>\n",
       "      <td>Logged In</td>\n",
       "      <td>Kael</td>\n",
       "      <td>M</td>\n",
       "      <td>9</td>\n",
       "      <td>Baker</td>\n",
       "      <td>251.55873</td>\n",
       "      <td>free</td>\n",
       "      <td>Kingsport-Bristol-Bristol, TN-VA</td>\n",
       "      <td>PUT</td>\n",
       "      <td>NextSong</td>\n",
       "      <td>1533102330000</td>\n",
       "      <td>249</td>\n",
       "      <td>Without Me</td>\n",
       "      <td>200</td>\n",
       "      <td>1538386726000</td>\n",
       "      <td>\"Mozilla/5.0 (Macintosh; Intel Mac OS X 10_9_4...</td>\n",
       "      <td>131</td>\n",
       "    </tr>\n",
       "    <tr>\n",
       "      <th>10</th>\n",
       "      <td>I Was A Cub Scout</td>\n",
       "      <td>Logged In</td>\n",
       "      <td>Kael</td>\n",
       "      <td>M</td>\n",
       "      <td>10</td>\n",
       "      <td>Baker</td>\n",
       "      <td>216.99873</td>\n",
       "      <td>free</td>\n",
       "      <td>Kingsport-Bristol-Bristol, TN-VA</td>\n",
       "      <td>PUT</td>\n",
       "      <td>NextSong</td>\n",
       "      <td>1533102330000</td>\n",
       "      <td>249</td>\n",
       "      <td>Close To Me</td>\n",
       "      <td>200</td>\n",
       "      <td>1538386977000</td>\n",
       "      <td>\"Mozilla/5.0 (Macintosh; Intel Mac OS X 10_9_4...</td>\n",
       "      <td>131</td>\n",
       "    </tr>\n",
       "    <tr>\n",
       "      <th>11</th>\n",
       "      <td>Richard Grey feat.Sir.Charles</td>\n",
       "      <td>Logged In</td>\n",
       "      <td>Kael</td>\n",
       "      <td>M</td>\n",
       "      <td>11</td>\n",
       "      <td>Baker</td>\n",
       "      <td>411.42812</td>\n",
       "      <td>free</td>\n",
       "      <td>Kingsport-Bristol-Bristol, TN-VA</td>\n",
       "      <td>PUT</td>\n",
       "      <td>NextSong</td>\n",
       "      <td>1533102330000</td>\n",
       "      <td>249</td>\n",
       "      <td>Don't Take My Love Away (Al Velilla)</td>\n",
       "      <td>200</td>\n",
       "      <td>1538387193000</td>\n",
       "      <td>\"Mozilla/5.0 (Macintosh; Intel Mac OS X 10_9_4...</td>\n",
       "      <td>131</td>\n",
       "    </tr>\n",
       "    <tr>\n",
       "      <th>12</th>\n",
       "      <td>Ne-Yo / LL Cool J</td>\n",
       "      <td>Logged In</td>\n",
       "      <td>Kael</td>\n",
       "      <td>M</td>\n",
       "      <td>12</td>\n",
       "      <td>Baker</td>\n",
       "      <td>264.01914</td>\n",
       "      <td>free</td>\n",
       "      <td>Kingsport-Bristol-Bristol, TN-VA</td>\n",
       "      <td>PUT</td>\n",
       "      <td>NextSong</td>\n",
       "      <td>1533102330000</td>\n",
       "      <td>249</td>\n",
       "      <td>So Sick</td>\n",
       "      <td>200</td>\n",
       "      <td>1538387604000</td>\n",
       "      <td>\"Mozilla/5.0 (Macintosh; Intel Mac OS X 10_9_4...</td>\n",
       "      <td>131</td>\n",
       "    </tr>\n",
       "    <tr>\n",
       "      <th>13</th>\n",
       "      <td>Various Artists - Delicious Vinyl</td>\n",
       "      <td>Logged In</td>\n",
       "      <td>Kael</td>\n",
       "      <td>M</td>\n",
       "      <td>13</td>\n",
       "      <td>Baker</td>\n",
       "      <td>264.25424</td>\n",
       "      <td>free</td>\n",
       "      <td>Kingsport-Bristol-Bristol, TN-VA</td>\n",
       "      <td>PUT</td>\n",
       "      <td>NextSong</td>\n",
       "      <td>1533102330000</td>\n",
       "      <td>249</td>\n",
       "      <td>Bust A Move</td>\n",
       "      <td>200</td>\n",
       "      <td>1538387868000</td>\n",
       "      <td>\"Mozilla/5.0 (Macintosh; Intel Mac OS X 10_9_4...</td>\n",
       "      <td>131</td>\n",
       "    </tr>\n",
       "    <tr>\n",
       "      <th>14</th>\n",
       "      <td>Jonathan Butler</td>\n",
       "      <td>Logged In</td>\n",
       "      <td>Kael</td>\n",
       "      <td>M</td>\n",
       "      <td>14</td>\n",
       "      <td>Baker</td>\n",
       "      <td>195.89179</td>\n",
       "      <td>free</td>\n",
       "      <td>Kingsport-Bristol-Bristol, TN-VA</td>\n",
       "      <td>PUT</td>\n",
       "      <td>NextSong</td>\n",
       "      <td>1533102330000</td>\n",
       "      <td>249</td>\n",
       "      <td>Sugar Candy Kisses</td>\n",
       "      <td>200</td>\n",
       "      <td>1538388132000</td>\n",
       "      <td>\"Mozilla/5.0 (Macintosh; Intel Mac OS X 10_9_4...</td>\n",
       "      <td>131</td>\n",
       "    </tr>\n",
       "    <tr>\n",
       "      <th>15</th>\n",
       "      <td>Covenant</td>\n",
       "      <td>Logged In</td>\n",
       "      <td>Kael</td>\n",
       "      <td>M</td>\n",
       "      <td>15</td>\n",
       "      <td>Baker</td>\n",
       "      <td>300.19873</td>\n",
       "      <td>free</td>\n",
       "      <td>Kingsport-Bristol-Bristol, TN-VA</td>\n",
       "      <td>PUT</td>\n",
       "      <td>NextSong</td>\n",
       "      <td>1533102330000</td>\n",
       "      <td>249</td>\n",
       "      <td>XRDS</td>\n",
       "      <td>200</td>\n",
       "      <td>1538388327000</td>\n",
       "      <td>\"Mozilla/5.0 (Macintosh; Intel Mac OS X 10_9_4...</td>\n",
       "      <td>131</td>\n",
       "    </tr>\n",
       "    <tr>\n",
       "      <th>16</th>\n",
       "      <td>Beatsteaks</td>\n",
       "      <td>Logged In</td>\n",
       "      <td>Kael</td>\n",
       "      <td>M</td>\n",
       "      <td>16</td>\n",
       "      <td>Baker</td>\n",
       "      <td>169.24689</td>\n",
       "      <td>free</td>\n",
       "      <td>Kingsport-Bristol-Bristol, TN-VA</td>\n",
       "      <td>PUT</td>\n",
       "      <td>NextSong</td>\n",
       "      <td>1533102330000</td>\n",
       "      <td>249</td>\n",
       "      <td>48/49</td>\n",
       "      <td>200</td>\n",
       "      <td>1538388627000</td>\n",
       "      <td>\"Mozilla/5.0 (Macintosh; Intel Mac OS X 10_9_4...</td>\n",
       "      <td>131</td>\n",
       "    </tr>\n",
       "    <tr>\n",
       "      <th>17</th>\n",
       "      <td>Rachid Taha</td>\n",
       "      <td>Logged In</td>\n",
       "      <td>Kael</td>\n",
       "      <td>M</td>\n",
       "      <td>17</td>\n",
       "      <td>Baker</td>\n",
       "      <td>289.74975</td>\n",
       "      <td>free</td>\n",
       "      <td>Kingsport-Bristol-Bristol, TN-VA</td>\n",
       "      <td>PUT</td>\n",
       "      <td>NextSong</td>\n",
       "      <td>1533102330000</td>\n",
       "      <td>249</td>\n",
       "      <td>Kelma</td>\n",
       "      <td>200</td>\n",
       "      <td>1538388796000</td>\n",
       "      <td>\"Mozilla/5.0 (Macintosh; Intel Mac OS X 10_9_4...</td>\n",
       "      <td>131</td>\n",
       "    </tr>\n",
       "    <tr>\n",
       "      <th>18</th>\n",
       "      <td>None</td>\n",
       "      <td>Logged In</td>\n",
       "      <td>Kael</td>\n",
       "      <td>M</td>\n",
       "      <td>18</td>\n",
       "      <td>Baker</td>\n",
       "      <td>NaN</td>\n",
       "      <td>free</td>\n",
       "      <td>Kingsport-Bristol-Bristol, TN-VA</td>\n",
       "      <td>PUT</td>\n",
       "      <td>Add to Playlist</td>\n",
       "      <td>1533102330000</td>\n",
       "      <td>249</td>\n",
       "      <td>None</td>\n",
       "      <td>200</td>\n",
       "      <td>1538388861000</td>\n",
       "      <td>\"Mozilla/5.0 (Macintosh; Intel Mac OS X 10_9_4...</td>\n",
       "      <td>131</td>\n",
       "    </tr>\n",
       "    <tr>\n",
       "      <th>19</th>\n",
       "      <td>David Crowder*Band</td>\n",
       "      <td>Logged In</td>\n",
       "      <td>Kael</td>\n",
       "      <td>M</td>\n",
       "      <td>19</td>\n",
       "      <td>Baker</td>\n",
       "      <td>241.89342</td>\n",
       "      <td>free</td>\n",
       "      <td>Kingsport-Bristol-Bristol, TN-VA</td>\n",
       "      <td>PUT</td>\n",
       "      <td>NextSong</td>\n",
       "      <td>1533102330000</td>\n",
       "      <td>249</td>\n",
       "      <td>Only You (Illuminate Album Version)</td>\n",
       "      <td>200</td>\n",
       "      <td>1538389085000</td>\n",
       "      <td>\"Mozilla/5.0 (Macintosh; Intel Mac OS X 10_9_4...</td>\n",
       "      <td>131</td>\n",
       "    </tr>\n",
       "    <tr>\n",
       "      <th>20</th>\n",
       "      <td>First Aid Kit</td>\n",
       "      <td>Logged In</td>\n",
       "      <td>Kael</td>\n",
       "      <td>M</td>\n",
       "      <td>20</td>\n",
       "      <td>Baker</td>\n",
       "      <td>333.03465</td>\n",
       "      <td>free</td>\n",
       "      <td>Kingsport-Bristol-Bristol, TN-VA</td>\n",
       "      <td>PUT</td>\n",
       "      <td>NextSong</td>\n",
       "      <td>1533102330000</td>\n",
       "      <td>249</td>\n",
       "      <td>Pervigilo</td>\n",
       "      <td>200</td>\n",
       "      <td>1538389326000</td>\n",
       "      <td>\"Mozilla/5.0 (Macintosh; Intel Mac OS X 10_9_4...</td>\n",
       "      <td>131</td>\n",
       "    </tr>\n",
       "    <tr>\n",
       "      <th>21</th>\n",
       "      <td>None</td>\n",
       "      <td>Logged In</td>\n",
       "      <td>Kael</td>\n",
       "      <td>M</td>\n",
       "      <td>21</td>\n",
       "      <td>Baker</td>\n",
       "      <td>NaN</td>\n",
       "      <td>free</td>\n",
       "      <td>Kingsport-Bristol-Bristol, TN-VA</td>\n",
       "      <td>GET</td>\n",
       "      <td>Help</td>\n",
       "      <td>1533102330000</td>\n",
       "      <td>249</td>\n",
       "      <td>None</td>\n",
       "      <td>200</td>\n",
       "      <td>1538389366000</td>\n",
       "      <td>\"Mozilla/5.0 (Macintosh; Intel Mac OS X 10_9_4...</td>\n",
       "      <td>131</td>\n",
       "    </tr>\n",
       "    <tr>\n",
       "      <th>22</th>\n",
       "      <td>Marilyn Manson</td>\n",
       "      <td>Logged In</td>\n",
       "      <td>Kael</td>\n",
       "      <td>M</td>\n",
       "      <td>22</td>\n",
       "      <td>Baker</td>\n",
       "      <td>201.40363</td>\n",
       "      <td>free</td>\n",
       "      <td>Kingsport-Bristol-Bristol, TN-VA</td>\n",
       "      <td>PUT</td>\n",
       "      <td>NextSong</td>\n",
       "      <td>1533102330000</td>\n",
       "      <td>249</td>\n",
       "      <td>This Is Halloween</td>\n",
       "      <td>200</td>\n",
       "      <td>1538389659000</td>\n",
       "      <td>\"Mozilla/5.0 (Macintosh; Intel Mac OS X 10_9_4...</td>\n",
       "      <td>131</td>\n",
       "    </tr>\n",
       "    <tr>\n",
       "      <th>23</th>\n",
       "      <td>None</td>\n",
       "      <td>Logged In</td>\n",
       "      <td>Kael</td>\n",
       "      <td>M</td>\n",
       "      <td>23</td>\n",
       "      <td>Baker</td>\n",
       "      <td>NaN</td>\n",
       "      <td>free</td>\n",
       "      <td>Kingsport-Bristol-Bristol, TN-VA</td>\n",
       "      <td>GET</td>\n",
       "      <td>Home</td>\n",
       "      <td>1533102330000</td>\n",
       "      <td>249</td>\n",
       "      <td>None</td>\n",
       "      <td>200</td>\n",
       "      <td>1538389667000</td>\n",
       "      <td>\"Mozilla/5.0 (Macintosh; Intel Mac OS X 10_9_4...</td>\n",
       "      <td>131</td>\n",
       "    </tr>\n",
       "    <tr>\n",
       "      <th>24</th>\n",
       "      <td>Bell Orchestre</td>\n",
       "      <td>Logged In</td>\n",
       "      <td>Kael</td>\n",
       "      <td>M</td>\n",
       "      <td>24</td>\n",
       "      <td>Baker</td>\n",
       "      <td>137.82159</td>\n",
       "      <td>free</td>\n",
       "      <td>Kingsport-Bristol-Bristol, TN-VA</td>\n",
       "      <td>PUT</td>\n",
       "      <td>NextSong</td>\n",
       "      <td>1533102330000</td>\n",
       "      <td>249</td>\n",
       "      <td>Stripes</td>\n",
       "      <td>200</td>\n",
       "      <td>1538389860000</td>\n",
       "      <td>\"Mozilla/5.0 (Macintosh; Intel Mac OS X 10_9_4...</td>\n",
       "      <td>131</td>\n",
       "    </tr>\n",
       "    <tr>\n",
       "      <th>25</th>\n",
       "      <td>None</td>\n",
       "      <td>Logged In</td>\n",
       "      <td>Kael</td>\n",
       "      <td>M</td>\n",
       "      <td>25</td>\n",
       "      <td>Baker</td>\n",
       "      <td>NaN</td>\n",
       "      <td>free</td>\n",
       "      <td>Kingsport-Bristol-Bristol, TN-VA</td>\n",
       "      <td>GET</td>\n",
       "      <td>Upgrade</td>\n",
       "      <td>1533102330000</td>\n",
       "      <td>249</td>\n",
       "      <td>None</td>\n",
       "      <td>200</td>\n",
       "      <td>1538389930000</td>\n",
       "      <td>\"Mozilla/5.0 (Macintosh; Intel Mac OS X 10_9_4...</td>\n",
       "      <td>131</td>\n",
       "    </tr>\n",
       "    <tr>\n",
       "      <th>26</th>\n",
       "      <td>None</td>\n",
       "      <td>Logged In</td>\n",
       "      <td>Kael</td>\n",
       "      <td>M</td>\n",
       "      <td>26</td>\n",
       "      <td>Baker</td>\n",
       "      <td>NaN</td>\n",
       "      <td>free</td>\n",
       "      <td>Kingsport-Bristol-Bristol, TN-VA</td>\n",
       "      <td>PUT</td>\n",
       "      <td>Submit Upgrade</td>\n",
       "      <td>1533102330000</td>\n",
       "      <td>249</td>\n",
       "      <td>None</td>\n",
       "      <td>307</td>\n",
       "      <td>1538389931000</td>\n",
       "      <td>\"Mozilla/5.0 (Macintosh; Intel Mac OS X 10_9_4...</td>\n",
       "      <td>131</td>\n",
       "    </tr>\n",
       "    <tr>\n",
       "      <th>27</th>\n",
       "      <td>None</td>\n",
       "      <td>Logged In</td>\n",
       "      <td>Kael</td>\n",
       "      <td>M</td>\n",
       "      <td>27</td>\n",
       "      <td>Baker</td>\n",
       "      <td>NaN</td>\n",
       "      <td>paid</td>\n",
       "      <td>Kingsport-Bristol-Bristol, TN-VA</td>\n",
       "      <td>GET</td>\n",
       "      <td>Home</td>\n",
       "      <td>1533102330000</td>\n",
       "      <td>249</td>\n",
       "      <td>None</td>\n",
       "      <td>200</td>\n",
       "      <td>1538389931000</td>\n",
       "      <td>\"Mozilla/5.0 (Macintosh; Intel Mac OS X 10_9_4...</td>\n",
       "      <td>131</td>\n",
       "    </tr>\n",
       "    <tr>\n",
       "      <th>28</th>\n",
       "      <td>Florence + The Machine</td>\n",
       "      <td>Logged In</td>\n",
       "      <td>Kael</td>\n",
       "      <td>M</td>\n",
       "      <td>28</td>\n",
       "      <td>Baker</td>\n",
       "      <td>258.55955</td>\n",
       "      <td>paid</td>\n",
       "      <td>Kingsport-Bristol-Bristol, TN-VA</td>\n",
       "      <td>PUT</td>\n",
       "      <td>NextSong</td>\n",
       "      <td>1533102330000</td>\n",
       "      <td>249</td>\n",
       "      <td>Cosmic Love</td>\n",
       "      <td>200</td>\n",
       "      <td>1538389997000</td>\n",
       "      <td>\"Mozilla/5.0 (Macintosh; Intel Mac OS X 10_9_4...</td>\n",
       "      <td>131</td>\n",
       "    </tr>\n",
       "    <tr>\n",
       "      <th>29</th>\n",
       "      <td>Sugarland</td>\n",
       "      <td>Logged In</td>\n",
       "      <td>Kael</td>\n",
       "      <td>M</td>\n",
       "      <td>29</td>\n",
       "      <td>Baker</td>\n",
       "      <td>247.77098</td>\n",
       "      <td>paid</td>\n",
       "      <td>Kingsport-Bristol-Bristol, TN-VA</td>\n",
       "      <td>PUT</td>\n",
       "      <td>NextSong</td>\n",
       "      <td>1533102330000</td>\n",
       "      <td>249</td>\n",
       "      <td>Just Might (Make Me Believe)</td>\n",
       "      <td>200</td>\n",
       "      <td>1538390255000</td>\n",
       "      <td>\"Mozilla/5.0 (Macintosh; Intel Mac OS X 10_9_4...</td>\n",
       "      <td>131</td>\n",
       "    </tr>\n",
       "    <tr>\n",
       "      <th>...</th>\n",
       "      <td>...</td>\n",
       "      <td>...</td>\n",
       "      <td>...</td>\n",
       "      <td>...</td>\n",
       "      <td>...</td>\n",
       "      <td>...</td>\n",
       "      <td>...</td>\n",
       "      <td>...</td>\n",
       "      <td>...</td>\n",
       "      <td>...</td>\n",
       "      <td>...</td>\n",
       "      <td>...</td>\n",
       "      <td>...</td>\n",
       "      <td>...</td>\n",
       "      <td>...</td>\n",
       "      <td>...</td>\n",
       "      <td>...</td>\n",
       "      <td>...</td>\n",
       "    </tr>\n",
       "    <tr>\n",
       "      <th>1833</th>\n",
       "      <td>Big Punisher featuring Joe</td>\n",
       "      <td>Logged In</td>\n",
       "      <td>Kael</td>\n",
       "      <td>M</td>\n",
       "      <td>34</td>\n",
       "      <td>Baker</td>\n",
       "      <td>236.12036</td>\n",
       "      <td>free</td>\n",
       "      <td>Kingsport-Bristol-Bristol, TN-VA</td>\n",
       "      <td>PUT</td>\n",
       "      <td>NextSong</td>\n",
       "      <td>1533102330000</td>\n",
       "      <td>2155</td>\n",
       "      <td>Still Not A Player</td>\n",
       "      <td>200</td>\n",
       "      <td>1543115744000</td>\n",
       "      <td>\"Mozilla/5.0 (Macintosh; Intel Mac OS X 10_9_4...</td>\n",
       "      <td>131</td>\n",
       "    </tr>\n",
       "    <tr>\n",
       "      <th>1834</th>\n",
       "      <td>BeyoncÃÂ©</td>\n",
       "      <td>Logged In</td>\n",
       "      <td>Kael</td>\n",
       "      <td>M</td>\n",
       "      <td>35</td>\n",
       "      <td>Baker</td>\n",
       "      <td>261.74649</td>\n",
       "      <td>free</td>\n",
       "      <td>Kingsport-Bristol-Bristol, TN-VA</td>\n",
       "      <td>PUT</td>\n",
       "      <td>NextSong</td>\n",
       "      <td>1533102330000</td>\n",
       "      <td>2155</td>\n",
       "      <td>Halo</td>\n",
       "      <td>200</td>\n",
       "      <td>1543115980000</td>\n",
       "      <td>\"Mozilla/5.0 (Macintosh; Intel Mac OS X 10_9_4...</td>\n",
       "      <td>131</td>\n",
       "    </tr>\n",
       "    <tr>\n",
       "      <th>1835</th>\n",
       "      <td>The Marshall Tucker Band</td>\n",
       "      <td>Logged In</td>\n",
       "      <td>Kael</td>\n",
       "      <td>M</td>\n",
       "      <td>36</td>\n",
       "      <td>Baker</td>\n",
       "      <td>362.70975</td>\n",
       "      <td>free</td>\n",
       "      <td>Kingsport-Bristol-Bristol, TN-VA</td>\n",
       "      <td>PUT</td>\n",
       "      <td>NextSong</td>\n",
       "      <td>1533102330000</td>\n",
       "      <td>2155</td>\n",
       "      <td>Can't You See</td>\n",
       "      <td>200</td>\n",
       "      <td>1543116241000</td>\n",
       "      <td>\"Mozilla/5.0 (Macintosh; Intel Mac OS X 10_9_4...</td>\n",
       "      <td>131</td>\n",
       "    </tr>\n",
       "    <tr>\n",
       "      <th>1836</th>\n",
       "      <td>Erin McKeown</td>\n",
       "      <td>Logged In</td>\n",
       "      <td>Kael</td>\n",
       "      <td>M</td>\n",
       "      <td>37</td>\n",
       "      <td>Baker</td>\n",
       "      <td>249.88689</td>\n",
       "      <td>free</td>\n",
       "      <td>Kingsport-Bristol-Bristol, TN-VA</td>\n",
       "      <td>PUT</td>\n",
       "      <td>NextSong</td>\n",
       "      <td>1533102330000</td>\n",
       "      <td>2155</td>\n",
       "      <td>Lullaby In Three/Four</td>\n",
       "      <td>200</td>\n",
       "      <td>1543116603000</td>\n",
       "      <td>\"Mozilla/5.0 (Macintosh; Intel Mac OS X 10_9_4...</td>\n",
       "      <td>131</td>\n",
       "    </tr>\n",
       "    <tr>\n",
       "      <th>1837</th>\n",
       "      <td>Hollywood Undead</td>\n",
       "      <td>Logged In</td>\n",
       "      <td>Kael</td>\n",
       "      <td>M</td>\n",
       "      <td>38</td>\n",
       "      <td>Baker</td>\n",
       "      <td>196.41424</td>\n",
       "      <td>free</td>\n",
       "      <td>Kingsport-Bristol-Bristol, TN-VA</td>\n",
       "      <td>PUT</td>\n",
       "      <td>NextSong</td>\n",
       "      <td>1533102330000</td>\n",
       "      <td>2155</td>\n",
       "      <td>Young</td>\n",
       "      <td>200</td>\n",
       "      <td>1543116852000</td>\n",
       "      <td>\"Mozilla/5.0 (Macintosh; Intel Mac OS X 10_9_4...</td>\n",
       "      <td>131</td>\n",
       "    </tr>\n",
       "    <tr>\n",
       "      <th>1838</th>\n",
       "      <td>The Menzingers</td>\n",
       "      <td>Logged In</td>\n",
       "      <td>Kael</td>\n",
       "      <td>M</td>\n",
       "      <td>39</td>\n",
       "      <td>Baker</td>\n",
       "      <td>156.49914</td>\n",
       "      <td>free</td>\n",
       "      <td>Kingsport-Bristol-Bristol, TN-VA</td>\n",
       "      <td>PUT</td>\n",
       "      <td>NextSong</td>\n",
       "      <td>1533102330000</td>\n",
       "      <td>2155</td>\n",
       "      <td>A Lesson In The Abuse Of Information Technology</td>\n",
       "      <td>200</td>\n",
       "      <td>1543117048000</td>\n",
       "      <td>\"Mozilla/5.0 (Macintosh; Intel Mac OS X 10_9_4...</td>\n",
       "      <td>131</td>\n",
       "    </tr>\n",
       "    <tr>\n",
       "      <th>1839</th>\n",
       "      <td>None</td>\n",
       "      <td>Logged In</td>\n",
       "      <td>Kael</td>\n",
       "      <td>M</td>\n",
       "      <td>40</td>\n",
       "      <td>Baker</td>\n",
       "      <td>NaN</td>\n",
       "      <td>free</td>\n",
       "      <td>Kingsport-Bristol-Bristol, TN-VA</td>\n",
       "      <td>GET</td>\n",
       "      <td>Roll Advert</td>\n",
       "      <td>1533102330000</td>\n",
       "      <td>2155</td>\n",
       "      <td>None</td>\n",
       "      <td>200</td>\n",
       "      <td>1543117059000</td>\n",
       "      <td>\"Mozilla/5.0 (Macintosh; Intel Mac OS X 10_9_4...</td>\n",
       "      <td>131</td>\n",
       "    </tr>\n",
       "    <tr>\n",
       "      <th>1840</th>\n",
       "      <td>Buffalo Springfield</td>\n",
       "      <td>Logged In</td>\n",
       "      <td>Kael</td>\n",
       "      <td>M</td>\n",
       "      <td>41</td>\n",
       "      <td>Baker</td>\n",
       "      <td>160.93995</td>\n",
       "      <td>free</td>\n",
       "      <td>Kingsport-Bristol-Bristol, TN-VA</td>\n",
       "      <td>PUT</td>\n",
       "      <td>NextSong</td>\n",
       "      <td>1533102330000</td>\n",
       "      <td>2155</td>\n",
       "      <td>For What It's Worth</td>\n",
       "      <td>200</td>\n",
       "      <td>1543117204000</td>\n",
       "      <td>\"Mozilla/5.0 (Macintosh; Intel Mac OS X 10_9_4...</td>\n",
       "      <td>131</td>\n",
       "    </tr>\n",
       "    <tr>\n",
       "      <th>1841</th>\n",
       "      <td>None</td>\n",
       "      <td>Logged In</td>\n",
       "      <td>Kael</td>\n",
       "      <td>M</td>\n",
       "      <td>42</td>\n",
       "      <td>Baker</td>\n",
       "      <td>NaN</td>\n",
       "      <td>free</td>\n",
       "      <td>Kingsport-Bristol-Bristol, TN-VA</td>\n",
       "      <td>PUT</td>\n",
       "      <td>Thumbs Down</td>\n",
       "      <td>1533102330000</td>\n",
       "      <td>2155</td>\n",
       "      <td>None</td>\n",
       "      <td>307</td>\n",
       "      <td>1543117205000</td>\n",
       "      <td>\"Mozilla/5.0 (Macintosh; Intel Mac OS X 10_9_4...</td>\n",
       "      <td>131</td>\n",
       "    </tr>\n",
       "    <tr>\n",
       "      <th>1842</th>\n",
       "      <td>The Mad Capsule Markets</td>\n",
       "      <td>Logged In</td>\n",
       "      <td>Kael</td>\n",
       "      <td>M</td>\n",
       "      <td>43</td>\n",
       "      <td>Baker</td>\n",
       "      <td>262.08608</td>\n",
       "      <td>free</td>\n",
       "      <td>Kingsport-Bristol-Bristol, TN-VA</td>\n",
       "      <td>PUT</td>\n",
       "      <td>NextSong</td>\n",
       "      <td>1533102330000</td>\n",
       "      <td>2155</td>\n",
       "      <td>Creature</td>\n",
       "      <td>200</td>\n",
       "      <td>1543117364000</td>\n",
       "      <td>\"Mozilla/5.0 (Macintosh; Intel Mac OS X 10_9_4...</td>\n",
       "      <td>131</td>\n",
       "    </tr>\n",
       "    <tr>\n",
       "      <th>1843</th>\n",
       "      <td>Porcupine Tree</td>\n",
       "      <td>Logged In</td>\n",
       "      <td>Kael</td>\n",
       "      <td>M</td>\n",
       "      <td>44</td>\n",
       "      <td>Baker</td>\n",
       "      <td>700.62975</td>\n",
       "      <td>free</td>\n",
       "      <td>Kingsport-Bristol-Bristol, TN-VA</td>\n",
       "      <td>PUT</td>\n",
       "      <td>NextSong</td>\n",
       "      <td>1533102330000</td>\n",
       "      <td>2155</td>\n",
       "      <td>Time Flies (Album Version)</td>\n",
       "      <td>200</td>\n",
       "      <td>1543117626000</td>\n",
       "      <td>\"Mozilla/5.0 (Macintosh; Intel Mac OS X 10_9_4...</td>\n",
       "      <td>131</td>\n",
       "    </tr>\n",
       "    <tr>\n",
       "      <th>1844</th>\n",
       "      <td>4 Strings</td>\n",
       "      <td>Logged In</td>\n",
       "      <td>Kael</td>\n",
       "      <td>M</td>\n",
       "      <td>45</td>\n",
       "      <td>Baker</td>\n",
       "      <td>189.15220</td>\n",
       "      <td>free</td>\n",
       "      <td>Kingsport-Bristol-Bristol, TN-VA</td>\n",
       "      <td>PUT</td>\n",
       "      <td>NextSong</td>\n",
       "      <td>1533102330000</td>\n",
       "      <td>2155</td>\n",
       "      <td>(Take Me Away) Into The Night (4 Strings Remix...</td>\n",
       "      <td>200</td>\n",
       "      <td>1543118326000</td>\n",
       "      <td>\"Mozilla/5.0 (Macintosh; Intel Mac OS X 10_9_4...</td>\n",
       "      <td>131</td>\n",
       "    </tr>\n",
       "    <tr>\n",
       "      <th>1845</th>\n",
       "      <td>None</td>\n",
       "      <td>Logged In</td>\n",
       "      <td>Kael</td>\n",
       "      <td>M</td>\n",
       "      <td>46</td>\n",
       "      <td>Baker</td>\n",
       "      <td>NaN</td>\n",
       "      <td>free</td>\n",
       "      <td>Kingsport-Bristol-Bristol, TN-VA</td>\n",
       "      <td>PUT</td>\n",
       "      <td>Add to Playlist</td>\n",
       "      <td>1533102330000</td>\n",
       "      <td>2155</td>\n",
       "      <td>None</td>\n",
       "      <td>200</td>\n",
       "      <td>1543118337000</td>\n",
       "      <td>\"Mozilla/5.0 (Macintosh; Intel Mac OS X 10_9_4...</td>\n",
       "      <td>131</td>\n",
       "    </tr>\n",
       "    <tr>\n",
       "      <th>1846</th>\n",
       "      <td>Thurston Harris</td>\n",
       "      <td>Logged In</td>\n",
       "      <td>Kael</td>\n",
       "      <td>M</td>\n",
       "      <td>47</td>\n",
       "      <td>Baker</td>\n",
       "      <td>146.67710</td>\n",
       "      <td>free</td>\n",
       "      <td>Kingsport-Bristol-Bristol, TN-VA</td>\n",
       "      <td>PUT</td>\n",
       "      <td>NextSong</td>\n",
       "      <td>1533102330000</td>\n",
       "      <td>2155</td>\n",
       "      <td>Little Bitty Pretty One</td>\n",
       "      <td>200</td>\n",
       "      <td>1543118515000</td>\n",
       "      <td>\"Mozilla/5.0 (Macintosh; Intel Mac OS X 10_9_4...</td>\n",
       "      <td>131</td>\n",
       "    </tr>\n",
       "    <tr>\n",
       "      <th>1847</th>\n",
       "      <td>Calvin Harris</td>\n",
       "      <td>Logged In</td>\n",
       "      <td>Kael</td>\n",
       "      <td>M</td>\n",
       "      <td>48</td>\n",
       "      <td>Baker</td>\n",
       "      <td>210.12853</td>\n",
       "      <td>free</td>\n",
       "      <td>Kingsport-Bristol-Bristol, TN-VA</td>\n",
       "      <td>PUT</td>\n",
       "      <td>NextSong</td>\n",
       "      <td>1533102330000</td>\n",
       "      <td>2155</td>\n",
       "      <td>I'm Not Alone</td>\n",
       "      <td>200</td>\n",
       "      <td>1543118661000</td>\n",
       "      <td>\"Mozilla/5.0 (Macintosh; Intel Mac OS X 10_9_4...</td>\n",
       "      <td>131</td>\n",
       "    </tr>\n",
       "    <tr>\n",
       "      <th>1848</th>\n",
       "      <td>Die Mooskirchner</td>\n",
       "      <td>Logged In</td>\n",
       "      <td>Kael</td>\n",
       "      <td>M</td>\n",
       "      <td>49</td>\n",
       "      <td>Baker</td>\n",
       "      <td>169.29914</td>\n",
       "      <td>free</td>\n",
       "      <td>Kingsport-Bristol-Bristol, TN-VA</td>\n",
       "      <td>PUT</td>\n",
       "      <td>NextSong</td>\n",
       "      <td>1533102330000</td>\n",
       "      <td>2155</td>\n",
       "      <td>Frisch und g'sund</td>\n",
       "      <td>200</td>\n",
       "      <td>1543118871000</td>\n",
       "      <td>\"Mozilla/5.0 (Macintosh; Intel Mac OS X 10_9_4...</td>\n",
       "      <td>131</td>\n",
       "    </tr>\n",
       "    <tr>\n",
       "      <th>1849</th>\n",
       "      <td>Paramore</td>\n",
       "      <td>Logged In</td>\n",
       "      <td>Kael</td>\n",
       "      <td>M</td>\n",
       "      <td>50</td>\n",
       "      <td>Baker</td>\n",
       "      <td>267.65016</td>\n",
       "      <td>free</td>\n",
       "      <td>Kingsport-Bristol-Bristol, TN-VA</td>\n",
       "      <td>PUT</td>\n",
       "      <td>NextSong</td>\n",
       "      <td>1533102330000</td>\n",
       "      <td>2155</td>\n",
       "      <td>The Only Exception (Album Version)</td>\n",
       "      <td>200</td>\n",
       "      <td>1543119040000</td>\n",
       "      <td>\"Mozilla/5.0 (Macintosh; Intel Mac OS X 10_9_4...</td>\n",
       "      <td>131</td>\n",
       "    </tr>\n",
       "    <tr>\n",
       "      <th>1850</th>\n",
       "      <td>Bondage Fairies</td>\n",
       "      <td>Logged In</td>\n",
       "      <td>Kael</td>\n",
       "      <td>M</td>\n",
       "      <td>51</td>\n",
       "      <td>Baker</td>\n",
       "      <td>123.27138</td>\n",
       "      <td>free</td>\n",
       "      <td>Kingsport-Bristol-Bristol, TN-VA</td>\n",
       "      <td>PUT</td>\n",
       "      <td>NextSong</td>\n",
       "      <td>1533102330000</td>\n",
       "      <td>2155</td>\n",
       "      <td>Why I Didn\u0019t Like August 93</td>\n",
       "      <td>200</td>\n",
       "      <td>1543119307000</td>\n",
       "      <td>\"Mozilla/5.0 (Macintosh; Intel Mac OS X 10_9_4...</td>\n",
       "      <td>131</td>\n",
       "    </tr>\n",
       "    <tr>\n",
       "      <th>1851</th>\n",
       "      <td>Carla Bruni</td>\n",
       "      <td>Logged In</td>\n",
       "      <td>Kael</td>\n",
       "      <td>M</td>\n",
       "      <td>52</td>\n",
       "      <td>Baker</td>\n",
       "      <td>210.28526</td>\n",
       "      <td>free</td>\n",
       "      <td>Kingsport-Bristol-Bristol, TN-VA</td>\n",
       "      <td>PUT</td>\n",
       "      <td>NextSong</td>\n",
       "      <td>1533102330000</td>\n",
       "      <td>2155</td>\n",
       "      <td>Le Plus Beau Du Quartier</td>\n",
       "      <td>200</td>\n",
       "      <td>1543119430000</td>\n",
       "      <td>\"Mozilla/5.0 (Macintosh; Intel Mac OS X 10_9_4...</td>\n",
       "      <td>131</td>\n",
       "    </tr>\n",
       "    <tr>\n",
       "      <th>1852</th>\n",
       "      <td>DJ Shadow</td>\n",
       "      <td>Logged In</td>\n",
       "      <td>Kael</td>\n",
       "      <td>M</td>\n",
       "      <td>53</td>\n",
       "      <td>Baker</td>\n",
       "      <td>228.70159</td>\n",
       "      <td>free</td>\n",
       "      <td>Kingsport-Bristol-Bristol, TN-VA</td>\n",
       "      <td>PUT</td>\n",
       "      <td>NextSong</td>\n",
       "      <td>1533102330000</td>\n",
       "      <td>2155</td>\n",
       "      <td>Stem</td>\n",
       "      <td>200</td>\n",
       "      <td>1543119640000</td>\n",
       "      <td>\"Mozilla/5.0 (Macintosh; Intel Mac OS X 10_9_4...</td>\n",
       "      <td>131</td>\n",
       "    </tr>\n",
       "    <tr>\n",
       "      <th>1853</th>\n",
       "      <td>Barry Tuckwell/Academy of St Martin-in-the-Fie...</td>\n",
       "      <td>Logged In</td>\n",
       "      <td>Kael</td>\n",
       "      <td>M</td>\n",
       "      <td>54</td>\n",
       "      <td>Baker</td>\n",
       "      <td>277.15873</td>\n",
       "      <td>free</td>\n",
       "      <td>Kingsport-Bristol-Bristol, TN-VA</td>\n",
       "      <td>PUT</td>\n",
       "      <td>NextSong</td>\n",
       "      <td>1533102330000</td>\n",
       "      <td>2155</td>\n",
       "      <td>Horn Concerto No. 4 in E flat K495: II. Romanc...</td>\n",
       "      <td>200</td>\n",
       "      <td>1543119868000</td>\n",
       "      <td>\"Mozilla/5.0 (Macintosh; Intel Mac OS X 10_9_4...</td>\n",
       "      <td>131</td>\n",
       "    </tr>\n",
       "    <tr>\n",
       "      <th>1854</th>\n",
       "      <td>Holy Fuck</td>\n",
       "      <td>Logged In</td>\n",
       "      <td>Kael</td>\n",
       "      <td>M</td>\n",
       "      <td>55</td>\n",
       "      <td>Baker</td>\n",
       "      <td>271.09832</td>\n",
       "      <td>free</td>\n",
       "      <td>Kingsport-Bristol-Bristol, TN-VA</td>\n",
       "      <td>PUT</td>\n",
       "      <td>NextSong</td>\n",
       "      <td>1533102330000</td>\n",
       "      <td>2155</td>\n",
       "      <td>Lovely Allen</td>\n",
       "      <td>200</td>\n",
       "      <td>1543120145000</td>\n",
       "      <td>\"Mozilla/5.0 (Macintosh; Intel Mac OS X 10_9_4...</td>\n",
       "      <td>131</td>\n",
       "    </tr>\n",
       "    <tr>\n",
       "      <th>1855</th>\n",
       "      <td>Aimee Mann</td>\n",
       "      <td>Logged In</td>\n",
       "      <td>Kael</td>\n",
       "      <td>M</td>\n",
       "      <td>56</td>\n",
       "      <td>Baker</td>\n",
       "      <td>222.22322</td>\n",
       "      <td>free</td>\n",
       "      <td>Kingsport-Bristol-Bristol, TN-VA</td>\n",
       "      <td>PUT</td>\n",
       "      <td>NextSong</td>\n",
       "      <td>1533102330000</td>\n",
       "      <td>2155</td>\n",
       "      <td>You Could Make A Killing</td>\n",
       "      <td>200</td>\n",
       "      <td>1543120416000</td>\n",
       "      <td>\"Mozilla/5.0 (Macintosh; Intel Mac OS X 10_9_4...</td>\n",
       "      <td>131</td>\n",
       "    </tr>\n",
       "    <tr>\n",
       "      <th>1856</th>\n",
       "      <td>None</td>\n",
       "      <td>Logged In</td>\n",
       "      <td>Kael</td>\n",
       "      <td>M</td>\n",
       "      <td>57</td>\n",
       "      <td>Baker</td>\n",
       "      <td>NaN</td>\n",
       "      <td>free</td>\n",
       "      <td>Kingsport-Bristol-Bristol, TN-VA</td>\n",
       "      <td>PUT</td>\n",
       "      <td>Add Friend</td>\n",
       "      <td>1533102330000</td>\n",
       "      <td>2155</td>\n",
       "      <td>None</td>\n",
       "      <td>307</td>\n",
       "      <td>1543120417000</td>\n",
       "      <td>\"Mozilla/5.0 (Macintosh; Intel Mac OS X 10_9_4...</td>\n",
       "      <td>131</td>\n",
       "    </tr>\n",
       "    <tr>\n",
       "      <th>1857</th>\n",
       "      <td>None</td>\n",
       "      <td>Logged In</td>\n",
       "      <td>Kael</td>\n",
       "      <td>M</td>\n",
       "      <td>58</td>\n",
       "      <td>Baker</td>\n",
       "      <td>NaN</td>\n",
       "      <td>free</td>\n",
       "      <td>Kingsport-Bristol-Bristol, TN-VA</td>\n",
       "      <td>GET</td>\n",
       "      <td>Home</td>\n",
       "      <td>1533102330000</td>\n",
       "      <td>2155</td>\n",
       "      <td>None</td>\n",
       "      <td>200</td>\n",
       "      <td>1543120441000</td>\n",
       "      <td>\"Mozilla/5.0 (Macintosh; Intel Mac OS X 10_9_4...</td>\n",
       "      <td>131</td>\n",
       "    </tr>\n",
       "    <tr>\n",
       "      <th>1858</th>\n",
       "      <td>Britney Spears</td>\n",
       "      <td>Logged In</td>\n",
       "      <td>Kael</td>\n",
       "      <td>M</td>\n",
       "      <td>59</td>\n",
       "      <td>Baker</td>\n",
       "      <td>196.64934</td>\n",
       "      <td>free</td>\n",
       "      <td>Kingsport-Bristol-Bristol, TN-VA</td>\n",
       "      <td>PUT</td>\n",
       "      <td>NextSong</td>\n",
       "      <td>1533102330000</td>\n",
       "      <td>2155</td>\n",
       "      <td>Everybody</td>\n",
       "      <td>200</td>\n",
       "      <td>1543120638000</td>\n",
       "      <td>\"Mozilla/5.0 (Macintosh; Intel Mac OS X 10_9_4...</td>\n",
       "      <td>131</td>\n",
       "    </tr>\n",
       "    <tr>\n",
       "      <th>1859</th>\n",
       "      <td>A Rocket To The Moon</td>\n",
       "      <td>Logged In</td>\n",
       "      <td>Kael</td>\n",
       "      <td>M</td>\n",
       "      <td>60</td>\n",
       "      <td>Baker</td>\n",
       "      <td>236.87791</td>\n",
       "      <td>free</td>\n",
       "      <td>Kingsport-Bristol-Bristol, TN-VA</td>\n",
       "      <td>PUT</td>\n",
       "      <td>NextSong</td>\n",
       "      <td>1533102330000</td>\n",
       "      <td>2155</td>\n",
       "      <td>Fear Of Flying (Album Version)</td>\n",
       "      <td>200</td>\n",
       "      <td>1543120834000</td>\n",
       "      <td>\"Mozilla/5.0 (Macintosh; Intel Mac OS X 10_9_4...</td>\n",
       "      <td>131</td>\n",
       "    </tr>\n",
       "    <tr>\n",
       "      <th>1860</th>\n",
       "      <td>Kathy Mattea</td>\n",
       "      <td>Logged In</td>\n",
       "      <td>Kael</td>\n",
       "      <td>M</td>\n",
       "      <td>61</td>\n",
       "      <td>Baker</td>\n",
       "      <td>248.65914</td>\n",
       "      <td>free</td>\n",
       "      <td>Kingsport-Bristol-Bristol, TN-VA</td>\n",
       "      <td>PUT</td>\n",
       "      <td>NextSong</td>\n",
       "      <td>1533102330000</td>\n",
       "      <td>2155</td>\n",
       "      <td>Junkyard</td>\n",
       "      <td>200</td>\n",
       "      <td>1543121070000</td>\n",
       "      <td>\"Mozilla/5.0 (Macintosh; Intel Mac OS X 10_9_4...</td>\n",
       "      <td>131</td>\n",
       "    </tr>\n",
       "    <tr>\n",
       "      <th>1861</th>\n",
       "      <td>None</td>\n",
       "      <td>Logged In</td>\n",
       "      <td>Kael</td>\n",
       "      <td>M</td>\n",
       "      <td>62</td>\n",
       "      <td>Baker</td>\n",
       "      <td>NaN</td>\n",
       "      <td>free</td>\n",
       "      <td>Kingsport-Bristol-Bristol, TN-VA</td>\n",
       "      <td>PUT</td>\n",
       "      <td>Logout</td>\n",
       "      <td>1533102330000</td>\n",
       "      <td>2155</td>\n",
       "      <td>None</td>\n",
       "      <td>307</td>\n",
       "      <td>1543121071000</td>\n",
       "      <td>\"Mozilla/5.0 (Macintosh; Intel Mac OS X 10_9_4...</td>\n",
       "      <td>131</td>\n",
       "    </tr>\n",
       "    <tr>\n",
       "      <th>1862</th>\n",
       "      <td>None</td>\n",
       "      <td>Logged In</td>\n",
       "      <td>Kael</td>\n",
       "      <td>M</td>\n",
       "      <td>2</td>\n",
       "      <td>Baker</td>\n",
       "      <td>NaN</td>\n",
       "      <td>free</td>\n",
       "      <td>Kingsport-Bristol-Bristol, TN-VA</td>\n",
       "      <td>GET</td>\n",
       "      <td>Home</td>\n",
       "      <td>1533102330000</td>\n",
       "      <td>2281</td>\n",
       "      <td>None</td>\n",
       "      <td>200</td>\n",
       "      <td>1543548083000</td>\n",
       "      <td>\"Mozilla/5.0 (Macintosh; Intel Mac OS X 10_9_4...</td>\n",
       "      <td>131</td>\n",
       "    </tr>\n",
       "  </tbody>\n",
       "</table>\n",
       "<p>1863 rows × 18 columns</p>\n",
       "</div>"
      ],
      "text/plain": [
       "                                                 artist       auth firstName  \\\n",
       "0                                             Metallica  Logged In      Kael   \n",
       "1                                             Pearl Jam  Logged In      Kael   \n",
       "2                                              Frumpies  Logged In      Kael   \n",
       "3                                         Kaiser Chiefs  Logged In      Kael   \n",
       "4                                        Kelly Clarkson  Logged In      Kael   \n",
       "5                                                Darude  Logged In      Kael   \n",
       "6                                            Bloc Party  Logged In      Kael   \n",
       "7                                           Helen Reddy  Logged In      Kael   \n",
       "8                                         Cosmo Vitelli  Logged In      Kael   \n",
       "9                                                Eminem  Logged In      Kael   \n",
       "10                                    I Was A Cub Scout  Logged In      Kael   \n",
       "11                        Richard Grey feat.Sir.Charles  Logged In      Kael   \n",
       "12                                    Ne-Yo / LL Cool J  Logged In      Kael   \n",
       "13                    Various Artists - Delicious Vinyl  Logged In      Kael   \n",
       "14                                      Jonathan Butler  Logged In      Kael   \n",
       "15                                             Covenant  Logged In      Kael   \n",
       "16                                           Beatsteaks  Logged In      Kael   \n",
       "17                                          Rachid Taha  Logged In      Kael   \n",
       "18                                                 None  Logged In      Kael   \n",
       "19                                   David Crowder*Band  Logged In      Kael   \n",
       "20                                        First Aid Kit  Logged In      Kael   \n",
       "21                                                 None  Logged In      Kael   \n",
       "22                                       Marilyn Manson  Logged In      Kael   \n",
       "23                                                 None  Logged In      Kael   \n",
       "24                                       Bell Orchestre  Logged In      Kael   \n",
       "25                                                 None  Logged In      Kael   \n",
       "26                                                 None  Logged In      Kael   \n",
       "27                                                 None  Logged In      Kael   \n",
       "28                               Florence + The Machine  Logged In      Kael   \n",
       "29                                            Sugarland  Logged In      Kael   \n",
       "...                                                 ...        ...       ...   \n",
       "1833                         Big Punisher featuring Joe  Logged In      Kael   \n",
       "1834                                         BeyoncÃÂ©  Logged In      Kael   \n",
       "1835                           The Marshall Tucker Band  Logged In      Kael   \n",
       "1836                                       Erin McKeown  Logged In      Kael   \n",
       "1837                                   Hollywood Undead  Logged In      Kael   \n",
       "1838                                     The Menzingers  Logged In      Kael   \n",
       "1839                                               None  Logged In      Kael   \n",
       "1840                                Buffalo Springfield  Logged In      Kael   \n",
       "1841                                               None  Logged In      Kael   \n",
       "1842                            The Mad Capsule Markets  Logged In      Kael   \n",
       "1843                                     Porcupine Tree  Logged In      Kael   \n",
       "1844                                          4 Strings  Logged In      Kael   \n",
       "1845                                               None  Logged In      Kael   \n",
       "1846                                    Thurston Harris  Logged In      Kael   \n",
       "1847                                      Calvin Harris  Logged In      Kael   \n",
       "1848                                   Die Mooskirchner  Logged In      Kael   \n",
       "1849                                           Paramore  Logged In      Kael   \n",
       "1850                                    Bondage Fairies  Logged In      Kael   \n",
       "1851                                        Carla Bruni  Logged In      Kael   \n",
       "1852                                          DJ Shadow  Logged In      Kael   \n",
       "1853  Barry Tuckwell/Academy of St Martin-in-the-Fie...  Logged In      Kael   \n",
       "1854                                          Holy Fuck  Logged In      Kael   \n",
       "1855                                         Aimee Mann  Logged In      Kael   \n",
       "1856                                               None  Logged In      Kael   \n",
       "1857                                               None  Logged In      Kael   \n",
       "1858                                     Britney Spears  Logged In      Kael   \n",
       "1859                               A Rocket To The Moon  Logged In      Kael   \n",
       "1860                                       Kathy Mattea  Logged In      Kael   \n",
       "1861                                               None  Logged In      Kael   \n",
       "1862                                               None  Logged In      Kael   \n",
       "\n",
       "     gender  itemInSession lastName     length level  \\\n",
       "0         M              0    Baker  415.16363  free   \n",
       "1         M              1    Baker  276.40118  free   \n",
       "2         M              2    Baker  134.47791  free   \n",
       "3         M              3    Baker  222.82404  free   \n",
       "4         M              4    Baker  156.65587  free   \n",
       "5         M              5    Baker  516.28363  free   \n",
       "6         M              6    Baker  235.65016  free   \n",
       "7         M              7    Baker  211.35628  free   \n",
       "8         M              8    Baker  206.05342  free   \n",
       "9         M              9    Baker  251.55873  free   \n",
       "10        M             10    Baker  216.99873  free   \n",
       "11        M             11    Baker  411.42812  free   \n",
       "12        M             12    Baker  264.01914  free   \n",
       "13        M             13    Baker  264.25424  free   \n",
       "14        M             14    Baker  195.89179  free   \n",
       "15        M             15    Baker  300.19873  free   \n",
       "16        M             16    Baker  169.24689  free   \n",
       "17        M             17    Baker  289.74975  free   \n",
       "18        M             18    Baker        NaN  free   \n",
       "19        M             19    Baker  241.89342  free   \n",
       "20        M             20    Baker  333.03465  free   \n",
       "21        M             21    Baker        NaN  free   \n",
       "22        M             22    Baker  201.40363  free   \n",
       "23        M             23    Baker        NaN  free   \n",
       "24        M             24    Baker  137.82159  free   \n",
       "25        M             25    Baker        NaN  free   \n",
       "26        M             26    Baker        NaN  free   \n",
       "27        M             27    Baker        NaN  paid   \n",
       "28        M             28    Baker  258.55955  paid   \n",
       "29        M             29    Baker  247.77098  paid   \n",
       "...     ...            ...      ...        ...   ...   \n",
       "1833      M             34    Baker  236.12036  free   \n",
       "1834      M             35    Baker  261.74649  free   \n",
       "1835      M             36    Baker  362.70975  free   \n",
       "1836      M             37    Baker  249.88689  free   \n",
       "1837      M             38    Baker  196.41424  free   \n",
       "1838      M             39    Baker  156.49914  free   \n",
       "1839      M             40    Baker        NaN  free   \n",
       "1840      M             41    Baker  160.93995  free   \n",
       "1841      M             42    Baker        NaN  free   \n",
       "1842      M             43    Baker  262.08608  free   \n",
       "1843      M             44    Baker  700.62975  free   \n",
       "1844      M             45    Baker  189.15220  free   \n",
       "1845      M             46    Baker        NaN  free   \n",
       "1846      M             47    Baker  146.67710  free   \n",
       "1847      M             48    Baker  210.12853  free   \n",
       "1848      M             49    Baker  169.29914  free   \n",
       "1849      M             50    Baker  267.65016  free   \n",
       "1850      M             51    Baker  123.27138  free   \n",
       "1851      M             52    Baker  210.28526  free   \n",
       "1852      M             53    Baker  228.70159  free   \n",
       "1853      M             54    Baker  277.15873  free   \n",
       "1854      M             55    Baker  271.09832  free   \n",
       "1855      M             56    Baker  222.22322  free   \n",
       "1856      M             57    Baker        NaN  free   \n",
       "1857      M             58    Baker        NaN  free   \n",
       "1858      M             59    Baker  196.64934  free   \n",
       "1859      M             60    Baker  236.87791  free   \n",
       "1860      M             61    Baker  248.65914  free   \n",
       "1861      M             62    Baker        NaN  free   \n",
       "1862      M              2    Baker        NaN  free   \n",
       "\n",
       "                              location method             page   registration  \\\n",
       "0     Kingsport-Bristol-Bristol, TN-VA    PUT         NextSong  1533102330000   \n",
       "1     Kingsport-Bristol-Bristol, TN-VA    PUT         NextSong  1533102330000   \n",
       "2     Kingsport-Bristol-Bristol, TN-VA    PUT         NextSong  1533102330000   \n",
       "3     Kingsport-Bristol-Bristol, TN-VA    PUT         NextSong  1533102330000   \n",
       "4     Kingsport-Bristol-Bristol, TN-VA    PUT         NextSong  1533102330000   \n",
       "5     Kingsport-Bristol-Bristol, TN-VA    PUT         NextSong  1533102330000   \n",
       "6     Kingsport-Bristol-Bristol, TN-VA    PUT         NextSong  1533102330000   \n",
       "7     Kingsport-Bristol-Bristol, TN-VA    PUT         NextSong  1533102330000   \n",
       "8     Kingsport-Bristol-Bristol, TN-VA    PUT         NextSong  1533102330000   \n",
       "9     Kingsport-Bristol-Bristol, TN-VA    PUT         NextSong  1533102330000   \n",
       "10    Kingsport-Bristol-Bristol, TN-VA    PUT         NextSong  1533102330000   \n",
       "11    Kingsport-Bristol-Bristol, TN-VA    PUT         NextSong  1533102330000   \n",
       "12    Kingsport-Bristol-Bristol, TN-VA    PUT         NextSong  1533102330000   \n",
       "13    Kingsport-Bristol-Bristol, TN-VA    PUT         NextSong  1533102330000   \n",
       "14    Kingsport-Bristol-Bristol, TN-VA    PUT         NextSong  1533102330000   \n",
       "15    Kingsport-Bristol-Bristol, TN-VA    PUT         NextSong  1533102330000   \n",
       "16    Kingsport-Bristol-Bristol, TN-VA    PUT         NextSong  1533102330000   \n",
       "17    Kingsport-Bristol-Bristol, TN-VA    PUT         NextSong  1533102330000   \n",
       "18    Kingsport-Bristol-Bristol, TN-VA    PUT  Add to Playlist  1533102330000   \n",
       "19    Kingsport-Bristol-Bristol, TN-VA    PUT         NextSong  1533102330000   \n",
       "20    Kingsport-Bristol-Bristol, TN-VA    PUT         NextSong  1533102330000   \n",
       "21    Kingsport-Bristol-Bristol, TN-VA    GET             Help  1533102330000   \n",
       "22    Kingsport-Bristol-Bristol, TN-VA    PUT         NextSong  1533102330000   \n",
       "23    Kingsport-Bristol-Bristol, TN-VA    GET             Home  1533102330000   \n",
       "24    Kingsport-Bristol-Bristol, TN-VA    PUT         NextSong  1533102330000   \n",
       "25    Kingsport-Bristol-Bristol, TN-VA    GET          Upgrade  1533102330000   \n",
       "26    Kingsport-Bristol-Bristol, TN-VA    PUT   Submit Upgrade  1533102330000   \n",
       "27    Kingsport-Bristol-Bristol, TN-VA    GET             Home  1533102330000   \n",
       "28    Kingsport-Bristol-Bristol, TN-VA    PUT         NextSong  1533102330000   \n",
       "29    Kingsport-Bristol-Bristol, TN-VA    PUT         NextSong  1533102330000   \n",
       "...                                ...    ...              ...            ...   \n",
       "1833  Kingsport-Bristol-Bristol, TN-VA    PUT         NextSong  1533102330000   \n",
       "1834  Kingsport-Bristol-Bristol, TN-VA    PUT         NextSong  1533102330000   \n",
       "1835  Kingsport-Bristol-Bristol, TN-VA    PUT         NextSong  1533102330000   \n",
       "1836  Kingsport-Bristol-Bristol, TN-VA    PUT         NextSong  1533102330000   \n",
       "1837  Kingsport-Bristol-Bristol, TN-VA    PUT         NextSong  1533102330000   \n",
       "1838  Kingsport-Bristol-Bristol, TN-VA    PUT         NextSong  1533102330000   \n",
       "1839  Kingsport-Bristol-Bristol, TN-VA    GET      Roll Advert  1533102330000   \n",
       "1840  Kingsport-Bristol-Bristol, TN-VA    PUT         NextSong  1533102330000   \n",
       "1841  Kingsport-Bristol-Bristol, TN-VA    PUT      Thumbs Down  1533102330000   \n",
       "1842  Kingsport-Bristol-Bristol, TN-VA    PUT         NextSong  1533102330000   \n",
       "1843  Kingsport-Bristol-Bristol, TN-VA    PUT         NextSong  1533102330000   \n",
       "1844  Kingsport-Bristol-Bristol, TN-VA    PUT         NextSong  1533102330000   \n",
       "1845  Kingsport-Bristol-Bristol, TN-VA    PUT  Add to Playlist  1533102330000   \n",
       "1846  Kingsport-Bristol-Bristol, TN-VA    PUT         NextSong  1533102330000   \n",
       "1847  Kingsport-Bristol-Bristol, TN-VA    PUT         NextSong  1533102330000   \n",
       "1848  Kingsport-Bristol-Bristol, TN-VA    PUT         NextSong  1533102330000   \n",
       "1849  Kingsport-Bristol-Bristol, TN-VA    PUT         NextSong  1533102330000   \n",
       "1850  Kingsport-Bristol-Bristol, TN-VA    PUT         NextSong  1533102330000   \n",
       "1851  Kingsport-Bristol-Bristol, TN-VA    PUT         NextSong  1533102330000   \n",
       "1852  Kingsport-Bristol-Bristol, TN-VA    PUT         NextSong  1533102330000   \n",
       "1853  Kingsport-Bristol-Bristol, TN-VA    PUT         NextSong  1533102330000   \n",
       "1854  Kingsport-Bristol-Bristol, TN-VA    PUT         NextSong  1533102330000   \n",
       "1855  Kingsport-Bristol-Bristol, TN-VA    PUT         NextSong  1533102330000   \n",
       "1856  Kingsport-Bristol-Bristol, TN-VA    PUT       Add Friend  1533102330000   \n",
       "1857  Kingsport-Bristol-Bristol, TN-VA    GET             Home  1533102330000   \n",
       "1858  Kingsport-Bristol-Bristol, TN-VA    PUT         NextSong  1533102330000   \n",
       "1859  Kingsport-Bristol-Bristol, TN-VA    PUT         NextSong  1533102330000   \n",
       "1860  Kingsport-Bristol-Bristol, TN-VA    PUT         NextSong  1533102330000   \n",
       "1861  Kingsport-Bristol-Bristol, TN-VA    PUT           Logout  1533102330000   \n",
       "1862  Kingsport-Bristol-Bristol, TN-VA    GET             Home  1533102330000   \n",
       "\n",
       "      sessionId                                               song  status  \\\n",
       "0           249                                      Fade To Black     200   \n",
       "1           249                                  Nothingman (Live)     200   \n",
       "2           249                                         Fuck Kitty     200   \n",
       "3           249                                     Half The Truth     200   \n",
       "4           249            (You Make Me Feel Like A) Natural Woman     200   \n",
       "5           249                                      Feel The Beat     200   \n",
       "6           249                                               Luno     200   \n",
       "7           249                                         Angie Baby     200   \n",
       "8           249                            Robot Soul (Radio Edit)     200   \n",
       "9           249                                         Without Me     200   \n",
       "10          249                                        Close To Me     200   \n",
       "11          249               Don't Take My Love Away (Al Velilla)     200   \n",
       "12          249                                            So Sick     200   \n",
       "13          249                                        Bust A Move     200   \n",
       "14          249                                 Sugar Candy Kisses     200   \n",
       "15          249                                               XRDS     200   \n",
       "16          249                                              48/49     200   \n",
       "17          249                                              Kelma     200   \n",
       "18          249                                               None     200   \n",
       "19          249                Only You (Illuminate Album Version)     200   \n",
       "20          249                                          Pervigilo     200   \n",
       "21          249                                               None     200   \n",
       "22          249                                  This Is Halloween     200   \n",
       "23          249                                               None     200   \n",
       "24          249                                            Stripes     200   \n",
       "25          249                                               None     200   \n",
       "26          249                                               None     307   \n",
       "27          249                                               None     200   \n",
       "28          249                                        Cosmic Love     200   \n",
       "29          249                       Just Might (Make Me Believe)     200   \n",
       "...         ...                                                ...     ...   \n",
       "1833       2155                                 Still Not A Player     200   \n",
       "1834       2155                                               Halo     200   \n",
       "1835       2155                                      Can't You See     200   \n",
       "1836       2155                              Lullaby In Three/Four     200   \n",
       "1837       2155                                              Young     200   \n",
       "1838       2155    A Lesson In The Abuse Of Information Technology     200   \n",
       "1839       2155                                               None     200   \n",
       "1840       2155                                For What It's Worth     200   \n",
       "1841       2155                                               None     307   \n",
       "1842       2155                                           Creature     200   \n",
       "1843       2155                         Time Flies (Album Version)     200   \n",
       "1844       2155  (Take Me Away) Into The Night (4 Strings Remix...     200   \n",
       "1845       2155                                               None     200   \n",
       "1846       2155                            Little Bitty Pretty One     200   \n",
       "1847       2155                                      I'm Not Alone     200   \n",
       "1848       2155                                  Frisch und g'sund     200   \n",
       "1849       2155                 The Only Exception (Album Version)     200   \n",
       "1850       2155                        Why I Didn\u0019t Like August 93     200   \n",
       "1851       2155                           Le Plus Beau Du Quartier     200   \n",
       "1852       2155                                               Stem     200   \n",
       "1853       2155  Horn Concerto No. 4 in E flat K495: II. Romanc...     200   \n",
       "1854       2155                                       Lovely Allen     200   \n",
       "1855       2155                           You Could Make A Killing     200   \n",
       "1856       2155                                               None     307   \n",
       "1857       2155                                               None     200   \n",
       "1858       2155                                          Everybody     200   \n",
       "1859       2155                     Fear Of Flying (Album Version)     200   \n",
       "1860       2155                                           Junkyard     200   \n",
       "1861       2155                                               None     307   \n",
       "1862       2281                                               None     200   \n",
       "\n",
       "                 ts                                          userAgent userId  \n",
       "0     1538384355000  \"Mozilla/5.0 (Macintosh; Intel Mac OS X 10_9_4...    131  \n",
       "1     1538384770000  \"Mozilla/5.0 (Macintosh; Intel Mac OS X 10_9_4...    131  \n",
       "2     1538385046000  \"Mozilla/5.0 (Macintosh; Intel Mac OS X 10_9_4...    131  \n",
       "3     1538385180000  \"Mozilla/5.0 (Macintosh; Intel Mac OS X 10_9_4...    131  \n",
       "4     1538385402000  \"Mozilla/5.0 (Macintosh; Intel Mac OS X 10_9_4...    131  \n",
       "5     1538385558000  \"Mozilla/5.0 (Macintosh; Intel Mac OS X 10_9_4...    131  \n",
       "6     1538386074000  \"Mozilla/5.0 (Macintosh; Intel Mac OS X 10_9_4...    131  \n",
       "7     1538386309000  \"Mozilla/5.0 (Macintosh; Intel Mac OS X 10_9_4...    131  \n",
       "8     1538386520000  \"Mozilla/5.0 (Macintosh; Intel Mac OS X 10_9_4...    131  \n",
       "9     1538386726000  \"Mozilla/5.0 (Macintosh; Intel Mac OS X 10_9_4...    131  \n",
       "10    1538386977000  \"Mozilla/5.0 (Macintosh; Intel Mac OS X 10_9_4...    131  \n",
       "11    1538387193000  \"Mozilla/5.0 (Macintosh; Intel Mac OS X 10_9_4...    131  \n",
       "12    1538387604000  \"Mozilla/5.0 (Macintosh; Intel Mac OS X 10_9_4...    131  \n",
       "13    1538387868000  \"Mozilla/5.0 (Macintosh; Intel Mac OS X 10_9_4...    131  \n",
       "14    1538388132000  \"Mozilla/5.0 (Macintosh; Intel Mac OS X 10_9_4...    131  \n",
       "15    1538388327000  \"Mozilla/5.0 (Macintosh; Intel Mac OS X 10_9_4...    131  \n",
       "16    1538388627000  \"Mozilla/5.0 (Macintosh; Intel Mac OS X 10_9_4...    131  \n",
       "17    1538388796000  \"Mozilla/5.0 (Macintosh; Intel Mac OS X 10_9_4...    131  \n",
       "18    1538388861000  \"Mozilla/5.0 (Macintosh; Intel Mac OS X 10_9_4...    131  \n",
       "19    1538389085000  \"Mozilla/5.0 (Macintosh; Intel Mac OS X 10_9_4...    131  \n",
       "20    1538389326000  \"Mozilla/5.0 (Macintosh; Intel Mac OS X 10_9_4...    131  \n",
       "21    1538389366000  \"Mozilla/5.0 (Macintosh; Intel Mac OS X 10_9_4...    131  \n",
       "22    1538389659000  \"Mozilla/5.0 (Macintosh; Intel Mac OS X 10_9_4...    131  \n",
       "23    1538389667000  \"Mozilla/5.0 (Macintosh; Intel Mac OS X 10_9_4...    131  \n",
       "24    1538389860000  \"Mozilla/5.0 (Macintosh; Intel Mac OS X 10_9_4...    131  \n",
       "25    1538389930000  \"Mozilla/5.0 (Macintosh; Intel Mac OS X 10_9_4...    131  \n",
       "26    1538389931000  \"Mozilla/5.0 (Macintosh; Intel Mac OS X 10_9_4...    131  \n",
       "27    1538389931000  \"Mozilla/5.0 (Macintosh; Intel Mac OS X 10_9_4...    131  \n",
       "28    1538389997000  \"Mozilla/5.0 (Macintosh; Intel Mac OS X 10_9_4...    131  \n",
       "29    1538390255000  \"Mozilla/5.0 (Macintosh; Intel Mac OS X 10_9_4...    131  \n",
       "...             ...                                                ...    ...  \n",
       "1833  1543115744000  \"Mozilla/5.0 (Macintosh; Intel Mac OS X 10_9_4...    131  \n",
       "1834  1543115980000  \"Mozilla/5.0 (Macintosh; Intel Mac OS X 10_9_4...    131  \n",
       "1835  1543116241000  \"Mozilla/5.0 (Macintosh; Intel Mac OS X 10_9_4...    131  \n",
       "1836  1543116603000  \"Mozilla/5.0 (Macintosh; Intel Mac OS X 10_9_4...    131  \n",
       "1837  1543116852000  \"Mozilla/5.0 (Macintosh; Intel Mac OS X 10_9_4...    131  \n",
       "1838  1543117048000  \"Mozilla/5.0 (Macintosh; Intel Mac OS X 10_9_4...    131  \n",
       "1839  1543117059000  \"Mozilla/5.0 (Macintosh; Intel Mac OS X 10_9_4...    131  \n",
       "1840  1543117204000  \"Mozilla/5.0 (Macintosh; Intel Mac OS X 10_9_4...    131  \n",
       "1841  1543117205000  \"Mozilla/5.0 (Macintosh; Intel Mac OS X 10_9_4...    131  \n",
       "1842  1543117364000  \"Mozilla/5.0 (Macintosh; Intel Mac OS X 10_9_4...    131  \n",
       "1843  1543117626000  \"Mozilla/5.0 (Macintosh; Intel Mac OS X 10_9_4...    131  \n",
       "1844  1543118326000  \"Mozilla/5.0 (Macintosh; Intel Mac OS X 10_9_4...    131  \n",
       "1845  1543118337000  \"Mozilla/5.0 (Macintosh; Intel Mac OS X 10_9_4...    131  \n",
       "1846  1543118515000  \"Mozilla/5.0 (Macintosh; Intel Mac OS X 10_9_4...    131  \n",
       "1847  1543118661000  \"Mozilla/5.0 (Macintosh; Intel Mac OS X 10_9_4...    131  \n",
       "1848  1543118871000  \"Mozilla/5.0 (Macintosh; Intel Mac OS X 10_9_4...    131  \n",
       "1849  1543119040000  \"Mozilla/5.0 (Macintosh; Intel Mac OS X 10_9_4...    131  \n",
       "1850  1543119307000  \"Mozilla/5.0 (Macintosh; Intel Mac OS X 10_9_4...    131  \n",
       "1851  1543119430000  \"Mozilla/5.0 (Macintosh; Intel Mac OS X 10_9_4...    131  \n",
       "1852  1543119640000  \"Mozilla/5.0 (Macintosh; Intel Mac OS X 10_9_4...    131  \n",
       "1853  1543119868000  \"Mozilla/5.0 (Macintosh; Intel Mac OS X 10_9_4...    131  \n",
       "1854  1543120145000  \"Mozilla/5.0 (Macintosh; Intel Mac OS X 10_9_4...    131  \n",
       "1855  1543120416000  \"Mozilla/5.0 (Macintosh; Intel Mac OS X 10_9_4...    131  \n",
       "1856  1543120417000  \"Mozilla/5.0 (Macintosh; Intel Mac OS X 10_9_4...    131  \n",
       "1857  1543120441000  \"Mozilla/5.0 (Macintosh; Intel Mac OS X 10_9_4...    131  \n",
       "1858  1543120638000  \"Mozilla/5.0 (Macintosh; Intel Mac OS X 10_9_4...    131  \n",
       "1859  1543120834000  \"Mozilla/5.0 (Macintosh; Intel Mac OS X 10_9_4...    131  \n",
       "1860  1543121070000  \"Mozilla/5.0 (Macintosh; Intel Mac OS X 10_9_4...    131  \n",
       "1861  1543121071000  \"Mozilla/5.0 (Macintosh; Intel Mac OS X 10_9_4...    131  \n",
       "1862  1543548083000  \"Mozilla/5.0 (Macintosh; Intel Mac OS X 10_9_4...    131  \n",
       "\n",
       "[1863 rows x 18 columns]"
      ]
     },
     "execution_count": 36,
     "metadata": {},
     "output_type": "execute_result"
    }
   ],
   "source": [
    "# Overview\n",
    "df.where(df.userId==userId).toPandas()"
   ]
  },
  {
   "cell_type": "markdown",
   "metadata": {},
   "source": [
    "### Get user's sessionIds "
   ]
  },
  {
   "cell_type": "code",
   "execution_count": 37,
   "metadata": {},
   "outputs": [
    {
     "data": {
      "text/plain": [
       "[2041,\n",
       " 320,\n",
       " 2281,\n",
       " 1164,\n",
       " 1071,\n",
       " 929,\n",
       " 1536,\n",
       " 1000,\n",
       " 1187,\n",
       " 249,\n",
       " 440,\n",
       " 2155,\n",
       " 1095,\n",
       " 1881,\n",
       " 690,\n",
       " 676,\n",
       " 2094,\n",
       " 885,\n",
       " 1325]"
      ]
     },
     "execution_count": 37,
     "metadata": {},
     "output_type": "execute_result"
    }
   ],
   "source": [
    "# helper function - get all sessions for user with userId\n",
    "def get_sessionIds_for_userId(df, userId):\n",
    "    sessionId_list = df.where(df.userId==userId).select('sessionId').drop_duplicates(subset=['sessionId']).rdd.flatMap(lambda x: x).collect()\n",
    "    return sessionId_list\n",
    "get_sessionIds_for_userId(df, userId)"
   ]
  },
  {
   "cell_type": "markdown",
   "metadata": {},
   "source": [
    "### Get user page activities for a certain session\n",
    "- Change **sessionId in the next cell** to check page activities of different sessions"
   ]
  },
  {
   "cell_type": "code",
   "execution_count": 38,
   "metadata": {},
   "outputs": [],
   "source": [
    "sessionId = 131"
   ]
  },
  {
   "cell_type": "code",
   "execution_count": 39,
   "metadata": {},
   "outputs": [
    {
     "data": {
      "text/plain": [
       "[]"
      ]
     },
     "execution_count": 39,
     "metadata": {},
     "output_type": "execute_result"
    }
   ],
   "source": [
    "# helper function - get list of activities for user with userId in session with sesionId\n",
    "def get_user_activities_for_session(df, userId, sessionId):\n",
    "    page_names_list = df.where((df.userId==userId) & (df.sessionId==sessionId)).select('page').rdd.flatMap(lambda x: x).collect()\n",
    "    return page_names_list\n",
    "\n",
    "get_user_activities_for_session(df, userId, sessionId)"
   ]
  },
  {
   "cell_type": "code",
   "execution_count": 40,
   "metadata": {},
   "outputs": [],
   "source": [
    "def get_user_activity_statistic(df, userId):\n",
    "    user_activity_dict = {}\n",
    "    for key in page_elements:\n",
    "        user_activity_dict[key] = 0\n",
    "\n",
    "    sessionId_list = get_sessionIds_for_userId(df, userId) \n",
    "    for sessionId in sessionId_list:\n",
    "        page_names_list_in_session = get_user_activities_for_session(df, userId, sessionId)\n",
    "        for element in page_names_list_in_session:\n",
    "             user_activity_dict[element] +=1\n",
    "    \n",
    "    \n",
    "    user_activity_dict_df = pd.DataFrame(user_activity_dict, index=[0])\n",
    "    \n",
    "    return user_activity_dict_df"
   ]
  },
  {
   "cell_type": "markdown",
   "metadata": {},
   "source": [
    "### Short user report info"
   ]
  },
  {
   "cell_type": "code",
   "execution_count": 41,
   "metadata": {},
   "outputs": [
    {
     "data": {
      "text/markdown": [
       "### user with userId = 131"
      ],
      "text/plain": [
       "<IPython.core.display.Markdown object>"
      ]
     },
     "metadata": {},
     "output_type": "display_data"
    },
    {
     "data": {
      "text/markdown": [
       "#### number of total user actions"
      ],
      "text/plain": [
       "<IPython.core.display.Markdown object>"
      ]
     },
     "metadata": {},
     "output_type": "display_data"
    },
    {
     "name": "stdout",
     "output_type": "stream",
     "text": [
      "1863\n"
     ]
    },
    {
     "data": {
      "text/markdown": [
       "#### number of paid and/or free entries"
      ],
      "text/plain": [
       "<IPython.core.display.Markdown object>"
      ]
     },
     "metadata": {},
     "output_type": "display_data"
    },
    {
     "name": "stdout",
     "output_type": "stream",
     "text": [
      "+-----+-----+\n",
      "|level|count|\n",
      "+-----+-----+\n",
      "| free|  103|\n",
      "| paid| 1760|\n",
      "+-----+-----+\n",
      "\n"
     ]
    },
    {
     "data": {
      "text/markdown": [
       "#### number of sessions"
      ],
      "text/plain": [
       "<IPython.core.display.Markdown object>"
      ]
     },
     "metadata": {},
     "output_type": "display_data"
    },
    {
     "name": "stdout",
     "output_type": "stream",
     "text": [
      "19\n"
     ]
    },
    {
     "data": {
      "text/markdown": [
       "#### session activities count"
      ],
      "text/plain": [
       "<IPython.core.display.Markdown object>"
      ]
     },
     "metadata": {},
     "output_type": "display_data"
    },
    {
     "name": "stdout",
     "output_type": "stream",
     "text": [
      "+---------+-----+\n",
      "|sessionId|count|\n",
      "+---------+-----+\n",
      "|     2041|  111|\n",
      "|      320|   29|\n",
      "|     2281|    1|\n",
      "|     1164|  200|\n",
      "|     1071|   16|\n",
      "|      929|  247|\n",
      "|     1536|  125|\n",
      "|     1000|   70|\n",
      "|     1187|  171|\n",
      "|      249|  238|\n",
      "|      440|   35|\n",
      "|     2155|   61|\n",
      "|     1095|    1|\n",
      "|     1881|   55|\n",
      "|      690|  136|\n",
      "|      676|   36|\n",
      "|     2094|    3|\n",
      "|      885|  142|\n",
      "|     1325|  186|\n",
      "+---------+-----+\n",
      "\n"
     ]
    },
    {
     "data": {
      "text/markdown": [
       "#### number of songs played per session"
      ],
      "text/plain": [
       "<IPython.core.display.Markdown object>"
      ]
     },
     "metadata": {},
     "output_type": "display_data"
    },
    {
     "name": "stdout",
     "output_type": "stream",
     "text": [
      "+---------+-----+\n",
      "|sessionId|count|\n",
      "+---------+-----+\n",
      "|     2041|   92|\n",
      "|      320|   24|\n",
      "|     1164|  172|\n",
      "|     1071|   11|\n",
      "|      929|  206|\n",
      "|     1536|  107|\n",
      "|     1000|   57|\n",
      "|     1187|  149|\n",
      "|      249|  199|\n",
      "|      440|   31|\n",
      "|     2155|   48|\n",
      "|     1881|   50|\n",
      "|      690|  115|\n",
      "|      676|   29|\n",
      "|     2094|    2|\n",
      "|      885|  124|\n",
      "|     1325|  148|\n",
      "+---------+-----+\n",
      "\n"
     ]
    },
    {
     "data": {
      "text/markdown": [
       "#### mean number of played songs per session"
      ],
      "text/plain": [
       "<IPython.core.display.Markdown object>"
      ]
     },
     "metadata": {},
     "output_type": "display_data"
    },
    {
     "name": "stdout",
     "output_type": "stream",
     "text": [
      "+-------------------------+\n",
      "|avg_num_songs_per_session|\n",
      "+-------------------------+\n",
      "|                     92.0|\n",
      "+-------------------------+\n",
      "\n"
     ]
    },
    {
     "data": {
      "text/markdown": [
       "#### all user sessionIds"
      ],
      "text/plain": [
       "<IPython.core.display.Markdown object>"
      ]
     },
     "metadata": {},
     "output_type": "display_data"
    },
    {
     "name": "stdout",
     "output_type": "stream",
     "text": [
      "[2041, 320, 2281, 1164, 1071, 929, 1536, 1000, 1187, 249, 440, 2155, 1095, 1881, 690, 676, 2094, 885, 1325]\n"
     ]
    },
    {
     "data": {
      "text/markdown": [
       "#### web page activity"
      ],
      "text/plain": [
       "<IPython.core.display.Markdown object>"
      ]
     },
     "metadata": {},
     "output_type": "display_data"
    },
    {
     "data": {
      "text/html": [
       "<div>\n",
       "<style scoped>\n",
       "    .dataframe tbody tr th:only-of-type {\n",
       "        vertical-align: middle;\n",
       "    }\n",
       "\n",
       "    .dataframe tbody tr th {\n",
       "        vertical-align: top;\n",
       "    }\n",
       "\n",
       "    .dataframe thead th {\n",
       "        text-align: right;\n",
       "    }\n",
       "</style>\n",
       "<table border=\"1\" class=\"dataframe\">\n",
       "  <thead>\n",
       "    <tr style=\"text-align: right;\">\n",
       "      <th></th>\n",
       "      <th>Cancel</th>\n",
       "      <th>Submit Downgrade</th>\n",
       "      <th>Thumbs Down</th>\n",
       "      <th>Home</th>\n",
       "      <th>Downgrade</th>\n",
       "      <th>Roll Advert</th>\n",
       "      <th>Logout</th>\n",
       "      <th>Save Settings</th>\n",
       "      <th>Cancellation Confirmation</th>\n",
       "      <th>About</th>\n",
       "      <th>...</th>\n",
       "      <th>Login</th>\n",
       "      <th>Register</th>\n",
       "      <th>Add to Playlist</th>\n",
       "      <th>Add Friend</th>\n",
       "      <th>NextSong</th>\n",
       "      <th>Thumbs Up</th>\n",
       "      <th>Help</th>\n",
       "      <th>Upgrade</th>\n",
       "      <th>Error</th>\n",
       "      <th>Submit Upgrade</th>\n",
       "    </tr>\n",
       "  </thead>\n",
       "  <tbody>\n",
       "    <tr>\n",
       "      <th>0</th>\n",
       "      <td>0</td>\n",
       "      <td>2</td>\n",
       "      <td>20</td>\n",
       "      <td>54</td>\n",
       "      <td>15</td>\n",
       "      <td>5</td>\n",
       "      <td>18</td>\n",
       "      <td>2</td>\n",
       "      <td>0</td>\n",
       "      <td>5</td>\n",
       "      <td>...</td>\n",
       "      <td>0</td>\n",
       "      <td>0</td>\n",
       "      <td>51</td>\n",
       "      <td>26</td>\n",
       "      <td>1564</td>\n",
       "      <td>72</td>\n",
       "      <td>13</td>\n",
       "      <td>1</td>\n",
       "      <td>4</td>\n",
       "      <td>1</td>\n",
       "    </tr>\n",
       "  </tbody>\n",
       "</table>\n",
       "<p>1 rows × 22 columns</p>\n",
       "</div>"
      ],
      "text/plain": [
       "   Cancel  Submit Downgrade  Thumbs Down  Home  Downgrade  Roll Advert  \\\n",
       "0       0                 2           20    54         15            5   \n",
       "\n",
       "   Logout  Save Settings  Cancellation Confirmation  About       ...        \\\n",
       "0      18              2                          0      5       ...         \n",
       "\n",
       "   Login  Register  Add to Playlist  Add Friend  NextSong  Thumbs Up  Help  \\\n",
       "0      0         0               51          26      1564         72    13   \n",
       "\n",
       "   Upgrade  Error  Submit Upgrade  \n",
       "0        1      4               1  \n",
       "\n",
       "[1 rows x 22 columns]"
      ]
     },
     "metadata": {},
     "output_type": "display_data"
    }
   ],
   "source": [
    "def get_user_info(df, userId): \n",
    "    printmd('### user with userId = ' + str(userId))\n",
    "   \n",
    "    # number of total user actions\n",
    "    printmd('#### number of total user actions')\n",
    "    print(df.where(df.userId==userId).count())\n",
    " \n",
    "    # paid or free user\n",
    "    printmd('#### number of paid and/or free entries')\n",
    "    df.where(df.userId==userId).groupby('level').count().show()\n",
    "    \n",
    "    # number of sessions\n",
    "    num_session = df.where(df.userId==userId).groupby('sessionId').count().count()\n",
    "    printmd('#### number of sessions')\n",
    "    print(num_session)\n",
    "    \n",
    "    # session overview\n",
    "    printmd('#### session activities count')\n",
    "    df.where(df.userId==userId).groupby('sessionId').count().show()\n",
    "    \n",
    "    # number of songs played per session\n",
    "    printmd('#### number of songs played per session')\n",
    "    df.where((df.userId==userId) & (df.page=='NextSong')).groupby('sessionId').count().show()\n",
    "    \n",
    "    # mean Number of played songs per session \n",
    "    mean_num_plyed_songs =df.where((df.userId==userId) & (df.artist!='None')).groupby('sessionId').count().select(_mean(col('count')).alias('avg_num_songs_per_session'))\n",
    "    printmd('#### mean number of played songs per session')\n",
    "    mean_num_plyed_songs.show()\n",
    "    \n",
    "    # get all user's sessionIds\n",
    "    sessionId_list = df.where(df.userId==userId).select('sessionId').drop_duplicates(subset=['sessionId']).rdd.flatMap(lambda x: x)\n",
    "    printmd('#### all user sessionIds')\n",
    "    print(sessionId_list.collect())\n",
    "    \n",
    "    # get all user's overall web page activity\n",
    "    user_activity_dict_df = get_user_activity_statistic(df, userId)\n",
    "    printmd('#### web page activity')\n",
    "    display(user_activity_dict_df)\n",
    "    \n",
    "get_user_info(df, userId)"
   ]
  },
  {
   "cell_type": "markdown",
   "metadata": {},
   "source": [
    "### Create time/duration columns"
   ]
  },
  {
   "cell_type": "code",
   "execution_count": 42,
   "metadata": {},
   "outputs": [
    {
     "name": "stdout",
     "output_type": "stream",
     "text": [
      "+---------+----+-------+---+----------+--------------------+\n",
      "|sessionId|page|seconds| ts|next_value|page_duration_in_sec|\n",
      "+---------+----+-------+---+----------+--------------------+\n",
      "+---------+----+-------+---+----------+--------------------+\n",
      "\n"
     ]
    }
   ],
   "source": [
    "def create_hour_column(df):\n",
    "    # Add a new column called 'hour'\n",
    "    df = df.withColumn(\"hour\", get_hour(df.ts))\n",
    "    return df\n",
    "\n",
    "def create_seconds_column(df):\n",
    "    # Add a new column called 'seconds'\n",
    "    df = df.withColumn(\"seconds\", get_seconds(df.ts))\n",
    "    return df\n",
    "\n",
    "def get_session_page_duration(df, userId, sessionId):\n",
    "    # get activities for a certain user sessionId\n",
    "    session_activities = df.where((df.userId==userId) & (df.sessionId==sessionId)).select('sessionId', 'page', 'seconds', 'ts')\n",
    "\n",
    "    \n",
    "    session_window = Window.partitionBy().orderBy(\"ts\")\n",
    "\n",
    "    session_activities = session_activities.withColumn(\"next_value\", F.lead(session_activities.seconds).over(session_window))\n",
    "    session_activities = session_activities.withColumn(\"page_duration_in_sec\", F.when(F.isnull(session_activities.next_value - session_activities.seconds), 0)\n",
    "                                  .otherwise(session_activities.next_value - session_activities.seconds))\n",
    "    \n",
    "    \n",
    "    return session_activities\n",
    "\n",
    "\n",
    "# Add hour column\n",
    "df = create_hour_column(df)\n",
    "# Add seconds column\n",
    "df = create_seconds_column(df)\n",
    "\n",
    "\n",
    "session_activities = get_session_page_duration(df, userId=userId, sessionId=sessionId)\n",
    "session_activities.show()"
   ]
  },
  {
   "cell_type": "markdown",
   "metadata": {},
   "source": [
    "# <a class=\"anchor\" id=\"data_prep\">Data Preparation</a>"
   ]
  },
  {
   "cell_type": "markdown",
   "metadata": {},
   "source": [
    "## <a class=\"anchor\" id=\"filter_data\">Drop missing/uncommon values</a>"
   ]
  },
  {
   "cell_type": "code",
   "execution_count": 43,
   "metadata": {},
   "outputs": [
    {
     "data": {
      "text/plain": [
       "286500"
      ]
     },
     "execution_count": 43,
     "metadata": {},
     "output_type": "execute_result"
    }
   ],
   "source": [
    "df.count()"
   ]
  },
  {
   "cell_type": "code",
   "execution_count": 44,
   "metadata": {},
   "outputs": [],
   "source": [
    "df_clean = df.dropna(how = \"any\", subset = [\"userId\", \"sessionId\"])\n",
    "df_clean = df_clean.filter(df_clean[\"userId\"] != \"\")"
   ]
  },
  {
   "cell_type": "code",
   "execution_count": 45,
   "metadata": {},
   "outputs": [
    {
     "data": {
      "text/plain": [
       "278154"
      ]
     },
     "execution_count": 45,
     "metadata": {},
     "output_type": "execute_result"
    }
   ],
   "source": [
    "df_clean.count()"
   ]
  },
  {
   "cell_type": "markdown",
   "metadata": {},
   "source": [
    "## <a class=\"anchor\" id=\"churn\">Define Churn - The Label for Machine Learning Modeling</a>"
   ]
  },
  {
   "cell_type": "code",
   "execution_count": 46,
   "metadata": {},
   "outputs": [],
   "source": [
    "# Create a churn column - get churn for eachuser --> churn=1 (user churned), churn=0 (user not churned) \n",
    "flag_churn_event = udf(lambda x: 1 if x == \"Cancellation Confirmation\" else 0, IntegerType())\n",
    "df_clean = df_clean.withColumn('churn_event', flag_churn_event('page'))\n",
    "df_clean = df_clean.withColumn('churn', max('churn_event').over(Window.partitionBy('userId')))"
   ]
  },
  {
   "cell_type": "code",
   "execution_count": 47,
   "metadata": {},
   "outputs": [
    {
     "name": "stdout",
     "output_type": "stream",
     "text": [
      "+------+-----+\n",
      "|userId|churn|\n",
      "+------+-----+\n",
      "|100010|    0|\n",
      "|200002|    0|\n",
      "|   125|    1|\n",
      "|   124|    0|\n",
      "|    51|    1|\n",
      "|     7|    0|\n",
      "|    15|    0|\n",
      "|    54|    1|\n",
      "|   155|    0|\n",
      "|100014|    1|\n",
      "|   132|    0|\n",
      "|   154|    0|\n",
      "|   101|    1|\n",
      "|    11|    0|\n",
      "|   138|    0|\n",
      "|300017|    0|\n",
      "|100021|    1|\n",
      "|    29|    1|\n",
      "|    69|    0|\n",
      "|   112|    0|\n",
      "+------+-----+\n",
      "only showing top 20 rows\n",
      "\n"
     ]
    }
   ],
   "source": [
    "# The label dataframe for modeling \n",
    "churn = df_clean.select(['userId','churn']).dropDuplicates(['userId'])\n",
    "df_churn = churn.withColumn('churn', churn.churn.cast('int'))\n",
    "df_churn.show() "
   ]
  },
  {
   "cell_type": "code",
   "execution_count": 48,
   "metadata": {},
   "outputs": [
    {
     "data": {
      "text/plain": [
       "225"
      ]
     },
     "execution_count": 48,
     "metadata": {},
     "output_type": "execute_result"
    }
   ],
   "source": [
    "df_churn.count()"
   ]
  },
  {
   "cell_type": "markdown",
   "metadata": {},
   "source": [
    "### Result:\n",
    "- df_churn is the baseline dataframe for modeling\n",
    "- df_churn consists of 225 rows\n",
    "- df_churn contains only the label 'churn' so far. Features will be joined after feature engineering. See following steps."
   ]
  },
  {
   "cell_type": "markdown",
   "metadata": {},
   "source": [
    "## <a class=\"anchor\" id=\"Distribution_of_churned_and_non_churned_users\">Distribution of churned and non churned users</a>"
   ]
  },
  {
   "cell_type": "code",
   "execution_count": 49,
   "metadata": {},
   "outputs": [
    {
     "data": {
      "text/plain": [
       "52"
      ]
     },
     "execution_count": 49,
     "metadata": {},
     "output_type": "execute_result"
    }
   ],
   "source": [
    "df_clean.select('userId', 'churn').dropDuplicates(['userId']).where(df_clean.churn ==1).count()"
   ]
  },
  {
   "cell_type": "code",
   "execution_count": 50,
   "metadata": {},
   "outputs": [
    {
     "data": {
      "text/plain": [
       "173"
      ]
     },
     "execution_count": 50,
     "metadata": {},
     "output_type": "execute_result"
    }
   ],
   "source": [
    "df_clean.select('userId', 'churn').dropDuplicates(['userId']).where(df_clean.churn ==0).count()"
   ]
  },
  {
   "cell_type": "code",
   "execution_count": 51,
   "metadata": {},
   "outputs": [
    {
     "name": "stdout",
     "output_type": "stream",
     "text": [
      "+-----+-----+\n",
      "|churn|count|\n",
      "+-----+-----+\n",
      "|    1|   52|\n",
      "|    0|  173|\n",
      "+-----+-----+\n",
      "\n"
     ]
    },
    {
     "data": {
      "image/png": "[encoded data removed]",
      "text/plain": [
       "<matplotlib.figure.Figure at 0x7fa1fd7bb198>"
      ]
     },
     "metadata": {
      "needs_background": "light"
     },
     "output_type": "display_data"
    }
   ],
   "source": [
    "number_churn = df_clean.dropDuplicates(['userId']).groupby(['churn']).count()\n",
    "number_churn.show()\n",
    "number_churn_pd = number_churn.toPandas()\n",
    "\n",
    "\n",
    "plot_sns_bar(x='churn',\n",
    "             y='count', \n",
    "             data=number_churn_pd, \n",
    "             title='Distribution of churned and non churned users', \n",
    "             xlabel='churn', \n",
    "             ylabel='count', \n",
    "             save=True, \n",
    "             hide_xtick=False, \n",
    "             order=False)"
   ]
  },
  {
   "cell_type": "markdown",
   "metadata": {},
   "source": [
    "#### Result:\n",
    "- 23.11 % of all users churned"
   ]
  },
  {
   "cell_type": "code",
   "execution_count": 52,
   "metadata": {},
   "outputs": [],
   "source": [
    "num_churn = 52\n",
    "num_non_churn = 173"
   ]
  },
  {
   "cell_type": "markdown",
   "metadata": {},
   "source": [
    "# <a class=\"anchor\" id=\"Exploratory_Data_Analysis2\">Exploratory Data Analysis Part 2</a>"
   ]
  },
  {
   "cell_type": "markdown",
   "metadata": {},
   "source": [
    "## <a class=\"anchor\" id=\"Gender_distribution_based_on_churn\">Gender distribution based on churn</a>"
   ]
  },
  {
   "cell_type": "code",
   "execution_count": 53,
   "metadata": {},
   "outputs": [
    {
     "name": "stdout",
     "output_type": "stream",
     "text": [
      "+------+------------+\n",
      "|gender|gender_count|\n",
      "+------+------------+\n",
      "|     F|         104|\n",
      "|     M|         121|\n",
      "+------+------------+\n",
      "\n"
     ]
    }
   ],
   "source": [
    "def get_gender_distribution(df=df_clean):\n",
    "    \"\"\" Get Gender distribution of users\n",
    "        \n",
    "        INPUTS:\n",
    "        ------------\n",
    "            df - (Spark dataframe) the cleaned Dataframe used for modeling\n",
    "        \n",
    "        OUTPUTS:\n",
    "        ------------\n",
    "            gender_distribution - (Spark dataframe) with gender_count\n",
    "        \n",
    "    \"\"\"\n",
    "    gender_distribution = df.drop_duplicates(subset=['userId']).groupby('gender').count().withColumnRenamed('count', 'gender_count') \n",
    "    \n",
    "    return gender_distribution\n",
    "\n",
    "gender_distribution = get_gender_distribution()\n",
    "gender_distribution.show()"
   ]
  },
  {
   "cell_type": "code",
   "execution_count": 54,
   "metadata": {},
   "outputs": [
    {
     "data": {
      "text/html": [
       "<div>\n",
       "<style scoped>\n",
       "    .dataframe tbody tr th:only-of-type {\n",
       "        vertical-align: middle;\n",
       "    }\n",
       "\n",
       "    .dataframe tbody tr th {\n",
       "        vertical-align: top;\n",
       "    }\n",
       "\n",
       "    .dataframe thead th {\n",
       "        text-align: right;\n",
       "    }\n",
       "</style>\n",
       "<table border=\"1\" class=\"dataframe\">\n",
       "  <thead>\n",
       "    <tr style=\"text-align: right;\">\n",
       "      <th></th>\n",
       "      <th>gender</th>\n",
       "      <th>gender_count</th>\n",
       "    </tr>\n",
       "  </thead>\n",
       "  <tbody>\n",
       "    <tr>\n",
       "      <th>0</th>\n",
       "      <td>F</td>\n",
       "      <td>104</td>\n",
       "    </tr>\n",
       "    <tr>\n",
       "      <th>1</th>\n",
       "      <td>M</td>\n",
       "      <td>121</td>\n",
       "    </tr>\n",
       "  </tbody>\n",
       "</table>\n",
       "</div>"
      ],
      "text/plain": [
       "  gender  gender_count\n",
       "0      F           104\n",
       "1      M           121"
      ]
     },
     "metadata": {},
     "output_type": "display_data"
    },
    {
     "data": {
      "image/png": "[encoded data removed]",
      "text/plain": [
       "<matplotlib.figure.Figure at 0x7fa2077f8a20>"
      ]
     },
     "metadata": {
      "needs_background": "light"
     },
     "output_type": "display_data"
    }
   ],
   "source": [
    "gender_distribution_pd = gender_distribution.toPandas()\n",
    "display(gender_distribution_pd)\n",
    "plot_sns_bar(x='gender',\n",
    "             y='gender_count', \n",
    "             data=gender_distribution_pd, \n",
    "             title='Gender distribution of users', \n",
    "             xlabel='gender', \n",
    "             ylabel='count', \n",
    "             save=True, \n",
    "             hide_xtick=False, \n",
    "             order=False)"
   ]
  },
  {
   "cell_type": "markdown",
   "metadata": {},
   "source": [
    "#### Result:\n",
    "- 46.22% of all users are women\n",
    "- 53.78% of all users are men"
   ]
  },
  {
   "cell_type": "code",
   "execution_count": 55,
   "metadata": {},
   "outputs": [
    {
     "name": "stdout",
     "output_type": "stream",
     "text": [
      "+-----+------+-----+------------------+\n",
      "|churn|gender|count|  count_percentage|\n",
      "+-----+------+-----+------------------+\n",
      "|    0|     M|   89| 73.55371900826447|\n",
      "|    0|     F|   84| 80.76923076923077|\n",
      "|    1|     F|   20|19.230769230769234|\n",
      "|    1|     M|   32|26.446280991735538|\n",
      "+-----+------+-----+------------------+\n",
      "\n"
     ]
    }
   ],
   "source": [
    "def get_gender_distribution_churn(df=df_clean):\n",
    "    \"\"\" Get Gender distribution of churned and non churned users\n",
    "        \n",
    "        INPUTS:\n",
    "        ------------\n",
    "            df - (Spark dataframe) the cleaned Dataframe used for modeling\n",
    "        \n",
    "        OUTPUTS:\n",
    "        ------------\n",
    "            gender_distribution_churn - (Spark dataframe) with gender distribution of churned and non churned users as percantage count\n",
    "        \n",
    "    \"\"\"\n",
    "\n",
    "    get_percentage_gender = udf(lambda x, y : x /121*100 if y=='M' else x /104*100)\n",
    "    gender_distribution_churn = df.dropDuplicates(['userId', 'gender']).groupby(['churn', 'gender']).count().sort('churn')\n",
    "    #gender_distribution_churn.show()\n",
    "    gender_distribution_churn = gender_distribution_churn.withColumn('count_percentage', get_percentage_gender(gender_distribution_churn['count'].cast(FloatType()), gender_distribution_churn['gender']))\n",
    "    return gender_distribution_churn\n",
    "  \n",
    "gender_distribution_churn = get_gender_distribution_churn()\n",
    "gender_distribution_churn.show()"
   ]
  },
  {
   "cell_type": "code",
   "execution_count": 56,
   "metadata": {},
   "outputs": [
    {
     "data": {
      "image/png": "[encoded data removed]",
      "text/plain": [
       "<matplotlib.figure.Figure at 0x7fa1fab54f98>"
      ]
     },
     "metadata": {
      "needs_background": "light"
     },
     "output_type": "display_data"
    }
   ],
   "source": [
    "gender_distribution_churn_pd = gender_distribution_churn.toPandas()\n",
    "gender_distribution_churn_pd['count_percentage'] = gender_distribution_churn_pd['count_percentage'].astype(float)\n",
    "plot_sns_bar(x='churn',\n",
    "             y='count_percentage', \n",
    "             data=gender_distribution_churn_pd, \n",
    "             hue='gender',\n",
    "             title='Churned and non churned users based on gender', \n",
    "             xlabel='churn', \n",
    "             ylabel='count / %', \n",
    "             legend='gender',\n",
    "             save=True, \n",
    "             hide_xtick=False, \n",
    "             order=False)"
   ]
  },
  {
   "cell_type": "markdown",
   "metadata": {},
   "source": [
    "#### Result:\n",
    "- It seems that women have a lower tendency to churn churn than men.\n",
    "- Gender seems not to be a useful feature to predict churn"
   ]
  },
  {
   "cell_type": "code",
   "execution_count": 57,
   "metadata": {},
   "outputs": [
    {
     "name": "stdout",
     "output_type": "stream",
     "text": [
      "+------+------+\n",
      "|userId|gender|\n",
      "+------+------+\n",
      "|100010|     0|\n",
      "|200002|     1|\n",
      "|   125|     1|\n",
      "|   124|     0|\n",
      "|    51|     1|\n",
      "|     7|     1|\n",
      "|    15|     1|\n",
      "|    54|     0|\n",
      "|   155|     0|\n",
      "|100014|     1|\n",
      "|   132|     0|\n",
      "|   154|     0|\n",
      "|   101|     1|\n",
      "|    11|     0|\n",
      "|   138|     1|\n",
      "|300017|     0|\n",
      "|100021|     1|\n",
      "|    29|     1|\n",
      "|    69|     0|\n",
      "|   112|     1|\n",
      "+------+------+\n",
      "only showing top 20 rows\n",
      "\n"
     ]
    }
   ],
   "source": [
    "# gender\n",
    "def get_gender(df=df_clean):\n",
    "    \"\"\" Get membership duration of users\n",
    "        \n",
    "        INPUTS:\n",
    "        ------------\n",
    "            df - (Spark dataframe) the cleaned Dataframe used for modeling\n",
    "        \n",
    "        OUTPUTS:\n",
    "        ------------\n",
    "            gender - (Spark dataframe) including binary values for gender\n",
    "        \n",
    "    \"\"\"\n",
    "    gender = df_clean.select(['userId', 'gender']).dropDuplicates(['userId']).replace(['F', 'M'], ['0', '1'], 'gender')\n",
    "    gender = gender.withColumn('gender', gender.gender.cast('int'))\n",
    "    \n",
    "   \n",
    "    return gender\n",
    "\n",
    "gender_df = get_gender()\n",
    "gender_df.show()"
   ]
  },
  {
   "cell_type": "markdown",
   "metadata": {},
   "source": [
    "## <a class=\"anchor\" id=\"member_dur\">Membership duration</a>"
   ]
  },
  {
   "cell_type": "code",
   "execution_count": 58,
   "metadata": {},
   "outputs": [
    {
     "name": "stdout",
     "output_type": "stream",
     "text": [
      "+------+-------------------+\n",
      "|userId|membership_duration|\n",
      "+------+-------------------+\n",
      "|100010|  55.64365740740741|\n",
      "|200002|  70.07462962962963|\n",
      "|   125|  71.31688657407408|\n",
      "|   124|  99.99883101851852|\n",
      "|    51|  9.997233796296296|\n",
      "|     7|  72.77818287037037|\n",
      "|    15|  9.859340277777777|\n",
      "|    54|  99.99681712962963|\n",
      "|   155|  9.097268518518518|\n",
      "|100014|  85.08340277777778|\n",
      "|   132|   66.8891087962963|\n",
      "|   154| 7.1978587962962965|\n",
      "|   101|         53.9659375|\n",
      "|    11|  99.68056712962964|\n",
      "|   138|  66.62668981481481|\n",
      "|300017|  74.35851851851852|\n",
      "|100021|  64.73886574074074|\n",
      "|    29| 60.104050925925925|\n",
      "|    69|  71.42444444444445|\n",
      "|   112|  87.46262731481481|\n",
      "+------+-------------------+\n",
      "only showing top 20 rows\n",
      "\n"
     ]
    }
   ],
   "source": [
    "# membership_duration\n",
    "def get_membership_duration(df=df_clean):\n",
    "    \"\"\" Get membership duration of users\n",
    "        \n",
    "        INPUTS:\n",
    "        ------------\n",
    "            df - (Spark dataframe) the cleaned Dataframe used for modeling\n",
    "        \n",
    "        OUTPUTS:\n",
    "        ------------\n",
    "            membership_duration_churn - (Spark dataframe) including churn and a measure of membership duration for each user in days\n",
    "            membership_duration - (Spark dataframe) including a measure of membership duration for each user in days\n",
    "        \n",
    "    \"\"\"\n",
    "    membership_duration= df.select('userId','registration','ts','churn')\n",
    "    membership_duration = membership_duration.withColumn('membership_duration',(get_days(df.ts - df.registration)))\n",
    "    membership_duration_churn = membership_duration.groupBy('userId','churn').agg({'membership_duration':'max'}).withColumnRenamed('max(membership_duration)', 'membership_duration')                                                    \n",
    "    membership_duration = membership_duration.groupBy('userId').agg({'membership_duration':'max'}).withColumnRenamed('max(membership_duration)', 'membership_duration')                                                \n",
    "    \n",
    "    return membership_duration_churn, membership_duration\n",
    "\n",
    "membership_duration_churn, membership_duration = get_membership_duration()\n",
    "membership_duration.show()"
   ]
  },
  {
   "cell_type": "code",
   "execution_count": 59,
   "metadata": {},
   "outputs": [
    {
     "data": {
      "image/png": "[encoded data removed]",
      "text/plain": [
       "<matplotlib.figure.Figure at 0x7fa1fae599b0>"
      ]
     },
     "metadata": {
      "needs_background": "light"
     },
     "output_type": "display_data"
    }
   ],
   "source": [
    "membership_duration_pd = membership_duration_churn.select('userId', 'churn', 'membership_duration').toPandas()\n",
    "membership_duration_pd = membership_duration_pd.astype(np.float)\n",
    "#display(membership_duration_pd)\n",
    "plot_sns_box(x='churn', \n",
    "             y='membership_duration', \n",
    "             data=membership_duration_pd, \n",
    "             title='Membership duration', \n",
    "             xlabel='churn', \n",
    "             ylabel='days', \n",
    "             legend='churn', \n",
    "             figsize=(8,5), \n",
    "             save=False, \n",
    "             hide_xtick=False, \n",
    "             rotation=0, \n",
    "             order=False, \n",
    "             sort_by='', \n",
    "             ascending=False)"
   ]
  },
  {
   "cell_type": "code",
   "execution_count": 60,
   "metadata": {},
   "outputs": [
    {
     "data": {
      "text/markdown": [
       "#### Median membership duration for non-churned users"
      ],
      "text/plain": [
       "<IPython.core.display.Markdown object>"
      ]
     },
     "metadata": {},
     "output_type": "display_data"
    },
    {
     "name": "stdout",
     "output_type": "stream",
     "text": [
      "75.4471064815\n"
     ]
    },
    {
     "data": {
      "text/markdown": [
       "#### Median membership duration for churned users"
      ],
      "text/plain": [
       "<IPython.core.display.Markdown object>"
      ]
     },
     "metadata": {},
     "output_type": "display_data"
    },
    {
     "name": "stdout",
     "output_type": "stream",
     "text": [
      "49.1653530093\n"
     ]
    }
   ],
   "source": [
    "# median for non churned users\n",
    "median_churn_0 = membership_duration_pd['membership_duration'].where(membership_duration_pd.churn==0).median()\n",
    "printmd('#### Median membership duration for non-churned users')\n",
    "print(median_churn_0)\n",
    "\n",
    "# median for  churned users\n",
    "median_churn_1 =membership_duration_pd['membership_duration'].where(membership_duration_pd.churn==1).median()\n",
    "printmd('#### Median membership duration for churned users')\n",
    "print(median_churn_1)"
   ]
  },
  {
   "cell_type": "markdown",
   "metadata": {},
   "source": [
    "#### Result:\n",
    "- User with a longer membership have a lower tendency to churn\n",
    "- A useful feature to predict churn"
   ]
  },
  {
   "cell_type": "code",
   "execution_count": 61,
   "metadata": {},
   "outputs": [
    {
     "data": {
      "image/png": "[encoded data removed]",
      "text/plain": [
       "<matplotlib.figure.Figure at 0x7fa2114b6668>"
      ]
     },
     "metadata": {
      "needs_background": "light"
     },
     "output_type": "display_data"
    }
   ],
   "source": [
    "#display(total_num_songs_played_user_pd)\n",
    "plot_sns_bar(x='userId',\n",
    "             y='membership_duration', \n",
    "             data=membership_duration_pd, \n",
    "             title='Membership duration (all users)', \n",
    "             xlabel='user', \n",
    "             ylabel='days', \n",
    "             save=True, \n",
    "             hide_xtick=True, \n",
    "             order=True, \n",
    "             sort_by='membership_duration', \n",
    "             ascending=False)"
   ]
  },
  {
   "cell_type": "code",
   "execution_count": 62,
   "metadata": {},
   "outputs": [
    {
     "data": {
      "image/png": "[encoded data removed]",
      "text/plain": [
       "<matplotlib.figure.Figure at 0x7fa1fa3eee80>"
      ]
     },
     "metadata": {
      "needs_background": "light"
     },
     "output_type": "display_data"
    }
   ],
   "source": [
    "plot_sns_distplot(data=membership_duration_pd, \n",
    "                  column_to_plot='membership_duration', \n",
    "                  title='Norm. Distribution of membership duration', \n",
    "                  xlabel='days', \n",
    "                  ylabel='norm. densitiy / a.u.', \n",
    "                  save=True, \n",
    "                  bins=10, \n",
    "                  kde=True, \n",
    "                  norm_hist=True)"
   ]
  },
  {
   "cell_type": "markdown",
   "metadata": {},
   "source": [
    "## <a class=\"anchor\" id=\"Total_page_activity_based_on_churn\">Total page activity based on churn</a>"
   ]
  },
  {
   "cell_type": "code",
   "execution_count": 63,
   "metadata": {},
   "outputs": [
    {
     "name": "stdout",
     "output_type": "stream",
     "text": [
      "+--------------------+-----+-----+------------------+\n",
      "|                page|churn|count|  count_percentage|\n",
      "+--------------------+-----+-----+------------------+\n",
      "|           Thumbs Up|    0|  170| 98.26589595375722|\n",
      "|             Upgrade|    0|  131| 75.72254335260115|\n",
      "|              Logout|    0|  167| 96.53179190751445|\n",
      "|             Upgrade|    1|   37| 71.15384615384616|\n",
      "|          Add Friend|    1|   44| 84.61538461538461|\n",
      "|               Error|    1|   22| 42.30769230769231|\n",
      "|                Home|    1|   51| 98.07692307692307|\n",
      "|            NextSong|    0|  173|             100.0|\n",
      "|      Submit Upgrade|    0|  102| 58.95953757225434|\n",
      "|                Help|    0|  149|  86.1271676300578|\n",
      "|     Add to Playlist|    1|   50| 96.15384615384616|\n",
      "|       Save Settings|    0|  102| 58.95953757225434|\n",
      "|       Save Settings|    1|   30|57.692307692307686|\n",
      "|                Home|    0|  172| 99.42196531791907|\n",
      "|     Add to Playlist|    0|  165| 95.37572254335261|\n",
      "|            Settings|    0|  152| 87.86127167630057|\n",
      "|           Thumbs Up|    1|   50| 96.15384615384616|\n",
      "|         Thumbs Down|    0|  155| 89.59537572254335|\n",
      "|         Roll Advert|    1|   50| 96.15384615384616|\n",
      "|               About|    1|   31| 59.61538461538461|\n",
      "|      Submit Upgrade|    1|   29|55.769230769230774|\n",
      "|         Roll Advert|    0|  157|  90.7514450867052|\n",
      "|                Help|    1|   43|  82.6923076923077|\n",
      "|          Add Friend|    0|  162| 93.64161849710982|\n",
      "|         Thumbs Down|    1|   48|  92.3076923076923|\n",
      "|Cancellation Conf...|    1|   52|             100.0|\n",
      "|            NextSong|    1|   52|             100.0|\n",
      "|               Error|    0|   95| 54.91329479768786|\n",
      "|              Cancel|    1|   52|             100.0|\n",
      "|    Submit Downgrade|    1|    9|17.307692307692307|\n",
      "|           Downgrade|    1|   35|  67.3076923076923|\n",
      "|            Settings|    1|   43|  82.6923076923077|\n",
      "|           Downgrade|    0|  119| 68.78612716763006|\n",
      "|               About|    0|  124| 71.67630057803468|\n",
      "|              Logout|    1|   46| 88.46153846153845|\n",
      "|    Submit Downgrade|    0|   40|23.121387283236995|\n",
      "+--------------------+-----+-----+------------------+\n",
      "\n"
     ]
    }
   ],
   "source": [
    "def get_total_page_activity_churn(df=df_clean):\n",
    "    \"\"\" Get total page page activities of users\n",
    "        \n",
    "        INPUTS:\n",
    "        ------------\n",
    "            df - (Spark dataframe) the cleaned Dataframe used for modeling\n",
    "        \n",
    "        OUTPUTS:\n",
    "        ------------\n",
    "            total_page_activity_churn - (Spark dataframe) with a persantage count of page activities for churned and non churned users\n",
    "        \n",
    "    \"\"\"\n",
    "    get_percentage_churn = udf(lambda x,y: x / num_churn * 100 if y==1 else x/ num_non_churn * 100)\n",
    "    total_page_activity_churn = df.dropDuplicates(['userId', 'page']).groupby('page', 'churn').count()\n",
    "    #total_page_activity_churn.show()\n",
    "    total_page_activity_churn = total_page_activity_churn.withColumn('count_percentage', get_percentage_churn(total_page_activity_churn['count'].cast(FloatType()), total_page_activity_churn['churn']))\n",
    "\n",
    "    return total_page_activity_churn\n",
    "\n",
    "total_page_activity_churn = get_total_page_activity_churn()\n",
    "total_page_activity_churn.show(50)"
   ]
  },
  {
   "cell_type": "code",
   "execution_count": 64,
   "metadata": {},
   "outputs": [
    {
     "data": {
      "image/png": "[encoded data removed]",
      "text/plain": [
       "<matplotlib.figure.Figure at 0x7fa1fca005f8>"
      ]
     },
     "metadata": {
      "needs_background": "light"
     },
     "output_type": "display_data"
    }
   ],
   "source": [
    "total_page_activity_churn_pd = total_page_activity_churn.toPandas()\n",
    "total_page_activity_churn_pd['count_percentage'] = total_page_activity_churn_pd['count_percentage'].astype(float)\n",
    "df_activity_2 = total_page_activity_churn_pd\n",
    "index_list = [7,26,6,13,0,16,10,14,4,23,18,21,2,34,17,24,30,32,9,22,15,31,19,33,1,3,11,12,5,27,8,20,29,35,25,28]\n",
    "df_activity_2 = df_activity_2.reindex(index_list)\n",
    "#display(df_activity_2)\n",
    "plot_sns_bar(x='page', \n",
    "             y='count_percentage', \n",
    "             hue='churn',\n",
    "             data=df_activity_2, \n",
    "             title='Web page activities for churned and non churned users', \n",
    "             xlabel='web page ', \n",
    "             ylabel='count / %', \n",
    "             legend='churn', \n",
    "             legend_loc=(0.8,0.7),\n",
    "             figsize=(15,5), \n",
    "             save=False, \n",
    "             hide_xtick=False, \n",
    "             rotation=70, \n",
    "             order=False, \n",
    "             sort_by='', \n",
    "             ascending=False)"
   ]
  },
  {
   "cell_type": "markdown",
   "metadata": {},
   "source": [
    "#### Result:\n",
    "- The trends for some pages are not fully significant from this inspection\n",
    "- However: It seems that the relative count of 'Add Friend', 'Thumbs Up' are interesting features wrt predicting churn. Thes relative count is here higher for non-churned users than for churned users.\n",
    "- In contrast: 'Thumb Down' is higher for churned users than for non churned users. This feature could be also intersting for predicting churn.\n",
    "- It could be, that in larger datasets those trends are more significant than in this small subset."
   ]
  },
  {
   "cell_type": "markdown",
   "metadata": {},
   "source": [
    "## <a class=\"anchor\" id=\"total_number_of_songs_played_by_user\">Total number of songs played by user</a>"
   ]
  },
  {
   "cell_type": "code",
   "execution_count": 65,
   "metadata": {},
   "outputs": [
    {
     "name": "stdout",
     "output_type": "stream",
     "text": [
      "+------+----------------------+\n",
      "|userId|total_num_songs_played|\n",
      "+------+----------------------+\n",
      "|    39|                  8002|\n",
      "|    92|                  5945|\n",
      "|   140|                  5664|\n",
      "|300011|                  4619|\n",
      "|   124|                  4079|\n",
      "|300021|                  3816|\n",
      "|300017|                  3632|\n",
      "|    85|                  3616|\n",
      "|    42|                  3573|\n",
      "|     6|                  3159|\n",
      "|    29|                  3028|\n",
      "|200023|                  2955|\n",
      "|    54|                  2841|\n",
      "|   100|                  2682|\n",
      "|     9|                  2676|\n",
      "|    91|                  2580|\n",
      "|   126|                  2577|\n",
      "|300015|                  2524|\n",
      "|    98|                  2401|\n",
      "|    74|                  2400|\n",
      "+------+----------------------+\n",
      "only showing top 20 rows\n",
      "\n"
     ]
    },
    {
     "data": {
      "text/markdown": [
       "#### Number of events: 225"
      ],
      "text/plain": [
       "<IPython.core.display.Markdown object>"
      ]
     },
     "metadata": {},
     "output_type": "display_data"
    }
   ],
   "source": [
    "def get_total_num_songs_played_user(df=df_clean):\n",
    "    \"\"\" Get total total number of songs played by each user\n",
    "        \n",
    "        INPUTS:\n",
    "        ------------\n",
    "            df - (Spark dataframe) the cleaned Dataframe used for modeling\n",
    "        \n",
    "        OUTPUTS:\n",
    "        ------------\n",
    "            total_num_songs_played_user_churn - (Spark dataframe) including churn and a total total number count of songs played by each user\n",
    "            total_num_songs_played_user - (Spark dataframe) including a total total number count of songs played by each user\n",
    "        \n",
    "    \"\"\"\n",
    "    # mean Number of played songs per session \n",
    "    num_songs_played_user_session = df.select('userId', 'sessionId', 'churn').where(df.page=='NextSong').groupby('userId','sessionId', 'churn').count().sort('userId')\n",
    "    #num_songs_played_user_session.show()\n",
    "    total_num_songs_played_user_churn = num_songs_played_user_session.select('userId', 'churn','count').groupby('userId', 'churn').sum('count').sort(desc('sum(count)')).withColumnRenamed('sum(count)', 'total_num_songs_played') \n",
    "    total_num_songs_played_user = total_num_songs_played_user_churn.drop('churn')\n",
    "    \n",
    "    return total_num_songs_played_user_churn, total_num_songs_played_user\n",
    "\n",
    "total_num_songs_played_user_churn, total_num_songs_played_user = get_total_num_songs_played_user()\n",
    "total_num_songs_played_user.show()\n",
    "printmd('#### Number of events: '+ str(total_num_songs_played_user.count()))"
   ]
  },
  {
   "cell_type": "code",
   "execution_count": 66,
   "metadata": {},
   "outputs": [
    {
     "data": {
      "image/png": "[encoded data removed]",
      "text/plain": [
       "<matplotlib.figure.Figure at 0x7fa1fb59e978>"
      ]
     },
     "metadata": {
      "needs_background": "light"
     },
     "output_type": "display_data"
    }
   ],
   "source": [
    "total_num_songs_played_user_pd = total_num_songs_played_user_churn.toPandas()\n",
    "#display(total_num_songs_played_user_pd.iloc[:20])\n",
    "\n",
    "plot_sns_box(x='churn', \n",
    "             y='total_num_songs_played', \n",
    "             data=total_num_songs_played_user_pd, \n",
    "             title='Total number of songs played', \n",
    "             xlabel='churn', \n",
    "             ylabel='count', \n",
    "             legend='churn', \n",
    "             figsize=(8,5), \n",
    "             save=False, \n",
    "             hide_xtick=False, \n",
    "             rotation=0, \n",
    "             order=False, \n",
    "             sort_by='', \n",
    "             ascending=False)"
   ]
  },
  {
   "cell_type": "markdown",
   "metadata": {},
   "source": [
    "#### Result:\n",
    "- Non churned user play more songs than churned ones\n",
    "- Non churned user seem to be more active on Sparkify, i.e. they seem to listen to songs on Sparkify more frequently\n",
    "- num_songs_played_user_session seems to be a useful feature to predict churn"
   ]
  },
  {
   "cell_type": "code",
   "execution_count": 67,
   "metadata": {},
   "outputs": [
    {
     "data": {
      "image/png": "[encoded data removed]",
      "text/plain": [
       "<matplotlib.figure.Figure at 0x7fa1fc390cc0>"
      ]
     },
     "metadata": {
      "needs_background": "light"
     },
     "output_type": "display_data"
    }
   ],
   "source": [
    "#display(total_num_songs_played_user_pd)\n",
    "plot_sns_bar(x='userId',\n",
    "             y='total_num_songs_played', \n",
    "             data=total_num_songs_played_user_pd, \n",
    "             title='Total number of songs plays per user', \n",
    "             xlabel='user', \n",
    "             ylabel='total_count', \n",
    "             save=True, \n",
    "             hide_xtick=True, \n",
    "             order=True, \n",
    "             sort_by='total_num_songs_played', \n",
    "             ascending=False)"
   ]
  },
  {
   "cell_type": "code",
   "execution_count": 68,
   "metadata": {},
   "outputs": [
    {
     "data": {
      "image/png": "[encoded data removed]",
      "text/plain": [
       "<matplotlib.figure.Figure at 0x7fa1fc88d9e8>"
      ]
     },
     "metadata": {
      "needs_background": "light"
     },
     "output_type": "display_data"
    }
   ],
   "source": [
    "plot_sns_distplot(data=total_num_songs_played_user_pd, \n",
    "                  column_to_plot='total_num_songs_played', \n",
    "                  title='Norm. Distribution of total song plays', \n",
    "                  xlabel='total_count', \n",
    "                  ylabel='norm. densitiy / a.u.', \n",
    "                  save=True, \n",
    "                  bins=20, \n",
    "                  kde=True, \n",
    "                  norm_hist=True)"
   ]
  },
  {
   "cell_type": "markdown",
   "metadata": {},
   "source": [
    "## <a class=\"anchor\" id=\"Average_number_of_songs_played_by_user_per_session\">Average number of songs played per user per session</a>"
   ]
  },
  {
   "cell_type": "code",
   "execution_count": 69,
   "metadata": {},
   "outputs": [
    {
     "name": "stdout",
     "output_type": "stream",
     "text": [
      "+------+---------------------+\n",
      "|userId|avg_num_songs_session|\n",
      "+------+---------------------+\n",
      "|    91|    286.6666666666667|\n",
      "|    19|                216.0|\n",
      "|    51|                211.1|\n",
      "|    62|              198.875|\n",
      "|   101|                179.7|\n",
      "|   115|                173.7|\n",
      "|    23|                164.0|\n",
      "|    41|   157.83333333333334|\n",
      "|   105|                152.8|\n",
      "|    77|   149.57142857142858|\n",
      "|   124|   145.67857142857142|\n",
      "|     6|    143.5909090909091|\n",
      "|    44|                143.0|\n",
      "|    58|   141.16666666666666|\n",
      "|   138|                138.0|\n",
      "|   151|                138.0|\n",
      "|    15|   136.71428571428572|\n",
      "|   155|   136.66666666666666|\n",
      "|    89|                133.4|\n",
      "|    17|   132.42857142857142|\n",
      "+------+---------------------+\n",
      "only showing top 20 rows\n",
      "\n"
     ]
    },
    {
     "data": {
      "text/markdown": [
       "#### Number of events: 225"
      ],
      "text/plain": [
       "<IPython.core.display.Markdown object>"
      ]
     },
     "metadata": {},
     "output_type": "display_data"
    }
   ],
   "source": [
    "def get_avg_num_songs_played_user_session(df=df_clean):\n",
    "    \"\"\" Mean Number of played songs per session per user\n",
    "        \n",
    "        INPUTS:\n",
    "        ------------\n",
    "            df - (Spark dataframe) the cleaned Dataframe used for modeling\n",
    "        \n",
    "        OUTPUTS:\n",
    "        ------------\n",
    "            avg_num_songs_played_user_session_churn - (Spark dataframe) including churn and avg number of songs played by each user per session\n",
    "            avg_num_songs_played_user_session - (Spark dataframe) including avg number of songs played by each user per session\n",
    "        \n",
    "    \"\"\"\n",
    "    num_songs_played_user_session = df.select('userId', 'sessionId', 'churn').where(df.page=='NextSong').groupby('userId', 'sessionId', 'churn').count().sort('userId')\n",
    "    #num_songs_played_user_session.show()\n",
    "    avg_num_songs_played_user_session_churn = num_songs_played_user_session.select('userId', 'churn', 'count').groupby('userId', 'churn').mean('count').sort(desc('avg(count)')).withColumnRenamed('avg(count)', 'avg_num_songs_session') \n",
    "    avg_num_songs_played_user_session = avg_num_songs_played_user_session_churn.drop('churn')\n",
    "    \n",
    "    return avg_num_songs_played_user_session_churn, avg_num_songs_played_user_session\n",
    "\n",
    "avg_num_songs_played_user_session_churn, avg_num_songs_played_user_session = get_avg_num_songs_played_user_session()\n",
    "avg_num_songs_played_user_session.show()\n",
    "\n",
    "printmd('#### Number of events: '+ str(avg_num_songs_played_user_session.count()))"
   ]
  },
  {
   "cell_type": "code",
   "execution_count": 70,
   "metadata": {},
   "outputs": [
    {
     "data": {
      "image/png": "[encoded data removed]",
      "text/plain": [
       "<matplotlib.figure.Figure at 0x7fa1fc7d7f98>"
      ]
     },
     "metadata": {
      "needs_background": "light"
     },
     "output_type": "display_data"
    }
   ],
   "source": [
    "avg_num_songs_played_user_session_pd = avg_num_songs_played_user_session_churn.toPandas()\n",
    "#display(avg_num_songs_played_user_session_pd\n",
    "\n",
    "plot_sns_box(x='churn', \n",
    "             y='avg_num_songs_session', \n",
    "             data=avg_num_songs_played_user_session_pd, \n",
    "             title='Avg number of songs per session', \n",
    "             xlabel='churn', \n",
    "             ylabel='count', \n",
    "             legend='churn', \n",
    "             figsize=(8,5), \n",
    "             save=False, \n",
    "             hide_xtick=False, \n",
    "             rotation=0, \n",
    "             order=False, \n",
    "             sort_by='', \n",
    "             ascending=False)"
   ]
  },
  {
   "cell_type": "markdown",
   "metadata": {},
   "source": [
    "#### Result:\n",
    "- Non churned user play more songs per session than churned ones\n",
    "- Non churned user seem to be more active, they seem to listen to songs on Sparkify more frequently\n",
    "- avg_num_songs_played_user_session seems to be a useful feature to predict churn"
   ]
  },
  {
   "cell_type": "code",
   "execution_count": 71,
   "metadata": {},
   "outputs": [
    {
     "data": {
      "image/png": "[encoded data removed]",
      "text/plain": [
       "<matplotlib.figure.Figure at 0x7fa200939a90>"
      ]
     },
     "metadata": {
      "needs_background": "light"
     },
     "output_type": "display_data"
    }
   ],
   "source": [
    "#display(avg_num_songs_playes_user_session_pd)\n",
    "plot_sns_bar(x='userId',\n",
    "             y='avg_num_songs_session', \n",
    "             data=avg_num_songs_played_user_session_pd, \n",
    "             title='Avg number of songs per session', \n",
    "             xlabel='user', \n",
    "             ylabel='avg_count', \n",
    "             save=True, \n",
    "             hide_xtick=True, \n",
    "             order=True, \n",
    "             sort_by='avg_num_songs_session', \n",
    "             ascending=False)"
   ]
  },
  {
   "cell_type": "code",
   "execution_count": 72,
   "metadata": {},
   "outputs": [
    {
     "data": {
      "image/png": "[encoded data removed]",
      "text/plain": [
       "<matplotlib.figure.Figure at 0x7fa1fb0829b0>"
      ]
     },
     "metadata": {
      "needs_background": "light"
     },
     "output_type": "display_data"
    }
   ],
   "source": [
    "plot_sns_distplot(data=avg_num_songs_played_user_session_pd, \n",
    "                  column_to_plot='avg_num_songs_session', \n",
    "                  title='Norm. Distribution of avg song plays per session', \n",
    "                  xlabel='avg_num_songs_session', \n",
    "                  ylabel='norm. densitiy / a.u.', \n",
    "                  save=True, \n",
    "                  bins=20, \n",
    "                  kde=True, \n",
    "                  norm_hist=True)"
   ]
  },
  {
   "cell_type": "markdown",
   "metadata": {},
   "source": [
    "## <a class=\"anchor\" id=\"total_number_of_thumbs_up_per_user\">Total number of thumbs up per user</a>"
   ]
  },
  {
   "cell_type": "code",
   "execution_count": 73,
   "metadata": {},
   "outputs": [
    {
     "name": "stdout",
     "output_type": "stream",
     "text": [
      "+------+-------------+\n",
      "|userId|num_thumbs_up|\n",
      "+------+-------------+\n",
      "|300011|          437|\n",
      "|    39|          388|\n",
      "|300021|          336|\n",
      "|300017|          303|\n",
      "|    92|          292|\n",
      "|   140|          277|\n",
      "|300015|          193|\n",
      "|    85|          192|\n",
      "|   124|          171|\n",
      "|300023|          169|\n",
      "|    42|          166|\n",
      "|     6|          165|\n",
      "|    54|          163|\n",
      "|200023|          163|\n",
      "|    29|          154|\n",
      "|   100|          148|\n",
      "|300001|          148|\n",
      "|300002|          140|\n",
      "|300025|          139|\n",
      "|   126|          135|\n",
      "+------+-------------+\n",
      "only showing top 20 rows\n",
      "\n"
     ]
    },
    {
     "data": {
      "text/markdown": [
       "#### Number of events: 220"
      ],
      "text/plain": [
       "<IPython.core.display.Markdown object>"
      ]
     },
     "metadata": {},
     "output_type": "display_data"
    }
   ],
   "source": [
    "def get_thumbs_up(df=df_clean):\n",
    "    \"\"\" Number of thumbs up events for each user\n",
    "    \n",
    "        INPUTS:\n",
    "        ------------\n",
    "            df - (Spark dataframe) the cleaned Dataframe used for modeling\n",
    "        \n",
    "        OUTPUTS:\n",
    "        ------------\n",
    "            thumbs_up_churn - (Spark dataframe) including churn and a count of thumbs up events for each user\n",
    "            thumbs_up - (Spark dataframe) including a count of thumbs up events for each user\n",
    "        \n",
    "    \"\"\"\n",
    "\n",
    "    thumbs_up_churn = df.select('userId', 'churn').where(df.page=='Thumbs Up').groupby('userId', 'churn').count().sort(desc('count')).withColumnRenamed('count', 'num_thumbs_up') \n",
    "    thumbs_up = thumbs_up_churn.drop('churn')\n",
    "    \n",
    "    return thumbs_up_churn, thumbs_up\n",
    "\n",
    "thumbs_up_churn, thumbs_up = get_thumbs_up()\n",
    "thumbs_up.show()\n",
    "\n",
    "printmd('#### Number of events: '+ str(thumbs_up.count()))"
   ]
  },
  {
   "cell_type": "code",
   "execution_count": 74,
   "metadata": {},
   "outputs": [
    {
     "data": {
      "image/png": "[encoded data removed]",
      "text/plain": [
       "<matplotlib.figure.Figure at 0x7fa1fafa9400>"
      ]
     },
     "metadata": {
      "needs_background": "light"
     },
     "output_type": "display_data"
    }
   ],
   "source": [
    "thumbs_up_pd = thumbs_up_churn.toPandas()\n",
    "#display(thumbs_up)\n",
    "\n",
    "plot_sns_box(x='churn', \n",
    "             y='num_thumbs_up', \n",
    "             data=thumbs_up_pd, \n",
    "             title='Number of thumbs up per user', \n",
    "             xlabel='churn', \n",
    "             ylabel='count', \n",
    "             legend='churn', \n",
    "             figsize=(8,5), \n",
    "             save=False, \n",
    "             hide_xtick=False, \n",
    "             rotation=0, \n",
    "             order=False, \n",
    "             sort_by='', \n",
    "             ascending=False)"
   ]
  },
  {
   "cell_type": "markdown",
   "metadata": {},
   "source": [
    "#### Result:\n",
    "- There are more 'thumbs up' for non churned user than for churned ones\n",
    "- thumbs_up seems to be a useful feature to predict churn"
   ]
  },
  {
   "cell_type": "code",
   "execution_count": 75,
   "metadata": {},
   "outputs": [
    {
     "data": {
      "text/plain": [
       "\"\\nthumbs_up = spark.sql('''\\n                      SELECT userId, count(*) as num_thumbs_up\\n                      FROM sparkify_sql_view \\n                      where page = 'Thumbs Up' \\n                      group by userId\\n                      ''')\\n\\nthumbs_up.show()\\n\""
      ]
     },
     "execution_count": 75,
     "metadata": {},
     "output_type": "execute_result"
    }
   ],
   "source": [
    "\"\"\"\n",
    "thumbs_up = spark.sql('''\n",
    "                      SELECT userId, count(*) as num_thumbs_up\n",
    "                      FROM sparkify_sql_view \n",
    "                      where page = 'Thumbs Up' \n",
    "                      group by userId\n",
    "                      ''')\n",
    "\n",
    "thumbs_up.show()\n",
    "\"\"\""
   ]
  },
  {
   "cell_type": "code",
   "execution_count": 76,
   "metadata": {},
   "outputs": [
    {
     "data": {
      "image/png": "[encoded data removed]",
      "text/plain": [
       "<matplotlib.figure.Figure at 0x7fa1fb4ecf98>"
      ]
     },
     "metadata": {
      "needs_background": "light"
     },
     "output_type": "display_data"
    }
   ],
   "source": [
    "#display(thumbs_up_pd)\n",
    "\n",
    "plot_sns_bar(x='userId',\n",
    "             y='num_thumbs_up', \n",
    "             data=thumbs_up_pd, \n",
    "             title='Number of thumbs up per user', \n",
    "             xlabel='user', \n",
    "             ylabel='count', \n",
    "             save=True, \n",
    "             hide_xtick=True, \n",
    "             order=True, \n",
    "             sort_by='num_thumbs_up', \n",
    "             ascending=False)"
   ]
  },
  {
   "cell_type": "code",
   "execution_count": 77,
   "metadata": {},
   "outputs": [
    {
     "data": {
      "image/png": "[encoded data removed]",
      "text/plain": [
       "<matplotlib.figure.Figure at 0x7fa1faf312b0>"
      ]
     },
     "metadata": {
      "needs_background": "light"
     },
     "output_type": "display_data"
    }
   ],
   "source": [
    "plot_sns_distplot(data=thumbs_up_pd, \n",
    "                  column_to_plot='num_thumbs_up', \n",
    "                  title='Norm. Distribution of thumbs up count', \n",
    "                  xlabel='count', \n",
    "                  ylabel='norm. densitiy / a.u.', \n",
    "                  save=True, \n",
    "                  bins=20, \n",
    "                  kde=True, \n",
    "                  norm_hist=True)"
   ]
  },
  {
   "cell_type": "markdown",
   "metadata": {},
   "source": [
    "## <a class=\"anchor\" id=\"total_number_of_thumbs_down_per_user\">Total number of thumbs down per user</a>"
   ]
  },
  {
   "cell_type": "code",
   "execution_count": 78,
   "metadata": {},
   "outputs": [
    {
     "name": "stdout",
     "output_type": "stream",
     "text": [
      "+------+---------------+\n",
      "|userId|num_thumbs_down|\n",
      "+------+---------------+\n",
      "|   140|             75|\n",
      "|200023|             73|\n",
      "|    92|             72|\n",
      "|    39|             69|\n",
      "|200004|             54|\n",
      "|200008|             52|\n",
      "|300011|             41|\n",
      "|   124|             41|\n",
      "|    85|             38|\n",
      "|200020|             36|\n",
      "|300021|             36|\n",
      "|200021|             35|\n",
      "|     9|             32|\n",
      "|200009|             32|\n",
      "|     6|             31|\n",
      "|    54|             29|\n",
      "|300017|             28|\n",
      "|200014|             28|\n",
      "|   118|             27|\n",
      "|200025|             27|\n",
      "+------+---------------+\n",
      "only showing top 20 rows\n",
      "\n"
     ]
    },
    {
     "data": {
      "text/markdown": [
       "#### Number of events: 203"
      ],
      "text/plain": [
       "<IPython.core.display.Markdown object>"
      ]
     },
     "metadata": {},
     "output_type": "display_data"
    }
   ],
   "source": [
    "def get_thumbs_down(df=df_clean):\n",
    "    \"\"\" Number of thumbs up events for each user\n",
    "    \n",
    "        INPUTS:\n",
    "        ------------\n",
    "            df - (Spark dataframe) the cleaned Dataframe used for modeling\n",
    "        \n",
    "        OUTPUTS:\n",
    "        ------------\n",
    "            thumbs_down_churn - (Spark dataframe) including churn and a count of thumbs down events for each user\n",
    "            thumbs_down - (Spark dataframe) including a count of thumbs down events for each user\n",
    "        \n",
    "    \"\"\"\n",
    "    thumbs_down_churn = df.select('userId', 'churn').where(df.page=='Thumbs Down').groupby('userId', 'churn').count().sort(desc('count')).withColumnRenamed('count', 'num_thumbs_down')\n",
    "    thumbs_down = thumbs_down_churn.drop('churn')\n",
    "    \n",
    "    return thumbs_down_churn, thumbs_down\n",
    "\n",
    "thumbs_down_churn, thumbs_down = get_thumbs_down()    \n",
    "thumbs_down.show()\n",
    "\n",
    "printmd('#### Number of events: '+ str(thumbs_down.count()))"
   ]
  },
  {
   "cell_type": "code",
   "execution_count": 79,
   "metadata": {},
   "outputs": [
    {
     "data": {
      "image/png": "[encoded data removed]",
      "text/plain": [
       "<matplotlib.figure.Figure at 0x7fa1f93398d0>"
      ]
     },
     "metadata": {
      "needs_background": "light"
     },
     "output_type": "display_data"
    }
   ],
   "source": [
    "thumbs_down_pd = thumbs_down_churn.toPandas()\n",
    "#display(thumbs_down)\n",
    "\n",
    "plot_sns_box(x='churn', \n",
    "             y='num_thumbs_down', \n",
    "             data=thumbs_down_pd, \n",
    "             title='Number of thumbs down per user', \n",
    "             xlabel='churn', \n",
    "             ylabel='count', \n",
    "             legend='churn', \n",
    "             figsize=(8,5), \n",
    "             save=False, \n",
    "             hide_xtick=False, \n",
    "             rotation=0, \n",
    "             order=False, \n",
    "             sort_by='', \n",
    "             ascending=False)"
   ]
  },
  {
   "cell_type": "markdown",
   "metadata": {},
   "source": [
    "#### Result:\n",
    "- There are also slightly more 'thumbs down' for non churned user than for churned ones\n",
    "- The trend of thumbs_down as a useful feature to predict churn is not clear at the moment"
   ]
  },
  {
   "cell_type": "code",
   "execution_count": 80,
   "metadata": {},
   "outputs": [
    {
     "data": {
      "text/plain": [
       "'\\n# SQL view \\ndf.createOrReplaceTempView(\"sparkify_sql_view\")\\nthumbs_down = spark.sql(\\'\\'\\'\\n                        SELECT userId, count(*) as num_thumbs_down \\n                        FROM sparkify_sql_view \\n                        where page = \\'Thumbs Down\\' \\n                        group by userId\\n                        \\'\\'\\')\\n\\nthumbs_down.show()\\n'"
      ]
     },
     "execution_count": 80,
     "metadata": {},
     "output_type": "execute_result"
    }
   ],
   "source": [
    "\"\"\"\n",
    "# SQL view \n",
    "df.createOrReplaceTempView(\"sparkify_sql_view\")\n",
    "thumbs_down = spark.sql('''\n",
    "                        SELECT userId, count(*) as num_thumbs_down \n",
    "                        FROM sparkify_sql_view \n",
    "                        where page = 'Thumbs Down' \n",
    "                        group by userId\n",
    "                        ''')\n",
    "\n",
    "thumbs_down.show()\n",
    "\"\"\""
   ]
  },
  {
   "cell_type": "code",
   "execution_count": 81,
   "metadata": {},
   "outputs": [
    {
     "data": {
      "image/png": "[encoded data removed]",
      "text/plain": [
       "<matplotlib.figure.Figure at 0x7fa1fd2656a0>"
      ]
     },
     "metadata": {
      "needs_background": "light"
     },
     "output_type": "display_data"
    }
   ],
   "source": [
    "plot_sns_bar(x='userId',\n",
    "             y='num_thumbs_down', \n",
    "             data=thumbs_down_pd, \n",
    "             title='Number of thumbs down per user', \n",
    "             xlabel='user', \n",
    "             ylabel='count', \n",
    "             save=True, \n",
    "             hide_xtick=True, \n",
    "             order=True, \n",
    "             sort_by='num_thumbs_down', \n",
    "             ascending=False)"
   ]
  },
  {
   "cell_type": "code",
   "execution_count": 82,
   "metadata": {},
   "outputs": [
    {
     "data": {
      "image/png": "[encoded data removed]",
      "text/plain": [
       "<matplotlib.figure.Figure at 0x7fa1fa8dae80>"
      ]
     },
     "metadata": {
      "needs_background": "light"
     },
     "output_type": "display_data"
    }
   ],
   "source": [
    "plot_sns_distplot(data=thumbs_down_pd, \n",
    "                  column_to_plot='num_thumbs_down', \n",
    "                  title='Norm. Distribution of thumbs down count', \n",
    "                  xlabel='count', \n",
    "                  ylabel='norm. densitiy / a.u.', \n",
    "                  save=True, \n",
    "                  bins=20, \n",
    "                  kde=True, \n",
    "                  norm_hist=True)"
   ]
  },
  {
   "cell_type": "markdown",
   "metadata": {},
   "source": [
    "## <a class=\"anchor\" id=\"Total_number_of_errors_per_user\">Total number of errors per user</a>"
   ]
  },
  {
   "cell_type": "code",
   "execution_count": 83,
   "metadata": {},
   "outputs": [
    {
     "name": "stdout",
     "output_type": "stream",
     "text": [
      "+------+----------+\n",
      "|userId|num_errors|\n",
      "+------+----------+\n",
      "|    39|         7|\n",
      "|    42|         7|\n",
      "|   140|         7|\n",
      "|   124|         6|\n",
      "|   142|         5|\n",
      "|300017|         5|\n",
      "|    95|         5|\n",
      "|300021|         5|\n",
      "|     4|         4|\n",
      "|   131|         4|\n",
      "|    49|         4|\n",
      "|     6|         4|\n",
      "|300015|         4|\n",
      "|    69|         4|\n",
      "|    59|         4|\n",
      "|    62|         4|\n",
      "|300023|         3|\n",
      "|   100|         3|\n",
      "|   155|         3|\n",
      "|300008|         3|\n",
      "+------+----------+\n",
      "only showing top 20 rows\n",
      "\n"
     ]
    },
    {
     "data": {
      "text/markdown": [
       "#### Number of events: 117"
      ],
      "text/plain": [
       "<IPython.core.display.Markdown object>"
      ]
     },
     "metadata": {},
     "output_type": "display_data"
    }
   ],
   "source": [
    "def get_error(df=df_clean):\n",
    "    \"\"\" Number of error events for each user\n",
    "    \n",
    "        INPUTS:\n",
    "        ------------\n",
    "            df - (Spark dataframe) the cleaned Dataframe used for modeling\n",
    "        \n",
    "        OUTPUTS:\n",
    "        ------------\n",
    "            error_churn - (Spark dataframe) including churn and count of error events for each user\n",
    "            error - (Spark dataframe) including count of error events for each user\n",
    "        \n",
    "    \"\"\"\n",
    "    error_churn = df.select('userId', 'churn').where(df.page=='Error').groupby('userId', 'churn').count().sort(desc('count')).withColumnRenamed('count', 'num_errors')\n",
    "    error = error_churn.drop('churn')\n",
    "    \n",
    "    return error_churn, error\n",
    "\n",
    "error_churn, error = get_error()   \n",
    "error.show()\n",
    "\n",
    "printmd('#### Number of events: '+ str(error.count()))"
   ]
  },
  {
   "cell_type": "code",
   "execution_count": 84,
   "metadata": {},
   "outputs": [
    {
     "data": {
      "image/png": "[encoded data removed]",
      "text/plain": [
       "<matplotlib.figure.Figure at 0x7fa1fddd22e8>"
      ]
     },
     "metadata": {
      "needs_background": "light"
     },
     "output_type": "display_data"
    }
   ],
   "source": [
    "error_pd = error_churn.toPandas()\n",
    "\n",
    "plot_sns_box(x='churn', \n",
    "             y='num_errors', \n",
    "             data=error_pd, \n",
    "             title='Number of errors per user', \n",
    "             xlabel='churn', \n",
    "             ylabel='count', \n",
    "             legend='churn', \n",
    "             figsize=(8,5), \n",
    "             save=False, \n",
    "             hide_xtick=False, \n",
    "             rotation=0, \n",
    "             order=False, \n",
    "             sort_by='', \n",
    "             ascending=False)"
   ]
  },
  {
   "cell_type": "markdown",
   "metadata": {},
   "source": [
    "#### Result:\n",
    "- The error trend does not seem to influence churn dramatically.\n",
    "- It seems that errors are forgiven. \n",
    "- Maybe the reason for that could be, that the amount of errors is small. Median < 2.\n",
    "- A there is no significant trend this feature will not be chosen to predict churn"
   ]
  },
  {
   "cell_type": "code",
   "execution_count": 85,
   "metadata": {},
   "outputs": [
    {
     "data": {
      "image/png": "[encoded data removed]",
      "text/plain": [
       "<matplotlib.figure.Figure at 0x7fa1fe1c1048>"
      ]
     },
     "metadata": {
      "needs_background": "light"
     },
     "output_type": "display_data"
    }
   ],
   "source": [
    "#display(thumbs_up_pd)\n",
    "\n",
    "plot_sns_bar(x='userId',\n",
    "             y='num_errors', \n",
    "             data=error_pd, \n",
    "             title='Number of errors for users', \n",
    "             xlabel='user', \n",
    "             ylabel='count', \n",
    "             save=True, \n",
    "             hide_xtick=True, \n",
    "             order=True, \n",
    "             sort_by='num_errors', \n",
    "             ascending=False)"
   ]
  },
  {
   "cell_type": "code",
   "execution_count": 86,
   "metadata": {},
   "outputs": [
    {
     "data": {
      "image/png": "[encoded data removed]",
      "text/plain": [
       "<matplotlib.figure.Figure at 0x7fa1fafef6a0>"
      ]
     },
     "metadata": {
      "needs_background": "light"
     },
     "output_type": "display_data"
    }
   ],
   "source": [
    "plot_sns_distplot(data=error_pd, \n",
    "                  column_to_plot='num_errors', \n",
    "                  title='Norm. Distribution of error count', \n",
    "                  xlabel='count', \n",
    "                  ylabel='norm. densitiy / a.u.', \n",
    "                  save=True, \n",
    "                  bins=8, \n",
    "                  kde=True, \n",
    "                  norm_hist=True)"
   ]
  },
  {
   "cell_type": "markdown",
   "metadata": {},
   "source": [
    "## <a class=\"anchor\" id=\"Total_number_of_Add_to_playlist_clicks_per_user\">Total number of \"Add to playlist\" clicks per user</a>"
   ]
  },
  {
   "cell_type": "code",
   "execution_count": 87,
   "metadata": {},
   "outputs": [
    {
     "name": "stdout",
     "output_type": "stream",
     "text": [
      "+------+----------------+\n",
      "|userId|num_add_playlist|\n",
      "+------+----------------+\n",
      "|    39|             240|\n",
      "|    92|             181|\n",
      "|   140|             148|\n",
      "|300011|             146|\n",
      "|   124|             118|\n",
      "|300017|             113|\n",
      "|    85|             108|\n",
      "|300021|             107|\n",
      "|    42|             104|\n",
      "|    29|              89|\n",
      "|     6|              83|\n",
      "|    74|              80|\n",
      "|     9|              77|\n",
      "|200023|              73|\n",
      "|   126|              72|\n",
      "|    54|              72|\n",
      "|300001|              69|\n",
      "|    65|              68|\n",
      "|200004|              67|\n",
      "|   138|              67|\n",
      "+------+----------------+\n",
      "only showing top 20 rows\n",
      "\n"
     ]
    },
    {
     "data": {
      "text/markdown": [
       "#### Number of events: 215"
      ],
      "text/plain": [
       "<IPython.core.display.Markdown object>"
      ]
     },
     "metadata": {},
     "output_type": "display_data"
    }
   ],
   "source": [
    "def get_add_to_playlist(df=df_clean):\n",
    "    \"\"\" Number of add_to_playlist events for each user\n",
    "    \n",
    "        INPUTS:\n",
    "        ------------\n",
    "            df - (Spark dataframe) the cleaned Dataframe used for modeling\n",
    "        \n",
    "        OUTPUTS:\n",
    "        ------------\n",
    "            add_to_playlist_churn - (Spark dataframe) including churn and count of add_to_playlist events for each user\n",
    "            add_to_playlist - (Spark dataframe) including count of add_to_playlist events for each user\n",
    "        \n",
    "    \"\"\"\n",
    "    add_to_playlist_churn = df.select('userId', 'churn').where(df.page=='Add to Playlist').groupby('userId', 'churn').count().sort(desc('count')).withColumnRenamed('count', 'num_add_playlist')\n",
    "    add_to_playlist = add_to_playlist_churn.drop('churn')\n",
    "    \n",
    "    return add_to_playlist_churn, add_to_playlist\n",
    "\n",
    "add_to_playlist_churn, add_to_playlist = get_add_to_playlist()\n",
    "add_to_playlist.show()\n",
    "\n",
    "printmd('#### Number of events: '+ str(add_to_playlist.count()))"
   ]
  },
  {
   "cell_type": "code",
   "execution_count": 88,
   "metadata": {},
   "outputs": [
    {
     "data": {
      "image/png": "[encoded data removed]",
      "text/plain": [
       "<matplotlib.figure.Figure at 0x7fa1fb4da048>"
      ]
     },
     "metadata": {
      "needs_background": "light"
     },
     "output_type": "display_data"
    }
   ],
   "source": [
    "add_to_playlist_pd = add_to_playlist_churn.toPandas()\n",
    "\n",
    "plot_sns_box(x='churn', \n",
    "             y='num_add_playlist', \n",
    "             data=add_to_playlist_pd, \n",
    "             title='Number of \"Add to Playlist\" clicks per users', \n",
    "             xlabel='churn', \n",
    "             ylabel='count', \n",
    "             legend='churn', \n",
    "             figsize=(8,5), \n",
    "             save=False, \n",
    "             hide_xtick=False, \n",
    "             rotation=0, \n",
    "             order=False, \n",
    "             sort_by='', \n",
    "             ascending=False)"
   ]
  },
  {
   "cell_type": "markdown",
   "metadata": {},
   "source": [
    "#### Result:\n",
    "- There are more 'Add to Playlist' events for non churned user than for churned ones\n",
    "- add_to_playlist seems to be a useful feature to predict churn"
   ]
  },
  {
   "cell_type": "code",
   "execution_count": 89,
   "metadata": {},
   "outputs": [
    {
     "data": {
      "image/png": "[encoded data removed]",
      "text/plain": [
       "<matplotlib.figure.Figure at 0x7fa1fbac35c0>"
      ]
     },
     "metadata": {
      "needs_background": "light"
     },
     "output_type": "display_data"
    }
   ],
   "source": [
    "plot_sns_bar(x='userId',\n",
    "             y='num_add_playlist', \n",
    "             data=add_to_playlist_pd, \n",
    "             title='Number of \"Add to Playlist\" clicks per users', \n",
    "             xlabel='user', \n",
    "             ylabel='count', \n",
    "             save=True, \n",
    "             hide_xtick=True, \n",
    "             order=True, \n",
    "             sort_by='num_add_playlist', \n",
    "             ascending=False)"
   ]
  },
  {
   "cell_type": "code",
   "execution_count": 90,
   "metadata": {},
   "outputs": [
    {
     "data": {
      "image/png": "[encoded data removed]",
      "text/plain": [
       "<matplotlib.figure.Figure at 0x7fa1fa8a2208>"
      ]
     },
     "metadata": {
      "needs_background": "light"
     },
     "output_type": "display_data"
    }
   ],
   "source": [
    "plot_sns_distplot(data=add_to_playlist_pd, \n",
    "                  column_to_plot='num_add_playlist', \n",
    "                  title='Norm. Distribution of \"Add to Playlist\" count', \n",
    "                  xlabel='count', \n",
    "                  ylabel='norm. densitiy / a.u.', \n",
    "                  save=True, \n",
    "                  bins=20, \n",
    "                  kde=True, \n",
    "                  norm_hist=True)"
   ]
  },
  {
   "cell_type": "markdown",
   "metadata": {},
   "source": [
    "## <a class=\"anchor\" id=\"Total_number_of_Add_Friend_clicks_per_user\">Total number of \"Add Friend\" clicks per user</a>"
   ]
  },
  {
   "cell_type": "code",
   "execution_count": 91,
   "metadata": {},
   "outputs": [
    {
     "name": "stdout",
     "output_type": "stream",
     "text": [
      "+------+---------------+\n",
      "|userId|num_add_friends|\n",
      "+------+---------------+\n",
      "|   140|            143|\n",
      "|    39|            122|\n",
      "|    92|            110|\n",
      "|300011|             93|\n",
      "|300021|             89|\n",
      "|   124|             74|\n",
      "|200023|             66|\n",
      "|300017|             63|\n",
      "|   136|             60|\n",
      "|    85|             58|\n",
      "|    65|             53|\n",
      "|   118|             52|\n",
      "|    42|             52|\n",
      "|   100|             49|\n",
      "|    29|             47|\n",
      "|300015|             47|\n",
      "|     4|             46|\n",
      "|    98|             45|\n",
      "|    74|             43|\n",
      "|    91|             42|\n",
      "+------+---------------+\n",
      "only showing top 20 rows\n",
      "\n"
     ]
    },
    {
     "data": {
      "text/markdown": [
       "#### Number of events: 206"
      ],
      "text/plain": [
       "<IPython.core.display.Markdown object>"
      ]
     },
     "metadata": {},
     "output_type": "display_data"
    }
   ],
   "source": [
    "def get_add_friend(df=df_clean):\n",
    "    \"\"\" Number of add_friend events for each user\n",
    "    \n",
    "        INPUTS:\n",
    "        ------------\n",
    "            df - (Spark dataframe) the cleaned Dataframe used for modeling\n",
    "        \n",
    "        OUTPUTS:\n",
    "        ------------\n",
    "            add_friend - (Spark dataframe) with count of add_friend events for each user\n",
    "        \n",
    "    \"\"\"\n",
    "    add_friend_churn = df.select('userId', 'churn').where(df.page=='Add Friend').groupby('userId', 'churn').count().sort(desc('count')).withColumnRenamed('count', 'num_add_friends')\n",
    "    add_friend = add_friend_churn.drop('churn')\n",
    "    \n",
    "    return add_friend_churn, add_friend\n",
    "\n",
    "add_friend_churn, add_friend = get_add_friend()\n",
    "add_friend.show()\n",
    "\n",
    "printmd('#### Number of events: '+ str(add_friend.count()))"
   ]
  },
  {
   "cell_type": "code",
   "execution_count": 92,
   "metadata": {},
   "outputs": [
    {
     "data": {
      "image/png": "[encoded data removed]",
      "text/plain": [
       "<matplotlib.figure.Figure at 0x7fa1fbae8208>"
      ]
     },
     "metadata": {
      "needs_background": "light"
     },
     "output_type": "display_data"
    }
   ],
   "source": [
    "add_friend_pd = add_friend_churn.toPandas()\n",
    "\n",
    "plot_sns_box(x='churn', \n",
    "             y='num_add_friends', \n",
    "             data=add_friend_pd, \n",
    "             title='Number of \"Add Friend\" clicks per users', \n",
    "             xlabel='churn', \n",
    "             ylabel='count', \n",
    "             legend='churn', \n",
    "             figsize=(8,5), \n",
    "             save=False, \n",
    "             hide_xtick=False, \n",
    "             rotation=0, \n",
    "             order=False, \n",
    "             sort_by='', \n",
    "             ascending=False)"
   ]
  },
  {
   "cell_type": "markdown",
   "metadata": {},
   "source": [
    "#### Result:\n",
    "- There are more 'Add Friend' events for non churned user than for churned ones\n",
    "- add_friend seems to be a useful feature to predict churn"
   ]
  },
  {
   "cell_type": "code",
   "execution_count": 93,
   "metadata": {},
   "outputs": [
    {
     "data": {
      "image/png": "[encoded data removed]",
      "text/plain": [
       "<matplotlib.figure.Figure at 0x7fa1fd450320>"
      ]
     },
     "metadata": {
      "needs_background": "light"
     },
     "output_type": "display_data"
    }
   ],
   "source": [
    "#display(add_friend_pd)\n",
    "\n",
    "plot_sns_bar(x='userId',\n",
    "             y='num_add_friends', \n",
    "             data=add_friend_pd, \n",
    "             title='Number of \"Add Friend\" clicks per users', \n",
    "             xlabel='user', \n",
    "             ylabel='count', \n",
    "             save=True, \n",
    "             hide_xtick=True, \n",
    "             order=True, \n",
    "             sort_by='num_add_friends', \n",
    "             ascending=False)"
   ]
  },
  {
   "cell_type": "code",
   "execution_count": 94,
   "metadata": {},
   "outputs": [
    {
     "data": {
      "image/png": "[encoded data removed]",
      "text/plain": [
       "<matplotlib.figure.Figure at 0x7fa2077f84e0>"
      ]
     },
     "metadata": {
      "needs_background": "light"
     },
     "output_type": "display_data"
    }
   ],
   "source": [
    "plot_sns_distplot(data=add_friend_pd, \n",
    "                  column_to_plot='num_add_friends', \n",
    "                  title='Norm. Distribution of \"Add Friend\" count', \n",
    "                  xlabel='count', \n",
    "                  ylabel='norm. densitiy / a.u.', \n",
    "                  save=True, \n",
    "                  bins=20, \n",
    "                  kde=True, \n",
    "                  norm_hist=True)"
   ]
  },
  {
   "cell_type": "markdown",
   "metadata": {},
   "source": [
    "## <a class=\"anchor\" id=\"feature_report\">Feature report</a>"
   ]
  },
  {
   "cell_type": "code",
   "execution_count": 95,
   "metadata": {},
   "outputs": [
    {
     "data": {
      "text/plain": [
       "{'gender': (0.0, 1.0, 225),\n",
       " 'membership_duration': (0, 99, 225),\n",
       " 'total_num_songs_played': (3.0, 8002.0, 225),\n",
       " 'avg_num_songs_played_user_session': (3.0, 286.6666564941406, 225),\n",
       " 'thumbs_up': (1.0, 437.0, 220),\n",
       " 'thumbs_down': (1.0, 75.0, 203),\n",
       " 'add_to_playlist': (1.0, 240.0, 215),\n",
       " 'add_friend': (1.0, 143.0, 206)}"
      ]
     },
     "execution_count": 95,
     "metadata": {},
     "output_type": "execute_result"
    }
   ],
   "source": [
    "def get_feature_report(df, df_var_name, column_name, cast_type='int'):\n",
    "    feature_dict = {}\n",
    "    if cast_type == 'int':\n",
    "        min_val = df.agg(min(column_name).cast(FloatType())).collect()[0][0]\n",
    "        max_val = df.agg(max(column_name).cast(FloatType())).collect()[0][0]\n",
    "        count_val = df.count()\n",
    "        feature_dict[df_var_name] = (min_val, max_val, count_val)\n",
    "    \n",
    "    if cast_type == 'float':\n",
    "        min_val = df.agg(min(column_name).cast(IntegerType())).collect()[0][0]\n",
    "        max_val = df.agg(max(column_name).cast(IntegerType())).collect()[0][0]\n",
    "        count_val = df.count()\n",
    "        feature_dict[df_var_name] = (min_val, max_val, count_val)\n",
    "    \n",
    "    return feature_dict\n",
    "\n",
    "gender = get_gender(df_clean)\n",
    "membership_duration, _= get_membership_duration(df_clean)\n",
    "total_num_songs_played_user, _ = get_total_num_songs_played_user(df_clean)\n",
    "avg_num_songs_played_user_session, _ = get_avg_num_songs_played_user_session(df_clean)\n",
    "thumbs_up, _ = get_thumbs_up(df_clean)\n",
    "thumbs_down, _ = get_thumbs_down()\n",
    "add_to_playlist, _ = get_add_to_playlist(df_clean)\n",
    "add_friend, _ = get_add_friend(df_clean)\n",
    "    \n",
    "\n",
    "feature_report_list = [ (gender, 'gender', 'gender', 'int'),\n",
    "                        (membership_duration, 'membership_duration', 'membership_duration', 'float'),\n",
    "                        (total_num_songs_played_user, 'total_num_songs_played', 'total_num_songs_played', 'int'),\n",
    "                        (avg_num_songs_played_user_session, 'avg_num_songs_played_user_session', 'avg_num_songs_session', 'int'),\n",
    "                        (thumbs_up, 'thumbs_up', 'num_thumbs_up', 'int'),\n",
    "                        (thumbs_down, 'thumbs_down', 'num_thumbs_down', 'int'),\n",
    "                        (add_to_playlist, 'add_to_playlist', 'num_add_playlist', 'int'),\n",
    "                        (add_friend, 'add_friend', 'num_add_friends', 'int')]\n",
    "\n",
    "\n",
    "feature_description = {}\n",
    "for df, df_var_name, column_name, cast_type in feature_report_list:\n",
    "    feature_description.update(get_feature_report(df, df_var_name, column_name, cast_type))\n",
    "feature_description"
   ]
  },
  {
   "cell_type": "code",
   "execution_count": 96,
   "metadata": {},
   "outputs": [
    {
     "data": {
      "text/html": [
       "<div>\n",
       "<style scoped>\n",
       "    .dataframe tbody tr th:only-of-type {\n",
       "        vertical-align: middle;\n",
       "    }\n",
       "\n",
       "    .dataframe tbody tr th {\n",
       "        vertical-align: top;\n",
       "    }\n",
       "\n",
       "    .dataframe thead th {\n",
       "        text-align: right;\n",
       "    }\n",
       "</style>\n",
       "<table border=\"1\" class=\"dataframe\">\n",
       "  <thead>\n",
       "    <tr style=\"text-align: right;\">\n",
       "      <th></th>\n",
       "      <th>min</th>\n",
       "      <th>max</th>\n",
       "      <th>count</th>\n",
       "    </tr>\n",
       "  </thead>\n",
       "  <tbody>\n",
       "    <tr>\n",
       "      <th>gender</th>\n",
       "      <td>0.0</td>\n",
       "      <td>1.000000</td>\n",
       "      <td>225.0</td>\n",
       "    </tr>\n",
       "    <tr>\n",
       "      <th>membership_duration</th>\n",
       "      <td>0.0</td>\n",
       "      <td>99.000000</td>\n",
       "      <td>225.0</td>\n",
       "    </tr>\n",
       "    <tr>\n",
       "      <th>total_num_songs_played</th>\n",
       "      <td>3.0</td>\n",
       "      <td>8002.000000</td>\n",
       "      <td>225.0</td>\n",
       "    </tr>\n",
       "    <tr>\n",
       "      <th>avg_num_songs_played_user_session</th>\n",
       "      <td>3.0</td>\n",
       "      <td>286.666656</td>\n",
       "      <td>225.0</td>\n",
       "    </tr>\n",
       "    <tr>\n",
       "      <th>thumbs_up</th>\n",
       "      <td>1.0</td>\n",
       "      <td>437.000000</td>\n",
       "      <td>220.0</td>\n",
       "    </tr>\n",
       "    <tr>\n",
       "      <th>thumbs_down</th>\n",
       "      <td>1.0</td>\n",
       "      <td>75.000000</td>\n",
       "      <td>203.0</td>\n",
       "    </tr>\n",
       "    <tr>\n",
       "      <th>add_to_playlist</th>\n",
       "      <td>1.0</td>\n",
       "      <td>240.000000</td>\n",
       "      <td>215.0</td>\n",
       "    </tr>\n",
       "    <tr>\n",
       "      <th>add_friend</th>\n",
       "      <td>1.0</td>\n",
       "      <td>143.000000</td>\n",
       "      <td>206.0</td>\n",
       "    </tr>\n",
       "  </tbody>\n",
       "</table>\n",
       "</div>"
      ],
      "text/plain": [
       "                                   min          max  count\n",
       "gender                             0.0     1.000000  225.0\n",
       "membership_duration                0.0    99.000000  225.0\n",
       "total_num_songs_played             3.0  8002.000000  225.0\n",
       "avg_num_songs_played_user_session  3.0   286.666656  225.0\n",
       "thumbs_up                          1.0   437.000000  220.0\n",
       "thumbs_down                        1.0    75.000000  203.0\n",
       "add_to_playlist                    1.0   240.000000  215.0\n",
       "add_friend                         1.0   143.000000  206.0"
      ]
     },
     "execution_count": 96,
     "metadata": {},
     "output_type": "execute_result"
    }
   ],
   "source": [
    "pd.DataFrame(feature_description , index=['min', 'max', 'count']).T"
   ]
  },
  {
   "cell_type": "markdown",
   "metadata": {},
   "source": [
    "# <a class=\"anchor\" id=\"Feature_Engineering\">Feature Engineering</a>\n",
    "Once you've familiarized yourself with the data, build out the features you find promising to train your model on. To work with the full dataset, you can follow the following steps.\n",
    "- Write a script to extract the necessary features from the smaller subset of data\n",
    "- Ensure that your script is scalable, using the best practices discussed in Lesson 3\n",
    "- Try your script on the full data set, debugging your script if necessary\n",
    "\n",
    "If you are working in the classroom workspace, you can just extract features based on the small subset of data contained here. Be sure to transfer over this work to the larger dataset when you work on your Spark cluster."
   ]
  },
  {
   "cell_type": "markdown",
   "metadata": {},
   "source": [
    "### Result:\n",
    "- features need to be scaled for modeling due to the spread of min/max values\n",
    "- some features have nan values at the moment. Those NaNs must be handled as 0"
   ]
  },
  {
   "cell_type": "code",
   "execution_count": 97,
   "metadata": {},
   "outputs": [],
   "source": [
    "def create_dataframe_for_modeling(path_to_df=\"mini_sparkify_event_data.json\"):\n",
    "    \"\"\" This function will create labels and features for modeling\n",
    "        - Read the dataframe from a json file\n",
    "        - Clean the Dataframe\n",
    "        - Define churn, create a label column\n",
    "        - Create feature columns\n",
    "        - Remove unnecassary columns\n",
    "        - Fill NaN with 0\n",
    "        - Cast features to float\n",
    "        - Rename churn with label\n",
    "        - Return model dataframe\n",
    "    \n",
    "        INPUTS:\n",
    "        ------------\n",
    "            path_to_df - (string) the path to the csv file containing the data\n",
    "            \n",
    "        OUTPUTS:\n",
    "        ------------\n",
    "            df_model - (Spark dataframe) this is the DataFrame used to predict churn \n",
    "         \n",
    "    \"\"\"\n",
    "    \n",
    "    # Create a Spark session\n",
    "    spark = SparkSession \\\n",
    "        .builder \\\n",
    "        .appName(\"Wrangling Data\") \\\n",
    "        .getOrCreate()\n",
    "    \n",
    "    \"\"\"\n",
    "    Read the dataframe\n",
    "    \"\"\"\n",
    "    df = spark.read.json(path_to_df)\n",
    "    \n",
    "    \n",
    "    \"\"\"\n",
    "    Clean the dataframe \n",
    "    \"\"\"\n",
    "    df_clean = df.dropna(how = \"any\", subset = [\"userId\", \"sessionId\"])\n",
    "    df_clean = df_clean.filter(df_clean[\"userId\"] != \"\")\n",
    "    \n",
    "    \"\"\"\n",
    "    Define churn, create label column\n",
    "    \"\"\"\n",
    "    # Create a churn column - get churn for each user --> churn=1 (user churned), churn=0 (user not churned) \n",
    "    flag_churn_event = udf(lambda x: 1 if x == \"Cancellation Confirmation\" else 0, IntegerType())\n",
    "    df_clean = df_clean.withColumn('churn_event', flag_churn_event('page'))\n",
    "    df_clean = df_clean.withColumn('churn', max('churn_event').over(Window.partitionBy('userId')))\n",
    "    \n",
    "    # The label baseline dataframe for modeling \n",
    "    churn = df_clean.select(['userId','churn']).dropDuplicates(['userId'])\n",
    "    df_churn = churn.withColumn('churn', churn.churn.cast('int'))\n",
    "    \n",
    "    \n",
    "    \"\"\"\n",
    "    Create feature columns\n",
    "    \"\"\"\n",
    "    # Join features\n",
    "    gender = get_gender(df_clean)\n",
    "    _, membership_duration = get_membership_duration(df_clean)\n",
    "    _, total_num_songs_played_user = get_total_num_songs_played_user(df_clean)\n",
    "    _, avg_num_songs_played_user_session = get_avg_num_songs_played_user_session(df_clean)\n",
    "    _, thumbs_up = get_thumbs_up(df_clean)\n",
    "    _, thumbs_down = get_thumbs_down()\n",
    "    _, add_to_playlist = get_add_to_playlist(df_clean)\n",
    "    _, add_friend = get_add_friend(df_clean)\n",
    "    \n",
    "    feature_list = [gender,\n",
    "                    membership_duration,\n",
    "                    total_num_songs_played_user, \n",
    "                    avg_num_songs_played_user_session, \n",
    "                    thumbs_up,\n",
    "                    thumbs_down, \n",
    "                    add_to_playlist, \n",
    "                    add_friend\n",
    "                    ]\n",
    "    \n",
    "    \n",
    "    # generate the data set for the model \n",
    "    df_model = df_churn\n",
    "    df_model.persist()\n",
    "\n",
    "    for i, features in enumerate(feature_list):\n",
    "        df_model = df_model.join(features,'userId','outer')\n",
    "        \n",
    "        \n",
    "    \"\"\"\n",
    "    Remove unnecassary columns\n",
    "    \"\"\"\n",
    "    # drop userID\n",
    "    df_model = df_model.drop('userId') \n",
    "    \n",
    "    \n",
    "    \"\"\"\n",
    "    Fill NaN with 0\n",
    "    \"\"\"\n",
    "    df_model = df_model.fillna(0)\n",
    "    \n",
    "    cols = ['gender',\n",
    "            'membership_duration', \n",
    "            'total_num_songs_played', \n",
    "            'avg_num_songs_session', \n",
    "            'num_thumbs_up', \n",
    "            'num_thumbs_down', \n",
    "            'num_add_playlist', \n",
    "            'num_add_friends']\n",
    "   \n",
    "    \"\"\"\n",
    "    Cast features to float\n",
    "    \"\"\"\n",
    "    for col_name in cols:\n",
    "        df_model = df_model.withColumn(col_name, col(col_name).cast('float'))\n",
    "        \n",
    "        \n",
    "    \"\"\"\n",
    "    Rename churn with label\n",
    "    \"\"\"\n",
    "    df_model = df_model.withColumnRenamed(\"churn\",\"label\")\n",
    "    \n",
    "    \n",
    "\n",
    "    return df_model\n",
    "    \n",
    "df_model = create_dataframe_for_modeling()"
   ]
  },
  {
   "cell_type": "code",
   "execution_count": 98,
   "metadata": {},
   "outputs": [
    {
     "name": "stdout",
     "output_type": "stream",
     "text": [
      "root\n",
      " |-- label: integer (nullable = true)\n",
      " |-- gender: float (nullable = true)\n",
      " |-- membership_duration: float (nullable = true)\n",
      " |-- total_num_songs_played: float (nullable = true)\n",
      " |-- avg_num_songs_session: float (nullable = false)\n",
      " |-- num_thumbs_up: float (nullable = true)\n",
      " |-- num_thumbs_down: float (nullable = true)\n",
      " |-- num_add_playlist: float (nullable = true)\n",
      " |-- num_add_friends: float (nullable = true)\n",
      "\n"
     ]
    }
   ],
   "source": [
    "df_model.printSchema()"
   ]
  },
  {
   "cell_type": "markdown",
   "metadata": {},
   "source": [
    "\n",
    "# <a class=\"anchor\" id=\"modeling\">Modeling</a>\n",
    "Split the full dataset into train, test, and validation sets. Test out several of the machine learning methods you learned. Evaluate the accuracy of the various models, tuning parameters as necessary. Determine your winning model based on test accuracy and report results on the validation set. Since the churned users are a fairly small subset, I suggest using F1 score as the metric to optimize."
   ]
  },
  {
   "cell_type": "markdown",
   "metadata": {},
   "source": [
    "## <a class=\"anchor\" id=\"modeling\">Prepare model dataframe</a>"
   ]
  },
  {
   "cell_type": "code",
   "execution_count": 99,
   "metadata": {},
   "outputs": [],
   "source": [
    "def prepare_model_dataframe(df_model, scaler='minmax'):\n",
    "    \"\"\" Prepare df_model for model creation\n",
    "        - Numeric columns will be converted to Spark's vector type via VectorAssembler\n",
    "        - A scaler object will be created\n",
    "        - Data will be split into training and validation data\n",
    "        \n",
    "        INPUTS:\n",
    "        ------------\n",
    "            df_model - (Spark dataframe) this is the DataFrame used to predict churn \n",
    "            scaler - (string) identifier to choose between different scaling methods\n",
    "            \n",
    "        OUTPUTS:\n",
    "        ------------\n",
    "            df_model - (Spark dataframe) this is the DataFrame used to predict churn \n",
    "            training_data - (Spark dataframe) containing the subset with training data\n",
    "            validation_data - (Spark dataframe) containing the subset with validation data\n",
    "            scaler - (Spark scaler object) a scaling object used for the ML pipeline in build_model()       \n",
    "    \"\"\"\n",
    "    \"\"\"\n",
    "    Create a VectorAssembler\n",
    "    \"\"\"\n",
    "    # Numeric columns must be converted to Spark's vector type\n",
    "    assembler = VectorAssembler(inputCols=df_model.columns[1:], outputCol=\"features\")\n",
    "    #df_model = assembler.transform(df_model)\n",
    "    #df_model.head()\n",
    "\n",
    "    \"\"\"\n",
    "    Scale the input features\n",
    "    \"\"\"\n",
    "    if scaler == 'standard':\n",
    "        scaler = StandardScaler(inputCol=\"features\", outputCol=\"ScaledNumFeatures\",  withStd=True, withMean=False)\n",
    "        #scalerModel = scaler.fit(df_model)\n",
    "        #df_model = scalerModel.transform(df_model)\n",
    "        #df_model.head()\n",
    "\n",
    "    elif scaler == 'minmax':\n",
    "        scaler = MinMaxScaler(inputCol=\"features\", outputCol=\"ScaledNumFeatures\")\n",
    "        #scalerModel = scaler.fit(df_model)\n",
    "        #df_model = scalerModel.transform(df_model)\n",
    "        #df_model.head()\n",
    "\n",
    "    elif scaler == 'norm':\n",
    "        scaler = Normalizer(inputCol=\"features\", outputCol=\"ScaledNumFeatures\")\n",
    "        #scalerModel = scaler.fit(df_model)\n",
    "        #df_model = scalerModel.transform(df_model)\n",
    "        #df_model.head()\n",
    "\n",
    "\n",
    "    \"\"\"\n",
    "    Split the data into train and test \n",
    "    \"\"\"\n",
    "    training_data, validation_data = df_model.randomSplit([0.9, 0.1], seed=42)\n",
    "    \n",
    "    return df_model, training_data, validation_data, scaler, assembler\n",
    "    \n",
    "df_model, training_data, validation_data, scaler, assembler = prepare_model_dataframe(df_model)"
   ]
  },
  {
   "cell_type": "code",
   "execution_count": 100,
   "metadata": {},
   "outputs": [
    {
     "name": "stdout",
     "output_type": "stream",
     "text": [
      "root\n",
      " |-- label: integer (nullable = true)\n",
      " |-- gender: float (nullable = true)\n",
      " |-- membership_duration: float (nullable = true)\n",
      " |-- total_num_songs_played: float (nullable = true)\n",
      " |-- avg_num_songs_session: float (nullable = false)\n",
      " |-- num_thumbs_up: float (nullable = true)\n",
      " |-- num_thumbs_down: float (nullable = true)\n",
      " |-- num_add_playlist: float (nullable = true)\n",
      " |-- num_add_friends: float (nullable = true)\n",
      "\n"
     ]
    }
   ],
   "source": [
    "df_model.printSchema()"
   ]
  },
  {
   "cell_type": "code",
   "execution_count": 101,
   "metadata": {},
   "outputs": [
    {
     "data": {
      "text/plain": [
       "Row(label=0, gender=0.0, membership_duration=55.64365768432617, total_num_songs_played=275.0, avg_num_songs_session=39.28571319580078, num_thumbs_up=17.0, num_thumbs_down=5.0, num_add_playlist=7.0, num_add_friends=4.0)"
      ]
     },
     "execution_count": 101,
     "metadata": {},
     "output_type": "execute_result"
    }
   ],
   "source": [
    "df_model.head()"
   ]
  },
  {
   "cell_type": "code",
   "execution_count": 102,
   "metadata": {},
   "outputs": [
    {
     "data": {
      "text/markdown": [
       "#### df_model shape"
      ],
      "text/plain": [
       "<IPython.core.display.Markdown object>"
      ]
     },
     "metadata": {},
     "output_type": "display_data"
    },
    {
     "name": "stdout",
     "output_type": "stream",
     "text": [
      "(225, 9)\n"
     ]
    }
   ],
   "source": [
    "printmd('#### df_model shape')\n",
    "print((df_model.count(), len(df_model.columns)))"
   ]
  },
  {
   "cell_type": "code",
   "execution_count": 103,
   "metadata": {},
   "outputs": [
    {
     "data": {
      "text/markdown": [
       "#### training_data shape"
      ],
      "text/plain": [
       "<IPython.core.display.Markdown object>"
      ]
     },
     "metadata": {},
     "output_type": "display_data"
    },
    {
     "name": "stdout",
     "output_type": "stream",
     "text": [
      "(209, 9)\n"
     ]
    }
   ],
   "source": [
    "printmd('#### training_data shape')\n",
    "print((training_data.count(), len(training_data.columns)))"
   ]
  },
  {
   "cell_type": "code",
   "execution_count": 104,
   "metadata": {},
   "outputs": [
    {
     "data": {
      "text/markdown": [
       "#### validation_data shape"
      ],
      "text/plain": [
       "<IPython.core.display.Markdown object>"
      ]
     },
     "metadata": {},
     "output_type": "display_data"
    },
    {
     "name": "stdout",
     "output_type": "stream",
     "text": [
      "(16, 9)\n"
     ]
    }
   ],
   "source": [
    "printmd('#### validation_data shape')\n",
    "print((validation_data.count(), len(validation_data.columns)))"
   ]
  },
  {
   "cell_type": "markdown",
   "metadata": {},
   "source": [
    "## <a class=\"anchor\" id=\"build_model\">Build a Model</a>"
   ]
  },
  {
   "cell_type": "code",
   "execution_count": 106,
   "metadata": {},
   "outputs": [],
   "source": [
    "def build_model(training_data, validation_data, classifier):\n",
    "    \"\"\" Create models\n",
    "        - Random Forest\n",
    "        - Logistic Regression\n",
    "        - radient Boosting Tree Classifier \n",
    "        \n",
    "        \n",
    "        INPUTS:\n",
    "        ------------\n",
    "            training_data - (Spark dataframe) containing the subset with training data\n",
    "            validation_data - (Spark dataframe) containing the subset with validation data\n",
    "            classifier - (string) identifier to choose a classifier      \n",
    "        \n",
    "        OUTPUTS:\n",
    "        ------------\n",
    "            cvModel - (CrossValidator model object) it contains all modelling data\n",
    "            results - (Spark dataframe) with model results\n",
    "    \"\"\"\n",
    "    # Random Forest\n",
    "    if classifier == 'rf':\n",
    "        rf = RandomForestClassifier(labelCol=\"label\", featuresCol=\"ScaledNumFeatures\", numTrees=10)\n",
    "        pipeline = Pipeline(stages=[assembler, scaler, rf])\n",
    "        paramGrid = ParamGridBuilder() \\\n",
    "            .addGrid(rf.numTrees,[5, 8, 10]) \\\n",
    "            .build()\n",
    "    \n",
    "    # Logistic Regression   \n",
    "    if classifier == 'lr':\n",
    "        lr = LogisticRegression(labelCol=\"label\", featuresCol=\"ScaledNumFeatures\", maxIter=10, regParam=0.0, elasticNetParam=0)\n",
    "        pipeline = Pipeline(stages=[assembler, scaler, lr])\n",
    "        paramGrid = ParamGridBuilder() \\\n",
    "            .addGrid(lr.maxIter,[5, 8, 10]) \\\n",
    "            .build()\n",
    "        \n",
    "    # Gradient Boosting Tree Classifier    \n",
    "    if classifier == 'gbt':\n",
    "        gbt = GBTClassifier(labelCol=\"label\", featuresCol=\"ScaledNumFeatures\", maxIter=10)\n",
    "        pipeline = Pipeline(stages=[assembler, scaler, gbt])\n",
    "        paramGrid = ParamGridBuilder() \\\n",
    "            .addGrid(gbt.maxIter,[5, 8, 10]) \\\n",
    "            .build()\n",
    "    \n",
    "    # Crossvalidation     \n",
    "    crossval = CrossValidator(estimator=pipeline,\n",
    "                          estimatorParamMaps=paramGrid,\n",
    "                          evaluator=MulticlassClassificationEvaluator(),\n",
    "                          numFolds=3,\n",
    "                          collectSubModels=True)\n",
    "\n",
    "    cvModel = crossval.fit(training_data)\n",
    "    results = cvModel.bestModel.transform(validation_data)\n",
    "    \n",
    "    return cvModel, results\n",
    "\n",
    "\n",
    "def evalualte_model(cvModel, results):\n",
    "    \"\"\" Evaluate models\n",
    "        - Random Forest\n",
    "        - Logistic Regression\n",
    "        - radient Boosting Tree Classifier \n",
    "        \n",
    "        INPUTS:\n",
    "        ------------\n",
    "            cvModel - (CrossValidator model object) it contains all modelling data\n",
    "            results - (Spark dataframe) with model results\n",
    "        \n",
    "        OUTPUTS:\n",
    "        ------------\n",
    "            df_f1 - (pandas DataFrame) containing metrics parameters from cvModel\n",
    "            df_feature_importance - (pandas DataFrame) containing most important coefficints (regression) or weights (classification) \n",
    "            accuracy - (float) - accuracy of the model\n",
    "            precision - (float) - precision of the model\n",
    "            recall - (float) - recall of the model\n",
    "            f1 - (float) - f1 of the model\n",
    "    \"\"\"\n",
    "    \n",
    "    # Get metric from cvModel: dafault --> f1 score\n",
    "    params = [{p.name: v for p, v in m.items()} for m in cvModel.getEstimatorParamMaps()]\n",
    "    \n",
    "    df_f1 = pd.DataFrame.from_dict([\n",
    "                {cvModel.getEvaluator().getMetricName(): metric, **ps} \n",
    "                for ps, metric in zip(params, cvModel.avgMetrics)\n",
    "                ])\n",
    "    \n",
    "    \n",
    "    # Get Feature Importance Map\n",
    "    try:\n",
    "        feature_coefficients = cvModel.bestModel.stages[2].coefficients.values.tolist()\n",
    "    except:\n",
    "        feature_coefficients = cvModel.bestModel.stages[2].featureImportances.values.tolist()\n",
    "        \n",
    "    df_feature_importance = pd.DataFrame(list(zip(df_model.columns[1:], feature_coefficients)), columns=['Feature', 'Coefficient'])\\\n",
    "            .sort_values('Coefficient', ascending=False)\n",
    "    \n",
    "    \n",
    "    return df_f1, df_feature_importance"
   ]
  },
  {
   "cell_type": "markdown",
   "metadata": {},
   "source": [
    "## <a class=\"anchor\" id=\"rf\">RandomForestClassifier</a>"
   ]
  },
  {
   "cell_type": "code",
   "execution_count": 107,
   "metadata": {},
   "outputs": [
    {
     "data": {
      "image/png": "[encoded data removed]",
      "text/plain": [
       "<matplotlib.figure.Figure at 0x7f87b71f2048>"
      ]
     },
     "metadata": {
      "needs_background": "light"
     },
     "output_type": "display_data"
    }
   ],
   "source": [
    "cvModel_rf, results_rf = build_model(training_data, validation_data, 'rf')\n",
    "df_f1_rf, df_feature_importance_rf = evalualte_model(cvModel_rf, results_rf)\n",
    "plot_sns_bar(x='Feature',\n",
    "             y='Coefficient', \n",
    "             data=df_feature_importance_rf, \n",
    "             title='Feature importance - Random Forest', \n",
    "             xlabel='Feature', \n",
    "             ylabel='Coefficient', \n",
    "             save=True, \n",
    "             hide_xtick=False,\n",
    "             rotation=90,\n",
    "             order=False)"
   ]
  },
  {
   "cell_type": "code",
   "execution_count": 108,
   "metadata": {},
   "outputs": [
    {
     "data": {
      "text/markdown": [
       "#### Metrics - Random Forest Model"
      ],
      "text/plain": [
       "<IPython.core.display.Markdown object>"
      ]
     },
     "metadata": {},
     "output_type": "display_data"
    },
    {
     "data": {
      "text/html": [
       "<div>\n",
       "<style scoped>\n",
       "    .dataframe tbody tr th:only-of-type {\n",
       "        vertical-align: middle;\n",
       "    }\n",
       "\n",
       "    .dataframe tbody tr th {\n",
       "        vertical-align: top;\n",
       "    }\n",
       "\n",
       "    .dataframe thead th {\n",
       "        text-align: right;\n",
       "    }\n",
       "</style>\n",
       "<table border=\"1\" class=\"dataframe\">\n",
       "  <thead>\n",
       "    <tr style=\"text-align: right;\">\n",
       "      <th></th>\n",
       "      <th>f1</th>\n",
       "      <th>numTrees</th>\n",
       "    </tr>\n",
       "  </thead>\n",
       "  <tbody>\n",
       "    <tr>\n",
       "      <th>0</th>\n",
       "      <td>0.740778</td>\n",
       "      <td>5</td>\n",
       "    </tr>\n",
       "    <tr>\n",
       "      <th>1</th>\n",
       "      <td>0.730121</td>\n",
       "      <td>8</td>\n",
       "    </tr>\n",
       "    <tr>\n",
       "      <th>2</th>\n",
       "      <td>0.747516</td>\n",
       "      <td>10</td>\n",
       "    </tr>\n",
       "  </tbody>\n",
       "</table>\n",
       "</div>"
      ],
      "text/plain": [
       "         f1  numTrees\n",
       "0  0.740778         5\n",
       "1  0.730121         8\n",
       "2  0.747516        10"
      ]
     },
     "metadata": {},
     "output_type": "display_data"
    },
    {
     "name": "stdout",
     "output_type": "stream",
     "text": [
      "Best model f1 score:  0.747516188903\n",
      "Best model num_trees:  10\n"
     ]
    }
   ],
   "source": [
    "printmd('#### Metrics - Random Forest Model')\n",
    "display(df_f1_rf)\n",
    "\n",
    "f1_rf = df_f1_rf['f1'].max()\n",
    "numTrees_rf = df_f1_rf['numTrees'][df_f1_rf['f1']==f1_rf].values[0]\n",
    "print('Best model f1 score: ', f1_rf)\n",
    "print('Best model num_trees: ', numTrees_rf)"
   ]
  },
  {
   "cell_type": "markdown",
   "metadata": {},
   "source": [
    "### Result:\n",
    "- f1 score at 75%\n",
    "- It seems that an increase of num_trees enhances prediction result. However, an increase of num_trees increases prediction time and memory usage.\n",
    "- The tree most important features to predict **churn** are:\n",
    "    - membership_duration\n",
    "    - num_thumbs_down\n",
    "    - num_thumbs_up\n",
    "   "
   ]
  },
  {
   "cell_type": "markdown",
   "metadata": {},
   "source": [
    "#### Most important tuning parameters for Random Forest:\n",
    "- **numTrees** – Number of trees in the forest. This parameter is usually the most important setting\n",
    "- **maxDepth** – Max number of levels in each decision tree\n",
    "\n",
    "#### Some other parameters to consider testing:\n",
    "- **featureSubsetStrategy** – Number of features to use as candidates for splitting at each tree node\n",
    "- **minInfoGain** – Minimum information gain for a split to be considered at a tree node\n",
    "- **minInstancesPerNode** – Minimum number of instances each child must have after split"
   ]
  },
  {
   "cell_type": "markdown",
   "metadata": {},
   "source": [
    "### Further optimizations:\n",
    "- Increase numTrees further (e.g. 20...50) \n",
    "- Tune maxDepth. An increase of maxDepth could help to increase f1 score.\n",
    "- Use a larger dataset. 225 unique users is just a small subset.\n",
    "- Implement further features for modeling"
   ]
  },
  {
   "cell_type": "markdown",
   "metadata": {},
   "source": [
    "## <a class=\"anchor\" id=\"lr\">LogisticRegression</a>\n",
    "As we do have a binary label set we could try a binary logistic regression approach to predict churn"
   ]
  },
  {
   "cell_type": "code",
   "execution_count": 109,
   "metadata": {},
   "outputs": [
    {
     "data": {
      "image/png": "[encoded data removed]",
      "text/plain": [
       "<matplotlib.figure.Figure at 0x7f87b7762dd8>"
      ]
     },
     "metadata": {
      "needs_background": "light"
     },
     "output_type": "display_data"
    }
   ],
   "source": [
    "cvModel_lr, results_lr = build_model(training_data, validation_data, 'lr')\n",
    "df_f1_lr, df_feature_importance_lr = evalualte_model(cvModel_lr, results_lr)\n",
    "plot_sns_bar(x='Feature',\n",
    "             y='Coefficient', \n",
    "             data=df_feature_importance_lr, \n",
    "             title='Feature importance - Logistic Regression', \n",
    "             xlabel='Feature', \n",
    "             ylabel='Coefficient', \n",
    "             save=True, \n",
    "             hide_xtick=False,\n",
    "             rotation=90,\n",
    "             order=False)"
   ]
  },
  {
   "cell_type": "code",
   "execution_count": 110,
   "metadata": {},
   "outputs": [
    {
     "data": {
      "text/markdown": [
       "#### Metrics - Logistic Regression Model"
      ],
      "text/plain": [
       "<IPython.core.display.Markdown object>"
      ]
     },
     "metadata": {},
     "output_type": "display_data"
    },
    {
     "data": {
      "text/html": [
       "<div>\n",
       "<style scoped>\n",
       "    .dataframe tbody tr th:only-of-type {\n",
       "        vertical-align: middle;\n",
       "    }\n",
       "\n",
       "    .dataframe tbody tr th {\n",
       "        vertical-align: top;\n",
       "    }\n",
       "\n",
       "    .dataframe thead th {\n",
       "        text-align: right;\n",
       "    }\n",
       "</style>\n",
       "<table border=\"1\" class=\"dataframe\">\n",
       "  <thead>\n",
       "    <tr style=\"text-align: right;\">\n",
       "      <th></th>\n",
       "      <th>f1</th>\n",
       "      <th>maxIter</th>\n",
       "    </tr>\n",
       "  </thead>\n",
       "  <tbody>\n",
       "    <tr>\n",
       "      <th>0</th>\n",
       "      <td>0.703908</td>\n",
       "      <td>5</td>\n",
       "    </tr>\n",
       "    <tr>\n",
       "      <th>1</th>\n",
       "      <td>0.687149</td>\n",
       "      <td>8</td>\n",
       "    </tr>\n",
       "    <tr>\n",
       "      <th>2</th>\n",
       "      <td>0.681342</td>\n",
       "      <td>10</td>\n",
       "    </tr>\n",
       "  </tbody>\n",
       "</table>\n",
       "</div>"
      ],
      "text/plain": [
       "         f1  maxIter\n",
       "0  0.703908        5\n",
       "1  0.687149        8\n",
       "2  0.681342       10"
      ]
     },
     "metadata": {},
     "output_type": "display_data"
    },
    {
     "name": "stdout",
     "output_type": "stream",
     "text": [
      "Best model f1 score:  0.703907820355\n",
      "Best model regParam:  5\n"
     ]
    }
   ],
   "source": [
    "printmd('#### Metrics - Logistic Regression Model')\n",
    "display(df_f1_lr)\n",
    "\n",
    "f1_lr = df_f1_lr['f1'].max()\n",
    "maxIter_lr = df_f1_lr['maxIter'][df_f1_lr['f1']==f1_lr].values[0]\n",
    "print('Best model f1 score: ', f1_lr)\n",
    "print('Best model regParam: ', maxIter_lr)"
   ]
  },
  {
   "cell_type": "markdown",
   "metadata": {},
   "source": [
    "### Result:\n",
    "- f1 score at 71%\n",
    "- It seems that an increase of iterations (maxIter) enhances f1 score. However, overfitting issues arises for the dafault value maxIter=100 (not shown).\n",
    "- The most important features to predict **churn** are:\n",
    "    - num_add_friends\n",
    "    - membership_duration\n",
    "    - num_thumbs_down\n",
    "    - num_thumbs_up\n",
    "- Except for num_add_friends a similar feature importance has been observed for RandomForest Classifier.\n",
    "    \n",
    "    \n",
    "#### some important tuning parameters\n",
    "- **aggregationDepth** -  suggested depth for treeAggregate (>= 2). (default: 2)\n",
    "\n",
    "- **elasticNetParam** - the ElasticNet mixing parameter, in range [0, 1]. For alpha = 0, the penalty is an L2 penalty. For alpha = 1, it is an L1 penalty. (default: 0.0)\n",
    "\n",
    "- **fitIntercept** - whether to fit an intercept term. (default: True)\n",
    "\n",
    "- **maxIter** - max number of iterations (>= 0). (default: 100)\n",
    "\n",
    "- **regParam** - regularization parameter (>= 0). (default: 0.0)\n",
    "\n",
    "### Further optimizations:\n",
    "- Increase maxIter further (e.g. 20...50) \n",
    "- Tune elasticNetParam and regParam. Maybe a stronger regularization helps to prevent overfitting.\n",
    "- Use a larger dataset. 225 unique users is just a small subset.\n",
    "- Implement further features for modeling"
   ]
  },
  {
   "cell_type": "markdown",
   "metadata": {},
   "source": [
    "## <a class=\"anchor\" id=\"gbt\">Gradient Boost Tree Classifier</a>"
   ]
  },
  {
   "cell_type": "code",
   "execution_count": 111,
   "metadata": {},
   "outputs": [
    {
     "data": {
      "image/png": "[encoded data removed]",
      "text/plain": [
       "<matplotlib.figure.Figure at 0x7f87c4485198>"
      ]
     },
     "metadata": {
      "needs_background": "light"
     },
     "output_type": "display_data"
    }
   ],
   "source": [
    "cvModel_gbt, results_gbt = build_model(training_data, validation_data, 'gbt')\n",
    "df_f1_gbt, df_feature_importance_gbt = evalualte_model(cvModel_gbt, results_gbt)\n",
    "plot_sns_bar(x='Feature',\n",
    "             y='Coefficient', \n",
    "             data=df_feature_importance_gbt, \n",
    "             title='Feature importance - Gradient Boost Tree Classifier', \n",
    "             xlabel='Feature', \n",
    "             ylabel='Coefficient', \n",
    "             save=True, \n",
    "             hide_xtick=False,\n",
    "             rotation=90,\n",
    "             order=False)"
   ]
  },
  {
   "cell_type": "code",
   "execution_count": 112,
   "metadata": {},
   "outputs": [
    {
     "data": {
      "text/markdown": [
       "#### Metrics - Gradient Boost Tree Model"
      ],
      "text/plain": [
       "<IPython.core.display.Markdown object>"
      ]
     },
     "metadata": {},
     "output_type": "display_data"
    },
    {
     "data": {
      "text/html": [
       "<div>\n",
       "<style scoped>\n",
       "    .dataframe tbody tr th:only-of-type {\n",
       "        vertical-align: middle;\n",
       "    }\n",
       "\n",
       "    .dataframe tbody tr th {\n",
       "        vertical-align: top;\n",
       "    }\n",
       "\n",
       "    .dataframe thead th {\n",
       "        text-align: right;\n",
       "    }\n",
       "</style>\n",
       "<table border=\"1\" class=\"dataframe\">\n",
       "  <thead>\n",
       "    <tr style=\"text-align: right;\">\n",
       "      <th></th>\n",
       "      <th>f1</th>\n",
       "      <th>maxIter</th>\n",
       "    </tr>\n",
       "  </thead>\n",
       "  <tbody>\n",
       "    <tr>\n",
       "      <th>0</th>\n",
       "      <td>0.744461</td>\n",
       "      <td>5</td>\n",
       "    </tr>\n",
       "    <tr>\n",
       "      <th>1</th>\n",
       "      <td>0.748192</td>\n",
       "      <td>8</td>\n",
       "    </tr>\n",
       "    <tr>\n",
       "      <th>2</th>\n",
       "      <td>0.742338</td>\n",
       "      <td>10</td>\n",
       "    </tr>\n",
       "  </tbody>\n",
       "</table>\n",
       "</div>"
      ],
      "text/plain": [
       "         f1  maxIter\n",
       "0  0.744461        5\n",
       "1  0.748192        8\n",
       "2  0.742338       10"
      ]
     },
     "metadata": {},
     "output_type": "display_data"
    },
    {
     "name": "stdout",
     "output_type": "stream",
     "text": [
      "Best model f1 score:  0.748192138963\n",
      "Best model maxIter:  8\n"
     ]
    }
   ],
   "source": [
    "printmd('#### Metrics - Gradient Boost Tree Model')\n",
    "display(df_f1_gbt)\n",
    "\n",
    "f1_gbt = df_f1_gbt['f1'].max()\n",
    "maxIter_gbt = df_f1_gbt['maxIter'][df_f1_gbt['f1']==f1_gbt].values[0]\n",
    "print('Best model f1 score: ', f1_gbt)\n",
    "print('Best model maxIter: ', maxIter_gbt)"
   ]
  },
  {
   "cell_type": "markdown",
   "metadata": {},
   "source": [
    "### Result:\n",
    "- Highest f1 score was achieved for maxIter=8. \n",
    "- The three most important features to predict **churn** are:\n",
    "    - total_num_songs_played\n",
    "    - membership_duration\n",
    "    - avg_num_songs_session\n",
    " \n",
    "#### most important tuning parameters\n",
    "- **maxIter** - max number of iterations (>= 0). (default: 100)\n",
    "\n",
    "### Further optimizations:\n",
    "- Increase maxIter further (e.g. 20...50) \n",
    "- Use a larger dataset. 225 unique users is just a small subset.\n",
    "- Implement further features for modeling"
   ]
  },
  {
   "cell_type": "code",
   "execution_count": 113,
   "metadata": {},
   "outputs": [
    {
     "data": {
      "text/html": [
       "<div>\n",
       "<style scoped>\n",
       "    .dataframe tbody tr th:only-of-type {\n",
       "        vertical-align: middle;\n",
       "    }\n",
       "\n",
       "    .dataframe tbody tr th {\n",
       "        vertical-align: top;\n",
       "    }\n",
       "\n",
       "    .dataframe thead th {\n",
       "        text-align: right;\n",
       "    }\n",
       "</style>\n",
       "<table border=\"1\" class=\"dataframe\">\n",
       "  <thead>\n",
       "    <tr style=\"text-align: right;\">\n",
       "      <th></th>\n",
       "      <th>f1 score</th>\n",
       "    </tr>\n",
       "  </thead>\n",
       "  <tbody>\n",
       "    <tr>\n",
       "      <th>RandomForestClassifier</th>\n",
       "      <td>0.747516</td>\n",
       "    </tr>\n",
       "    <tr>\n",
       "      <th>LogisticRegression</th>\n",
       "      <td>0.703908</td>\n",
       "    </tr>\n",
       "    <tr>\n",
       "      <th>GBTClassifier</th>\n",
       "      <td>0.748192</td>\n",
       "    </tr>\n",
       "  </tbody>\n",
       "</table>\n",
       "</div>"
      ],
      "text/plain": [
       "                        f1 score\n",
       "RandomForestClassifier  0.747516\n",
       "LogisticRegression      0.703908\n",
       "GBTClassifier           0.748192"
      ]
     },
     "execution_count": 113,
     "metadata": {},
     "output_type": "execute_result"
    }
   ],
   "source": [
    "df_metric_result = pd.DataFrame({'f1 score': [f1_rf, f1_lr ,f1_gbt]},index=['RandomForestClassifier', 'LogisticRegression', 'GBTClassifier'])\n",
    "df_metric_result\n"
   ]
  },
  {
   "cell_type": "code",
   "execution_count": 114,
   "metadata": {},
   "outputs": [
    {
     "name": "stdout",
     "output_type": "stream",
     "text": [
      "root\n",
      " |-- label: integer (nullable = true)\n",
      " |-- gender: float (nullable = true)\n",
      " |-- membership_duration: float (nullable = true)\n",
      " |-- total_num_songs_played: float (nullable = true)\n",
      " |-- avg_num_songs_session: float (nullable = false)\n",
      " |-- num_thumbs_up: float (nullable = true)\n",
      " |-- num_thumbs_down: float (nullable = true)\n",
      " |-- num_add_playlist: float (nullable = true)\n",
      " |-- num_add_friends: float (nullable = true)\n",
      "\n"
     ]
    }
   ],
   "source": [
    "df_model.printSchema()"
   ]
  },
  {
   "cell_type": "markdown",
   "metadata": {},
   "source": [
    "## <a class=\"anchor\" id=\"evaluation\">Evaluation</a>"
   ]
  },
  {
   "cell_type": "markdown",
   "metadata": {},
   "source": [
    "### Main results:\n",
    "- Three different models were tested and hyperparameters for classifiers and regression models were tuned\n",
    "    - RandomForestClassifier\n",
    "    - LogisticRegression\n",
    "    - GBTClassifier\n",
    "- The model was created by using Spark's Pipeline module and chaining input vectorization, minmax scaling and classification/regression.\n",
    "- By using ParamGridBuilder different classifier/regression model hyperparameters were tuned, e.g. maximum number of iterations or number of trees.\n",
    "- Via CrossValidator the differnt pipeline estimators were evaluated. Thereby The number of folds was fixed to 3. Maybe higher fold numbers could further optimize the result.\n",
    "- By using MulticlassClassificationEvaluator a f1 score metric was implemented (default setting of MulticlassClassificationEvaluator). \n",
    "- As the dataset is small and churned and non-churned users are not evenly distributed the f1 score should be the best metric for predicting churn.\n",
    "- **The highest f1 score** was achieved for the **RandomForestClassifer** approach. \n",
    "- Thereby the f1 score is highly sensitiv to the choice of hyperparameters. Hence it is believed, there is still room for optimizations. \n",
    "- All three models show that the duration of membership is a good feature in predicting churn. In all three moodels this feature has high feature importance values.\n",
    "\n",
    "\n",
    "### Further optimizations:\n",
    "- Tune the the hyperparameters of the corresponding classifier and regression models in a wider range.  However, take care about overfitting especially when tuning maxIter.\n",
    "- Implement further hyperparameters for model tuning (see above).\n",
    "- Use a larger dataset. 225 unique users is just a small subset. It is believed that a transfer to the 12GB dataset could result in higher f1 scores. In addition, other metrics like accuracy could then be used as the binary label set (1 or 0) is more evenly distributed.\n",
    "- Implement further features for modeling.\n",
    "- Integrate other databases in order to link song names with genre. Maybe churned user may like to listen to a special kind of genre which is only weakly supported by Sparkify at the moment. This result could be also used as a baseline for a Recommendation Engine in future optimizations.\n",
    "\n",
    "\n",
    "### What was difficult in this project:\n",
    "- For me the most difficult part was getting good documentations with examples for special Spark modules like MulticlassClassificationEvaluator or GBTClassifier. It seems that Data Science community which uses Spark is still a small one compared to the Pandas or scikit-learn comunity for example.\n",
    "- In the beginning I had difficulties to identify the 'listen to a song' service. It was not clear for me that this is connected to the web page 'NextSong'. "
   ]
  },
  {
   "cell_type": "code",
   "execution_count": null,
   "metadata": {},
   "outputs": [],
   "source": []
  },
  {
   "cell_type": "markdown",
   "metadata": {},
   "source": [
    "# Final Steps\n",
    "Clean up your code, adding comments and renaming variables to make the code easier to read and maintain. Refer to the Spark Project Overview page and Data Scientist Capstone Project Rubric to make sure you are including all components of the capstone project and meet all expectations. Remember, this includes thorough documentation in a README file in a Github repository, as well as a web app or blog post."
   ]
  },
  {
   "cell_type": "code",
   "execution_count": null,
   "metadata": {},
   "outputs": [],
   "source": []
  },
  {
   "cell_type": "code",
   "execution_count": null,
   "metadata": {},
   "outputs": [],
   "source": []
  }
 ],
 "metadata": {
  "kernelspec": {
   "display_name": "Python 3",
   "language": "python",
   "name": "python3"
  },
  "language_info": {
   "codemirror_mode": {
    "name": "ipython",
    "version": 3
   },
   "file_extension": ".py",
   "mimetype": "text/x-python",
   "name": "python",
   "nbconvert_exporter": "python",
   "pygments_lexer": "ipython3",
   "version": "3.6.3"
  }
 },
 "nbformat": 4,
 "nbformat_minor": 2
}
