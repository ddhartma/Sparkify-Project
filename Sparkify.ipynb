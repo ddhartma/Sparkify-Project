{
 "cells": [
  {
   "cell_type": "markdown",
   "metadata": {},
   "source": [
    "# Sparkify Project Workspace\n",
    "This workspace contains a tiny subset (128MB) of the full dataset available (12GB). Feel free to use this workspace to build your project, or to explore a smaller subset with Spark before deploying your cluster on the cloud. Instructions for setting up your Spark cluster is included in the last lesson of the Extracurricular Spark Course content.\n",
    "\n",
    "You can follow the steps below to guide your data analysis and model building portion of this project."
   ]
  },
  {
   "cell_type": "markdown",
   "metadata": {},
   "source": [
    "## Content\n",
    "- [Exploratory Data Analysis Part 1](#Exploratory_Data_Analysis1)<br>\n",
    "    - [DataFrame preliminary Description](#describe_df)<br>\n",
    "    - [Study DataFrame for based on userId](#df_example_study)<br>\n",
    "- [Data Preparation](#data_prep)<br>\n",
    "    - [Drop missing/uncommon values](#filter_data)<br>\n",
    "    - [Define Churn - The Label for Machine Learning Modeling](#churn)<br>\n",
    "    - [Distribution of churned and non churned users](#Distribution_of_churned_and_non_churned_users)<br> \n",
    "- [Exploratory Data Analysis Part 2](#Exploratory_Data_Analysis2)<br>\n",
    "    - [Gender distribution based on churn](#Gender_distribution_based_on_churn)\n",
    "    - [Total page activity based on churn](#Total_page_activity_based_on_churn)<br>\n",
    "    - [Total number of songs played by user](#total_number_of_songs_played_by_user)<br>\n",
    "    - [Average number of songs played by user](#Average_number_of_songs_played_by_user)<br>\n",
    "    - [Average number of songs played per user per session](#Average_number_of_songs_played_by_user_per_session)<br>\n",
    "    - [Total number of thumbs up per user](#total_number_of_thumbs_up_per_user)<br>\n",
    "    - [Total number of thumbs down per user](#total_number_of_thumbs_down_per_user)<br>\n",
    "    - [Total number of errors per user](#Total_number_of_errors_per_user)<br>\n",
    "    - [Total number of \"Add to Playlist\" clicks per user](#Total_number_of_Add_to_playlist_clicks_per_user)<br>\n",
    "    - [Total number of \"Add Friend\" clicks per user](#Total_number_of_Add_Friend_clicks_per_user)<br>\n",
    "- [Feature Engineering](#Feature_Engineering)<br> \n",
    "- [Label Engineering for Prediction](#Label_Engineering)<br>  \n",
    "    - \n",
    "    - [Define Churn - Analysing Downgrade Events](#downgrade)<br>\n",
    "   "
   ]
  },
  {
   "cell_type": "code",
   "execution_count": 192,
   "metadata": {},
   "outputs": [],
   "source": [
    "# import libraries\n",
    "from pyspark.sql import SparkSession\n",
    "from pyspark.sql.functions import udf\n",
    "from pyspark.sql.types import StringType\n",
    "from pyspark.sql.types import IntegerType, FloatType\n",
    "from pyspark.sql.functions import desc\n",
    "from pyspark.sql.functions import asc\n",
    "from pyspark.sql.functions import sum as Fsum,  min, max\n",
    "import pyspark.sql.functions as psqf\n",
    "from pyspark.sql.functions import col, countDistinct,  mean as _mean, stddev as _stddev\n",
    "#from pyspark.sql import Window\n",
    "\n",
    "from pyspark.sql.window import Window\n",
    "\n",
    "from pyspark.sql import functions as F\n",
    "\n",
    "from pyspark.sql.types import TimestampType\n",
    "\n",
    "import datetime\n",
    "\n",
    "import numpy as np\n",
    "import pandas as pd\n",
    "%matplotlib inline\n",
    "import matplotlib.pyplot as plt\n",
    "import seaborn as sns\n",
    "sns.set_style(\"darkgrid\")\n",
    "\n",
    "from IPython.display import Markdown, display, HTML\n",
    "def printmd(string):\n",
    "    display(Markdown(string))"
   ]
  },
  {
   "cell_type": "code",
   "execution_count": 125,
   "metadata": {},
   "outputs": [],
   "source": [
    "# Some UDF needed in the notebook\n",
    "\n",
    "# Convert timestamps to datetime from epoch time to get the hour of the day. Create a user defined function called get_hour\n",
    "get_hour = udf(lambda x: datetime.datetime.fromtimestamp(x / 1000.0).hour)\n",
    "\n",
    "# Convert epoch time in milliseconds to econds\n",
    "get_seconds = udf(lambda x: x / 1000.0)\n",
    "\n",
    "# Convert epoch time in milliseconds to days\n",
    "get_days = udf(lambda x: x / (1000.0 * 3600 * 24))"
   ]
  },
  {
   "cell_type": "code",
   "execution_count": 82,
   "metadata": {},
   "outputs": [],
   "source": [
    "def plot_sns_bar(x, y, data, hue=None, log=False, title='', xlabel='x', ylabel='y', legend='', figsize=(8,5), save=False, hide_xtick=False, rotation=0, order=False, sort_by='', ascending=False):\n",
    "    \"\"\" plot sns bar plot\n",
    "        INPUTS:\n",
    "        ------------\n",
    "            x - (string) column name of DataFrame used as xaxis\n",
    "            y - (string) column name of DataFrame used as yaxis\n",
    "            hue - (string) grouping variable \n",
    "            data - (pandas dataframe) dataframe used fot plotting\n",
    "            log - (bool) if True use logarithmic scale for y axis, else linear \n",
    "            title - (string) title of plot\n",
    "            xlabel - (string) xlabel name \n",
    "            ylabel - (string) ylabel name\n",
    "            save - (bool) if True save plot as png\n",
    "            hide_xtick - (bool) if True hide xtick labels\n",
    "            rotation - (int) angle in degrees forxlabel rotation\n",
    "            order - (bool) if True order xaxis by sort_by\n",
    "            sort_by (string) name of dataframe column for which xaxis should be ordered\n",
    "            ascending - (bool) if True use ascending order for sort\n",
    "                            \n",
    "     \n",
    "        OUTPUTS:\n",
    "        ------------\n",
    "            No return\n",
    "            seaborn plot \n",
    "            png export \n",
    "            \n",
    "    \"\"\"\n",
    "    fig = plt.figure(figsize=figsize)\n",
    "    # make barplot and sort bars\n",
    "    if order == True:\n",
    "        g1 = sns.barplot(x=x,\n",
    "                    y=y, \n",
    "                    data=data, \n",
    "                    log=log,\n",
    "                    hue=hue,\n",
    "                    order=data.sort_values(sort_by, ascending=ascending)[x])\n",
    "    else:\n",
    "        g1 = sns.barplot(x=x,\n",
    "                    y=y, \n",
    "                    data=data,\n",
    "                    log=log,\n",
    "                    hue=hue)\n",
    "        \n",
    "    # set labels\n",
    "    if hide_xtick == True:\n",
    "        g1.set(xticklabels=[])  # remove the tick labels\n",
    "    plt.xlabel(xlabel, size=15)\n",
    "    plt.ylabel(ylabel, size=15)\n",
    "    plt.xticks(rotation=rotation)\n",
    "    plt.title(title, size=18)\n",
    "    if legend !='':\n",
    "        plt.legend(title=legend, loc='best')\n",
    "    plt.tight_layout()\n",
    "    if save == True:\n",
    "        name = title.replace(' ', '_')\n",
    "        plt.savefig(\".png\", dpi=100)\n",
    "        "
   ]
  },
  {
   "cell_type": "code",
   "execution_count": 221,
   "metadata": {},
   "outputs": [],
   "source": [
    "def plot_sns_box(x, y, data, title='', xlabel='x', ylabel='y', legend='', figsize=(8,5), save=False, hide_xtick=False, rotation=0, order=False, sort_by='', ascending=False):\n",
    "    \"\"\" plot sns bar plot\n",
    "        INPUTS:\n",
    "        ------------\n",
    "            x - (string) column name of DataFrame used as xaxis\n",
    "            y - (string) column name of DataFrame used as yaxis\n",
    "            hue - (string) grouping variable \n",
    "            data - (pandas dataframe) dataframe used fot plotting\n",
    "            log - (bool) if True use logarithmic scale for y axis, else linear \n",
    "            title - (string) title of plot\n",
    "            xlabel - (string) xlabel name \n",
    "            ylabel - (string) ylabel name\n",
    "            save - (bool) if True save plot as png\n",
    "            hide_xtick - (bool) if True hide xtick labels\n",
    "            rotation - (int) angle in degrees forxlabel rotation\n",
    "            order - (bool) if True order xaxis by sort_by\n",
    "            sort_by (string) name of dataframe column for which xaxis should be ordered\n",
    "            ascending - (bool) if True use ascending order for sort\n",
    "                            \n",
    "     \n",
    "        OUTPUTS:\n",
    "        ------------\n",
    "            No return\n",
    "            seaborn plot \n",
    "            png export \n",
    "            \n",
    "    \"\"\"\n",
    "    fig = plt.figure(figsize=figsize)\n",
    "    # make barplot and sort bars\n",
    "    if order == True:\n",
    "        g1 = sns.boxplot(x=x,\n",
    "                    y=y, \n",
    "                    data=data, \n",
    "                    order=data.sort_values(sort_by, ascending=ascending)[x])\n",
    "    else:\n",
    "        g1 = sns.boxplot(x=x,\n",
    "                    y=y, \n",
    "                    data=data)\n",
    "                    \n",
    "        \n",
    "    # set labels\n",
    "    if hide_xtick == True:\n",
    "        g1.set(xticklabels=[])  # remove the tick labels\n",
    "    plt.xlabel(xlabel, size=15)\n",
    "    plt.ylabel(ylabel, size=15)\n",
    "    plt.xticks(rotation=rotation)\n",
    "    plt.title(title, size=18)\n",
    "    if legend !='':\n",
    "        plt.legend(title=legend, loc='best')\n",
    "    plt.tight_layout()\n",
    "    if save == True:\n",
    "        name = title.replace(' ', '_')\n",
    "        plt.savefig(\".png\", dpi=100)\n",
    "        "
   ]
  },
  {
   "cell_type": "code",
   "execution_count": null,
   "metadata": {},
   "outputs": [],
   "source": [
    "def plot_sns_distplot(data, column_to_plot, title='', xlabel='x', ylabel='y',  figsize=(8,5), save=False, bins=20, kde=True, norm_hist=True):\n",
    "    fig = plt.figure(figsize=figsize)\n",
    "    # make barplot and sort bars\n",
    "    g1 = sns.distplot(data[column_to_plot], bins=bins, kde=kde, norm_hist=norm_hist)\n",
    "    # set labels\n",
    "    plt.xlabel(xlabel, size=15)\n",
    "    plt.ylabel(ylabel, size=15)\n",
    "    plt.title(title, size=18)\n",
    "    plt.tight_layout()\n",
    "    if save == True:\n",
    "        name = title.replace(' ', '_')\n",
    "        plt.savefig(\".png\", dpi=100)"
   ]
  },
  {
   "cell_type": "code",
   "execution_count": 5,
   "metadata": {},
   "outputs": [],
   "source": [
    "def plot_pie(df, title, explode, **kwargs):\n",
    "    \"\"\"\n",
    "    INPUT:\n",
    "        - df - dataframe to be plotted as a pie plot, columns of df --> the pie pieces of the plot\n",
    "        - title - provide a title as string for the plot\n",
    "        - explode - listto set the explosion of each pie piece, length must be equal to number of pie pieces\n",
    "        - **kwargs - (optional) paramters to overwrite the default setting of the pie_setting_dict \n",
    "    OUTPUT:\n",
    "        - A pie chart with a specially designed layout\n",
    "    \n",
    "    AIM:\n",
    "        1.) Overwrite the default setting of the pie_setting_dict dictionary\n",
    "        2.) execute plot_df.plot_df_bar() - this function will then create the plot based on the provided settings\n",
    "    \"\"\"\n",
    "    pie_setting_dict = {'figsize' : (10,5),\n",
    "                        'shadow' : True,\n",
    "                        'autopct' : '%1.1f%%',\n",
    "                        'startangle' :90,\n",
    "                        'fontsize_title' : 14,\n",
    "                        'fontsize_text' : 14,\n",
    "                        'fontsize_legend' : 14,\n",
    "                        'legend_state' : True,\n",
    "                        'legend_title' : '',   \n",
    "                        'legend_list_to_plot' : '',\n",
    "                        'legend_move' : False,\n",
    "                        'legend_x' : None,\n",
    "                        'legend_y' : None}\n",
    "    \n",
    "    for key, value in kwargs.items():\n",
    "        pie_setting_dict[key] = value\n",
    "    plot_df.plot_df_pie(df, title, explode, pie_setting_dict)\n"
   ]
  },
  {
   "cell_type": "code",
   "execution_count": null,
   "metadata": {},
   "outputs": [],
   "source": []
  },
  {
   "cell_type": "code",
   "execution_count": 6,
   "metadata": {},
   "outputs": [],
   "source": [
    "# create a Spark session\n",
    "spark = SparkSession \\\n",
    "    .builder \\\n",
    "    .appName(\"Wrangling Data\") \\\n",
    "    .getOrCreate()"
   ]
  },
  {
   "cell_type": "markdown",
   "metadata": {},
   "source": [
    "# Load and Clean Dataset\n",
    "In this workspace, the mini-dataset file is `mini_sparkify_event_data.json`. Load and clean the dataset, checking for invalid or missing data - for example, records without userids or sessionids. "
   ]
  },
  {
   "cell_type": "code",
   "execution_count": 7,
   "metadata": {},
   "outputs": [],
   "source": [
    "path = \"mini_sparkify_event_data.json\"\n",
    "df = spark.read.json(path)"
   ]
  },
  {
   "cell_type": "code",
   "execution_count": null,
   "metadata": {},
   "outputs": [],
   "source": []
  },
  {
   "cell_type": "code",
   "execution_count": null,
   "metadata": {},
   "outputs": [],
   "source": []
  },
  {
   "cell_type": "markdown",
   "metadata": {},
   "source": [
    "# <a class=\"anchor\" id=\"Exploratory_Data_Analysis1\">Exploratory Data Analysis Part 1</a>\n",
    "When you're working with the full dataset, perform EDA by loading a small subset of the data and doing basic manipulations within Spark. In this workspace, you are already provided a small subset of data you can explore.\n",
    "\n",
    "### Define Churn\n",
    "\n",
    "Once you've done some preliminary analysis, create a column `Churn` to use as the label for your model. I suggest using the `Cancellation Confirmation` events to define your churn, which happen for both paid and free users. As a bonus task, you can also look into the `Downgrade` events.\n",
    "\n",
    "### Explore Data\n",
    "Once you've defined churn, perform some exploratory data analysis to observe the behavior for users who stayed vs users who churned. You can start by exploring aggregates on these two groups of users, observing how much of a specific action they experienced per a certain time unit or number of songs played."
   ]
  },
  {
   "cell_type": "markdown",
   "metadata": {},
   "source": [
    "## <a class=\"anchor\" id=\"describe_df\">DataFrame preliminary Description</a>"
   ]
  },
  {
   "cell_type": "code",
   "execution_count": 8,
   "metadata": {},
   "outputs": [
    {
     "name": "stdout",
     "output_type": "stream",
     "text": [
      "root\n",
      " |-- artist: string (nullable = true)\n",
      " |-- auth: string (nullable = true)\n",
      " |-- firstName: string (nullable = true)\n",
      " |-- gender: string (nullable = true)\n",
      " |-- itemInSession: long (nullable = true)\n",
      " |-- lastName: string (nullable = true)\n",
      " |-- length: double (nullable = true)\n",
      " |-- level: string (nullable = true)\n",
      " |-- location: string (nullable = true)\n",
      " |-- method: string (nullable = true)\n",
      " |-- page: string (nullable = true)\n",
      " |-- registration: long (nullable = true)\n",
      " |-- sessionId: long (nullable = true)\n",
      " |-- song: string (nullable = true)\n",
      " |-- status: long (nullable = true)\n",
      " |-- ts: long (nullable = true)\n",
      " |-- userAgent: string (nullable = true)\n",
      " |-- userId: string (nullable = true)\n",
      "\n"
     ]
    }
   ],
   "source": [
    "df.printSchema()"
   ]
  },
  {
   "cell_type": "code",
   "execution_count": 7,
   "metadata": {},
   "outputs": [
    {
     "data": {
      "text/html": [
       "<div>\n",
       "<style scoped>\n",
       "    .dataframe tbody tr th:only-of-type {\n",
       "        vertical-align: middle;\n",
       "    }\n",
       "\n",
       "    .dataframe tbody tr th {\n",
       "        vertical-align: top;\n",
       "    }\n",
       "\n",
       "    .dataframe thead th {\n",
       "        text-align: right;\n",
       "    }\n",
       "</style>\n",
       "<table border=\"1\" class=\"dataframe\">\n",
       "  <thead>\n",
       "    <tr style=\"text-align: right;\">\n",
       "      <th></th>\n",
       "      <th>artist</th>\n",
       "      <th>auth</th>\n",
       "      <th>firstName</th>\n",
       "      <th>gender</th>\n",
       "      <th>itemInSession</th>\n",
       "      <th>lastName</th>\n",
       "      <th>length</th>\n",
       "      <th>level</th>\n",
       "      <th>location</th>\n",
       "      <th>method</th>\n",
       "      <th>page</th>\n",
       "      <th>registration</th>\n",
       "      <th>sessionId</th>\n",
       "      <th>song</th>\n",
       "      <th>status</th>\n",
       "      <th>ts</th>\n",
       "      <th>userAgent</th>\n",
       "      <th>userId</th>\n",
       "    </tr>\n",
       "  </thead>\n",
       "  <tbody>\n",
       "    <tr>\n",
       "      <th>0</th>\n",
       "      <td>Martha Tilston</td>\n",
       "      <td>Logged In</td>\n",
       "      <td>Colin</td>\n",
       "      <td>M</td>\n",
       "      <td>50</td>\n",
       "      <td>Freeman</td>\n",
       "      <td>277.89016</td>\n",
       "      <td>paid</td>\n",
       "      <td>Bakersfield, CA</td>\n",
       "      <td>PUT</td>\n",
       "      <td>NextSong</td>\n",
       "      <td>1.538173e+12</td>\n",
       "      <td>29</td>\n",
       "      <td>Rockpools</td>\n",
       "      <td>200</td>\n",
       "      <td>1538352117000</td>\n",
       "      <td>Mozilla/5.0 (Windows NT 6.1; WOW64; rv:31.0) G...</td>\n",
       "      <td>30</td>\n",
       "    </tr>\n",
       "    <tr>\n",
       "      <th>1</th>\n",
       "      <td>Five Iron Frenzy</td>\n",
       "      <td>Logged In</td>\n",
       "      <td>Micah</td>\n",
       "      <td>M</td>\n",
       "      <td>79</td>\n",
       "      <td>Long</td>\n",
       "      <td>236.09424</td>\n",
       "      <td>free</td>\n",
       "      <td>Boston-Cambridge-Newton, MA-NH</td>\n",
       "      <td>PUT</td>\n",
       "      <td>NextSong</td>\n",
       "      <td>1.538332e+12</td>\n",
       "      <td>8</td>\n",
       "      <td>Canada</td>\n",
       "      <td>200</td>\n",
       "      <td>1538352180000</td>\n",
       "      <td>\"Mozilla/5.0 (Windows NT 6.1; WOW64) AppleWebK...</td>\n",
       "      <td>9</td>\n",
       "    </tr>\n",
       "    <tr>\n",
       "      <th>2</th>\n",
       "      <td>Adam Lambert</td>\n",
       "      <td>Logged In</td>\n",
       "      <td>Colin</td>\n",
       "      <td>M</td>\n",
       "      <td>51</td>\n",
       "      <td>Freeman</td>\n",
       "      <td>282.82730</td>\n",
       "      <td>paid</td>\n",
       "      <td>Bakersfield, CA</td>\n",
       "      <td>PUT</td>\n",
       "      <td>NextSong</td>\n",
       "      <td>1.538173e+12</td>\n",
       "      <td>29</td>\n",
       "      <td>Time For Miracles</td>\n",
       "      <td>200</td>\n",
       "      <td>1538352394000</td>\n",
       "      <td>Mozilla/5.0 (Windows NT 6.1; WOW64; rv:31.0) G...</td>\n",
       "      <td>30</td>\n",
       "    </tr>\n",
       "    <tr>\n",
       "      <th>3</th>\n",
       "      <td>Enigma</td>\n",
       "      <td>Logged In</td>\n",
       "      <td>Micah</td>\n",
       "      <td>M</td>\n",
       "      <td>80</td>\n",
       "      <td>Long</td>\n",
       "      <td>262.71302</td>\n",
       "      <td>free</td>\n",
       "      <td>Boston-Cambridge-Newton, MA-NH</td>\n",
       "      <td>PUT</td>\n",
       "      <td>NextSong</td>\n",
       "      <td>1.538332e+12</td>\n",
       "      <td>8</td>\n",
       "      <td>Knocking On Forbidden Doors</td>\n",
       "      <td>200</td>\n",
       "      <td>1538352416000</td>\n",
       "      <td>\"Mozilla/5.0 (Windows NT 6.1; WOW64) AppleWebK...</td>\n",
       "      <td>9</td>\n",
       "    </tr>\n",
       "    <tr>\n",
       "      <th>4</th>\n",
       "      <td>Daft Punk</td>\n",
       "      <td>Logged In</td>\n",
       "      <td>Colin</td>\n",
       "      <td>M</td>\n",
       "      <td>52</td>\n",
       "      <td>Freeman</td>\n",
       "      <td>223.60771</td>\n",
       "      <td>paid</td>\n",
       "      <td>Bakersfield, CA</td>\n",
       "      <td>PUT</td>\n",
       "      <td>NextSong</td>\n",
       "      <td>1.538173e+12</td>\n",
       "      <td>29</td>\n",
       "      <td>Harder Better Faster Stronger</td>\n",
       "      <td>200</td>\n",
       "      <td>1538352676000</td>\n",
       "      <td>Mozilla/5.0 (Windows NT 6.1; WOW64; rv:31.0) G...</td>\n",
       "      <td>30</td>\n",
       "    </tr>\n",
       "  </tbody>\n",
       "</table>\n",
       "</div>"
      ],
      "text/plain": [
       "             artist       auth firstName gender  itemInSession lastName  \\\n",
       "0    Martha Tilston  Logged In     Colin      M             50  Freeman   \n",
       "1  Five Iron Frenzy  Logged In     Micah      M             79     Long   \n",
       "2      Adam Lambert  Logged In     Colin      M             51  Freeman   \n",
       "3            Enigma  Logged In     Micah      M             80     Long   \n",
       "4         Daft Punk  Logged In     Colin      M             52  Freeman   \n",
       "\n",
       "      length level                        location method      page  \\\n",
       "0  277.89016  paid                 Bakersfield, CA    PUT  NextSong   \n",
       "1  236.09424  free  Boston-Cambridge-Newton, MA-NH    PUT  NextSong   \n",
       "2  282.82730  paid                 Bakersfield, CA    PUT  NextSong   \n",
       "3  262.71302  free  Boston-Cambridge-Newton, MA-NH    PUT  NextSong   \n",
       "4  223.60771  paid                 Bakersfield, CA    PUT  NextSong   \n",
       "\n",
       "   registration  sessionId                           song  status  \\\n",
       "0  1.538173e+12         29                      Rockpools     200   \n",
       "1  1.538332e+12          8                         Canada     200   \n",
       "2  1.538173e+12         29              Time For Miracles     200   \n",
       "3  1.538332e+12          8    Knocking On Forbidden Doors     200   \n",
       "4  1.538173e+12         29  Harder Better Faster Stronger     200   \n",
       "\n",
       "              ts                                          userAgent userId  \n",
       "0  1538352117000  Mozilla/5.0 (Windows NT 6.1; WOW64; rv:31.0) G...     30  \n",
       "1  1538352180000  \"Mozilla/5.0 (Windows NT 6.1; WOW64) AppleWebK...      9  \n",
       "2  1538352394000  Mozilla/5.0 (Windows NT 6.1; WOW64; rv:31.0) G...     30  \n",
       "3  1538352416000  \"Mozilla/5.0 (Windows NT 6.1; WOW64) AppleWebK...      9  \n",
       "4  1538352676000  Mozilla/5.0 (Windows NT 6.1; WOW64; rv:31.0) G...     30  "
      ]
     },
     "execution_count": 7,
     "metadata": {},
     "output_type": "execute_result"
    }
   ],
   "source": [
    "# Readable dataframe head using pandas\n",
    "df_pd = df.toPandas()\n",
    "df_pd.head()"
   ]
  },
  {
   "cell_type": "markdown",
   "metadata": {},
   "source": [
    "### Shape of DataFrame"
   ]
  },
  {
   "cell_type": "code",
   "execution_count": 9,
   "metadata": {},
   "outputs": [
    {
     "data": {
      "text/markdown": [
       "#### Number of entries: 286500"
      ],
      "text/plain": [
       "<IPython.core.display.Markdown object>"
      ]
     },
     "metadata": {},
     "output_type": "display_data"
    },
    {
     "data": {
      "text/markdown": [
       "#### Number of columns: 18"
      ],
      "text/plain": [
       "<IPython.core.display.Markdown object>"
      ]
     },
     "metadata": {},
     "output_type": "display_data"
    }
   ],
   "source": [
    "printmd('#### Number of entries: ' + str(df.count()))\n",
    "printmd('#### Number of columns: ' + str(len(df.columns)))"
   ]
  },
  {
   "cell_type": "markdown",
   "metadata": {},
   "source": [
    "### Describe the Dataframe"
   ]
  },
  {
   "cell_type": "code",
   "execution_count": 9,
   "metadata": {},
   "outputs": [
    {
     "data": {
      "text/html": [
       "<div>\n",
       "<style scoped>\n",
       "    .dataframe tbody tr th:only-of-type {\n",
       "        vertical-align: middle;\n",
       "    }\n",
       "\n",
       "    .dataframe tbody tr th {\n",
       "        vertical-align: top;\n",
       "    }\n",
       "\n",
       "    .dataframe thead th {\n",
       "        text-align: right;\n",
       "    }\n",
       "</style>\n",
       "<table border=\"1\" class=\"dataframe\">\n",
       "  <thead>\n",
       "    <tr style=\"text-align: right;\">\n",
       "      <th></th>\n",
       "      <th>itemInSession</th>\n",
       "      <th>length</th>\n",
       "      <th>registration</th>\n",
       "      <th>sessionId</th>\n",
       "      <th>status</th>\n",
       "      <th>ts</th>\n",
       "    </tr>\n",
       "  </thead>\n",
       "  <tbody>\n",
       "    <tr>\n",
       "      <th>count</th>\n",
       "      <td>286500.000000</td>\n",
       "      <td>228108.000000</td>\n",
       "      <td>2.781540e+05</td>\n",
       "      <td>286500.000000</td>\n",
       "      <td>286500.000000</td>\n",
       "      <td>2.865000e+05</td>\n",
       "    </tr>\n",
       "    <tr>\n",
       "      <th>mean</th>\n",
       "      <td>114.414213</td>\n",
       "      <td>249.117182</td>\n",
       "      <td>1.535359e+12</td>\n",
       "      <td>1041.526555</td>\n",
       "      <td>210.054597</td>\n",
       "      <td>1.540957e+12</td>\n",
       "    </tr>\n",
       "    <tr>\n",
       "      <th>std</th>\n",
       "      <td>129.767262</td>\n",
       "      <td>99.235179</td>\n",
       "      <td>3.291322e+09</td>\n",
       "      <td>726.776263</td>\n",
       "      <td>31.505078</td>\n",
       "      <td>1.507544e+09</td>\n",
       "    </tr>\n",
       "    <tr>\n",
       "      <th>min</th>\n",
       "      <td>0.000000</td>\n",
       "      <td>0.783220</td>\n",
       "      <td>1.521381e+12</td>\n",
       "      <td>1.000000</td>\n",
       "      <td>200.000000</td>\n",
       "      <td>1.538352e+12</td>\n",
       "    </tr>\n",
       "    <tr>\n",
       "      <th>25%</th>\n",
       "      <td>27.000000</td>\n",
       "      <td>199.888530</td>\n",
       "      <td>1.533522e+12</td>\n",
       "      <td>336.000000</td>\n",
       "      <td>200.000000</td>\n",
       "      <td>1.539697e+12</td>\n",
       "    </tr>\n",
       "    <tr>\n",
       "      <th>50%</th>\n",
       "      <td>70.000000</td>\n",
       "      <td>234.500770</td>\n",
       "      <td>1.536664e+12</td>\n",
       "      <td>1013.000000</td>\n",
       "      <td>200.000000</td>\n",
       "      <td>1.540932e+12</td>\n",
       "    </tr>\n",
       "    <tr>\n",
       "      <th>75%</th>\n",
       "      <td>156.250000</td>\n",
       "      <td>277.158730</td>\n",
       "      <td>1.537672e+12</td>\n",
       "      <td>1675.000000</td>\n",
       "      <td>200.000000</td>\n",
       "      <td>1.542266e+12</td>\n",
       "    </tr>\n",
       "    <tr>\n",
       "      <th>max</th>\n",
       "      <td>1321.000000</td>\n",
       "      <td>3024.665670</td>\n",
       "      <td>1.543247e+12</td>\n",
       "      <td>2474.000000</td>\n",
       "      <td>404.000000</td>\n",
       "      <td>1.543799e+12</td>\n",
       "    </tr>\n",
       "  </tbody>\n",
       "</table>\n",
       "</div>"
      ],
      "text/plain": [
       "       itemInSession         length  registration      sessionId  \\\n",
       "count  286500.000000  228108.000000  2.781540e+05  286500.000000   \n",
       "mean      114.414213     249.117182  1.535359e+12    1041.526555   \n",
       "std       129.767262      99.235179  3.291322e+09     726.776263   \n",
       "min         0.000000       0.783220  1.521381e+12       1.000000   \n",
       "25%        27.000000     199.888530  1.533522e+12     336.000000   \n",
       "50%        70.000000     234.500770  1.536664e+12    1013.000000   \n",
       "75%       156.250000     277.158730  1.537672e+12    1675.000000   \n",
       "max      1321.000000    3024.665670  1.543247e+12    2474.000000   \n",
       "\n",
       "              status            ts  \n",
       "count  286500.000000  2.865000e+05  \n",
       "mean      210.054597  1.540957e+12  \n",
       "std        31.505078  1.507544e+09  \n",
       "min       200.000000  1.538352e+12  \n",
       "25%       200.000000  1.539697e+12  \n",
       "50%       200.000000  1.540932e+12  \n",
       "75%       200.000000  1.542266e+12  \n",
       "max       404.000000  1.543799e+12  "
      ]
     },
     "execution_count": 9,
     "metadata": {},
     "output_type": "execute_result"
    }
   ],
   "source": [
    "df.toPandas().describe()"
   ]
  },
  {
   "cell_type": "markdown",
   "metadata": {},
   "source": [
    "### Check for unique values"
   ]
  },
  {
   "cell_type": "code",
   "execution_count": 10,
   "metadata": {},
   "outputs": [
    {
     "name": "stdout",
     "output_type": "stream",
     "text": [
      "+------+----+---------+------+-------------+--------+------+-----+--------+------+----+------------+---------+-----+------+------+---------+------+\n",
      "|artist|auth|firstName|gender|itemInSession|lastName|length|level|location|method|page|registration|sessionId| song|status|    ts|userAgent|userId|\n",
      "+------+----+---------+------+-------------+--------+------+-----+--------+------+----+------------+---------+-----+------+------+---------+------+\n",
      "| 17655|   4|      189|     2|         1322|     173| 14865|    2|     114|     2|  22|         225|     2354|58480|     3|277447|       56|   226|\n",
      "+------+----+---------+------+-------------+--------+------+-----+--------+------+----+------------+---------+-----+------+------+---------+------+\n",
      "\n"
     ]
    }
   ],
   "source": [
    "# count for unique value for each column\n",
    "df.agg(*(countDistinct(col(c)).alias(c) for c in df.columns)).show()"
   ]
  },
  {
   "cell_type": "markdown",
   "metadata": {},
   "source": [
    "### Check for missing values"
   ]
  },
  {
   "cell_type": "code",
   "execution_count": 11,
   "metadata": {},
   "outputs": [
    {
     "name": "stdout",
     "output_type": "stream",
     "text": [
      "+------+----+---------+------+-------------+--------+------+-----+--------+------+----+------------+---------+-----+------+---+---------+------+\n",
      "|artist|auth|firstName|gender|itemInSession|lastName|length|level|location|method|page|registration|sessionId| song|status| ts|userAgent|userId|\n",
      "+------+----+---------+------+-------------+--------+------+-----+--------+------+----+------------+---------+-----+------+---+---------+------+\n",
      "| 58392|   0|     8346|  8346|            0|    8346| 58392|    0|    8346|     0|   0|        8346|        0|58392|     0|  0|     8346|     0|\n",
      "+------+----+---------+------+-------------+--------+------+-----+--------+------+----+------------+---------+-----+------+---+---------+------+\n",
      "\n"
     ]
    }
   ],
   "source": [
    "# count null values for each column\n",
    "df_nulls = df.select([psqf.count(psqf.when(psqf.isnull(c), c)).alias(c) for c in df.columns]).show()"
   ]
  },
  {
   "cell_type": "markdown",
   "metadata": {},
   "source": [
    "### Result: \n",
    "- There are 286500 entries in the dataframe \n",
    "- There are 226 unique users, 189 unique last names and 56 unique first names.\n",
    "- There are 2354 unique sseeionIds.\n",
    "- There 8346 user without first and last name and without gender. They seem to be anonymous. \n",
    "- However: There are 0 null userIds. To do: Check the userId value for those 8346 users.\n",
    "- There are 0 null sessionIds"
   ]
  },
  {
   "cell_type": "markdown",
   "metadata": {},
   "source": [
    "### Check for uncommon entries: userId and sessionId"
   ]
  },
  {
   "cell_type": "code",
   "execution_count": 12,
   "metadata": {},
   "outputs": [],
   "source": [
    "# Missing userID\n",
    "number_missing_values = df.count() - df.dropna(how = \"any\", subset = [\"userId\", \"sessionId\"]).count()"
   ]
  },
  {
   "cell_type": "code",
   "execution_count": 13,
   "metadata": {},
   "outputs": [
    {
     "data": {
      "text/markdown": [
       "#### There are 0 missing values for userId and sessionId"
      ],
      "text/plain": [
       "<IPython.core.display.Markdown object>"
      ]
     },
     "metadata": {},
     "output_type": "display_data"
    }
   ],
   "source": [
    "printmd('#### There are ' + str(number_missing_values) + ' missing values for userId and sessionId')"
   ]
  },
  {
   "cell_type": "code",
   "execution_count": 14,
   "metadata": {},
   "outputs": [
    {
     "name": "stdout",
     "output_type": "stream",
     "text": [
      "+-------+-----------------+\n",
      "|summary|           userId|\n",
      "+-------+-----------------+\n",
      "|  count|           286500|\n",
      "|   mean|59682.02278593872|\n",
      "| stddev|109091.9499991047|\n",
      "|    min|                 |\n",
      "|    max|               99|\n",
      "+-------+-----------------+\n",
      "\n"
     ]
    }
   ],
   "source": [
    "df.describe(\"userId\").show()"
   ]
  },
  {
   "cell_type": "code",
   "execution_count": 15,
   "metadata": {},
   "outputs": [
    {
     "name": "stdout",
     "output_type": "stream",
     "text": [
      "+------+\n",
      "|userId|\n",
      "+------+\n",
      "|      |\n",
      "|    10|\n",
      "|   100|\n",
      "|100001|\n",
      "|100002|\n",
      "|100003|\n",
      "|100004|\n",
      "|100005|\n",
      "|100006|\n",
      "|100007|\n",
      "|100008|\n",
      "|100009|\n",
      "|100010|\n",
      "|100011|\n",
      "|100012|\n",
      "|100013|\n",
      "|100014|\n",
      "|100015|\n",
      "|100016|\n",
      "|100017|\n",
      "+------+\n",
      "only showing top 20 rows\n",
      "\n"
     ]
    }
   ],
   "source": [
    "df.select(\"userId\").dropDuplicates().sort(\"userId\").show()"
   ]
  },
  {
   "cell_type": "code",
   "execution_count": 16,
   "metadata": {},
   "outputs": [],
   "source": [
    "empty_string_user = df[df[\"userId\"] == \"\"]"
   ]
  },
  {
   "cell_type": "code",
   "execution_count": 17,
   "metadata": {},
   "outputs": [],
   "source": [
    "number_empty_string_user = empty_string_user.count()"
   ]
  },
  {
   "cell_type": "code",
   "execution_count": 18,
   "metadata": {},
   "outputs": [
    {
     "data": {
      "text/markdown": [
       "#### There are 8346 userId with empty string"
      ],
      "text/plain": [
       "<IPython.core.display.Markdown object>"
      ]
     },
     "metadata": {},
     "output_type": "display_data"
    }
   ],
   "source": [
    "printmd('#### There are '+ str(number_empty_string_user) + ' userId with empty string')"
   ]
  },
  {
   "cell_type": "code",
   "execution_count": 19,
   "metadata": {},
   "outputs": [
    {
     "name": "stdout",
     "output_type": "stream",
     "text": [
      "+------+---------+--------+------+-----+\n",
      "|userId|firstName|lastName|gender|level|\n",
      "+------+---------+--------+------+-----+\n",
      "|      |     null|    null|  null| free|\n",
      "|      |     null|    null|  null| free|\n",
      "|      |     null|    null|  null| free|\n",
      "|      |     null|    null|  null| free|\n",
      "|      |     null|    null|  null| free|\n",
      "|      |     null|    null|  null| free|\n",
      "|      |     null|    null|  null| free|\n",
      "|      |     null|    null|  null| free|\n",
      "|      |     null|    null|  null| free|\n",
      "|      |     null|    null|  null| free|\n",
      "|      |     null|    null|  null| free|\n",
      "|      |     null|    null|  null| free|\n",
      "|      |     null|    null|  null| free|\n",
      "|      |     null|    null|  null| free|\n",
      "|      |     null|    null|  null| free|\n",
      "|      |     null|    null|  null| free|\n",
      "|      |     null|    null|  null| free|\n",
      "|      |     null|    null|  null| free|\n",
      "|      |     null|    null|  null| free|\n",
      "|      |     null|    null|  null| free|\n",
      "+------+---------+--------+------+-----+\n",
      "only showing top 20 rows\n",
      "\n"
     ]
    }
   ],
   "source": [
    "df.select([\"userId\", \"firstName\", \"lastName\", \"gender\", \"level\"]).where(df.userId== \"\").show()"
   ]
  },
  {
   "cell_type": "code",
   "execution_count": 20,
   "metadata": {},
   "outputs": [
    {
     "name": "stdout",
     "output_type": "stream",
     "text": [
      "+------+---------+--------+------+\n",
      "|userId|firstName|lastName|gender|\n",
      "+------+---------+--------+------+\n",
      "|      |     null|    null|  null|\n",
      "+------+---------+--------+------+\n",
      "\n"
     ]
    }
   ],
   "source": [
    "df.select([\"userId\", \"firstName\", \"lastName\", \"gender\"]).where(df.userId== \"\").dropDuplicates().show()"
   ]
  },
  {
   "cell_type": "code",
   "execution_count": 21,
   "metadata": {},
   "outputs": [
    {
     "data": {
      "text/plain": [
       "8346"
      ]
     },
     "execution_count": 21,
     "metadata": {},
     "output_type": "execute_result"
    }
   ],
   "source": [
    "df.select([\"userId\", \"firstName\", \"lastName\", \"gender\"]).where(df.userId== \"\").count()"
   ]
  },
  {
   "cell_type": "code",
   "execution_count": 22,
   "metadata": {},
   "outputs": [
    {
     "data": {
      "text/plain": [
       "8346"
      ]
     },
     "execution_count": 22,
     "metadata": {},
     "output_type": "execute_result"
    }
   ],
   "source": [
    "df.select([\"userId\", \"firstName\", \"lastName\", \"gender\", \"level\"]).where(df.userId== \"\").count()"
   ]
  },
  {
   "cell_type": "markdown",
   "metadata": {},
   "source": [
    "#### Result: \n",
    "- All users with \"empty string\" userId did not provide their first name, last name and gender. \n",
    "- They are anonymous and free users. "
   ]
  },
  {
   "cell_type": "markdown",
   "metadata": {},
   "source": [
    "### For the registered users: How many paid/free accounts are there?"
   ]
  },
  {
   "cell_type": "code",
   "execution_count": 87,
   "metadata": {},
   "outputs": [
    {
     "data": {
      "text/markdown": [
       "#### There are 48 paid accounts"
      ],
      "text/plain": [
       "<IPython.core.display.Markdown object>"
      ]
     },
     "metadata": {},
     "output_type": "display_data"
    }
   ],
   "source": [
    "num_paid_accounts = df.drop_duplicates(subset=['userId']).where(df.level ==\"paid\").count()\n",
    "printmd('#### There are ' + str(num_paid_accounts) + ' paid accounts')"
   ]
  },
  {
   "cell_type": "code",
   "execution_count": 88,
   "metadata": {},
   "outputs": [
    {
     "data": {
      "text/markdown": [
       "#### There are 177 free accounts"
      ],
      "text/plain": [
       "<IPython.core.display.Markdown object>"
      ]
     },
     "metadata": {},
     "output_type": "display_data"
    }
   ],
   "source": [
    "num_free_accounts = df.drop_duplicates(subset=['userId']).where(df.level ==\"free\").count()\n",
    "printmd('#### There are ' + str(num_free_accounts) + ' free accounts')"
   ]
  },
  {
   "cell_type": "code",
   "execution_count": 94,
   "metadata": {},
   "outputs": [
    {
     "data": {
      "text/html": [
       "<div>\n",
       "<style scoped>\n",
       "    .dataframe tbody tr th:only-of-type {\n",
       "        vertical-align: middle;\n",
       "    }\n",
       "\n",
       "    .dataframe tbody tr th {\n",
       "        vertical-align: top;\n",
       "    }\n",
       "\n",
       "    .dataframe thead th {\n",
       "        text-align: right;\n",
       "    }\n",
       "</style>\n",
       "<table border=\"1\" class=\"dataframe\">\n",
       "  <thead>\n",
       "    <tr style=\"text-align: right;\">\n",
       "      <th></th>\n",
       "      <th>account_type</th>\n",
       "      <th>count</th>\n",
       "    </tr>\n",
       "  </thead>\n",
       "  <tbody>\n",
       "    <tr>\n",
       "      <th>0</th>\n",
       "      <td>paid</td>\n",
       "      <td>48</td>\n",
       "    </tr>\n",
       "    <tr>\n",
       "      <th>1</th>\n",
       "      <td>free</td>\n",
       "      <td>177</td>\n",
       "    </tr>\n",
       "  </tbody>\n",
       "</table>\n",
       "</div>"
      ],
      "text/plain": [
       "  account_type  count\n",
       "0         paid     48\n",
       "1         free    177"
      ]
     },
     "metadata": {},
     "output_type": "display_data"
    },
    {
     "data": {
      "image/png": "[encoded data removed]",
      "text/plain": [
       "<matplotlib.figure.Figure at 0x7f9331cf1470>"
      ]
     },
     "metadata": {},
     "output_type": "display_data"
    }
   ],
   "source": [
    "accountType_distribution_pd = pd.DataFrame({'account_type': ['paid', 'free'], 'count': [num_paid_accounts, num_free_accounts]})\n",
    "display(accountType_distribution_pd)\n",
    "\n",
    "plot_sns_bar(x='account_type',\n",
    "             y='count', \n",
    "             data=accountType_distribution_pd, \n",
    "             title='Account type distribution of users', \n",
    "             xlabel='account_type', \n",
    "             ylabel='count', \n",
    "             save=True, \n",
    "             hide_xtick=False, \n",
    "             order=False)"
   ]
  },
  {
   "cell_type": "markdown",
   "metadata": {},
   "source": [
    "### What are the web pages a user can visit?"
   ]
  },
  {
   "cell_type": "code",
   "execution_count": 26,
   "metadata": {},
   "outputs": [
    {
     "name": "stdout",
     "output_type": "stream",
     "text": [
      "+--------------------+\n",
      "|                page|\n",
      "+--------------------+\n",
      "|               About|\n",
      "|          Add Friend|\n",
      "|     Add to Playlist|\n",
      "|              Cancel|\n",
      "|Cancellation Conf...|\n",
      "|           Downgrade|\n",
      "|               Error|\n",
      "|                Help|\n",
      "|                Home|\n",
      "|               Login|\n",
      "|              Logout|\n",
      "|            NextSong|\n",
      "|            Register|\n",
      "|         Roll Advert|\n",
      "|       Save Settings|\n",
      "|            Settings|\n",
      "|    Submit Downgrade|\n",
      "| Submit Registration|\n",
      "|      Submit Upgrade|\n",
      "|         Thumbs Down|\n",
      "|           Thumbs Up|\n",
      "|             Upgrade|\n",
      "+--------------------+\n",
      "\n"
     ]
    }
   ],
   "source": [
    "df.select(\"page\").dropDuplicates().sort(\"page\").show(n=50)"
   ]
  },
  {
   "cell_type": "code",
   "execution_count": 156,
   "metadata": {},
   "outputs": [],
   "source": [
    "page_elements = df.select(\"page\").dropDuplicates().rdd.flatMap(lambda x: x).collect()"
   ]
  },
  {
   "cell_type": "markdown",
   "metadata": {},
   "source": [
    "### Total page activity count"
   ]
  },
  {
   "cell_type": "code",
   "execution_count": 129,
   "metadata": {},
   "outputs": [
    {
     "name": "stdout",
     "output_type": "stream",
     "text": [
      "+--------------------+------+\n",
      "|                page| count|\n",
      "+--------------------+------+\n",
      "|              Cancel|    52|\n",
      "|    Submit Downgrade|    63|\n",
      "|         Thumbs Down|  2546|\n",
      "|                Home| 14457|\n",
      "|           Downgrade|  2055|\n",
      "|         Roll Advert|  3933|\n",
      "|              Logout|  3226|\n",
      "|       Save Settings|   310|\n",
      "|Cancellation Conf...|    52|\n",
      "|               About|   924|\n",
      "| Submit Registration|     5|\n",
      "|            Settings|  1514|\n",
      "|               Login|  3241|\n",
      "|            Register|    18|\n",
      "|     Add to Playlist|  6526|\n",
      "|          Add Friend|  4277|\n",
      "|            NextSong|228108|\n",
      "|           Thumbs Up| 12551|\n",
      "|                Help|  1726|\n",
      "|             Upgrade|   499|\n",
      "+--------------------+------+\n",
      "only showing top 20 rows\n",
      "\n"
     ]
    }
   ],
   "source": [
    "total_page_activity_count = df.select('userId', 'page').groupby('page').count()\n",
    "total_page_activity_count.show()"
   ]
  },
  {
   "cell_type": "code",
   "execution_count": 143,
   "metadata": {},
   "outputs": [
    {
     "data": {
      "image/png": "[encoded data removed]",
      "text/plain": [
       "<matplotlib.figure.Figure at 0x7f1eb1e8dba8>"
      ]
     },
     "metadata": {
      "needs_background": "light"
     },
     "output_type": "display_data"
    }
   ],
   "source": [
    "total_page_activity_count_pd = total_page_activity_count.toPandas()\n",
    "\n",
    "plot_sns_bar(x='page',\n",
    "             y='count', \n",
    "             data=total_page_activity_count_pd, \n",
    "             log=True, \n",
    "             title='Total number of user web page activity', \n",
    "             xlabel='web page', \n",
    "             ylabel='count', \n",
    "             figsize=(15,5),\n",
    "             save=True, \n",
    "             hide_xtick=False, \n",
    "             rotation=70, \n",
    "             order=True, \n",
    "             sort_by='count', \n",
    "             ascending=False)"
   ]
  },
  {
   "cell_type": "markdown",
   "metadata": {},
   "source": [
    "### Total number of songs played"
   ]
  },
  {
   "cell_type": "code",
   "execution_count": 29,
   "metadata": {},
   "outputs": [
    {
     "data": {
      "text/plain": [
       "228108"
      ]
     },
     "execution_count": 29,
     "metadata": {},
     "output_type": "execute_result"
    }
   ],
   "source": [
    "df.where(df.page=='NextSong').count()"
   ]
  },
  {
   "cell_type": "markdown",
   "metadata": {},
   "source": [
    "## <a class=\"anchor\" id=\"df_example_study\">Study DataFrame for based on userId</a>\n",
    "\n",
    "- Study the the DataFrame based on a provided userId. \n",
    "- Change the **userId in the next cell** to test different users"
   ]
  },
  {
   "cell_type": "code",
   "execution_count": 188,
   "metadata": {},
   "outputs": [],
   "source": [
    "userId = 131"
   ]
  },
  {
   "cell_type": "markdown",
   "metadata": {},
   "source": [
    "### Overview"
   ]
  },
  {
   "cell_type": "code",
   "execution_count": 189,
   "metadata": {},
   "outputs": [
    {
     "data": {
      "text/html": [
       "<div>\n",
       "<style scoped>\n",
       "    .dataframe tbody tr th:only-of-type {\n",
       "        vertical-align: middle;\n",
       "    }\n",
       "\n",
       "    .dataframe tbody tr th {\n",
       "        vertical-align: top;\n",
       "    }\n",
       "\n",
       "    .dataframe thead th {\n",
       "        text-align: right;\n",
       "    }\n",
       "</style>\n",
       "<table border=\"1\" class=\"dataframe\">\n",
       "  <thead>\n",
       "    <tr style=\"text-align: right;\">\n",
       "      <th></th>\n",
       "      <th>artist</th>\n",
       "      <th>auth</th>\n",
       "      <th>firstName</th>\n",
       "      <th>gender</th>\n",
       "      <th>itemInSession</th>\n",
       "      <th>lastName</th>\n",
       "      <th>length</th>\n",
       "      <th>level</th>\n",
       "      <th>location</th>\n",
       "      <th>method</th>\n",
       "      <th>page</th>\n",
       "      <th>registration</th>\n",
       "      <th>sessionId</th>\n",
       "      <th>song</th>\n",
       "      <th>status</th>\n",
       "      <th>ts</th>\n",
       "      <th>userAgent</th>\n",
       "      <th>userId</th>\n",
       "      <th>churn</th>\n",
       "    </tr>\n",
       "  </thead>\n",
       "  <tbody>\n",
       "    <tr>\n",
       "      <th>0</th>\n",
       "      <td>Metallica</td>\n",
       "      <td>Logged In</td>\n",
       "      <td>Kael</td>\n",
       "      <td>M</td>\n",
       "      <td>0</td>\n",
       "      <td>Baker</td>\n",
       "      <td>415.16363</td>\n",
       "      <td>free</td>\n",
       "      <td>Kingsport-Bristol-Bristol, TN-VA</td>\n",
       "      <td>PUT</td>\n",
       "      <td>NextSong</td>\n",
       "      <td>1533102330000</td>\n",
       "      <td>249</td>\n",
       "      <td>Fade To Black</td>\n",
       "      <td>200</td>\n",
       "      <td>1538384355000</td>\n",
       "      <td>\"Mozilla/5.0 (Macintosh; Intel Mac OS X 10_9_4...</td>\n",
       "      <td>131</td>\n",
       "      <td>0</td>\n",
       "    </tr>\n",
       "    <tr>\n",
       "      <th>1</th>\n",
       "      <td>Pearl Jam</td>\n",
       "      <td>Logged In</td>\n",
       "      <td>Kael</td>\n",
       "      <td>M</td>\n",
       "      <td>1</td>\n",
       "      <td>Baker</td>\n",
       "      <td>276.40118</td>\n",
       "      <td>free</td>\n",
       "      <td>Kingsport-Bristol-Bristol, TN-VA</td>\n",
       "      <td>PUT</td>\n",
       "      <td>NextSong</td>\n",
       "      <td>1533102330000</td>\n",
       "      <td>249</td>\n",
       "      <td>Nothingman (Live)</td>\n",
       "      <td>200</td>\n",
       "      <td>1538384770000</td>\n",
       "      <td>\"Mozilla/5.0 (Macintosh; Intel Mac OS X 10_9_4...</td>\n",
       "      <td>131</td>\n",
       "      <td>0</td>\n",
       "    </tr>\n",
       "    <tr>\n",
       "      <th>2</th>\n",
       "      <td>Frumpies</td>\n",
       "      <td>Logged In</td>\n",
       "      <td>Kael</td>\n",
       "      <td>M</td>\n",
       "      <td>2</td>\n",
       "      <td>Baker</td>\n",
       "      <td>134.47791</td>\n",
       "      <td>free</td>\n",
       "      <td>Kingsport-Bristol-Bristol, TN-VA</td>\n",
       "      <td>PUT</td>\n",
       "      <td>NextSong</td>\n",
       "      <td>1533102330000</td>\n",
       "      <td>249</td>\n",
       "      <td>Fuck Kitty</td>\n",
       "      <td>200</td>\n",
       "      <td>1538385046000</td>\n",
       "      <td>\"Mozilla/5.0 (Macintosh; Intel Mac OS X 10_9_4...</td>\n",
       "      <td>131</td>\n",
       "      <td>0</td>\n",
       "    </tr>\n",
       "    <tr>\n",
       "      <th>3</th>\n",
       "      <td>Kaiser Chiefs</td>\n",
       "      <td>Logged In</td>\n",
       "      <td>Kael</td>\n",
       "      <td>M</td>\n",
       "      <td>3</td>\n",
       "      <td>Baker</td>\n",
       "      <td>222.82404</td>\n",
       "      <td>free</td>\n",
       "      <td>Kingsport-Bristol-Bristol, TN-VA</td>\n",
       "      <td>PUT</td>\n",
       "      <td>NextSong</td>\n",
       "      <td>1533102330000</td>\n",
       "      <td>249</td>\n",
       "      <td>Half The Truth</td>\n",
       "      <td>200</td>\n",
       "      <td>1538385180000</td>\n",
       "      <td>\"Mozilla/5.0 (Macintosh; Intel Mac OS X 10_9_4...</td>\n",
       "      <td>131</td>\n",
       "      <td>0</td>\n",
       "    </tr>\n",
       "    <tr>\n",
       "      <th>4</th>\n",
       "      <td>Kelly Clarkson</td>\n",
       "      <td>Logged In</td>\n",
       "      <td>Kael</td>\n",
       "      <td>M</td>\n",
       "      <td>4</td>\n",
       "      <td>Baker</td>\n",
       "      <td>156.65587</td>\n",
       "      <td>free</td>\n",
       "      <td>Kingsport-Bristol-Bristol, TN-VA</td>\n",
       "      <td>PUT</td>\n",
       "      <td>NextSong</td>\n",
       "      <td>1533102330000</td>\n",
       "      <td>249</td>\n",
       "      <td>(You Make Me Feel Like A) Natural Woman</td>\n",
       "      <td>200</td>\n",
       "      <td>1538385402000</td>\n",
       "      <td>\"Mozilla/5.0 (Macintosh; Intel Mac OS X 10_9_4...</td>\n",
       "      <td>131</td>\n",
       "      <td>0</td>\n",
       "    </tr>\n",
       "    <tr>\n",
       "      <th>5</th>\n",
       "      <td>Darude</td>\n",
       "      <td>Logged In</td>\n",
       "      <td>Kael</td>\n",
       "      <td>M</td>\n",
       "      <td>5</td>\n",
       "      <td>Baker</td>\n",
       "      <td>516.28363</td>\n",
       "      <td>free</td>\n",
       "      <td>Kingsport-Bristol-Bristol, TN-VA</td>\n",
       "      <td>PUT</td>\n",
       "      <td>NextSong</td>\n",
       "      <td>1533102330000</td>\n",
       "      <td>249</td>\n",
       "      <td>Feel The Beat</td>\n",
       "      <td>200</td>\n",
       "      <td>1538385558000</td>\n",
       "      <td>\"Mozilla/5.0 (Macintosh; Intel Mac OS X 10_9_4...</td>\n",
       "      <td>131</td>\n",
       "      <td>0</td>\n",
       "    </tr>\n",
       "    <tr>\n",
       "      <th>6</th>\n",
       "      <td>Bloc Party</td>\n",
       "      <td>Logged In</td>\n",
       "      <td>Kael</td>\n",
       "      <td>M</td>\n",
       "      <td>6</td>\n",
       "      <td>Baker</td>\n",
       "      <td>235.65016</td>\n",
       "      <td>free</td>\n",
       "      <td>Kingsport-Bristol-Bristol, TN-VA</td>\n",
       "      <td>PUT</td>\n",
       "      <td>NextSong</td>\n",
       "      <td>1533102330000</td>\n",
       "      <td>249</td>\n",
       "      <td>Luno</td>\n",
       "      <td>200</td>\n",
       "      <td>1538386074000</td>\n",
       "      <td>\"Mozilla/5.0 (Macintosh; Intel Mac OS X 10_9_4...</td>\n",
       "      <td>131</td>\n",
       "      <td>0</td>\n",
       "    </tr>\n",
       "    <tr>\n",
       "      <th>7</th>\n",
       "      <td>Helen Reddy</td>\n",
       "      <td>Logged In</td>\n",
       "      <td>Kael</td>\n",
       "      <td>M</td>\n",
       "      <td>7</td>\n",
       "      <td>Baker</td>\n",
       "      <td>211.35628</td>\n",
       "      <td>free</td>\n",
       "      <td>Kingsport-Bristol-Bristol, TN-VA</td>\n",
       "      <td>PUT</td>\n",
       "      <td>NextSong</td>\n",
       "      <td>1533102330000</td>\n",
       "      <td>249</td>\n",
       "      <td>Angie Baby</td>\n",
       "      <td>200</td>\n",
       "      <td>1538386309000</td>\n",
       "      <td>\"Mozilla/5.0 (Macintosh; Intel Mac OS X 10_9_4...</td>\n",
       "      <td>131</td>\n",
       "      <td>0</td>\n",
       "    </tr>\n",
       "    <tr>\n",
       "      <th>8</th>\n",
       "      <td>Cosmo Vitelli</td>\n",
       "      <td>Logged In</td>\n",
       "      <td>Kael</td>\n",
       "      <td>M</td>\n",
       "      <td>8</td>\n",
       "      <td>Baker</td>\n",
       "      <td>206.05342</td>\n",
       "      <td>free</td>\n",
       "      <td>Kingsport-Bristol-Bristol, TN-VA</td>\n",
       "      <td>PUT</td>\n",
       "      <td>NextSong</td>\n",
       "      <td>1533102330000</td>\n",
       "      <td>249</td>\n",
       "      <td>Robot Soul (Radio Edit)</td>\n",
       "      <td>200</td>\n",
       "      <td>1538386520000</td>\n",
       "      <td>\"Mozilla/5.0 (Macintosh; Intel Mac OS X 10_9_4...</td>\n",
       "      <td>131</td>\n",
       "      <td>0</td>\n",
       "    </tr>\n",
       "    <tr>\n",
       "      <th>9</th>\n",
       "      <td>Eminem</td>\n",
       "      <td>Logged In</td>\n",
       "      <td>Kael</td>\n",
       "      <td>M</td>\n",
       "      <td>9</td>\n",
       "      <td>Baker</td>\n",
       "      <td>251.55873</td>\n",
       "      <td>free</td>\n",
       "      <td>Kingsport-Bristol-Bristol, TN-VA</td>\n",
       "      <td>PUT</td>\n",
       "      <td>NextSong</td>\n",
       "      <td>1533102330000</td>\n",
       "      <td>249</td>\n",
       "      <td>Without Me</td>\n",
       "      <td>200</td>\n",
       "      <td>1538386726000</td>\n",
       "      <td>\"Mozilla/5.0 (Macintosh; Intel Mac OS X 10_9_4...</td>\n",
       "      <td>131</td>\n",
       "      <td>0</td>\n",
       "    </tr>\n",
       "    <tr>\n",
       "      <th>10</th>\n",
       "      <td>I Was A Cub Scout</td>\n",
       "      <td>Logged In</td>\n",
       "      <td>Kael</td>\n",
       "      <td>M</td>\n",
       "      <td>10</td>\n",
       "      <td>Baker</td>\n",
       "      <td>216.99873</td>\n",
       "      <td>free</td>\n",
       "      <td>Kingsport-Bristol-Bristol, TN-VA</td>\n",
       "      <td>PUT</td>\n",
       "      <td>NextSong</td>\n",
       "      <td>1533102330000</td>\n",
       "      <td>249</td>\n",
       "      <td>Close To Me</td>\n",
       "      <td>200</td>\n",
       "      <td>1538386977000</td>\n",
       "      <td>\"Mozilla/5.0 (Macintosh; Intel Mac OS X 10_9_4...</td>\n",
       "      <td>131</td>\n",
       "      <td>0</td>\n",
       "    </tr>\n",
       "    <tr>\n",
       "      <th>11</th>\n",
       "      <td>Richard Grey feat.Sir.Charles</td>\n",
       "      <td>Logged In</td>\n",
       "      <td>Kael</td>\n",
       "      <td>M</td>\n",
       "      <td>11</td>\n",
       "      <td>Baker</td>\n",
       "      <td>411.42812</td>\n",
       "      <td>free</td>\n",
       "      <td>Kingsport-Bristol-Bristol, TN-VA</td>\n",
       "      <td>PUT</td>\n",
       "      <td>NextSong</td>\n",
       "      <td>1533102330000</td>\n",
       "      <td>249</td>\n",
       "      <td>Don't Take My Love Away (Al Velilla)</td>\n",
       "      <td>200</td>\n",
       "      <td>1538387193000</td>\n",
       "      <td>\"Mozilla/5.0 (Macintosh; Intel Mac OS X 10_9_4...</td>\n",
       "      <td>131</td>\n",
       "      <td>0</td>\n",
       "    </tr>\n",
       "    <tr>\n",
       "      <th>12</th>\n",
       "      <td>Ne-Yo / LL Cool J</td>\n",
       "      <td>Logged In</td>\n",
       "      <td>Kael</td>\n",
       "      <td>M</td>\n",
       "      <td>12</td>\n",
       "      <td>Baker</td>\n",
       "      <td>264.01914</td>\n",
       "      <td>free</td>\n",
       "      <td>Kingsport-Bristol-Bristol, TN-VA</td>\n",
       "      <td>PUT</td>\n",
       "      <td>NextSong</td>\n",
       "      <td>1533102330000</td>\n",
       "      <td>249</td>\n",
       "      <td>So Sick</td>\n",
       "      <td>200</td>\n",
       "      <td>1538387604000</td>\n",
       "      <td>\"Mozilla/5.0 (Macintosh; Intel Mac OS X 10_9_4...</td>\n",
       "      <td>131</td>\n",
       "      <td>0</td>\n",
       "    </tr>\n",
       "    <tr>\n",
       "      <th>13</th>\n",
       "      <td>Various Artists - Delicious Vinyl</td>\n",
       "      <td>Logged In</td>\n",
       "      <td>Kael</td>\n",
       "      <td>M</td>\n",
       "      <td>13</td>\n",
       "      <td>Baker</td>\n",
       "      <td>264.25424</td>\n",
       "      <td>free</td>\n",
       "      <td>Kingsport-Bristol-Bristol, TN-VA</td>\n",
       "      <td>PUT</td>\n",
       "      <td>NextSong</td>\n",
       "      <td>1533102330000</td>\n",
       "      <td>249</td>\n",
       "      <td>Bust A Move</td>\n",
       "      <td>200</td>\n",
       "      <td>1538387868000</td>\n",
       "      <td>\"Mozilla/5.0 (Macintosh; Intel Mac OS X 10_9_4...</td>\n",
       "      <td>131</td>\n",
       "      <td>0</td>\n",
       "    </tr>\n",
       "    <tr>\n",
       "      <th>14</th>\n",
       "      <td>Jonathan Butler</td>\n",
       "      <td>Logged In</td>\n",
       "      <td>Kael</td>\n",
       "      <td>M</td>\n",
       "      <td>14</td>\n",
       "      <td>Baker</td>\n",
       "      <td>195.89179</td>\n",
       "      <td>free</td>\n",
       "      <td>Kingsport-Bristol-Bristol, TN-VA</td>\n",
       "      <td>PUT</td>\n",
       "      <td>NextSong</td>\n",
       "      <td>1533102330000</td>\n",
       "      <td>249</td>\n",
       "      <td>Sugar Candy Kisses</td>\n",
       "      <td>200</td>\n",
       "      <td>1538388132000</td>\n",
       "      <td>\"Mozilla/5.0 (Macintosh; Intel Mac OS X 10_9_4...</td>\n",
       "      <td>131</td>\n",
       "      <td>0</td>\n",
       "    </tr>\n",
       "    <tr>\n",
       "      <th>15</th>\n",
       "      <td>Covenant</td>\n",
       "      <td>Logged In</td>\n",
       "      <td>Kael</td>\n",
       "      <td>M</td>\n",
       "      <td>15</td>\n",
       "      <td>Baker</td>\n",
       "      <td>300.19873</td>\n",
       "      <td>free</td>\n",
       "      <td>Kingsport-Bristol-Bristol, TN-VA</td>\n",
       "      <td>PUT</td>\n",
       "      <td>NextSong</td>\n",
       "      <td>1533102330000</td>\n",
       "      <td>249</td>\n",
       "      <td>XRDS</td>\n",
       "      <td>200</td>\n",
       "      <td>1538388327000</td>\n",
       "      <td>\"Mozilla/5.0 (Macintosh; Intel Mac OS X 10_9_4...</td>\n",
       "      <td>131</td>\n",
       "      <td>0</td>\n",
       "    </tr>\n",
       "    <tr>\n",
       "      <th>16</th>\n",
       "      <td>Beatsteaks</td>\n",
       "      <td>Logged In</td>\n",
       "      <td>Kael</td>\n",
       "      <td>M</td>\n",
       "      <td>16</td>\n",
       "      <td>Baker</td>\n",
       "      <td>169.24689</td>\n",
       "      <td>free</td>\n",
       "      <td>Kingsport-Bristol-Bristol, TN-VA</td>\n",
       "      <td>PUT</td>\n",
       "      <td>NextSong</td>\n",
       "      <td>1533102330000</td>\n",
       "      <td>249</td>\n",
       "      <td>48/49</td>\n",
       "      <td>200</td>\n",
       "      <td>1538388627000</td>\n",
       "      <td>\"Mozilla/5.0 (Macintosh; Intel Mac OS X 10_9_4...</td>\n",
       "      <td>131</td>\n",
       "      <td>0</td>\n",
       "    </tr>\n",
       "    <tr>\n",
       "      <th>17</th>\n",
       "      <td>Rachid Taha</td>\n",
       "      <td>Logged In</td>\n",
       "      <td>Kael</td>\n",
       "      <td>M</td>\n",
       "      <td>17</td>\n",
       "      <td>Baker</td>\n",
       "      <td>289.74975</td>\n",
       "      <td>free</td>\n",
       "      <td>Kingsport-Bristol-Bristol, TN-VA</td>\n",
       "      <td>PUT</td>\n",
       "      <td>NextSong</td>\n",
       "      <td>1533102330000</td>\n",
       "      <td>249</td>\n",
       "      <td>Kelma</td>\n",
       "      <td>200</td>\n",
       "      <td>1538388796000</td>\n",
       "      <td>\"Mozilla/5.0 (Macintosh; Intel Mac OS X 10_9_4...</td>\n",
       "      <td>131</td>\n",
       "      <td>0</td>\n",
       "    </tr>\n",
       "    <tr>\n",
       "      <th>18</th>\n",
       "      <td>None</td>\n",
       "      <td>Logged In</td>\n",
       "      <td>Kael</td>\n",
       "      <td>M</td>\n",
       "      <td>18</td>\n",
       "      <td>Baker</td>\n",
       "      <td>NaN</td>\n",
       "      <td>free</td>\n",
       "      <td>Kingsport-Bristol-Bristol, TN-VA</td>\n",
       "      <td>PUT</td>\n",
       "      <td>Add to Playlist</td>\n",
       "      <td>1533102330000</td>\n",
       "      <td>249</td>\n",
       "      <td>None</td>\n",
       "      <td>200</td>\n",
       "      <td>1538388861000</td>\n",
       "      <td>\"Mozilla/5.0 (Macintosh; Intel Mac OS X 10_9_4...</td>\n",
       "      <td>131</td>\n",
       "      <td>0</td>\n",
       "    </tr>\n",
       "    <tr>\n",
       "      <th>19</th>\n",
       "      <td>David Crowder*Band</td>\n",
       "      <td>Logged In</td>\n",
       "      <td>Kael</td>\n",
       "      <td>M</td>\n",
       "      <td>19</td>\n",
       "      <td>Baker</td>\n",
       "      <td>241.89342</td>\n",
       "      <td>free</td>\n",
       "      <td>Kingsport-Bristol-Bristol, TN-VA</td>\n",
       "      <td>PUT</td>\n",
       "      <td>NextSong</td>\n",
       "      <td>1533102330000</td>\n",
       "      <td>249</td>\n",
       "      <td>Only You (Illuminate Album Version)</td>\n",
       "      <td>200</td>\n",
       "      <td>1538389085000</td>\n",
       "      <td>\"Mozilla/5.0 (Macintosh; Intel Mac OS X 10_9_4...</td>\n",
       "      <td>131</td>\n",
       "      <td>0</td>\n",
       "    </tr>\n",
       "    <tr>\n",
       "      <th>20</th>\n",
       "      <td>First Aid Kit</td>\n",
       "      <td>Logged In</td>\n",
       "      <td>Kael</td>\n",
       "      <td>M</td>\n",
       "      <td>20</td>\n",
       "      <td>Baker</td>\n",
       "      <td>333.03465</td>\n",
       "      <td>free</td>\n",
       "      <td>Kingsport-Bristol-Bristol, TN-VA</td>\n",
       "      <td>PUT</td>\n",
       "      <td>NextSong</td>\n",
       "      <td>1533102330000</td>\n",
       "      <td>249</td>\n",
       "      <td>Pervigilo</td>\n",
       "      <td>200</td>\n",
       "      <td>1538389326000</td>\n",
       "      <td>\"Mozilla/5.0 (Macintosh; Intel Mac OS X 10_9_4...</td>\n",
       "      <td>131</td>\n",
       "      <td>0</td>\n",
       "    </tr>\n",
       "    <tr>\n",
       "      <th>21</th>\n",
       "      <td>None</td>\n",
       "      <td>Logged In</td>\n",
       "      <td>Kael</td>\n",
       "      <td>M</td>\n",
       "      <td>21</td>\n",
       "      <td>Baker</td>\n",
       "      <td>NaN</td>\n",
       "      <td>free</td>\n",
       "      <td>Kingsport-Bristol-Bristol, TN-VA</td>\n",
       "      <td>GET</td>\n",
       "      <td>Help</td>\n",
       "      <td>1533102330000</td>\n",
       "      <td>249</td>\n",
       "      <td>None</td>\n",
       "      <td>200</td>\n",
       "      <td>1538389366000</td>\n",
       "      <td>\"Mozilla/5.0 (Macintosh; Intel Mac OS X 10_9_4...</td>\n",
       "      <td>131</td>\n",
       "      <td>0</td>\n",
       "    </tr>\n",
       "    <tr>\n",
       "      <th>22</th>\n",
       "      <td>Marilyn Manson</td>\n",
       "      <td>Logged In</td>\n",
       "      <td>Kael</td>\n",
       "      <td>M</td>\n",
       "      <td>22</td>\n",
       "      <td>Baker</td>\n",
       "      <td>201.40363</td>\n",
       "      <td>free</td>\n",
       "      <td>Kingsport-Bristol-Bristol, TN-VA</td>\n",
       "      <td>PUT</td>\n",
       "      <td>NextSong</td>\n",
       "      <td>1533102330000</td>\n",
       "      <td>249</td>\n",
       "      <td>This Is Halloween</td>\n",
       "      <td>200</td>\n",
       "      <td>1538389659000</td>\n",
       "      <td>\"Mozilla/5.0 (Macintosh; Intel Mac OS X 10_9_4...</td>\n",
       "      <td>131</td>\n",
       "      <td>0</td>\n",
       "    </tr>\n",
       "    <tr>\n",
       "      <th>23</th>\n",
       "      <td>None</td>\n",
       "      <td>Logged In</td>\n",
       "      <td>Kael</td>\n",
       "      <td>M</td>\n",
       "      <td>23</td>\n",
       "      <td>Baker</td>\n",
       "      <td>NaN</td>\n",
       "      <td>free</td>\n",
       "      <td>Kingsport-Bristol-Bristol, TN-VA</td>\n",
       "      <td>GET</td>\n",
       "      <td>Home</td>\n",
       "      <td>1533102330000</td>\n",
       "      <td>249</td>\n",
       "      <td>None</td>\n",
       "      <td>200</td>\n",
       "      <td>1538389667000</td>\n",
       "      <td>\"Mozilla/5.0 (Macintosh; Intel Mac OS X 10_9_4...</td>\n",
       "      <td>131</td>\n",
       "      <td>0</td>\n",
       "    </tr>\n",
       "    <tr>\n",
       "      <th>24</th>\n",
       "      <td>Bell Orchestre</td>\n",
       "      <td>Logged In</td>\n",
       "      <td>Kael</td>\n",
       "      <td>M</td>\n",
       "      <td>24</td>\n",
       "      <td>Baker</td>\n",
       "      <td>137.82159</td>\n",
       "      <td>free</td>\n",
       "      <td>Kingsport-Bristol-Bristol, TN-VA</td>\n",
       "      <td>PUT</td>\n",
       "      <td>NextSong</td>\n",
       "      <td>1533102330000</td>\n",
       "      <td>249</td>\n",
       "      <td>Stripes</td>\n",
       "      <td>200</td>\n",
       "      <td>1538389860000</td>\n",
       "      <td>\"Mozilla/5.0 (Macintosh; Intel Mac OS X 10_9_4...</td>\n",
       "      <td>131</td>\n",
       "      <td>0</td>\n",
       "    </tr>\n",
       "    <tr>\n",
       "      <th>25</th>\n",
       "      <td>None</td>\n",
       "      <td>Logged In</td>\n",
       "      <td>Kael</td>\n",
       "      <td>M</td>\n",
       "      <td>25</td>\n",
       "      <td>Baker</td>\n",
       "      <td>NaN</td>\n",
       "      <td>free</td>\n",
       "      <td>Kingsport-Bristol-Bristol, TN-VA</td>\n",
       "      <td>GET</td>\n",
       "      <td>Upgrade</td>\n",
       "      <td>1533102330000</td>\n",
       "      <td>249</td>\n",
       "      <td>None</td>\n",
       "      <td>200</td>\n",
       "      <td>1538389930000</td>\n",
       "      <td>\"Mozilla/5.0 (Macintosh; Intel Mac OS X 10_9_4...</td>\n",
       "      <td>131</td>\n",
       "      <td>0</td>\n",
       "    </tr>\n",
       "    <tr>\n",
       "      <th>26</th>\n",
       "      <td>None</td>\n",
       "      <td>Logged In</td>\n",
       "      <td>Kael</td>\n",
       "      <td>M</td>\n",
       "      <td>26</td>\n",
       "      <td>Baker</td>\n",
       "      <td>NaN</td>\n",
       "      <td>free</td>\n",
       "      <td>Kingsport-Bristol-Bristol, TN-VA</td>\n",
       "      <td>PUT</td>\n",
       "      <td>Submit Upgrade</td>\n",
       "      <td>1533102330000</td>\n",
       "      <td>249</td>\n",
       "      <td>None</td>\n",
       "      <td>307</td>\n",
       "      <td>1538389931000</td>\n",
       "      <td>\"Mozilla/5.0 (Macintosh; Intel Mac OS X 10_9_4...</td>\n",
       "      <td>131</td>\n",
       "      <td>0</td>\n",
       "    </tr>\n",
       "    <tr>\n",
       "      <th>27</th>\n",
       "      <td>None</td>\n",
       "      <td>Logged In</td>\n",
       "      <td>Kael</td>\n",
       "      <td>M</td>\n",
       "      <td>27</td>\n",
       "      <td>Baker</td>\n",
       "      <td>NaN</td>\n",
       "      <td>paid</td>\n",
       "      <td>Kingsport-Bristol-Bristol, TN-VA</td>\n",
       "      <td>GET</td>\n",
       "      <td>Home</td>\n",
       "      <td>1533102330000</td>\n",
       "      <td>249</td>\n",
       "      <td>None</td>\n",
       "      <td>200</td>\n",
       "      <td>1538389931000</td>\n",
       "      <td>\"Mozilla/5.0 (Macintosh; Intel Mac OS X 10_9_4...</td>\n",
       "      <td>131</td>\n",
       "      <td>0</td>\n",
       "    </tr>\n",
       "    <tr>\n",
       "      <th>28</th>\n",
       "      <td>Florence + The Machine</td>\n",
       "      <td>Logged In</td>\n",
       "      <td>Kael</td>\n",
       "      <td>M</td>\n",
       "      <td>28</td>\n",
       "      <td>Baker</td>\n",
       "      <td>258.55955</td>\n",
       "      <td>paid</td>\n",
       "      <td>Kingsport-Bristol-Bristol, TN-VA</td>\n",
       "      <td>PUT</td>\n",
       "      <td>NextSong</td>\n",
       "      <td>1533102330000</td>\n",
       "      <td>249</td>\n",
       "      <td>Cosmic Love</td>\n",
       "      <td>200</td>\n",
       "      <td>1538389997000</td>\n",
       "      <td>\"Mozilla/5.0 (Macintosh; Intel Mac OS X 10_9_4...</td>\n",
       "      <td>131</td>\n",
       "      <td>0</td>\n",
       "    </tr>\n",
       "    <tr>\n",
       "      <th>29</th>\n",
       "      <td>Sugarland</td>\n",
       "      <td>Logged In</td>\n",
       "      <td>Kael</td>\n",
       "      <td>M</td>\n",
       "      <td>29</td>\n",
       "      <td>Baker</td>\n",
       "      <td>247.77098</td>\n",
       "      <td>paid</td>\n",
       "      <td>Kingsport-Bristol-Bristol, TN-VA</td>\n",
       "      <td>PUT</td>\n",
       "      <td>NextSong</td>\n",
       "      <td>1533102330000</td>\n",
       "      <td>249</td>\n",
       "      <td>Just Might (Make Me Believe)</td>\n",
       "      <td>200</td>\n",
       "      <td>1538390255000</td>\n",
       "      <td>\"Mozilla/5.0 (Macintosh; Intel Mac OS X 10_9_4...</td>\n",
       "      <td>131</td>\n",
       "      <td>0</td>\n",
       "    </tr>\n",
       "    <tr>\n",
       "      <th>...</th>\n",
       "      <td>...</td>\n",
       "      <td>...</td>\n",
       "      <td>...</td>\n",
       "      <td>...</td>\n",
       "      <td>...</td>\n",
       "      <td>...</td>\n",
       "      <td>...</td>\n",
       "      <td>...</td>\n",
       "      <td>...</td>\n",
       "      <td>...</td>\n",
       "      <td>...</td>\n",
       "      <td>...</td>\n",
       "      <td>...</td>\n",
       "      <td>...</td>\n",
       "      <td>...</td>\n",
       "      <td>...</td>\n",
       "      <td>...</td>\n",
       "      <td>...</td>\n",
       "      <td>...</td>\n",
       "    </tr>\n",
       "    <tr>\n",
       "      <th>1833</th>\n",
       "      <td>Big Punisher featuring Joe</td>\n",
       "      <td>Logged In</td>\n",
       "      <td>Kael</td>\n",
       "      <td>M</td>\n",
       "      <td>34</td>\n",
       "      <td>Baker</td>\n",
       "      <td>236.12036</td>\n",
       "      <td>free</td>\n",
       "      <td>Kingsport-Bristol-Bristol, TN-VA</td>\n",
       "      <td>PUT</td>\n",
       "      <td>NextSong</td>\n",
       "      <td>1533102330000</td>\n",
       "      <td>2155</td>\n",
       "      <td>Still Not A Player</td>\n",
       "      <td>200</td>\n",
       "      <td>1543115744000</td>\n",
       "      <td>\"Mozilla/5.0 (Macintosh; Intel Mac OS X 10_9_4...</td>\n",
       "      <td>131</td>\n",
       "      <td>0</td>\n",
       "    </tr>\n",
       "    <tr>\n",
       "      <th>1834</th>\n",
       "      <td>BeyoncÃÂ©</td>\n",
       "      <td>Logged In</td>\n",
       "      <td>Kael</td>\n",
       "      <td>M</td>\n",
       "      <td>35</td>\n",
       "      <td>Baker</td>\n",
       "      <td>261.74649</td>\n",
       "      <td>free</td>\n",
       "      <td>Kingsport-Bristol-Bristol, TN-VA</td>\n",
       "      <td>PUT</td>\n",
       "      <td>NextSong</td>\n",
       "      <td>1533102330000</td>\n",
       "      <td>2155</td>\n",
       "      <td>Halo</td>\n",
       "      <td>200</td>\n",
       "      <td>1543115980000</td>\n",
       "      <td>\"Mozilla/5.0 (Macintosh; Intel Mac OS X 10_9_4...</td>\n",
       "      <td>131</td>\n",
       "      <td>0</td>\n",
       "    </tr>\n",
       "    <tr>\n",
       "      <th>1835</th>\n",
       "      <td>The Marshall Tucker Band</td>\n",
       "      <td>Logged In</td>\n",
       "      <td>Kael</td>\n",
       "      <td>M</td>\n",
       "      <td>36</td>\n",
       "      <td>Baker</td>\n",
       "      <td>362.70975</td>\n",
       "      <td>free</td>\n",
       "      <td>Kingsport-Bristol-Bristol, TN-VA</td>\n",
       "      <td>PUT</td>\n",
       "      <td>NextSong</td>\n",
       "      <td>1533102330000</td>\n",
       "      <td>2155</td>\n",
       "      <td>Can't You See</td>\n",
       "      <td>200</td>\n",
       "      <td>1543116241000</td>\n",
       "      <td>\"Mozilla/5.0 (Macintosh; Intel Mac OS X 10_9_4...</td>\n",
       "      <td>131</td>\n",
       "      <td>0</td>\n",
       "    </tr>\n",
       "    <tr>\n",
       "      <th>1836</th>\n",
       "      <td>Erin McKeown</td>\n",
       "      <td>Logged In</td>\n",
       "      <td>Kael</td>\n",
       "      <td>M</td>\n",
       "      <td>37</td>\n",
       "      <td>Baker</td>\n",
       "      <td>249.88689</td>\n",
       "      <td>free</td>\n",
       "      <td>Kingsport-Bristol-Bristol, TN-VA</td>\n",
       "      <td>PUT</td>\n",
       "      <td>NextSong</td>\n",
       "      <td>1533102330000</td>\n",
       "      <td>2155</td>\n",
       "      <td>Lullaby In Three/Four</td>\n",
       "      <td>200</td>\n",
       "      <td>1543116603000</td>\n",
       "      <td>\"Mozilla/5.0 (Macintosh; Intel Mac OS X 10_9_4...</td>\n",
       "      <td>131</td>\n",
       "      <td>0</td>\n",
       "    </tr>\n",
       "    <tr>\n",
       "      <th>1837</th>\n",
       "      <td>Hollywood Undead</td>\n",
       "      <td>Logged In</td>\n",
       "      <td>Kael</td>\n",
       "      <td>M</td>\n",
       "      <td>38</td>\n",
       "      <td>Baker</td>\n",
       "      <td>196.41424</td>\n",
       "      <td>free</td>\n",
       "      <td>Kingsport-Bristol-Bristol, TN-VA</td>\n",
       "      <td>PUT</td>\n",
       "      <td>NextSong</td>\n",
       "      <td>1533102330000</td>\n",
       "      <td>2155</td>\n",
       "      <td>Young</td>\n",
       "      <td>200</td>\n",
       "      <td>1543116852000</td>\n",
       "      <td>\"Mozilla/5.0 (Macintosh; Intel Mac OS X 10_9_4...</td>\n",
       "      <td>131</td>\n",
       "      <td>0</td>\n",
       "    </tr>\n",
       "    <tr>\n",
       "      <th>1838</th>\n",
       "      <td>The Menzingers</td>\n",
       "      <td>Logged In</td>\n",
       "      <td>Kael</td>\n",
       "      <td>M</td>\n",
       "      <td>39</td>\n",
       "      <td>Baker</td>\n",
       "      <td>156.49914</td>\n",
       "      <td>free</td>\n",
       "      <td>Kingsport-Bristol-Bristol, TN-VA</td>\n",
       "      <td>PUT</td>\n",
       "      <td>NextSong</td>\n",
       "      <td>1533102330000</td>\n",
       "      <td>2155</td>\n",
       "      <td>A Lesson In The Abuse Of Information Technology</td>\n",
       "      <td>200</td>\n",
       "      <td>1543117048000</td>\n",
       "      <td>\"Mozilla/5.0 (Macintosh; Intel Mac OS X 10_9_4...</td>\n",
       "      <td>131</td>\n",
       "      <td>0</td>\n",
       "    </tr>\n",
       "    <tr>\n",
       "      <th>1839</th>\n",
       "      <td>None</td>\n",
       "      <td>Logged In</td>\n",
       "      <td>Kael</td>\n",
       "      <td>M</td>\n",
       "      <td>40</td>\n",
       "      <td>Baker</td>\n",
       "      <td>NaN</td>\n",
       "      <td>free</td>\n",
       "      <td>Kingsport-Bristol-Bristol, TN-VA</td>\n",
       "      <td>GET</td>\n",
       "      <td>Roll Advert</td>\n",
       "      <td>1533102330000</td>\n",
       "      <td>2155</td>\n",
       "      <td>None</td>\n",
       "      <td>200</td>\n",
       "      <td>1543117059000</td>\n",
       "      <td>\"Mozilla/5.0 (Macintosh; Intel Mac OS X 10_9_4...</td>\n",
       "      <td>131</td>\n",
       "      <td>0</td>\n",
       "    </tr>\n",
       "    <tr>\n",
       "      <th>1840</th>\n",
       "      <td>Buffalo Springfield</td>\n",
       "      <td>Logged In</td>\n",
       "      <td>Kael</td>\n",
       "      <td>M</td>\n",
       "      <td>41</td>\n",
       "      <td>Baker</td>\n",
       "      <td>160.93995</td>\n",
       "      <td>free</td>\n",
       "      <td>Kingsport-Bristol-Bristol, TN-VA</td>\n",
       "      <td>PUT</td>\n",
       "      <td>NextSong</td>\n",
       "      <td>1533102330000</td>\n",
       "      <td>2155</td>\n",
       "      <td>For What It's Worth</td>\n",
       "      <td>200</td>\n",
       "      <td>1543117204000</td>\n",
       "      <td>\"Mozilla/5.0 (Macintosh; Intel Mac OS X 10_9_4...</td>\n",
       "      <td>131</td>\n",
       "      <td>0</td>\n",
       "    </tr>\n",
       "    <tr>\n",
       "      <th>1841</th>\n",
       "      <td>None</td>\n",
       "      <td>Logged In</td>\n",
       "      <td>Kael</td>\n",
       "      <td>M</td>\n",
       "      <td>42</td>\n",
       "      <td>Baker</td>\n",
       "      <td>NaN</td>\n",
       "      <td>free</td>\n",
       "      <td>Kingsport-Bristol-Bristol, TN-VA</td>\n",
       "      <td>PUT</td>\n",
       "      <td>Thumbs Down</td>\n",
       "      <td>1533102330000</td>\n",
       "      <td>2155</td>\n",
       "      <td>None</td>\n",
       "      <td>307</td>\n",
       "      <td>1543117205000</td>\n",
       "      <td>\"Mozilla/5.0 (Macintosh; Intel Mac OS X 10_9_4...</td>\n",
       "      <td>131</td>\n",
       "      <td>0</td>\n",
       "    </tr>\n",
       "    <tr>\n",
       "      <th>1842</th>\n",
       "      <td>The Mad Capsule Markets</td>\n",
       "      <td>Logged In</td>\n",
       "      <td>Kael</td>\n",
       "      <td>M</td>\n",
       "      <td>43</td>\n",
       "      <td>Baker</td>\n",
       "      <td>262.08608</td>\n",
       "      <td>free</td>\n",
       "      <td>Kingsport-Bristol-Bristol, TN-VA</td>\n",
       "      <td>PUT</td>\n",
       "      <td>NextSong</td>\n",
       "      <td>1533102330000</td>\n",
       "      <td>2155</td>\n",
       "      <td>Creature</td>\n",
       "      <td>200</td>\n",
       "      <td>1543117364000</td>\n",
       "      <td>\"Mozilla/5.0 (Macintosh; Intel Mac OS X 10_9_4...</td>\n",
       "      <td>131</td>\n",
       "      <td>0</td>\n",
       "    </tr>\n",
       "    <tr>\n",
       "      <th>1843</th>\n",
       "      <td>Porcupine Tree</td>\n",
       "      <td>Logged In</td>\n",
       "      <td>Kael</td>\n",
       "      <td>M</td>\n",
       "      <td>44</td>\n",
       "      <td>Baker</td>\n",
       "      <td>700.62975</td>\n",
       "      <td>free</td>\n",
       "      <td>Kingsport-Bristol-Bristol, TN-VA</td>\n",
       "      <td>PUT</td>\n",
       "      <td>NextSong</td>\n",
       "      <td>1533102330000</td>\n",
       "      <td>2155</td>\n",
       "      <td>Time Flies (Album Version)</td>\n",
       "      <td>200</td>\n",
       "      <td>1543117626000</td>\n",
       "      <td>\"Mozilla/5.0 (Macintosh; Intel Mac OS X 10_9_4...</td>\n",
       "      <td>131</td>\n",
       "      <td>0</td>\n",
       "    </tr>\n",
       "    <tr>\n",
       "      <th>1844</th>\n",
       "      <td>4 Strings</td>\n",
       "      <td>Logged In</td>\n",
       "      <td>Kael</td>\n",
       "      <td>M</td>\n",
       "      <td>45</td>\n",
       "      <td>Baker</td>\n",
       "      <td>189.15220</td>\n",
       "      <td>free</td>\n",
       "      <td>Kingsport-Bristol-Bristol, TN-VA</td>\n",
       "      <td>PUT</td>\n",
       "      <td>NextSong</td>\n",
       "      <td>1533102330000</td>\n",
       "      <td>2155</td>\n",
       "      <td>(Take Me Away) Into The Night (4 Strings Remix...</td>\n",
       "      <td>200</td>\n",
       "      <td>1543118326000</td>\n",
       "      <td>\"Mozilla/5.0 (Macintosh; Intel Mac OS X 10_9_4...</td>\n",
       "      <td>131</td>\n",
       "      <td>0</td>\n",
       "    </tr>\n",
       "    <tr>\n",
       "      <th>1845</th>\n",
       "      <td>None</td>\n",
       "      <td>Logged In</td>\n",
       "      <td>Kael</td>\n",
       "      <td>M</td>\n",
       "      <td>46</td>\n",
       "      <td>Baker</td>\n",
       "      <td>NaN</td>\n",
       "      <td>free</td>\n",
       "      <td>Kingsport-Bristol-Bristol, TN-VA</td>\n",
       "      <td>PUT</td>\n",
       "      <td>Add to Playlist</td>\n",
       "      <td>1533102330000</td>\n",
       "      <td>2155</td>\n",
       "      <td>None</td>\n",
       "      <td>200</td>\n",
       "      <td>1543118337000</td>\n",
       "      <td>\"Mozilla/5.0 (Macintosh; Intel Mac OS X 10_9_4...</td>\n",
       "      <td>131</td>\n",
       "      <td>0</td>\n",
       "    </tr>\n",
       "    <tr>\n",
       "      <th>1846</th>\n",
       "      <td>Thurston Harris</td>\n",
       "      <td>Logged In</td>\n",
       "      <td>Kael</td>\n",
       "      <td>M</td>\n",
       "      <td>47</td>\n",
       "      <td>Baker</td>\n",
       "      <td>146.67710</td>\n",
       "      <td>free</td>\n",
       "      <td>Kingsport-Bristol-Bristol, TN-VA</td>\n",
       "      <td>PUT</td>\n",
       "      <td>NextSong</td>\n",
       "      <td>1533102330000</td>\n",
       "      <td>2155</td>\n",
       "      <td>Little Bitty Pretty One</td>\n",
       "      <td>200</td>\n",
       "      <td>1543118515000</td>\n",
       "      <td>\"Mozilla/5.0 (Macintosh; Intel Mac OS X 10_9_4...</td>\n",
       "      <td>131</td>\n",
       "      <td>0</td>\n",
       "    </tr>\n",
       "    <tr>\n",
       "      <th>1847</th>\n",
       "      <td>Calvin Harris</td>\n",
       "      <td>Logged In</td>\n",
       "      <td>Kael</td>\n",
       "      <td>M</td>\n",
       "      <td>48</td>\n",
       "      <td>Baker</td>\n",
       "      <td>210.12853</td>\n",
       "      <td>free</td>\n",
       "      <td>Kingsport-Bristol-Bristol, TN-VA</td>\n",
       "      <td>PUT</td>\n",
       "      <td>NextSong</td>\n",
       "      <td>1533102330000</td>\n",
       "      <td>2155</td>\n",
       "      <td>I'm Not Alone</td>\n",
       "      <td>200</td>\n",
       "      <td>1543118661000</td>\n",
       "      <td>\"Mozilla/5.0 (Macintosh; Intel Mac OS X 10_9_4...</td>\n",
       "      <td>131</td>\n",
       "      <td>0</td>\n",
       "    </tr>\n",
       "    <tr>\n",
       "      <th>1848</th>\n",
       "      <td>Die Mooskirchner</td>\n",
       "      <td>Logged In</td>\n",
       "      <td>Kael</td>\n",
       "      <td>M</td>\n",
       "      <td>49</td>\n",
       "      <td>Baker</td>\n",
       "      <td>169.29914</td>\n",
       "      <td>free</td>\n",
       "      <td>Kingsport-Bristol-Bristol, TN-VA</td>\n",
       "      <td>PUT</td>\n",
       "      <td>NextSong</td>\n",
       "      <td>1533102330000</td>\n",
       "      <td>2155</td>\n",
       "      <td>Frisch und g'sund</td>\n",
       "      <td>200</td>\n",
       "      <td>1543118871000</td>\n",
       "      <td>\"Mozilla/5.0 (Macintosh; Intel Mac OS X 10_9_4...</td>\n",
       "      <td>131</td>\n",
       "      <td>0</td>\n",
       "    </tr>\n",
       "    <tr>\n",
       "      <th>1849</th>\n",
       "      <td>Paramore</td>\n",
       "      <td>Logged In</td>\n",
       "      <td>Kael</td>\n",
       "      <td>M</td>\n",
       "      <td>50</td>\n",
       "      <td>Baker</td>\n",
       "      <td>267.65016</td>\n",
       "      <td>free</td>\n",
       "      <td>Kingsport-Bristol-Bristol, TN-VA</td>\n",
       "      <td>PUT</td>\n",
       "      <td>NextSong</td>\n",
       "      <td>1533102330000</td>\n",
       "      <td>2155</td>\n",
       "      <td>The Only Exception (Album Version)</td>\n",
       "      <td>200</td>\n",
       "      <td>1543119040000</td>\n",
       "      <td>\"Mozilla/5.0 (Macintosh; Intel Mac OS X 10_9_4...</td>\n",
       "      <td>131</td>\n",
       "      <td>0</td>\n",
       "    </tr>\n",
       "    <tr>\n",
       "      <th>1850</th>\n",
       "      <td>Bondage Fairies</td>\n",
       "      <td>Logged In</td>\n",
       "      <td>Kael</td>\n",
       "      <td>M</td>\n",
       "      <td>51</td>\n",
       "      <td>Baker</td>\n",
       "      <td>123.27138</td>\n",
       "      <td>free</td>\n",
       "      <td>Kingsport-Bristol-Bristol, TN-VA</td>\n",
       "      <td>PUT</td>\n",
       "      <td>NextSong</td>\n",
       "      <td>1533102330000</td>\n",
       "      <td>2155</td>\n",
       "      <td>Why I Didn\u0019t Like August 93</td>\n",
       "      <td>200</td>\n",
       "      <td>1543119307000</td>\n",
       "      <td>\"Mozilla/5.0 (Macintosh; Intel Mac OS X 10_9_4...</td>\n",
       "      <td>131</td>\n",
       "      <td>0</td>\n",
       "    </tr>\n",
       "    <tr>\n",
       "      <th>1851</th>\n",
       "      <td>Carla Bruni</td>\n",
       "      <td>Logged In</td>\n",
       "      <td>Kael</td>\n",
       "      <td>M</td>\n",
       "      <td>52</td>\n",
       "      <td>Baker</td>\n",
       "      <td>210.28526</td>\n",
       "      <td>free</td>\n",
       "      <td>Kingsport-Bristol-Bristol, TN-VA</td>\n",
       "      <td>PUT</td>\n",
       "      <td>NextSong</td>\n",
       "      <td>1533102330000</td>\n",
       "      <td>2155</td>\n",
       "      <td>Le Plus Beau Du Quartier</td>\n",
       "      <td>200</td>\n",
       "      <td>1543119430000</td>\n",
       "      <td>\"Mozilla/5.0 (Macintosh; Intel Mac OS X 10_9_4...</td>\n",
       "      <td>131</td>\n",
       "      <td>0</td>\n",
       "    </tr>\n",
       "    <tr>\n",
       "      <th>1852</th>\n",
       "      <td>DJ Shadow</td>\n",
       "      <td>Logged In</td>\n",
       "      <td>Kael</td>\n",
       "      <td>M</td>\n",
       "      <td>53</td>\n",
       "      <td>Baker</td>\n",
       "      <td>228.70159</td>\n",
       "      <td>free</td>\n",
       "      <td>Kingsport-Bristol-Bristol, TN-VA</td>\n",
       "      <td>PUT</td>\n",
       "      <td>NextSong</td>\n",
       "      <td>1533102330000</td>\n",
       "      <td>2155</td>\n",
       "      <td>Stem</td>\n",
       "      <td>200</td>\n",
       "      <td>1543119640000</td>\n",
       "      <td>\"Mozilla/5.0 (Macintosh; Intel Mac OS X 10_9_4...</td>\n",
       "      <td>131</td>\n",
       "      <td>0</td>\n",
       "    </tr>\n",
       "    <tr>\n",
       "      <th>1853</th>\n",
       "      <td>Barry Tuckwell/Academy of St Martin-in-the-Fie...</td>\n",
       "      <td>Logged In</td>\n",
       "      <td>Kael</td>\n",
       "      <td>M</td>\n",
       "      <td>54</td>\n",
       "      <td>Baker</td>\n",
       "      <td>277.15873</td>\n",
       "      <td>free</td>\n",
       "      <td>Kingsport-Bristol-Bristol, TN-VA</td>\n",
       "      <td>PUT</td>\n",
       "      <td>NextSong</td>\n",
       "      <td>1533102330000</td>\n",
       "      <td>2155</td>\n",
       "      <td>Horn Concerto No. 4 in E flat K495: II. Romanc...</td>\n",
       "      <td>200</td>\n",
       "      <td>1543119868000</td>\n",
       "      <td>\"Mozilla/5.0 (Macintosh; Intel Mac OS X 10_9_4...</td>\n",
       "      <td>131</td>\n",
       "      <td>0</td>\n",
       "    </tr>\n",
       "    <tr>\n",
       "      <th>1854</th>\n",
       "      <td>Holy Fuck</td>\n",
       "      <td>Logged In</td>\n",
       "      <td>Kael</td>\n",
       "      <td>M</td>\n",
       "      <td>55</td>\n",
       "      <td>Baker</td>\n",
       "      <td>271.09832</td>\n",
       "      <td>free</td>\n",
       "      <td>Kingsport-Bristol-Bristol, TN-VA</td>\n",
       "      <td>PUT</td>\n",
       "      <td>NextSong</td>\n",
       "      <td>1533102330000</td>\n",
       "      <td>2155</td>\n",
       "      <td>Lovely Allen</td>\n",
       "      <td>200</td>\n",
       "      <td>1543120145000</td>\n",
       "      <td>\"Mozilla/5.0 (Macintosh; Intel Mac OS X 10_9_4...</td>\n",
       "      <td>131</td>\n",
       "      <td>0</td>\n",
       "    </tr>\n",
       "    <tr>\n",
       "      <th>1855</th>\n",
       "      <td>Aimee Mann</td>\n",
       "      <td>Logged In</td>\n",
       "      <td>Kael</td>\n",
       "      <td>M</td>\n",
       "      <td>56</td>\n",
       "      <td>Baker</td>\n",
       "      <td>222.22322</td>\n",
       "      <td>free</td>\n",
       "      <td>Kingsport-Bristol-Bristol, TN-VA</td>\n",
       "      <td>PUT</td>\n",
       "      <td>NextSong</td>\n",
       "      <td>1533102330000</td>\n",
       "      <td>2155</td>\n",
       "      <td>You Could Make A Killing</td>\n",
       "      <td>200</td>\n",
       "      <td>1543120416000</td>\n",
       "      <td>\"Mozilla/5.0 (Macintosh; Intel Mac OS X 10_9_4...</td>\n",
       "      <td>131</td>\n",
       "      <td>0</td>\n",
       "    </tr>\n",
       "    <tr>\n",
       "      <th>1856</th>\n",
       "      <td>None</td>\n",
       "      <td>Logged In</td>\n",
       "      <td>Kael</td>\n",
       "      <td>M</td>\n",
       "      <td>57</td>\n",
       "      <td>Baker</td>\n",
       "      <td>NaN</td>\n",
       "      <td>free</td>\n",
       "      <td>Kingsport-Bristol-Bristol, TN-VA</td>\n",
       "      <td>PUT</td>\n",
       "      <td>Add Friend</td>\n",
       "      <td>1533102330000</td>\n",
       "      <td>2155</td>\n",
       "      <td>None</td>\n",
       "      <td>307</td>\n",
       "      <td>1543120417000</td>\n",
       "      <td>\"Mozilla/5.0 (Macintosh; Intel Mac OS X 10_9_4...</td>\n",
       "      <td>131</td>\n",
       "      <td>0</td>\n",
       "    </tr>\n",
       "    <tr>\n",
       "      <th>1857</th>\n",
       "      <td>None</td>\n",
       "      <td>Logged In</td>\n",
       "      <td>Kael</td>\n",
       "      <td>M</td>\n",
       "      <td>58</td>\n",
       "      <td>Baker</td>\n",
       "      <td>NaN</td>\n",
       "      <td>free</td>\n",
       "      <td>Kingsport-Bristol-Bristol, TN-VA</td>\n",
       "      <td>GET</td>\n",
       "      <td>Home</td>\n",
       "      <td>1533102330000</td>\n",
       "      <td>2155</td>\n",
       "      <td>None</td>\n",
       "      <td>200</td>\n",
       "      <td>1543120441000</td>\n",
       "      <td>\"Mozilla/5.0 (Macintosh; Intel Mac OS X 10_9_4...</td>\n",
       "      <td>131</td>\n",
       "      <td>0</td>\n",
       "    </tr>\n",
       "    <tr>\n",
       "      <th>1858</th>\n",
       "      <td>Britney Spears</td>\n",
       "      <td>Logged In</td>\n",
       "      <td>Kael</td>\n",
       "      <td>M</td>\n",
       "      <td>59</td>\n",
       "      <td>Baker</td>\n",
       "      <td>196.64934</td>\n",
       "      <td>free</td>\n",
       "      <td>Kingsport-Bristol-Bristol, TN-VA</td>\n",
       "      <td>PUT</td>\n",
       "      <td>NextSong</td>\n",
       "      <td>1533102330000</td>\n",
       "      <td>2155</td>\n",
       "      <td>Everybody</td>\n",
       "      <td>200</td>\n",
       "      <td>1543120638000</td>\n",
       "      <td>\"Mozilla/5.0 (Macintosh; Intel Mac OS X 10_9_4...</td>\n",
       "      <td>131</td>\n",
       "      <td>0</td>\n",
       "    </tr>\n",
       "    <tr>\n",
       "      <th>1859</th>\n",
       "      <td>A Rocket To The Moon</td>\n",
       "      <td>Logged In</td>\n",
       "      <td>Kael</td>\n",
       "      <td>M</td>\n",
       "      <td>60</td>\n",
       "      <td>Baker</td>\n",
       "      <td>236.87791</td>\n",
       "      <td>free</td>\n",
       "      <td>Kingsport-Bristol-Bristol, TN-VA</td>\n",
       "      <td>PUT</td>\n",
       "      <td>NextSong</td>\n",
       "      <td>1533102330000</td>\n",
       "      <td>2155</td>\n",
       "      <td>Fear Of Flying (Album Version)</td>\n",
       "      <td>200</td>\n",
       "      <td>1543120834000</td>\n",
       "      <td>\"Mozilla/5.0 (Macintosh; Intel Mac OS X 10_9_4...</td>\n",
       "      <td>131</td>\n",
       "      <td>0</td>\n",
       "    </tr>\n",
       "    <tr>\n",
       "      <th>1860</th>\n",
       "      <td>Kathy Mattea</td>\n",
       "      <td>Logged In</td>\n",
       "      <td>Kael</td>\n",
       "      <td>M</td>\n",
       "      <td>61</td>\n",
       "      <td>Baker</td>\n",
       "      <td>248.65914</td>\n",
       "      <td>free</td>\n",
       "      <td>Kingsport-Bristol-Bristol, TN-VA</td>\n",
       "      <td>PUT</td>\n",
       "      <td>NextSong</td>\n",
       "      <td>1533102330000</td>\n",
       "      <td>2155</td>\n",
       "      <td>Junkyard</td>\n",
       "      <td>200</td>\n",
       "      <td>1543121070000</td>\n",
       "      <td>\"Mozilla/5.0 (Macintosh; Intel Mac OS X 10_9_4...</td>\n",
       "      <td>131</td>\n",
       "      <td>0</td>\n",
       "    </tr>\n",
       "    <tr>\n",
       "      <th>1861</th>\n",
       "      <td>None</td>\n",
       "      <td>Logged In</td>\n",
       "      <td>Kael</td>\n",
       "      <td>M</td>\n",
       "      <td>62</td>\n",
       "      <td>Baker</td>\n",
       "      <td>NaN</td>\n",
       "      <td>free</td>\n",
       "      <td>Kingsport-Bristol-Bristol, TN-VA</td>\n",
       "      <td>PUT</td>\n",
       "      <td>Logout</td>\n",
       "      <td>1533102330000</td>\n",
       "      <td>2155</td>\n",
       "      <td>None</td>\n",
       "      <td>307</td>\n",
       "      <td>1543121071000</td>\n",
       "      <td>\"Mozilla/5.0 (Macintosh; Intel Mac OS X 10_9_4...</td>\n",
       "      <td>131</td>\n",
       "      <td>0</td>\n",
       "    </tr>\n",
       "    <tr>\n",
       "      <th>1862</th>\n",
       "      <td>None</td>\n",
       "      <td>Logged In</td>\n",
       "      <td>Kael</td>\n",
       "      <td>M</td>\n",
       "      <td>2</td>\n",
       "      <td>Baker</td>\n",
       "      <td>NaN</td>\n",
       "      <td>free</td>\n",
       "      <td>Kingsport-Bristol-Bristol, TN-VA</td>\n",
       "      <td>GET</td>\n",
       "      <td>Home</td>\n",
       "      <td>1533102330000</td>\n",
       "      <td>2281</td>\n",
       "      <td>None</td>\n",
       "      <td>200</td>\n",
       "      <td>1543548083000</td>\n",
       "      <td>\"Mozilla/5.0 (Macintosh; Intel Mac OS X 10_9_4...</td>\n",
       "      <td>131</td>\n",
       "      <td>0</td>\n",
       "    </tr>\n",
       "  </tbody>\n",
       "</table>\n",
       "<p>1863 rows × 19 columns</p>\n",
       "</div>"
      ],
      "text/plain": [
       "                                                 artist       auth firstName  \\\n",
       "0                                             Metallica  Logged In      Kael   \n",
       "1                                             Pearl Jam  Logged In      Kael   \n",
       "2                                              Frumpies  Logged In      Kael   \n",
       "3                                         Kaiser Chiefs  Logged In      Kael   \n",
       "4                                        Kelly Clarkson  Logged In      Kael   \n",
       "5                                                Darude  Logged In      Kael   \n",
       "6                                            Bloc Party  Logged In      Kael   \n",
       "7                                           Helen Reddy  Logged In      Kael   \n",
       "8                                         Cosmo Vitelli  Logged In      Kael   \n",
       "9                                                Eminem  Logged In      Kael   \n",
       "10                                    I Was A Cub Scout  Logged In      Kael   \n",
       "11                        Richard Grey feat.Sir.Charles  Logged In      Kael   \n",
       "12                                    Ne-Yo / LL Cool J  Logged In      Kael   \n",
       "13                    Various Artists - Delicious Vinyl  Logged In      Kael   \n",
       "14                                      Jonathan Butler  Logged In      Kael   \n",
       "15                                             Covenant  Logged In      Kael   \n",
       "16                                           Beatsteaks  Logged In      Kael   \n",
       "17                                          Rachid Taha  Logged In      Kael   \n",
       "18                                                 None  Logged In      Kael   \n",
       "19                                   David Crowder*Band  Logged In      Kael   \n",
       "20                                        First Aid Kit  Logged In      Kael   \n",
       "21                                                 None  Logged In      Kael   \n",
       "22                                       Marilyn Manson  Logged In      Kael   \n",
       "23                                                 None  Logged In      Kael   \n",
       "24                                       Bell Orchestre  Logged In      Kael   \n",
       "25                                                 None  Logged In      Kael   \n",
       "26                                                 None  Logged In      Kael   \n",
       "27                                                 None  Logged In      Kael   \n",
       "28                               Florence + The Machine  Logged In      Kael   \n",
       "29                                            Sugarland  Logged In      Kael   \n",
       "...                                                 ...        ...       ...   \n",
       "1833                         Big Punisher featuring Joe  Logged In      Kael   \n",
       "1834                                         BeyoncÃÂ©  Logged In      Kael   \n",
       "1835                           The Marshall Tucker Band  Logged In      Kael   \n",
       "1836                                       Erin McKeown  Logged In      Kael   \n",
       "1837                                   Hollywood Undead  Logged In      Kael   \n",
       "1838                                     The Menzingers  Logged In      Kael   \n",
       "1839                                               None  Logged In      Kael   \n",
       "1840                                Buffalo Springfield  Logged In      Kael   \n",
       "1841                                               None  Logged In      Kael   \n",
       "1842                            The Mad Capsule Markets  Logged In      Kael   \n",
       "1843                                     Porcupine Tree  Logged In      Kael   \n",
       "1844                                          4 Strings  Logged In      Kael   \n",
       "1845                                               None  Logged In      Kael   \n",
       "1846                                    Thurston Harris  Logged In      Kael   \n",
       "1847                                      Calvin Harris  Logged In      Kael   \n",
       "1848                                   Die Mooskirchner  Logged In      Kael   \n",
       "1849                                           Paramore  Logged In      Kael   \n",
       "1850                                    Bondage Fairies  Logged In      Kael   \n",
       "1851                                        Carla Bruni  Logged In      Kael   \n",
       "1852                                          DJ Shadow  Logged In      Kael   \n",
       "1853  Barry Tuckwell/Academy of St Martin-in-the-Fie...  Logged In      Kael   \n",
       "1854                                          Holy Fuck  Logged In      Kael   \n",
       "1855                                         Aimee Mann  Logged In      Kael   \n",
       "1856                                               None  Logged In      Kael   \n",
       "1857                                               None  Logged In      Kael   \n",
       "1858                                     Britney Spears  Logged In      Kael   \n",
       "1859                               A Rocket To The Moon  Logged In      Kael   \n",
       "1860                                       Kathy Mattea  Logged In      Kael   \n",
       "1861                                               None  Logged In      Kael   \n",
       "1862                                               None  Logged In      Kael   \n",
       "\n",
       "     gender  itemInSession lastName     length level  \\\n",
       "0         M              0    Baker  415.16363  free   \n",
       "1         M              1    Baker  276.40118  free   \n",
       "2         M              2    Baker  134.47791  free   \n",
       "3         M              3    Baker  222.82404  free   \n",
       "4         M              4    Baker  156.65587  free   \n",
       "5         M              5    Baker  516.28363  free   \n",
       "6         M              6    Baker  235.65016  free   \n",
       "7         M              7    Baker  211.35628  free   \n",
       "8         M              8    Baker  206.05342  free   \n",
       "9         M              9    Baker  251.55873  free   \n",
       "10        M             10    Baker  216.99873  free   \n",
       "11        M             11    Baker  411.42812  free   \n",
       "12        M             12    Baker  264.01914  free   \n",
       "13        M             13    Baker  264.25424  free   \n",
       "14        M             14    Baker  195.89179  free   \n",
       "15        M             15    Baker  300.19873  free   \n",
       "16        M             16    Baker  169.24689  free   \n",
       "17        M             17    Baker  289.74975  free   \n",
       "18        M             18    Baker        NaN  free   \n",
       "19        M             19    Baker  241.89342  free   \n",
       "20        M             20    Baker  333.03465  free   \n",
       "21        M             21    Baker        NaN  free   \n",
       "22        M             22    Baker  201.40363  free   \n",
       "23        M             23    Baker        NaN  free   \n",
       "24        M             24    Baker  137.82159  free   \n",
       "25        M             25    Baker        NaN  free   \n",
       "26        M             26    Baker        NaN  free   \n",
       "27        M             27    Baker        NaN  paid   \n",
       "28        M             28    Baker  258.55955  paid   \n",
       "29        M             29    Baker  247.77098  paid   \n",
       "...     ...            ...      ...        ...   ...   \n",
       "1833      M             34    Baker  236.12036  free   \n",
       "1834      M             35    Baker  261.74649  free   \n",
       "1835      M             36    Baker  362.70975  free   \n",
       "1836      M             37    Baker  249.88689  free   \n",
       "1837      M             38    Baker  196.41424  free   \n",
       "1838      M             39    Baker  156.49914  free   \n",
       "1839      M             40    Baker        NaN  free   \n",
       "1840      M             41    Baker  160.93995  free   \n",
       "1841      M             42    Baker        NaN  free   \n",
       "1842      M             43    Baker  262.08608  free   \n",
       "1843      M             44    Baker  700.62975  free   \n",
       "1844      M             45    Baker  189.15220  free   \n",
       "1845      M             46    Baker        NaN  free   \n",
       "1846      M             47    Baker  146.67710  free   \n",
       "1847      M             48    Baker  210.12853  free   \n",
       "1848      M             49    Baker  169.29914  free   \n",
       "1849      M             50    Baker  267.65016  free   \n",
       "1850      M             51    Baker  123.27138  free   \n",
       "1851      M             52    Baker  210.28526  free   \n",
       "1852      M             53    Baker  228.70159  free   \n",
       "1853      M             54    Baker  277.15873  free   \n",
       "1854      M             55    Baker  271.09832  free   \n",
       "1855      M             56    Baker  222.22322  free   \n",
       "1856      M             57    Baker        NaN  free   \n",
       "1857      M             58    Baker        NaN  free   \n",
       "1858      M             59    Baker  196.64934  free   \n",
       "1859      M             60    Baker  236.87791  free   \n",
       "1860      M             61    Baker  248.65914  free   \n",
       "1861      M             62    Baker        NaN  free   \n",
       "1862      M              2    Baker        NaN  free   \n",
       "\n",
       "                              location method             page   registration  \\\n",
       "0     Kingsport-Bristol-Bristol, TN-VA    PUT         NextSong  1533102330000   \n",
       "1     Kingsport-Bristol-Bristol, TN-VA    PUT         NextSong  1533102330000   \n",
       "2     Kingsport-Bristol-Bristol, TN-VA    PUT         NextSong  1533102330000   \n",
       "3     Kingsport-Bristol-Bristol, TN-VA    PUT         NextSong  1533102330000   \n",
       "4     Kingsport-Bristol-Bristol, TN-VA    PUT         NextSong  1533102330000   \n",
       "5     Kingsport-Bristol-Bristol, TN-VA    PUT         NextSong  1533102330000   \n",
       "6     Kingsport-Bristol-Bristol, TN-VA    PUT         NextSong  1533102330000   \n",
       "7     Kingsport-Bristol-Bristol, TN-VA    PUT         NextSong  1533102330000   \n",
       "8     Kingsport-Bristol-Bristol, TN-VA    PUT         NextSong  1533102330000   \n",
       "9     Kingsport-Bristol-Bristol, TN-VA    PUT         NextSong  1533102330000   \n",
       "10    Kingsport-Bristol-Bristol, TN-VA    PUT         NextSong  1533102330000   \n",
       "11    Kingsport-Bristol-Bristol, TN-VA    PUT         NextSong  1533102330000   \n",
       "12    Kingsport-Bristol-Bristol, TN-VA    PUT         NextSong  1533102330000   \n",
       "13    Kingsport-Bristol-Bristol, TN-VA    PUT         NextSong  1533102330000   \n",
       "14    Kingsport-Bristol-Bristol, TN-VA    PUT         NextSong  1533102330000   \n",
       "15    Kingsport-Bristol-Bristol, TN-VA    PUT         NextSong  1533102330000   \n",
       "16    Kingsport-Bristol-Bristol, TN-VA    PUT         NextSong  1533102330000   \n",
       "17    Kingsport-Bristol-Bristol, TN-VA    PUT         NextSong  1533102330000   \n",
       "18    Kingsport-Bristol-Bristol, TN-VA    PUT  Add to Playlist  1533102330000   \n",
       "19    Kingsport-Bristol-Bristol, TN-VA    PUT         NextSong  1533102330000   \n",
       "20    Kingsport-Bristol-Bristol, TN-VA    PUT         NextSong  1533102330000   \n",
       "21    Kingsport-Bristol-Bristol, TN-VA    GET             Help  1533102330000   \n",
       "22    Kingsport-Bristol-Bristol, TN-VA    PUT         NextSong  1533102330000   \n",
       "23    Kingsport-Bristol-Bristol, TN-VA    GET             Home  1533102330000   \n",
       "24    Kingsport-Bristol-Bristol, TN-VA    PUT         NextSong  1533102330000   \n",
       "25    Kingsport-Bristol-Bristol, TN-VA    GET          Upgrade  1533102330000   \n",
       "26    Kingsport-Bristol-Bristol, TN-VA    PUT   Submit Upgrade  1533102330000   \n",
       "27    Kingsport-Bristol-Bristol, TN-VA    GET             Home  1533102330000   \n",
       "28    Kingsport-Bristol-Bristol, TN-VA    PUT         NextSong  1533102330000   \n",
       "29    Kingsport-Bristol-Bristol, TN-VA    PUT         NextSong  1533102330000   \n",
       "...                                ...    ...              ...            ...   \n",
       "1833  Kingsport-Bristol-Bristol, TN-VA    PUT         NextSong  1533102330000   \n",
       "1834  Kingsport-Bristol-Bristol, TN-VA    PUT         NextSong  1533102330000   \n",
       "1835  Kingsport-Bristol-Bristol, TN-VA    PUT         NextSong  1533102330000   \n",
       "1836  Kingsport-Bristol-Bristol, TN-VA    PUT         NextSong  1533102330000   \n",
       "1837  Kingsport-Bristol-Bristol, TN-VA    PUT         NextSong  1533102330000   \n",
       "1838  Kingsport-Bristol-Bristol, TN-VA    PUT         NextSong  1533102330000   \n",
       "1839  Kingsport-Bristol-Bristol, TN-VA    GET      Roll Advert  1533102330000   \n",
       "1840  Kingsport-Bristol-Bristol, TN-VA    PUT         NextSong  1533102330000   \n",
       "1841  Kingsport-Bristol-Bristol, TN-VA    PUT      Thumbs Down  1533102330000   \n",
       "1842  Kingsport-Bristol-Bristol, TN-VA    PUT         NextSong  1533102330000   \n",
       "1843  Kingsport-Bristol-Bristol, TN-VA    PUT         NextSong  1533102330000   \n",
       "1844  Kingsport-Bristol-Bristol, TN-VA    PUT         NextSong  1533102330000   \n",
       "1845  Kingsport-Bristol-Bristol, TN-VA    PUT  Add to Playlist  1533102330000   \n",
       "1846  Kingsport-Bristol-Bristol, TN-VA    PUT         NextSong  1533102330000   \n",
       "1847  Kingsport-Bristol-Bristol, TN-VA    PUT         NextSong  1533102330000   \n",
       "1848  Kingsport-Bristol-Bristol, TN-VA    PUT         NextSong  1533102330000   \n",
       "1849  Kingsport-Bristol-Bristol, TN-VA    PUT         NextSong  1533102330000   \n",
       "1850  Kingsport-Bristol-Bristol, TN-VA    PUT         NextSong  1533102330000   \n",
       "1851  Kingsport-Bristol-Bristol, TN-VA    PUT         NextSong  1533102330000   \n",
       "1852  Kingsport-Bristol-Bristol, TN-VA    PUT         NextSong  1533102330000   \n",
       "1853  Kingsport-Bristol-Bristol, TN-VA    PUT         NextSong  1533102330000   \n",
       "1854  Kingsport-Bristol-Bristol, TN-VA    PUT         NextSong  1533102330000   \n",
       "1855  Kingsport-Bristol-Bristol, TN-VA    PUT         NextSong  1533102330000   \n",
       "1856  Kingsport-Bristol-Bristol, TN-VA    PUT       Add Friend  1533102330000   \n",
       "1857  Kingsport-Bristol-Bristol, TN-VA    GET             Home  1533102330000   \n",
       "1858  Kingsport-Bristol-Bristol, TN-VA    PUT         NextSong  1533102330000   \n",
       "1859  Kingsport-Bristol-Bristol, TN-VA    PUT         NextSong  1533102330000   \n",
       "1860  Kingsport-Bristol-Bristol, TN-VA    PUT         NextSong  1533102330000   \n",
       "1861  Kingsport-Bristol-Bristol, TN-VA    PUT           Logout  1533102330000   \n",
       "1862  Kingsport-Bristol-Bristol, TN-VA    GET             Home  1533102330000   \n",
       "\n",
       "      sessionId                                               song  status  \\\n",
       "0           249                                      Fade To Black     200   \n",
       "1           249                                  Nothingman (Live)     200   \n",
       "2           249                                         Fuck Kitty     200   \n",
       "3           249                                     Half The Truth     200   \n",
       "4           249            (You Make Me Feel Like A) Natural Woman     200   \n",
       "5           249                                      Feel The Beat     200   \n",
       "6           249                                               Luno     200   \n",
       "7           249                                         Angie Baby     200   \n",
       "8           249                            Robot Soul (Radio Edit)     200   \n",
       "9           249                                         Without Me     200   \n",
       "10          249                                        Close To Me     200   \n",
       "11          249               Don't Take My Love Away (Al Velilla)     200   \n",
       "12          249                                            So Sick     200   \n",
       "13          249                                        Bust A Move     200   \n",
       "14          249                                 Sugar Candy Kisses     200   \n",
       "15          249                                               XRDS     200   \n",
       "16          249                                              48/49     200   \n",
       "17          249                                              Kelma     200   \n",
       "18          249                                               None     200   \n",
       "19          249                Only You (Illuminate Album Version)     200   \n",
       "20          249                                          Pervigilo     200   \n",
       "21          249                                               None     200   \n",
       "22          249                                  This Is Halloween     200   \n",
       "23          249                                               None     200   \n",
       "24          249                                            Stripes     200   \n",
       "25          249                                               None     200   \n",
       "26          249                                               None     307   \n",
       "27          249                                               None     200   \n",
       "28          249                                        Cosmic Love     200   \n",
       "29          249                       Just Might (Make Me Believe)     200   \n",
       "...         ...                                                ...     ...   \n",
       "1833       2155                                 Still Not A Player     200   \n",
       "1834       2155                                               Halo     200   \n",
       "1835       2155                                      Can't You See     200   \n",
       "1836       2155                              Lullaby In Three/Four     200   \n",
       "1837       2155                                              Young     200   \n",
       "1838       2155    A Lesson In The Abuse Of Information Technology     200   \n",
       "1839       2155                                               None     200   \n",
       "1840       2155                                For What It's Worth     200   \n",
       "1841       2155                                               None     307   \n",
       "1842       2155                                           Creature     200   \n",
       "1843       2155                         Time Flies (Album Version)     200   \n",
       "1844       2155  (Take Me Away) Into The Night (4 Strings Remix...     200   \n",
       "1845       2155                                               None     200   \n",
       "1846       2155                            Little Bitty Pretty One     200   \n",
       "1847       2155                                      I'm Not Alone     200   \n",
       "1848       2155                                  Frisch und g'sund     200   \n",
       "1849       2155                 The Only Exception (Album Version)     200   \n",
       "1850       2155                        Why I Didn\u0019t Like August 93     200   \n",
       "1851       2155                           Le Plus Beau Du Quartier     200   \n",
       "1852       2155                                               Stem     200   \n",
       "1853       2155  Horn Concerto No. 4 in E flat K495: II. Romanc...     200   \n",
       "1854       2155                                       Lovely Allen     200   \n",
       "1855       2155                           You Could Make A Killing     200   \n",
       "1856       2155                                               None     307   \n",
       "1857       2155                                               None     200   \n",
       "1858       2155                                          Everybody     200   \n",
       "1859       2155                     Fear Of Flying (Album Version)     200   \n",
       "1860       2155                                           Junkyard     200   \n",
       "1861       2155                                               None     307   \n",
       "1862       2281                                               None     200   \n",
       "\n",
       "                 ts                                          userAgent userId  \\\n",
       "0     1538384355000  \"Mozilla/5.0 (Macintosh; Intel Mac OS X 10_9_4...    131   \n",
       "1     1538384770000  \"Mozilla/5.0 (Macintosh; Intel Mac OS X 10_9_4...    131   \n",
       "2     1538385046000  \"Mozilla/5.0 (Macintosh; Intel Mac OS X 10_9_4...    131   \n",
       "3     1538385180000  \"Mozilla/5.0 (Macintosh; Intel Mac OS X 10_9_4...    131   \n",
       "4     1538385402000  \"Mozilla/5.0 (Macintosh; Intel Mac OS X 10_9_4...    131   \n",
       "5     1538385558000  \"Mozilla/5.0 (Macintosh; Intel Mac OS X 10_9_4...    131   \n",
       "6     1538386074000  \"Mozilla/5.0 (Macintosh; Intel Mac OS X 10_9_4...    131   \n",
       "7     1538386309000  \"Mozilla/5.0 (Macintosh; Intel Mac OS X 10_9_4...    131   \n",
       "8     1538386520000  \"Mozilla/5.0 (Macintosh; Intel Mac OS X 10_9_4...    131   \n",
       "9     1538386726000  \"Mozilla/5.0 (Macintosh; Intel Mac OS X 10_9_4...    131   \n",
       "10    1538386977000  \"Mozilla/5.0 (Macintosh; Intel Mac OS X 10_9_4...    131   \n",
       "11    1538387193000  \"Mozilla/5.0 (Macintosh; Intel Mac OS X 10_9_4...    131   \n",
       "12    1538387604000  \"Mozilla/5.0 (Macintosh; Intel Mac OS X 10_9_4...    131   \n",
       "13    1538387868000  \"Mozilla/5.0 (Macintosh; Intel Mac OS X 10_9_4...    131   \n",
       "14    1538388132000  \"Mozilla/5.0 (Macintosh; Intel Mac OS X 10_9_4...    131   \n",
       "15    1538388327000  \"Mozilla/5.0 (Macintosh; Intel Mac OS X 10_9_4...    131   \n",
       "16    1538388627000  \"Mozilla/5.0 (Macintosh; Intel Mac OS X 10_9_4...    131   \n",
       "17    1538388796000  \"Mozilla/5.0 (Macintosh; Intel Mac OS X 10_9_4...    131   \n",
       "18    1538388861000  \"Mozilla/5.0 (Macintosh; Intel Mac OS X 10_9_4...    131   \n",
       "19    1538389085000  \"Mozilla/5.0 (Macintosh; Intel Mac OS X 10_9_4...    131   \n",
       "20    1538389326000  \"Mozilla/5.0 (Macintosh; Intel Mac OS X 10_9_4...    131   \n",
       "21    1538389366000  \"Mozilla/5.0 (Macintosh; Intel Mac OS X 10_9_4...    131   \n",
       "22    1538389659000  \"Mozilla/5.0 (Macintosh; Intel Mac OS X 10_9_4...    131   \n",
       "23    1538389667000  \"Mozilla/5.0 (Macintosh; Intel Mac OS X 10_9_4...    131   \n",
       "24    1538389860000  \"Mozilla/5.0 (Macintosh; Intel Mac OS X 10_9_4...    131   \n",
       "25    1538389930000  \"Mozilla/5.0 (Macintosh; Intel Mac OS X 10_9_4...    131   \n",
       "26    1538389931000  \"Mozilla/5.0 (Macintosh; Intel Mac OS X 10_9_4...    131   \n",
       "27    1538389931000  \"Mozilla/5.0 (Macintosh; Intel Mac OS X 10_9_4...    131   \n",
       "28    1538389997000  \"Mozilla/5.0 (Macintosh; Intel Mac OS X 10_9_4...    131   \n",
       "29    1538390255000  \"Mozilla/5.0 (Macintosh; Intel Mac OS X 10_9_4...    131   \n",
       "...             ...                                                ...    ...   \n",
       "1833  1543115744000  \"Mozilla/5.0 (Macintosh; Intel Mac OS X 10_9_4...    131   \n",
       "1834  1543115980000  \"Mozilla/5.0 (Macintosh; Intel Mac OS X 10_9_4...    131   \n",
       "1835  1543116241000  \"Mozilla/5.0 (Macintosh; Intel Mac OS X 10_9_4...    131   \n",
       "1836  1543116603000  \"Mozilla/5.0 (Macintosh; Intel Mac OS X 10_9_4...    131   \n",
       "1837  1543116852000  \"Mozilla/5.0 (Macintosh; Intel Mac OS X 10_9_4...    131   \n",
       "1838  1543117048000  \"Mozilla/5.0 (Macintosh; Intel Mac OS X 10_9_4...    131   \n",
       "1839  1543117059000  \"Mozilla/5.0 (Macintosh; Intel Mac OS X 10_9_4...    131   \n",
       "1840  1543117204000  \"Mozilla/5.0 (Macintosh; Intel Mac OS X 10_9_4...    131   \n",
       "1841  1543117205000  \"Mozilla/5.0 (Macintosh; Intel Mac OS X 10_9_4...    131   \n",
       "1842  1543117364000  \"Mozilla/5.0 (Macintosh; Intel Mac OS X 10_9_4...    131   \n",
       "1843  1543117626000  \"Mozilla/5.0 (Macintosh; Intel Mac OS X 10_9_4...    131   \n",
       "1844  1543118326000  \"Mozilla/5.0 (Macintosh; Intel Mac OS X 10_9_4...    131   \n",
       "1845  1543118337000  \"Mozilla/5.0 (Macintosh; Intel Mac OS X 10_9_4...    131   \n",
       "1846  1543118515000  \"Mozilla/5.0 (Macintosh; Intel Mac OS X 10_9_4...    131   \n",
       "1847  1543118661000  \"Mozilla/5.0 (Macintosh; Intel Mac OS X 10_9_4...    131   \n",
       "1848  1543118871000  \"Mozilla/5.0 (Macintosh; Intel Mac OS X 10_9_4...    131   \n",
       "1849  1543119040000  \"Mozilla/5.0 (Macintosh; Intel Mac OS X 10_9_4...    131   \n",
       "1850  1543119307000  \"Mozilla/5.0 (Macintosh; Intel Mac OS X 10_9_4...    131   \n",
       "1851  1543119430000  \"Mozilla/5.0 (Macintosh; Intel Mac OS X 10_9_4...    131   \n",
       "1852  1543119640000  \"Mozilla/5.0 (Macintosh; Intel Mac OS X 10_9_4...    131   \n",
       "1853  1543119868000  \"Mozilla/5.0 (Macintosh; Intel Mac OS X 10_9_4...    131   \n",
       "1854  1543120145000  \"Mozilla/5.0 (Macintosh; Intel Mac OS X 10_9_4...    131   \n",
       "1855  1543120416000  \"Mozilla/5.0 (Macintosh; Intel Mac OS X 10_9_4...    131   \n",
       "1856  1543120417000  \"Mozilla/5.0 (Macintosh; Intel Mac OS X 10_9_4...    131   \n",
       "1857  1543120441000  \"Mozilla/5.0 (Macintosh; Intel Mac OS X 10_9_4...    131   \n",
       "1858  1543120638000  \"Mozilla/5.0 (Macintosh; Intel Mac OS X 10_9_4...    131   \n",
       "1859  1543120834000  \"Mozilla/5.0 (Macintosh; Intel Mac OS X 10_9_4...    131   \n",
       "1860  1543121070000  \"Mozilla/5.0 (Macintosh; Intel Mac OS X 10_9_4...    131   \n",
       "1861  1543121071000  \"Mozilla/5.0 (Macintosh; Intel Mac OS X 10_9_4...    131   \n",
       "1862  1543548083000  \"Mozilla/5.0 (Macintosh; Intel Mac OS X 10_9_4...    131   \n",
       "\n",
       "      churn  \n",
       "0         0  \n",
       "1         0  \n",
       "2         0  \n",
       "3         0  \n",
       "4         0  \n",
       "5         0  \n",
       "6         0  \n",
       "7         0  \n",
       "8         0  \n",
       "9         0  \n",
       "10        0  \n",
       "11        0  \n",
       "12        0  \n",
       "13        0  \n",
       "14        0  \n",
       "15        0  \n",
       "16        0  \n",
       "17        0  \n",
       "18        0  \n",
       "19        0  \n",
       "20        0  \n",
       "21        0  \n",
       "22        0  \n",
       "23        0  \n",
       "24        0  \n",
       "25        0  \n",
       "26        0  \n",
       "27        0  \n",
       "28        0  \n",
       "29        0  \n",
       "...     ...  \n",
       "1833      0  \n",
       "1834      0  \n",
       "1835      0  \n",
       "1836      0  \n",
       "1837      0  \n",
       "1838      0  \n",
       "1839      0  \n",
       "1840      0  \n",
       "1841      0  \n",
       "1842      0  \n",
       "1843      0  \n",
       "1844      0  \n",
       "1845      0  \n",
       "1846      0  \n",
       "1847      0  \n",
       "1848      0  \n",
       "1849      0  \n",
       "1850      0  \n",
       "1851      0  \n",
       "1852      0  \n",
       "1853      0  \n",
       "1854      0  \n",
       "1855      0  \n",
       "1856      0  \n",
       "1857      0  \n",
       "1858      0  \n",
       "1859      0  \n",
       "1860      0  \n",
       "1861      0  \n",
       "1862      0  \n",
       "\n",
       "[1863 rows x 19 columns]"
      ]
     },
     "execution_count": 189,
     "metadata": {},
     "output_type": "execute_result"
    }
   ],
   "source": [
    "# Overview\n",
    "df.where(df.userId==userId).toPandas()"
   ]
  },
  {
   "cell_type": "markdown",
   "metadata": {},
   "source": [
    "### Get user's sessionIds "
   ]
  },
  {
   "cell_type": "code",
   "execution_count": 190,
   "metadata": {},
   "outputs": [
    {
     "data": {
      "text/plain": [
       "[2041,\n",
       " 320,\n",
       " 2281,\n",
       " 1164,\n",
       " 1071,\n",
       " 929,\n",
       " 1536,\n",
       " 1000,\n",
       " 1187,\n",
       " 249,\n",
       " 440,\n",
       " 2155,\n",
       " 1095,\n",
       " 1881,\n",
       " 690,\n",
       " 676,\n",
       " 2094,\n",
       " 885,\n",
       " 1325]"
      ]
     },
     "execution_count": 190,
     "metadata": {},
     "output_type": "execute_result"
    }
   ],
   "source": [
    "# helper function - get all sessions for user with userId\n",
    "def get_sessionIds_for_userId(df, userId):\n",
    "    sessionId_list = df.where(df.userId==userId).select('sessionId').drop_duplicates(subset=['sessionId']).rdd.flatMap(lambda x: x).collect()\n",
    "    return sessionId_list\n",
    "get_sessionIds_for_userId(df, userId)"
   ]
  },
  {
   "cell_type": "markdown",
   "metadata": {},
   "source": [
    "### Get user page activities for a certain session\n",
    "- Change **sessionId in the next cell** to check page activities of different sessions"
   ]
  },
  {
   "cell_type": "code",
   "execution_count": 191,
   "metadata": {},
   "outputs": [],
   "source": [
    "sessionId = 131"
   ]
  },
  {
   "cell_type": "code",
   "execution_count": 192,
   "metadata": {},
   "outputs": [
    {
     "data": {
      "text/plain": [
       "[]"
      ]
     },
     "execution_count": 192,
     "metadata": {},
     "output_type": "execute_result"
    }
   ],
   "source": [
    "# helper function - get list of activities for user with userId in session with sesionId\n",
    "def get_user_activities_for_session(df, userId, sessionId):\n",
    "    page_names_list = df.where((df.userId==userId) & (df.sessionId==sessionId)).select('page').rdd.flatMap(lambda x: x).collect()\n",
    "    return page_names_list\n",
    "\n",
    "get_user_activities_for_session(df, userId, sessionId)"
   ]
  },
  {
   "cell_type": "code",
   "execution_count": 193,
   "metadata": {},
   "outputs": [],
   "source": [
    "def get_user_activity_statistic(df, userId):\n",
    "    user_activity_dict = {}\n",
    "    for key in page_elements:\n",
    "        user_activity_dict[key] = 0\n",
    "\n",
    "    sessionId_list = get_sessionIds_for_userId(df, userId) \n",
    "    for sessionId in sessionId_list:\n",
    "        page_names_list_in_session = get_user_activities_for_session(df, userId, sessionId)\n",
    "        for element in page_names_list_in_session:\n",
    "             user_activity_dict[element] +=1\n",
    "    \n",
    "    \n",
    "    user_activity_dict_df = pd.DataFrame(user_activity_dict, index=[0])\n",
    "    \n",
    "    return user_activity_dict_df"
   ]
  },
  {
   "cell_type": "markdown",
   "metadata": {},
   "source": [
    "### Short user report info"
   ]
  },
  {
   "cell_type": "code",
   "execution_count": 194,
   "metadata": {},
   "outputs": [
    {
     "data": {
      "text/markdown": [
       "### user with userId = 131"
      ],
      "text/plain": [
       "<IPython.core.display.Markdown object>"
      ]
     },
     "metadata": {},
     "output_type": "display_data"
    },
    {
     "data": {
      "text/markdown": [
       "#### number of total user actions"
      ],
      "text/plain": [
       "<IPython.core.display.Markdown object>"
      ]
     },
     "metadata": {},
     "output_type": "display_data"
    },
    {
     "name": "stdout",
     "output_type": "stream",
     "text": [
      "1863\n"
     ]
    },
    {
     "data": {
      "text/markdown": [
       "#### paid and/or free user"
      ],
      "text/plain": [
       "<IPython.core.display.Markdown object>"
      ]
     },
     "metadata": {},
     "output_type": "display_data"
    },
    {
     "name": "stdout",
     "output_type": "stream",
     "text": [
      "+-----+-----+\n",
      "|level|count|\n",
      "+-----+-----+\n",
      "| free|  103|\n",
      "| paid| 1760|\n",
      "+-----+-----+\n",
      "\n"
     ]
    },
    {
     "data": {
      "text/markdown": [
       "#### number of sessions"
      ],
      "text/plain": [
       "<IPython.core.display.Markdown object>"
      ]
     },
     "metadata": {},
     "output_type": "display_data"
    },
    {
     "name": "stdout",
     "output_type": "stream",
     "text": [
      "19\n"
     ]
    },
    {
     "data": {
      "text/markdown": [
       "#### session activities count"
      ],
      "text/plain": [
       "<IPython.core.display.Markdown object>"
      ]
     },
     "metadata": {},
     "output_type": "display_data"
    },
    {
     "name": "stdout",
     "output_type": "stream",
     "text": [
      "+---------+-----+\n",
      "|sessionId|count|\n",
      "+---------+-----+\n",
      "|     2041|  111|\n",
      "|      320|   29|\n",
      "|     2281|    1|\n",
      "|     1164|  200|\n",
      "|     1071|   16|\n",
      "|      929|  247|\n",
      "|     1536|  125|\n",
      "|     1000|   70|\n",
      "|     1187|  171|\n",
      "|      249|  238|\n",
      "|      440|   35|\n",
      "|     2155|   61|\n",
      "|     1095|    1|\n",
      "|     1881|   55|\n",
      "|      690|  136|\n",
      "|      676|   36|\n",
      "|     2094|    3|\n",
      "|      885|  142|\n",
      "|     1325|  186|\n",
      "+---------+-----+\n",
      "\n"
     ]
    },
    {
     "data": {
      "text/markdown": [
       "#### number of songs played per session"
      ],
      "text/plain": [
       "<IPython.core.display.Markdown object>"
      ]
     },
     "metadata": {},
     "output_type": "display_data"
    },
    {
     "name": "stdout",
     "output_type": "stream",
     "text": [
      "+---------+-----+\n",
      "|sessionId|count|\n",
      "+---------+-----+\n",
      "|     2041|   92|\n",
      "|      320|   24|\n",
      "|     1164|  172|\n",
      "|     1071|   11|\n",
      "|      929|  206|\n",
      "|     1536|  107|\n",
      "|     1000|   57|\n",
      "|     1187|  149|\n",
      "|      249|  199|\n",
      "|      440|   31|\n",
      "|     2155|   48|\n",
      "|     1881|   50|\n",
      "|      690|  115|\n",
      "|      676|   29|\n",
      "|     2094|    2|\n",
      "|      885|  124|\n",
      "|     1325|  148|\n",
      "+---------+-----+\n",
      "\n"
     ]
    },
    {
     "data": {
      "text/markdown": [
       "#### mean number of played songs per session"
      ],
      "text/plain": [
       "<IPython.core.display.Markdown object>"
      ]
     },
     "metadata": {},
     "output_type": "display_data"
    },
    {
     "name": "stdout",
     "output_type": "stream",
     "text": [
      "+-------------------------+\n",
      "|avg_num_songs_per_session|\n",
      "+-------------------------+\n",
      "|                     92.0|\n",
      "+-------------------------+\n",
      "\n"
     ]
    },
    {
     "data": {
      "text/markdown": [
       "#### all user sessionIds"
      ],
      "text/plain": [
       "<IPython.core.display.Markdown object>"
      ]
     },
     "metadata": {},
     "output_type": "display_data"
    },
    {
     "name": "stdout",
     "output_type": "stream",
     "text": [
      "[2041, 320, 2281, 1164, 1071, 929, 1536, 1000, 1187, 249, 440, 2155, 1095, 1881, 690, 676, 2094, 885, 1325]\n"
     ]
    },
    {
     "data": {
      "text/markdown": [
       "#### web page activity"
      ],
      "text/plain": [
       "<IPython.core.display.Markdown object>"
      ]
     },
     "metadata": {},
     "output_type": "display_data"
    },
    {
     "data": {
      "text/html": [
       "<div>\n",
       "<style scoped>\n",
       "    .dataframe tbody tr th:only-of-type {\n",
       "        vertical-align: middle;\n",
       "    }\n",
       "\n",
       "    .dataframe tbody tr th {\n",
       "        vertical-align: top;\n",
       "    }\n",
       "\n",
       "    .dataframe thead th {\n",
       "        text-align: right;\n",
       "    }\n",
       "</style>\n",
       "<table border=\"1\" class=\"dataframe\">\n",
       "  <thead>\n",
       "    <tr style=\"text-align: right;\">\n",
       "      <th></th>\n",
       "      <th>Cancel</th>\n",
       "      <th>Submit Downgrade</th>\n",
       "      <th>Thumbs Down</th>\n",
       "      <th>Home</th>\n",
       "      <th>Downgrade</th>\n",
       "      <th>Roll Advert</th>\n",
       "      <th>Logout</th>\n",
       "      <th>Save Settings</th>\n",
       "      <th>Cancellation Confirmation</th>\n",
       "      <th>About</th>\n",
       "      <th>...</th>\n",
       "      <th>Login</th>\n",
       "      <th>Register</th>\n",
       "      <th>Add to Playlist</th>\n",
       "      <th>Add Friend</th>\n",
       "      <th>NextSong</th>\n",
       "      <th>Thumbs Up</th>\n",
       "      <th>Help</th>\n",
       "      <th>Upgrade</th>\n",
       "      <th>Error</th>\n",
       "      <th>Submit Upgrade</th>\n",
       "    </tr>\n",
       "  </thead>\n",
       "  <tbody>\n",
       "    <tr>\n",
       "      <th>0</th>\n",
       "      <td>0</td>\n",
       "      <td>2</td>\n",
       "      <td>20</td>\n",
       "      <td>54</td>\n",
       "      <td>15</td>\n",
       "      <td>5</td>\n",
       "      <td>18</td>\n",
       "      <td>2</td>\n",
       "      <td>0</td>\n",
       "      <td>5</td>\n",
       "      <td>...</td>\n",
       "      <td>0</td>\n",
       "      <td>0</td>\n",
       "      <td>51</td>\n",
       "      <td>26</td>\n",
       "      <td>1564</td>\n",
       "      <td>72</td>\n",
       "      <td>13</td>\n",
       "      <td>1</td>\n",
       "      <td>4</td>\n",
       "      <td>1</td>\n",
       "    </tr>\n",
       "  </tbody>\n",
       "</table>\n",
       "<p>1 rows × 22 columns</p>\n",
       "</div>"
      ],
      "text/plain": [
       "   Cancel  Submit Downgrade  Thumbs Down  Home  Downgrade  Roll Advert  \\\n",
       "0       0                 2           20    54         15            5   \n",
       "\n",
       "   Logout  Save Settings  Cancellation Confirmation  About       ...        \\\n",
       "0      18              2                          0      5       ...         \n",
       "\n",
       "   Login  Register  Add to Playlist  Add Friend  NextSong  Thumbs Up  Help  \\\n",
       "0      0         0               51          26      1564         72    13   \n",
       "\n",
       "   Upgrade  Error  Submit Upgrade  \n",
       "0        1      4               1  \n",
       "\n",
       "[1 rows x 22 columns]"
      ]
     },
     "metadata": {},
     "output_type": "display_data"
    }
   ],
   "source": [
    "def get_user_info(df, userId): \n",
    "    printmd('### user with userId = ' + str(userId))\n",
    "   \n",
    "    # number of total user actions\n",
    "    printmd('#### number of total user actions')\n",
    "    print(df.where(df.userId==userId).count())\n",
    " \n",
    "    # paid or free user\n",
    "    printmd('#### number of paid and/or free entries')\n",
    "    df.where(df.userId==userId).groupby('level').count().show()\n",
    "    \n",
    "    # number of sessions\n",
    "    num_session = df.where(df.userId==userId).groupby('sessionId').count().count()\n",
    "    printmd('#### number of sessions')\n",
    "    print(num_session)\n",
    "    \n",
    "    # session overview\n",
    "    printmd('#### session activities count')\n",
    "    df.where(df.userId==userId).groupby('sessionId').count().show()\n",
    "    \n",
    "    # number of songs played per session\n",
    "    printmd('#### number of songs played per session')\n",
    "    df.where((df.userId==userId) & (df.page=='NextSong')).groupby('sessionId').count().show()\n",
    "    \n",
    "    # mean Number of played songs per session \n",
    "    mean_num_plyed_songs =df.where((df.userId==userId) & (df.artist!='None')).groupby('sessionId').count().select(_mean(col('count')).alias('avg_num_songs_per_session'))\n",
    "    printmd('#### mean number of played songs per session')\n",
    "    mean_num_plyed_songs.show()\n",
    "    \n",
    "    # get all user's sessionIds\n",
    "    sessionId_list = df.where(df.userId==userId).select('sessionId').drop_duplicates(subset=['sessionId']).rdd.flatMap(lambda x: x)\n",
    "    printmd('#### all user sessionIds')\n",
    "    print(sessionId_list.collect())\n",
    "    \n",
    "    # get all user's overall web page activity\n",
    "    user_activity_dict_df = get_user_activity_statistic(df, userId)\n",
    "    printmd('#### web page activity')\n",
    "    display(user_activity_dict_df)\n",
    "    \n",
    "get_user_info(df, userId)"
   ]
  },
  {
   "cell_type": "markdown",
   "metadata": {},
   "source": [
    "### Create time/duration columns"
   ]
  },
  {
   "cell_type": "code",
   "execution_count": 101,
   "metadata": {},
   "outputs": [
    {
     "ename": "NameError",
     "evalue": "name 'userId' is not defined",
     "output_type": "error",
     "traceback": [
      "\u001b[0;31m---------------------------------------------------------------------------\u001b[0m",
      "\u001b[0;31mNameError\u001b[0m                                 Traceback (most recent call last)",
      "\u001b[0;32m<ipython-input-101-b8cbd751a54d>\u001b[0m in \u001b[0;36m<module>\u001b[0;34m()\u001b[0m\n\u001b[1;32m     30\u001b[0m \u001b[0;34m\u001b[0m\u001b[0m\n\u001b[1;32m     31\u001b[0m \u001b[0;34m\u001b[0m\u001b[0m\n\u001b[0;32m---> 32\u001b[0;31m \u001b[0msession_activities\u001b[0m \u001b[0;34m=\u001b[0m \u001b[0mget_session_page_duration\u001b[0m\u001b[0;34m(\u001b[0m\u001b[0mdf\u001b[0m\u001b[0;34m,\u001b[0m \u001b[0muserId\u001b[0m\u001b[0;34m=\u001b[0m\u001b[0muserId\u001b[0m\u001b[0;34m,\u001b[0m \u001b[0msessionId\u001b[0m\u001b[0;34m=\u001b[0m\u001b[0msessionId\u001b[0m\u001b[0;34m)\u001b[0m\u001b[0;34m\u001b[0m\u001b[0m\n\u001b[0m\u001b[1;32m     33\u001b[0m \u001b[0msession_activities\u001b[0m\u001b[0;34m.\u001b[0m\u001b[0mshow\u001b[0m\u001b[0;34m(\u001b[0m\u001b[0;34m)\u001b[0m\u001b[0;34m\u001b[0m\u001b[0m\n",
      "\u001b[0;31mNameError\u001b[0m: name 'userId' is not defined"
     ]
    }
   ],
   "source": [
    "def create_hour_column(df):\n",
    "    # Add a new column called 'hour'\n",
    "    df = df.withColumn(\"hour\", get_hour(df.ts))\n",
    "    return df\n",
    "\n",
    "def create_seconds_column(df):\n",
    "    # Add a new column called 'seconds'\n",
    "    df = df.withColumn(\"seconds\", get_seconds(df.ts))\n",
    "    return df\n",
    "\n",
    "def get_session_page_duration(df, userId, sessionId):\n",
    "    # get activities for a certain user sessionId\n",
    "    session_activities = df.where((df.userId==userId) & (df.sessionId==sessionId)).select('sessionId', 'page', 'seconds', 'ts')\n",
    "\n",
    "    \n",
    "    session_window = Window.partitionBy().orderBy(\"ts\")\n",
    "\n",
    "    session_activities = session_activities.withColumn(\"next_value\", F.lead(session_activities.seconds).over(session_window))\n",
    "    session_activities = session_activities.withColumn(\"page_duration_in_sec\", F.when(F.isnull(session_activities.next_value - session_activities.seconds), 0)\n",
    "                                  .otherwise(session_activities.next_value - session_activities.seconds))\n",
    "    \n",
    "    \n",
    "    return session_activities\n",
    "\n",
    "\n",
    "# Add hour column\n",
    "df = create_hour_column(df)\n",
    "# Add seconds column\n",
    "df = create_seconds_column(df)\n",
    "\n",
    "\n",
    "session_activities = get_session_page_duration(df, userId=userId, sessionId=sessionId)\n",
    "session_activities.show()"
   ]
  },
  {
   "cell_type": "markdown",
   "metadata": {},
   "source": [
    "# <a class=\"anchor\" id=\"data_prep\">Data Preparation</a>"
   ]
  },
  {
   "cell_type": "markdown",
   "metadata": {},
   "source": [
    "## <a class=\"anchor\" id=\"filter_data\">Drop missing/uncommon values</a>"
   ]
  },
  {
   "cell_type": "code",
   "execution_count": 51,
   "metadata": {},
   "outputs": [
    {
     "data": {
      "text/plain": [
       "278154"
      ]
     },
     "execution_count": 51,
     "metadata": {},
     "output_type": "execute_result"
    }
   ],
   "source": [
    "df.count()"
   ]
  },
  {
   "cell_type": "code",
   "execution_count": 52,
   "metadata": {},
   "outputs": [],
   "source": [
    "df_clean = df.dropna(how = \"any\", subset = [\"userId\", \"sessionId\"])\n",
    "df_clean = df_clean.filter(df_clean[\"userId\"] != \"\")"
   ]
  },
  {
   "cell_type": "code",
   "execution_count": 53,
   "metadata": {},
   "outputs": [
    {
     "data": {
      "text/plain": [
       "278154"
      ]
     },
     "execution_count": 53,
     "metadata": {},
     "output_type": "execute_result"
    }
   ],
   "source": [
    "df_clean.count()"
   ]
  },
  {
   "cell_type": "markdown",
   "metadata": {},
   "source": [
    "## <a class=\"anchor\" id=\"churn\">Define Churn - The Label for Machine Learning Modeling</a>"
   ]
  },
  {
   "cell_type": "code",
   "execution_count": 54,
   "metadata": {},
   "outputs": [],
   "source": [
    "# Create a churn column - get churn for eachuser --> churn=1 (user churned), churn=0 (user not churned) \n",
    "flag_churn_event = udf(lambda x: 1 if x == \"Cancellation Confirmation\" else 0, IntegerType())\n",
    "df_clean = df_clean.withColumn('churn_event', flag_churn_event('page'))\n",
    "df_clean = df_clean.withColumn('churn', max('churn_event').over(Window.partitionBy('userId')))"
   ]
  },
  {
   "cell_type": "code",
   "execution_count": 58,
   "metadata": {},
   "outputs": [
    {
     "data": {
      "text/plain": [
       "52"
      ]
     },
     "execution_count": 58,
     "metadata": {},
     "output_type": "execute_result"
    }
   ],
   "source": [
    "df_clean.select('userId', 'churn').dropDuplicates(['userId']).where(df_clean.churn ==1).count()"
   ]
  },
  {
   "cell_type": "code",
   "execution_count": 57,
   "metadata": {},
   "outputs": [
    {
     "data": {
      "text/plain": [
       "173"
      ]
     },
     "execution_count": 57,
     "metadata": {},
     "output_type": "execute_result"
    }
   ],
   "source": [
    "df_clean.select('userId', 'churn').dropDuplicates(['userId']).where(df_clean.churn ==0).count()"
   ]
  },
  {
   "cell_type": "markdown",
   "metadata": {},
   "source": [
    "## <a class=\"anchor\" id=\"Distribution_of_churned_and_non_churned_users\">Distribution of churned and non churned users</a>"
   ]
  },
  {
   "cell_type": "code",
   "execution_count": 65,
   "metadata": {},
   "outputs": [
    {
     "name": "stdout",
     "output_type": "stream",
     "text": [
      "+-----+-----+\n",
      "|churn|count|\n",
      "+-----+-----+\n",
      "|    1|   52|\n",
      "|    0|  173|\n",
      "+-----+-----+\n",
      "\n"
     ]
    },
    {
     "data": {
      "image/png": "[encoded data removed]",
      "text/plain": [
       "<matplotlib.figure.Figure at 0x7f932ae55da0>"
      ]
     },
     "metadata": {},
     "output_type": "display_data"
    }
   ],
   "source": [
    "number_churn = df_clean.dropDuplicates(['userId']).groupby(['churn']).count()\n",
    "number_churn.show()\n",
    "number_churn_pd = number_churn.toPandas()\n",
    "\n",
    "\n",
    "plot_sns_bar(x='churn',\n",
    "             y='count', \n",
    "             data=number_churn_pd, \n",
    "             title='Distribution of churned and non churned users', \n",
    "             xlabel='churn', \n",
    "             ylabel='count', \n",
    "             save=True, \n",
    "             hide_xtick=False, \n",
    "             order=False)"
   ]
  },
  {
   "cell_type": "markdown",
   "metadata": {},
   "source": [
    "#### Result:\n",
    "- 23.11 % of all users churned"
   ]
  },
  {
   "cell_type": "code",
   "execution_count": 202,
   "metadata": {},
   "outputs": [],
   "source": [
    "num_churn = 52\n",
    "num_non_churn = 173"
   ]
  },
  {
   "cell_type": "markdown",
   "metadata": {},
   "source": [
    "# <a class=\"anchor\" id=\"Exploratory_Data_Analysis2\">Exploratory Data Analysis Part 2</a>"
   ]
  },
  {
   "cell_type": "markdown",
   "metadata": {},
   "source": [
    "## <a class=\"anchor\" id=\"Gender_distribution_based_on_churn\">Gender distribution based on churn</a>"
   ]
  },
  {
   "cell_type": "code",
   "execution_count": 161,
   "metadata": {},
   "outputs": [
    {
     "name": "stdout",
     "output_type": "stream",
     "text": [
      "+------+-----+\n",
      "|gender|count|\n",
      "+------+-----+\n",
      "|     F|  104|\n",
      "|     M|  121|\n",
      "+------+-----+\n",
      "\n"
     ]
    }
   ],
   "source": [
    "### Gender distribution of users\n",
    "gender_distribution = df_clean.drop_duplicates(subset=['userId']).groupby('gender').count()\n",
    "gender_distribution.show()"
   ]
  },
  {
   "cell_type": "code",
   "execution_count": 162,
   "metadata": {},
   "outputs": [
    {
     "data": {
      "text/html": [
       "<div>\n",
       "<style scoped>\n",
       "    .dataframe tbody tr th:only-of-type {\n",
       "        vertical-align: middle;\n",
       "    }\n",
       "\n",
       "    .dataframe tbody tr th {\n",
       "        vertical-align: top;\n",
       "    }\n",
       "\n",
       "    .dataframe thead th {\n",
       "        text-align: right;\n",
       "    }\n",
       "</style>\n",
       "<table border=\"1\" class=\"dataframe\">\n",
       "  <thead>\n",
       "    <tr style=\"text-align: right;\">\n",
       "      <th></th>\n",
       "      <th>gender</th>\n",
       "      <th>count</th>\n",
       "    </tr>\n",
       "  </thead>\n",
       "  <tbody>\n",
       "    <tr>\n",
       "      <th>0</th>\n",
       "      <td>F</td>\n",
       "      <td>104</td>\n",
       "    </tr>\n",
       "    <tr>\n",
       "      <th>1</th>\n",
       "      <td>M</td>\n",
       "      <td>121</td>\n",
       "    </tr>\n",
       "  </tbody>\n",
       "</table>\n",
       "</div>"
      ],
      "text/plain": [
       "  gender  count\n",
       "0      F    104\n",
       "1      M    121"
      ]
     },
     "metadata": {},
     "output_type": "display_data"
    },
    {
     "data": {
      "image/png": "[encoded data removed]",
      "text/plain": [
       "<matplotlib.figure.Figure at 0x7f9339fc05f8>"
      ]
     },
     "metadata": {},
     "output_type": "display_data"
    }
   ],
   "source": [
    "gender_distribution_pd = gender_distribution.toPandas()\n",
    "display(gender_distribution_pd)\n",
    "plot_sns_bar(x='gender',\n",
    "             y='count', \n",
    "             data=gender_distribution_pd, \n",
    "             title='Gender distribution of users', \n",
    "             xlabel='gender', \n",
    "             ylabel='count', \n",
    "             save=True, \n",
    "             hide_xtick=False, \n",
    "             order=False)"
   ]
  },
  {
   "cell_type": "markdown",
   "metadata": {},
   "source": [
    "#### Result:\n",
    "- 46.22% of all users are women\n",
    "- 53.78% of all users are men"
   ]
  },
  {
   "cell_type": "code",
   "execution_count": 209,
   "metadata": {},
   "outputs": [
    {
     "name": "stdout",
     "output_type": "stream",
     "text": [
      "+-----+------+-----+-------------------+\n",
      "|churn|gender|count|   count_percentage|\n",
      "+-----+------+-----+-------------------+\n",
      "|    0|     M|   89| 0.7355371900826446|\n",
      "|    0|     F|   84| 0.8076923076923077|\n",
      "|    1|     F|   20|0.19230769230769232|\n",
      "|    1|     M|   32| 0.2644628099173554|\n",
      "+-----+------+-----+-------------------+\n",
      "\n"
     ]
    }
   ],
   "source": [
    "get_percentage_gender = udf(lambda x, y : x /121*100 if y=='M' else x /104*100)\n",
    "gender_distribution_churn = df_clean.dropDuplicates(['userId', 'gender']).groupby(['churn', 'gender']).count().sort('churn')\n",
    "#gender_distribution_churn.show()\n",
    "gender_distribution_churn = gender_distribution_churn.withColumn('count_percentage', get_percentage(gender_distribution_churn['count'].cast(FloatType()), gender_distribution_churn['gender']))\n",
    "gender_distribution_churn.show()"
   ]
  },
  {
   "cell_type": "code",
   "execution_count": 210,
   "metadata": {},
   "outputs": [
    {
     "data": {
      "image/png": "[encoded data removed]",
      "text/plain": [
       "<matplotlib.figure.Figure at 0x7f934008dda0>"
      ]
     },
     "metadata": {},
     "output_type": "display_data"
    }
   ],
   "source": [
    "gender_distribution_churn_pd = gender_distribution_churn.toPandas()\n",
    "gender_distribution_churn_pd['count_percentage'] = gender_distribution_churn_pd['count_percentage'].astype(float) *100\n",
    "plot_sns_bar(x='churn',\n",
    "             y='count_percentage', \n",
    "             data=gender_distribution_churn_pd, \n",
    "             hue='gender',\n",
    "             title='Distribution of churned and non churned users based on gender', \n",
    "             xlabel='churn', \n",
    "             ylabel='count / %', \n",
    "             legend='gender',\n",
    "             save=True, \n",
    "             hide_xtick=False, \n",
    "             order=False)"
   ]
  },
  {
   "cell_type": "markdown",
   "metadata": {},
   "source": [
    "#### Result:\n",
    "- There is no clear trend that women tend mor to churn \n",
    "- Gender seems not to be an important feature to predict churn"
   ]
  },
  {
   "cell_type": "code",
   "execution_count": 151,
   "metadata": {},
   "outputs": [
    {
     "name": "stdout",
     "output_type": "stream",
     "text": [
      "+------+-----+------------------------+\n",
      "|userId|churn|max(membership_duration)|\n",
      "+------+-----+------------------------+\n",
      "|    19|    0|      21.451435185185186|\n",
      "|100005|    1|       85.19559027777778|\n",
      "|200007|    0|       53.39774305555556|\n",
      "|300007|    1|      11.553703703703704|\n",
      "|200002|    0|       70.07462962962963|\n",
      "|    50|    0|       75.44710648148148|\n",
      "|100011|    1|       5.165115740740741|\n",
      "|100012|    1|       43.05261574074074|\n",
      "|    30|    0|       9.673993055555556|\n",
      "|     8|    0|       95.37923611111111|\n",
      "|     4|    0|       62.79774305555556|\n",
      "|    65|    0|       71.10780092592593|\n",
      "|   101|    1|              53.9659375|\n",
      "|    13|    0|       98.05936342592592|\n",
      "|   153|    0|        9.11613425925926|\n",
      "|100014|    1|       85.08340277777778|\n",
      "|    42|    0|       9.485104166666666|\n",
      "|    62|    0|       97.05665509259259|\n",
      "|    94|    0|       81.80175925925926|\n",
      "|   114|    0|       71.39887731481481|\n",
      "+------+-----+------------------------+\n",
      "only showing top 20 rows\n",
      "\n"
     ]
    }
   ],
   "source": [
    "# membership_duration\n",
    "membership_duration= df_clean.select('userId','registration','ts','churn')\n",
    "membership_duration = membership_duration.withColumn('membership_duration',(get_days(df_clean.ts - df_clean.registration)))\n",
    "membership_duration = membership_duration.groupBy('userId','churn').agg({'membership_duration':'max'})                                                   \n",
    "membership_duration.show()"
   ]
  },
  {
   "cell_type": "code",
   "execution_count": 222,
   "metadata": {},
   "outputs": [
    {
     "data": {
      "image/png": "[encoded data removed]",
      "text/plain": [
       "<matplotlib.figure.Figure at 0x7f93416344a8>"
      ]
     },
     "metadata": {},
     "output_type": "display_data"
    }
   ],
   "source": [
    "membership_duration_pd = membership_duration.withColumnRenamed('max(membership_duration)','membership_duration').select('userId', 'churn', 'membership_duration').toPandas()\n",
    "membership_duration_pd = membership_duration_pd.astype(np.float)\n",
    "#display(membership_duration_pd)\n",
    "plot_sns_box(x='churn', \n",
    "             y='membership_duration', \n",
    "             data=membership_duration_pd, \n",
    "             title='Membership duration', \n",
    "             xlabel='churn', \n",
    "             ylabel='days', \n",
    "             legend='churn', \n",
    "             figsize=(8,5), \n",
    "             save=False, \n",
    "             hide_xtick=False, \n",
    "             rotation=0, \n",
    "             order=False, \n",
    "             sort_by='', \n",
    "             ascending=False)"
   ]
  },
  {
   "cell_type": "markdown",
   "metadata": {},
   "source": [
    "#### Result:\n",
    "- User with a longer membership have a lower tendency to churn"
   ]
  },
  {
   "cell_type": "markdown",
   "metadata": {},
   "source": [
    "## <a class=\"anchor\" id=\"Total_page_activity_based_on_churn\">Total page activity based on churn</a>"
   ]
  },
  {
   "cell_type": "code",
   "execution_count": 207,
   "metadata": {},
   "outputs": [
    {
     "name": "stdout",
     "output_type": "stream",
     "text": [
      "+---------------+-----+-----+------------------+\n",
      "|           page|churn|count|  count_percentage|\n",
      "+---------------+-----+-----+------------------+\n",
      "|      Thumbs Up|    0|  170| 98.26589595375722|\n",
      "|        Upgrade|    0|  131| 75.72254335260115|\n",
      "|         Logout|    0|  167| 96.53179190751445|\n",
      "|        Upgrade|    1|   37| 71.15384615384616|\n",
      "|     Add Friend|    1|   44| 84.61538461538461|\n",
      "|          Error|    1|   22| 42.30769230769231|\n",
      "|           Home|    1|   51| 98.07692307692307|\n",
      "|       NextSong|    0|  173|             100.0|\n",
      "| Submit Upgrade|    0|  102| 58.95953757225434|\n",
      "|           Help|    0|  149|  86.1271676300578|\n",
      "|Add to Playlist|    1|   50| 96.15384615384616|\n",
      "|  Save Settings|    0|  102| 58.95953757225434|\n",
      "|  Save Settings|    1|   30|57.692307692307686|\n",
      "|           Home|    0|  172| 99.42196531791907|\n",
      "|Add to Playlist|    0|  165| 95.37572254335261|\n",
      "|       Settings|    0|  152| 87.86127167630057|\n",
      "|      Thumbs Up|    1|   50| 96.15384615384616|\n",
      "|    Thumbs Down|    0|  155| 89.59537572254335|\n",
      "|    Roll Advert|    1|   50| 96.15384615384616|\n",
      "|          About|    1|   31| 59.61538461538461|\n",
      "+---------------+-----+-----+------------------+\n",
      "only showing top 20 rows\n",
      "\n"
     ]
    }
   ],
   "source": [
    "get_percentage_churn = udf(lambda x,y: x / num_churn * 100 if y==1 else x/ num_non_churn * 100)\n",
    "total_page_activity_churn = df_clean.dropDuplicates(['userId', 'page']).groupby('page', 'churn').count()\n",
    "#total_page_activity_churn.show()\n",
    "total_page_activity_churn = total_page_activity_churn.withColumn('count_percentage', get_percentage_churn(total_page_activity_churn['count'].cast(FloatType()), total_page_activity_churn['churn']))\n",
    "total_page_activity_churn.show()\n"
   ]
  },
  {
   "cell_type": "code",
   "execution_count": 212,
   "metadata": {},
   "outputs": [
    {
     "data": {
      "image/png": "[encoded data removed]",
      "text/plain": [
       "<matplotlib.figure.Figure at 0x7f9339cfe588>"
      ]
     },
     "metadata": {},
     "output_type": "display_data"
    }
   ],
   "source": [
    "total_page_activity_churn_pd = total_page_activity_churn.toPandas()\n",
    "total_page_activity_churn_pd['count_percentage'] = total_page_activity_churn_pd['count_percentage'].astype(float)\n",
    "plot_sns_bar(x='page', \n",
    "             y='count_percentage', \n",
    "             hue='churn',\n",
    "             data=total_page_activity_churn_pd, \n",
    "             title='Total relative page activity', \n",
    "             xlabel='churn', \n",
    "             ylabel='count / %', \n",
    "             legend='', \n",
    "             figsize=(15,5), \n",
    "             save=False, \n",
    "             hide_xtick=False, \n",
    "             rotation=70, \n",
    "             order=False, \n",
    "             sort_by='', \n",
    "             ascending=False)"
   ]
  },
  {
   "cell_type": "markdown",
   "metadata": {},
   "source": [
    "#### Result:\n",
    "- The trends for some pages are not fully significant from this inspection\n",
    "- However: It seems that the relative count of 'Add Friend', 'Thumbs Up' are interesting features wrt predicting churn. Thes relative count is here higher for non-churned users than for churned users.\n",
    "- In contrast: 'Thumb Down' is higher for churned users than for non churned users. This feature could be also intersting for predicting churn.\n",
    "- It could be, that in larger datasets those trends are more significant than here."
   ]
  },
  {
   "cell_type": "markdown",
   "metadata": {},
   "source": [
    "## <a class=\"anchor\" id=\"total_number_of_songs_played_by_user\">Total number of songs played by user</a>"
   ]
  },
  {
   "cell_type": "code",
   "execution_count": 218,
   "metadata": {},
   "outputs": [
    {
     "name": "stdout",
     "output_type": "stream",
     "text": [
      "+------+---------+-----+-----+\n",
      "|userId|sessionId|churn|count|\n",
      "+------+---------+-----+-----+\n",
      "|    10|     1047|    0|   21|\n",
      "|    10|        9|    0|   57|\n",
      "|    10|      595|    0|  381|\n",
      "|    10|     1414|    0|   63|\n",
      "|    10|     1592|    0|   67|\n",
      "|    10|     1981|    0|   84|\n",
      "|   100|      435|    0|   15|\n",
      "|   100|      991|    0|   17|\n",
      "|   100|     1505|    0|   46|\n",
      "|   100|      369|    0|   91|\n",
      "|   100|     1353|    0|   10|\n",
      "|   100|     1279|    0|   26|\n",
      "|   100|     1473|    0|  184|\n",
      "|   100|      256|    0|  148|\n",
      "|   100|     1185|    0|  144|\n",
      "|   100|     1299|    0|   80|\n",
      "|   100|     1231|    0|   16|\n",
      "|   100|      707|    0|  180|\n",
      "|   100|     1269|    0|    3|\n",
      "|   100|     1398|    0|   30|\n",
      "+------+---------+-----+-----+\n",
      "only showing top 20 rows\n",
      "\n",
      "+------+-----+----------+\n",
      "|userId|churn|sum(count)|\n",
      "+------+-----+----------+\n",
      "|    39|    0|      8002|\n",
      "|    92|    0|      5945|\n",
      "|   140|    0|      5664|\n",
      "|300011|    0|      4619|\n",
      "|   124|    0|      4079|\n",
      "|300021|    0|      3816|\n",
      "|300017|    0|      3632|\n",
      "|    85|    0|      3616|\n",
      "|    42|    0|      3573|\n",
      "|     6|    0|      3159|\n",
      "|    29|    1|      3028|\n",
      "|200023|    0|      2955|\n",
      "|    54|    1|      2841|\n",
      "|   100|    0|      2682|\n",
      "|     9|    0|      2676|\n",
      "|    91|    0|      2580|\n",
      "|   126|    0|      2577|\n",
      "|300015|    0|      2524|\n",
      "|    98|    0|      2401|\n",
      "|    74|    0|      2400|\n",
      "+------+-----+----------+\n",
      "only showing top 20 rows\n",
      "\n"
     ]
    },
    {
     "data": {
      "text/markdown": [
       "#### Number of events: 225"
      ],
      "text/plain": [
       "<IPython.core.display.Markdown object>"
      ]
     },
     "metadata": {},
     "output_type": "display_data"
    }
   ],
   "source": [
    "# mean Number of played songs per session \n",
    "num_songs_played_user_session = df_clean.select('userId', 'sessionId', 'churn').where(df_clean.page=='NextSong').groupby('userId','sessionId', 'churn').count().sort('userId')\n",
    "num_songs_played_user_session.show()\n",
    "total_num_songs_played_user = num_songs_played_user_session.select('userId', 'churn','count').groupby('userId', 'churn').sum('count').sort(desc('sum(count)'))\n",
    "total_num_songs_played_user.show()\n",
    "\n",
    "printmd('#### Number of events: '+ str(total_num_songs_played_user.count()))"
   ]
  },
  {
   "cell_type": "code",
   "execution_count": 220,
   "metadata": {},
   "outputs": [
    {
     "data": {
      "image/png": "[encoded data removed]",
      "text/plain": [
       "<matplotlib.figure.Figure at 0x7f9340090fd0>"
      ]
     },
     "metadata": {},
     "output_type": "display_data"
    }
   ],
   "source": [
    "total_num_songs_played_user_pd = total_num_songs_played_user.toPandas()\n",
    "#display(total_num_songs_played_user_pd.iloc[:20])\n",
    "\n",
    "\n",
    "plot_sns_box(x='churn', \n",
    "             y='sum(count)', \n",
    "             data=total_num_songs_played_user_pd, \n",
    "             title='Total number of songs played', \n",
    "             xlabel='churn', \n",
    "             ylabel='count', \n",
    "             legend='churn', \n",
    "             figsize=(8,5), \n",
    "             save=False, \n",
    "             hide_xtick=False, \n",
    "             rotation=0, \n",
    "             order=False, \n",
    "             sort_by='', \n",
    "             ascending=False)"
   ]
  },
  {
   "cell_type": "markdown",
   "metadata": {},
   "source": [
    "#### Result:\n",
    "- Non churned user play more songs than churned ones\n",
    "- Non churned user seem to be more active, they seem to listen to songs on Sparkify more frequently\n",
    "- num_songs_played_user_session seems to be a useful feature to predict churn"
   ]
  },
  {
   "cell_type": "code",
   "execution_count": 67,
   "metadata": {},
   "outputs": [
    {
     "data": {
      "image/png": "[encoded data removed]",
      "text/plain": [
       "<matplotlib.figure.Figure at 0x7f1eb33de438>"
      ]
     },
     "metadata": {
      "needs_background": "light"
     },
     "output_type": "display_data"
    }
   ],
   "source": [
    "total_num_songs_played_user_pd = total_num_songs_played_user.toPandas()\n",
    "#display(total_num_songs_played_user_pd)\n",
    "plot_sns_bar(x='userId',\n",
    "             y='sum(count)', \n",
    "             data=total_num_songs_played_user_pd, \n",
    "             title='Total number of songs plays per user', \n",
    "             xlabel='user', \n",
    "             ylabel='total_count', \n",
    "             save=True, \n",
    "             hide_xtick=True, \n",
    "             order=True, \n",
    "             sort_by='sum(count)', \n",
    "             ascending=False)"
   ]
  },
  {
   "cell_type": "code",
   "execution_count": 91,
   "metadata": {},
   "outputs": [
    {
     "data": {
      "image/png": "[encoded data removed]",
      "text/plain": [
       "<matplotlib.figure.Figure at 0x7f1ebbabaac8>"
      ]
     },
     "metadata": {
      "needs_background": "light"
     },
     "output_type": "display_data"
    }
   ],
   "source": [
    "plot_sns_distplot(data=total_num_songs_played_user_pd, \n",
    "                  column_to_plot='sum(count)', \n",
    "                  title='Norm. Distribution of total song plays', \n",
    "                  xlabel='total_count', \n",
    "                  ylabel='norm. densitiy / a.u.', \n",
    "                  save=True, \n",
    "                  bins=20, \n",
    "                  kde=True, \n",
    "                  norm_hist=True)"
   ]
  },
  {
   "cell_type": "markdown",
   "metadata": {},
   "source": [
    "## <a class=\"anchor\" id=\"Average_number_of_songs_played_by_user_per_session\">Average number of songs played per user per session</a>"
   ]
  },
  {
   "cell_type": "code",
   "execution_count": 229,
   "metadata": {},
   "outputs": [
    {
     "name": "stdout",
     "output_type": "stream",
     "text": [
      "+------+---------+-----+-----+\n",
      "|userId|sessionId|churn|count|\n",
      "+------+---------+-----+-----+\n",
      "|    10|     1047|    0|   21|\n",
      "|    10|        9|    0|   57|\n",
      "|    10|      595|    0|  381|\n",
      "|    10|     1414|    0|   63|\n",
      "|    10|     1592|    0|   67|\n",
      "|    10|     1981|    0|   84|\n",
      "|   100|      435|    0|   15|\n",
      "|   100|      991|    0|   17|\n",
      "|   100|     1505|    0|   46|\n",
      "|   100|      369|    0|   91|\n",
      "|   100|     1353|    0|   10|\n",
      "|   100|     1279|    0|   26|\n",
      "|   100|     1473|    0|  184|\n",
      "|   100|      256|    0|  148|\n",
      "|   100|     1185|    0|  144|\n",
      "|   100|     1299|    0|   80|\n",
      "|   100|     1231|    0|   16|\n",
      "|   100|      707|    0|  180|\n",
      "|   100|     1269|    0|    3|\n",
      "|   100|     1398|    0|   30|\n",
      "+------+---------+-----+-----+\n",
      "only showing top 20 rows\n",
      "\n",
      "+------+-----+------------------+\n",
      "|userId|churn|        avg(count)|\n",
      "+------+-----+------------------+\n",
      "|    91|    0| 286.6666666666667|\n",
      "|    19|    0|             216.0|\n",
      "|    51|    1|             211.1|\n",
      "|    62|    0|           198.875|\n",
      "|   101|    1|             179.7|\n",
      "|   115|    0|             173.7|\n",
      "|    23|    0|             164.0|\n",
      "|    41|    0|157.83333333333334|\n",
      "|   105|    1|             152.8|\n",
      "|    77|    0|149.57142857142858|\n",
      "|   124|    0|145.67857142857142|\n",
      "|     6|    0| 143.5909090909091|\n",
      "|    44|    0|             143.0|\n",
      "|    58|    1|141.16666666666666|\n",
      "|   138|    0|             138.0|\n",
      "|   151|    0|             138.0|\n",
      "|    15|    0|136.71428571428572|\n",
      "|   155|    0|136.66666666666666|\n",
      "|    89|    0|             133.4|\n",
      "|    17|    1|132.42857142857142|\n",
      "+------+-----+------------------+\n",
      "only showing top 20 rows\n",
      "\n"
     ]
    },
    {
     "data": {
      "text/markdown": [
       "#### Number of events: 225"
      ],
      "text/plain": [
       "<IPython.core.display.Markdown object>"
      ]
     },
     "metadata": {},
     "output_type": "display_data"
    }
   ],
   "source": [
    "# mean Number of played songs per session \n",
    "num_songs_played_user_session = df_clean.select('userId', 'sessionId', 'churn').where(df_clean.page=='NextSong').groupby('userId', 'sessionId', 'churn').count().sort('userId')\n",
    "num_songs_played_user_session.show()\n",
    "avg_num_songs_played_user_session = num_songs_played_user_session.select('userId', 'churn', 'count').groupby('userId', 'churn').mean('count').sort(desc('avg(count)'))\n",
    "avg_num_songs_played_user_session.show()\n",
    "\n",
    "printmd('#### Number of events: '+ str(avg_num_songs_played_user_session.count()))"
   ]
  },
  {
   "cell_type": "code",
   "execution_count": 230,
   "metadata": {},
   "outputs": [
    {
     "data": {
      "image/png": "[encoded data removed]",
      "text/plain": [
       "<matplotlib.figure.Figure at 0x7f9339d00860>"
      ]
     },
     "metadata": {},
     "output_type": "display_data"
    }
   ],
   "source": [
    "avg_num_songs_played_user_session_pd = avg_num_songs_played_user_session.toPandas()\n",
    "#display(avg_num_songs_played_user_session_pd\n",
    "\n",
    "plot_sns_box(x='churn', \n",
    "             y='avg(count)', \n",
    "             data=avg_num_songs_played_user_session_pd, \n",
    "             title='Avg number of songs per session', \n",
    "             xlabel='churn', \n",
    "             ylabel='count', \n",
    "             legend='churn', \n",
    "             figsize=(8,5), \n",
    "             save=False, \n",
    "             hide_xtick=False, \n",
    "             rotation=0, \n",
    "             order=False, \n",
    "             sort_by='', \n",
    "             ascending=False)"
   ]
  },
  {
   "cell_type": "markdown",
   "metadata": {},
   "source": [
    "#### Result:\n",
    "- Non churned user play more songs per session than churned ones\n",
    "- Non churned user seem to be more active, they seem to listen to songs on Sparkify more frequently\n",
    "- avg_num_songs_played_user_session seems to be a useful feature to predict churn"
   ]
  },
  {
   "cell_type": "code",
   "execution_count": 52,
   "metadata": {},
   "outputs": [
    {
     "data": {
      "image/png": "[encoded data removed]",
      "text/plain": [
       "<matplotlib.figure.Figure at 0x7f1eb02e0be0>"
      ]
     },
     "metadata": {
      "needs_background": "light"
     },
     "output_type": "display_data"
    }
   ],
   "source": [
    "#display(avg_num_songs_playes_user_session_pd)\n",
    "plot_sns_bar(x='userId',\n",
    "             y='avg(count)', \n",
    "             data=avg_num_songs_played_user_session_pd, \n",
    "             title='Avg number of songs per session', \n",
    "             xlabel='user', \n",
    "             ylabel='avg_count', \n",
    "             save=True, \n",
    "             hide_xtick=True, \n",
    "             order=True, \n",
    "             sort_by='avg(count)', \n",
    "             ascending=False)"
   ]
  },
  {
   "cell_type": "code",
   "execution_count": 92,
   "metadata": {},
   "outputs": [
    {
     "data": {
      "image/png": "[encoded data removed]",
      "text/plain": [
       "<matplotlib.figure.Figure at 0x7f1eb33d9748>"
      ]
     },
     "metadata": {
      "needs_background": "light"
     },
     "output_type": "display_data"
    }
   ],
   "source": [
    "plot_sns_distplot(data=avg_num_songs_played_user_session_pd, \n",
    "                  column_to_plot='avg(count)', \n",
    "                  title='Norm. Distribution of avg song plays per session', \n",
    "                  xlabel='avg_count', \n",
    "                  ylabel='norm. densitiy / a.u.', \n",
    "                  save=True, \n",
    "                  bins=20, \n",
    "                  kde=True, \n",
    "                  norm_hist=True)"
   ]
  },
  {
   "cell_type": "markdown",
   "metadata": {},
   "source": [
    "## <a class=\"anchor\" id=\"total_number_of_thumbs_up_per_user\">Total number of thumbs up per user</a>"
   ]
  },
  {
   "cell_type": "code",
   "execution_count": 231,
   "metadata": {},
   "outputs": [
    {
     "name": "stdout",
     "output_type": "stream",
     "text": [
      "+------+-----+-----+\n",
      "|userId|churn|count|\n",
      "+------+-----+-----+\n",
      "|300011|    0|  437|\n",
      "|    39|    0|  388|\n",
      "|300021|    0|  336|\n",
      "|300017|    0|  303|\n",
      "|    92|    0|  292|\n",
      "|   140|    0|  277|\n",
      "|300015|    0|  193|\n",
      "|    85|    0|  192|\n",
      "|   124|    0|  171|\n",
      "|300023|    0|  169|\n",
      "|    42|    0|  166|\n",
      "|     6|    0|  165|\n",
      "|    54|    1|  163|\n",
      "|200023|    0|  163|\n",
      "|    29|    1|  154|\n",
      "|   100|    0|  148|\n",
      "|300001|    1|  148|\n",
      "|300002|    0|  140|\n",
      "|300025|    0|  139|\n",
      "|   126|    0|  135|\n",
      "+------+-----+-----+\n",
      "only showing top 20 rows\n",
      "\n"
     ]
    },
    {
     "data": {
      "text/markdown": [
       "#### Number of events: 220"
      ],
      "text/plain": [
       "<IPython.core.display.Markdown object>"
      ]
     },
     "metadata": {},
     "output_type": "display_data"
    }
   ],
   "source": [
    "thumbs_up = df_clean.select('userId', 'churn').where(df.page=='Thumbs Up').groupby('userId', 'churn').count().sort(desc('count'))\n",
    "thumbs_up.show()\n",
    "\n",
    "printmd('#### Number of events: '+ str(thumbs_up.count()))"
   ]
  },
  {
   "cell_type": "code",
   "execution_count": 232,
   "metadata": {},
   "outputs": [
    {
     "data": {
      "image/png": "[encoded data removed]",
      "text/plain": [
       "<matplotlib.figure.Figure at 0x7f933995f278>"
      ]
     },
     "metadata": {},
     "output_type": "display_data"
    }
   ],
   "source": [
    "thumbs_up_pd = thumbs_up.toPandas()\n",
    "#display(thumbs_up)\n",
    "\n",
    "plot_sns_box(x='churn', \n",
    "             y='count', \n",
    "             data=thumbs_up_pd, \n",
    "             title='Number of thumbs up per user', \n",
    "             xlabel='churn', \n",
    "             ylabel='count', \n",
    "             legend='churn', \n",
    "             figsize=(8,5), \n",
    "             save=False, \n",
    "             hide_xtick=False, \n",
    "             rotation=0, \n",
    "             order=False, \n",
    "             sort_by='', \n",
    "             ascending=False)"
   ]
  },
  {
   "cell_type": "markdown",
   "metadata": {},
   "source": [
    "#### Result:\n",
    "- There are more 'thumbs up' for non churned user than for churned ones\n",
    "- thumbs_up seems to be a useful feature to predict churn"
   ]
  },
  {
   "cell_type": "code",
   "execution_count": null,
   "metadata": {},
   "outputs": [],
   "source": [
    "\"\"\"\n",
    "thumbs_up = spark.sql('''\n",
    "                      SELECT userId, count(*) as num_thumbs_up\n",
    "                      FROM sparkify_sql_view \n",
    "                      where page = 'Thumbs Up' \n",
    "                      group by userId\n",
    "                      ''')\n",
    "\n",
    "thumbs_up.show()\n",
    "\"\"\""
   ]
  },
  {
   "cell_type": "code",
   "execution_count": 78,
   "metadata": {},
   "outputs": [
    {
     "data": {
      "image/png": "[encoded data removed]",
      "text/plain": [
       "<matplotlib.figure.Figure at 0x7f1eb2d955f8>"
      ]
     },
     "metadata": {
      "needs_background": "light"
     },
     "output_type": "display_data"
    }
   ],
   "source": [
    "#display(thumbs_up_pd)\n",
    "\n",
    "plot_sns_bar(x='userId',\n",
    "             y='count', \n",
    "             data=thumbs_up_pd, \n",
    "             title='Number of thumbs up per user', \n",
    "             xlabel='user', \n",
    "             ylabel='count', \n",
    "             save=True, \n",
    "             hide_xtick=True, \n",
    "             order=True, \n",
    "             sort_by='count', \n",
    "             ascending=False)"
   ]
  },
  {
   "cell_type": "code",
   "execution_count": 79,
   "metadata": {},
   "outputs": [
    {
     "data": {
      "image/png": "[encoded data removed]",
      "text/plain": [
       "<matplotlib.figure.Figure at 0x7f1eb7259278>"
      ]
     },
     "metadata": {
      "needs_background": "light"
     },
     "output_type": "display_data"
    }
   ],
   "source": [
    "plot_sns_distplot(data=thumbs_up_pd, \n",
    "                  column_to_plot='count', \n",
    "                  title='Norm. Distribution of thumbs up count', \n",
    "                  xlabel='count', \n",
    "                  ylabel='norm. densitiy / a.u.', \n",
    "                  save=True, \n",
    "                  bins=20, \n",
    "                  kde=True, \n",
    "                  norm_hist=True)"
   ]
  },
  {
   "cell_type": "markdown",
   "metadata": {},
   "source": [
    "## <a class=\"anchor\" id=\"total_number_of_thumbs_down_per_user\">Total number of thumbs down per user</a>"
   ]
  },
  {
   "cell_type": "code",
   "execution_count": 235,
   "metadata": {},
   "outputs": [
    {
     "name": "stdout",
     "output_type": "stream",
     "text": [
      "+------+-----+-----+\n",
      "|userId|churn|count|\n",
      "+------+-----+-----+\n",
      "|   140|    0|   75|\n",
      "|200023|    0|   73|\n",
      "|    92|    0|   72|\n",
      "|    39|    0|   69|\n",
      "|200004|    0|   54|\n",
      "|200008|    0|   52|\n",
      "|300011|    0|   41|\n",
      "|   124|    0|   41|\n",
      "|    85|    0|   38|\n",
      "|200020|    1|   36|\n",
      "|300021|    0|   36|\n",
      "|200021|    1|   35|\n",
      "|     9|    0|   32|\n",
      "|200009|    0|   32|\n",
      "|     6|    0|   31|\n",
      "|    54|    1|   29|\n",
      "|300017|    0|   28|\n",
      "|200014|    0|   28|\n",
      "|   118|    0|   27|\n",
      "|200025|    0|   27|\n",
      "+------+-----+-----+\n",
      "only showing top 20 rows\n",
      "\n"
     ]
    },
    {
     "data": {
      "text/markdown": [
       "#### Number of events: 203"
      ],
      "text/plain": [
       "<IPython.core.display.Markdown object>"
      ]
     },
     "metadata": {},
     "output_type": "display_data"
    }
   ],
   "source": [
    "thumbs_down = df_clean.select('userId', 'churn').where(df_clean.page=='Thumbs Down').groupby('userId', 'churn').count().sort(desc('count'))\n",
    "thumbs_down.show()\n",
    "\n",
    "printmd('#### Number of events: '+ str(thumbs_down.count()))"
   ]
  },
  {
   "cell_type": "code",
   "execution_count": 236,
   "metadata": {},
   "outputs": [
    {
     "data": {
      "image/png": "[encoded data removed]",
      "text/plain": [
       "<matplotlib.figure.Figure at 0x7f933971df98>"
      ]
     },
     "metadata": {},
     "output_type": "display_data"
    }
   ],
   "source": [
    "thumbs_down_pd = thumbs_down.toPandas()\n",
    "#display(thumbs_up)\n",
    "\n",
    "plot_sns_box(x='churn', \n",
    "             y='count', \n",
    "             data=thumbs_down_pd, \n",
    "             title='Number of thumbs down per user', \n",
    "             xlabel='churn', \n",
    "             ylabel='count', \n",
    "             legend='churn', \n",
    "             figsize=(8,5), \n",
    "             save=False, \n",
    "             hide_xtick=False, \n",
    "             rotation=0, \n",
    "             order=False, \n",
    "             sort_by='', \n",
    "             ascending=False)"
   ]
  },
  {
   "cell_type": "markdown",
   "metadata": {},
   "source": [
    "#### Result:\n",
    "- There are also slightly more 'thumbs down' for non churned user than for churned ones\n",
    "- The trend of thumbs_down as a useful feature to predict churn is not clear at the moment"
   ]
  },
  {
   "cell_type": "code",
   "execution_count": null,
   "metadata": {},
   "outputs": [],
   "source": [
    "\"\"\"\n",
    "# SQL view \n",
    "df.createOrReplaceTempView(\"sparkify_sql_view\")\n",
    "thumbs_down = spark.sql('''\n",
    "                        SELECT userId, count(*) as num_thumbs_down \n",
    "                        FROM sparkify_sql_view \n",
    "                        where page = 'Thumbs Down' \n",
    "                        group by userId\n",
    "                        ''')\n",
    "\n",
    "thumbs_down.show()\n",
    "\"\"\""
   ]
  },
  {
   "cell_type": "code",
   "execution_count": 81,
   "metadata": {},
   "outputs": [
    {
     "data": {
      "image/png": "[encoded data removed]",
      "text/plain": [
       "<matplotlib.figure.Figure at 0x7f1eb182e9e8>"
      ]
     },
     "metadata": {
      "needs_background": "light"
     },
     "output_type": "display_data"
    }
   ],
   "source": [
    "#display(thumbs_up_pd)\n",
    "\n",
    "plot_sns_bar(x='userId',\n",
    "             y='count', \n",
    "             data=thumbs_down_pd, \n",
    "             title='Number of thumbs down per user', \n",
    "             xlabel='user', \n",
    "             ylabel='count', \n",
    "             save=True, \n",
    "             hide_xtick=True, \n",
    "             order=True, \n",
    "             sort_by='count', \n",
    "             ascending=False)"
   ]
  },
  {
   "cell_type": "code",
   "execution_count": 93,
   "metadata": {},
   "outputs": [
    {
     "data": {
      "image/png": "[encoded data removed]",
      "text/plain": [
       "<matplotlib.figure.Figure at 0x7f1eb72b6a58>"
      ]
     },
     "metadata": {
      "needs_background": "light"
     },
     "output_type": "display_data"
    }
   ],
   "source": [
    "plot_sns_distplot(data=thumbs_down_pd, \n",
    "                  column_to_plot='count', \n",
    "                  title='Norm. Distribution of thumbs down count', \n",
    "                  xlabel='count', \n",
    "                  ylabel='norm. densitiy / a.u.', \n",
    "                  save=True, \n",
    "                  bins=20, \n",
    "                  kde=True, \n",
    "                  norm_hist=True)"
   ]
  },
  {
   "cell_type": "markdown",
   "metadata": {},
   "source": [
    "## <a class=\"anchor\" id=\"Total_number_of_errors_per_user\">Total number of errors per user</a>"
   ]
  },
  {
   "cell_type": "code",
   "execution_count": 239,
   "metadata": {},
   "outputs": [
    {
     "name": "stdout",
     "output_type": "stream",
     "text": [
      "+------+-----+-----+\n",
      "|userId|churn|count|\n",
      "+------+-----+-----+\n",
      "|    39|    0|    7|\n",
      "|    42|    0|    7|\n",
      "|   140|    0|    7|\n",
      "|   124|    0|    6|\n",
      "|   142|    0|    5|\n",
      "|300017|    0|    5|\n",
      "|    95|    0|    5|\n",
      "|300021|    0|    5|\n",
      "|     4|    0|    4|\n",
      "|   131|    0|    4|\n",
      "|    49|    0|    4|\n",
      "|     6|    0|    4|\n",
      "|300015|    0|    4|\n",
      "|    69|    0|    4|\n",
      "|    59|    0|    4|\n",
      "|    62|    0|    4|\n",
      "|300023|    0|    3|\n",
      "|   100|    0|    3|\n",
      "|   155|    0|    3|\n",
      "|300008|    0|    3|\n",
      "+------+-----+-----+\n",
      "only showing top 20 rows\n",
      "\n"
     ]
    },
    {
     "data": {
      "text/markdown": [
       "#### Number of events: 117"
      ],
      "text/plain": [
       "<IPython.core.display.Markdown object>"
      ]
     },
     "metadata": {},
     "output_type": "display_data"
    }
   ],
   "source": [
    "error = df_clean.select('userId', 'churn').where(df_clean.page=='Error').groupby('userId', 'churn').count().sort(desc('count'))\n",
    "error.show()\n",
    "\n",
    "printmd('#### Number of events: '+ str(error.count()))"
   ]
  },
  {
   "cell_type": "code",
   "execution_count": 240,
   "metadata": {},
   "outputs": [
    {
     "data": {
      "image/png": "[encoded data removed]",
      "text/plain": [
       "<matplotlib.figure.Figure at 0x7f93397145f8>"
      ]
     },
     "metadata": {},
     "output_type": "display_data"
    }
   ],
   "source": [
    "error_pd = error.toPandas()\n",
    "#display(thumbs_up)\n",
    "\n",
    "plot_sns_box(x='churn', \n",
    "             y='count', \n",
    "             data=error_pd, \n",
    "             title='Number of errors per user', \n",
    "             xlabel='churn', \n",
    "             ylabel='count', \n",
    "             legend='churn', \n",
    "             figsize=(8,5), \n",
    "             save=False, \n",
    "             hide_xtick=False, \n",
    "             rotation=0, \n",
    "             order=False, \n",
    "             sort_by='', \n",
    "             ascending=False)"
   ]
  },
  {
   "cell_type": "markdown",
   "metadata": {},
   "source": [
    "#### Result:\n",
    "- The error trend does not seem to influence churn dramatically.\n",
    "- It seems that errors are forgiven. \n",
    "- Maybe the reason for that could be, that the amount of errors is small. Median < 2."
   ]
  },
  {
   "cell_type": "code",
   "execution_count": 242,
   "metadata": {},
   "outputs": [
    {
     "data": {
      "image/png": "[encoded data removed]",
      "text/plain": [
       "<matplotlib.figure.Figure at 0x7f9339ee7f28>"
      ]
     },
     "metadata": {},
     "output_type": "display_data"
    }
   ],
   "source": [
    "#display(thumbs_up_pd)\n",
    "\n",
    "plot_sns_bar(x='userId',\n",
    "             y='count', \n",
    "             data=error_pd, \n",
    "             title='Number of errors for users', \n",
    "             xlabel='user', \n",
    "             ylabel='count', \n",
    "             save=True, \n",
    "             hide_xtick=True, \n",
    "             order=True, \n",
    "             sort_by='count', \n",
    "             ascending=False)"
   ]
  },
  {
   "cell_type": "code",
   "execution_count": 98,
   "metadata": {},
   "outputs": [
    {
     "data": {
      "image/png": "[encoded data removed]",
      "text/plain": [
       "<matplotlib.figure.Figure at 0x7f1eb2d95b70>"
      ]
     },
     "metadata": {
      "needs_background": "light"
     },
     "output_type": "display_data"
    }
   ],
   "source": [
    "plot_sns_distplot(data=error_pd, \n",
    "                  column_to_plot='count', \n",
    "                  title='Norm. Distribution of error count', \n",
    "                  xlabel='count', \n",
    "                  ylabel='norm. densitiy / a.u.', \n",
    "                  save=True, \n",
    "                  bins=8, \n",
    "                  kde=True, \n",
    "                  norm_hist=True)"
   ]
  },
  {
   "cell_type": "markdown",
   "metadata": {},
   "source": [
    "## <a class=\"anchor\" id=\"Total_number_of_Add_to_playlist_clicks_per_user\">Total number of \"Add to playlist\" clicks per user</a>"
   ]
  },
  {
   "cell_type": "code",
   "execution_count": 245,
   "metadata": {},
   "outputs": [
    {
     "name": "stdout",
     "output_type": "stream",
     "text": [
      "+------+-----+-----+\n",
      "|userId|churn|count|\n",
      "+------+-----+-----+\n",
      "|    39|    0|  240|\n",
      "|    92|    0|  181|\n",
      "|   140|    0|  148|\n",
      "|300011|    0|  146|\n",
      "|   124|    0|  118|\n",
      "|300017|    0|  113|\n",
      "|    85|    0|  108|\n",
      "|300021|    0|  107|\n",
      "|    42|    0|  104|\n",
      "|    29|    1|   89|\n",
      "|     6|    0|   83|\n",
      "|    74|    0|   80|\n",
      "|     9|    0|   77|\n",
      "|200023|    0|   73|\n",
      "|   126|    0|   72|\n",
      "|    54|    1|   72|\n",
      "|300001|    1|   69|\n",
      "|    65|    0|   68|\n",
      "|200004|    0|   67|\n",
      "|   138|    0|   67|\n",
      "+------+-----+-----+\n",
      "only showing top 20 rows\n",
      "\n"
     ]
    },
    {
     "data": {
      "text/markdown": [
       "#### Number of events: 215"
      ],
      "text/plain": [
       "<IPython.core.display.Markdown object>"
      ]
     },
     "metadata": {},
     "output_type": "display_data"
    }
   ],
   "source": [
    "add_to_playlist = df_clean.select('userId', 'churn').where(df_clean.page=='Add to Playlist').groupby('userId', 'churn').count().sort(desc('count'))\n",
    "add_to_playlist.show()\n",
    "\n",
    "printmd('#### Number of events: '+ str(add_to_playlist.count()))"
   ]
  },
  {
   "cell_type": "code",
   "execution_count": 246,
   "metadata": {},
   "outputs": [
    {
     "data": {
      "image/png": "[encoded data removed]",
      "text/plain": [
       "<matplotlib.figure.Figure at 0x7f9339748198>"
      ]
     },
     "metadata": {},
     "output_type": "display_data"
    }
   ],
   "source": [
    "add_to_playlist_pd = add_to_playlist.toPandas()\n",
    "#display(thumbs_up)\n",
    "\n",
    "plot_sns_box(x='churn', \n",
    "             y='count', \n",
    "             data=add_to_playlist_pd, \n",
    "             title='Number of \"Add to Playlist\" clicks per users', \n",
    "             xlabel='churn', \n",
    "             ylabel='count', \n",
    "             legend='churn', \n",
    "             figsize=(8,5), \n",
    "             save=False, \n",
    "             hide_xtick=False, \n",
    "             rotation=0, \n",
    "             order=False, \n",
    "             sort_by='', \n",
    "             ascending=False)"
   ]
  },
  {
   "cell_type": "markdown",
   "metadata": {},
   "source": [
    "#### Result:\n",
    "- There are more 'Add to Playlist' events for non churned user than for churned ones\n",
    "- add_to_playlist seems to be a useful feature to predict churn"
   ]
  },
  {
   "cell_type": "code",
   "execution_count": 247,
   "metadata": {},
   "outputs": [
    {
     "data": {
      "image/png": "[encoded data removed]",
      "text/plain": [
       "<matplotlib.figure.Figure at 0x7f933976d668>"
      ]
     },
     "metadata": {},
     "output_type": "display_data"
    }
   ],
   "source": [
    "#display(thumbs_up_pd)\n",
    "\n",
    "plot_sns_bar(x='userId',\n",
    "             y='count', \n",
    "             data=add_to_playlist_pd, \n",
    "             title='Number of \"Add to Playlist\" clicks per users', \n",
    "             xlabel='user', \n",
    "             ylabel='count', \n",
    "             save=True, \n",
    "             hide_xtick=True, \n",
    "             order=True, \n",
    "             sort_by='count', \n",
    "             ascending=False)"
   ]
  },
  {
   "cell_type": "code",
   "execution_count": 248,
   "metadata": {},
   "outputs": [
    {
     "data": {
      "image/png": "[encoded data removed]",
      "text/plain": [
       "<matplotlib.figure.Figure at 0x7f9340238ac8>"
      ]
     },
     "metadata": {},
     "output_type": "display_data"
    }
   ],
   "source": [
    "plot_sns_distplot(data=add_to_playlist_pd, \n",
    "                  column_to_plot='count', \n",
    "                  title='Norm. Distribution of \"Add to Playlist\" count', \n",
    "                  xlabel='count', \n",
    "                  ylabel='norm. densitiy / a.u.', \n",
    "                  save=True, \n",
    "                  bins=20, \n",
    "                  kde=True, \n",
    "                  norm_hist=True)"
   ]
  },
  {
   "cell_type": "markdown",
   "metadata": {},
   "source": [
    "## <a class=\"anchor\" id=\"Total_number_of_Add_Friend_clicks_per_user\">Total number of \"Add Friend\" clicks per user</a>"
   ]
  },
  {
   "cell_type": "code",
   "execution_count": 249,
   "metadata": {},
   "outputs": [
    {
     "name": "stdout",
     "output_type": "stream",
     "text": [
      "+------+-----+-----+\n",
      "|userId|churn|count|\n",
      "+------+-----+-----+\n",
      "|   140|    0|  143|\n",
      "|    39|    0|  122|\n",
      "|    92|    0|  110|\n",
      "|300011|    0|   93|\n",
      "|300021|    0|   89|\n",
      "|   124|    0|   74|\n",
      "|200023|    0|   66|\n",
      "|300017|    0|   63|\n",
      "|   136|    0|   60|\n",
      "|    85|    0|   58|\n",
      "|    65|    0|   53|\n",
      "|   118|    0|   52|\n",
      "|    42|    0|   52|\n",
      "|   100|    0|   49|\n",
      "|    29|    1|   47|\n",
      "|300015|    0|   47|\n",
      "|     4|    0|   46|\n",
      "|    98|    0|   45|\n",
      "|    74|    0|   43|\n",
      "|    91|    0|   42|\n",
      "+------+-----+-----+\n",
      "only showing top 20 rows\n",
      "\n"
     ]
    },
    {
     "data": {
      "text/markdown": [
       "#### Number of events: 206"
      ],
      "text/plain": [
       "<IPython.core.display.Markdown object>"
      ]
     },
     "metadata": {},
     "output_type": "display_data"
    }
   ],
   "source": [
    "add_friend = df_clean.select('userId', 'churn').where(df_clean.page=='Add Friend').groupby('userId', 'churn').count().sort(desc('count'))\n",
    "add_friend.show()\n",
    "\n",
    "printmd('#### Number of events: '+ str(add_friend.count()))"
   ]
  },
  {
   "cell_type": "code",
   "execution_count": 250,
   "metadata": {},
   "outputs": [
    {
     "data": {
      "image/png": "[encoded data removed]",
      "text/plain": [
       "<matplotlib.figure.Figure at 0x7f9339c2bc50>"
      ]
     },
     "metadata": {},
     "output_type": "display_data"
    }
   ],
   "source": [
    "add_friend_pd = add_friend.toPandas()\n",
    "#display(thumbs_up)\n",
    "\n",
    "plot_sns_box(x='churn', \n",
    "             y='count', \n",
    "             data=add_friend_pd, \n",
    "             title='Number of \"Add Friend\" clicks per users', \n",
    "             xlabel='churn', \n",
    "             ylabel='count', \n",
    "             legend='churn', \n",
    "             figsize=(8,5), \n",
    "             save=False, \n",
    "             hide_xtick=False, \n",
    "             rotation=0, \n",
    "             order=False, \n",
    "             sort_by='', \n",
    "             ascending=False)"
   ]
  },
  {
   "cell_type": "markdown",
   "metadata": {},
   "source": [
    "#### Result:\n",
    "- There are more 'Add Friend' events for non churned user than for churned ones\n",
    "- add_friend seems to be a useful feature to predict churn"
   ]
  },
  {
   "cell_type": "code",
   "execution_count": 107,
   "metadata": {},
   "outputs": [
    {
     "data": {
      "image/png": "[encoded data removed]",
      "text/plain": [
       "<matplotlib.figure.Figure at 0x7f1eaddf6198>"
      ]
     },
     "metadata": {
      "needs_background": "light"
     },
     "output_type": "display_data"
    }
   ],
   "source": [
    "#display(add_friend_pd)\n",
    "\n",
    "plot_sns_bar(x='userId',\n",
    "             y='count', \n",
    "             data=add_friend_pd, \n",
    "             title='Number of \"Add Friend\" clicks per users', \n",
    "             xlabel='user', \n",
    "             ylabel='count', \n",
    "             save=True, \n",
    "             hide_xtick=True, \n",
    "             order=True, \n",
    "             sort_by='count', \n",
    "             ascending=False)"
   ]
  },
  {
   "cell_type": "code",
   "execution_count": 108,
   "metadata": {},
   "outputs": [
    {
     "data": {
      "image/png": "[encoded data removed]",
      "text/plain": [
       "<matplotlib.figure.Figure at 0x7f1eb8f2c748>"
      ]
     },
     "metadata": {
      "needs_background": "light"
     },
     "output_type": "display_data"
    }
   ],
   "source": [
    "plot_sns_distplot(data=add_friend_pd, \n",
    "                  column_to_plot='count', \n",
    "                  title='Norm. Distribution of \"Add Friend\" count', \n",
    "                  xlabel='count', \n",
    "                  ylabel='norm. densitiy / a.u.', \n",
    "                  save=True, \n",
    "                  bins=20, \n",
    "                  kde=True, \n",
    "                  norm_hist=True)"
   ]
  },
  {
   "cell_type": "markdown",
   "metadata": {},
   "source": [
    "# <a class=\"anchor\" id=\"Feature_Engineering\">Feature Engineering</a>\n",
    "Once you've familiarized yourself with the data, build out the features you find promising to train your model on. To work with the full dataset, you can follow the following steps.\n",
    "- Write a script to extract the necessary features from the smaller subset of data\n",
    "- Ensure that your script is scalable, using the best practices discussed in Lesson 3\n",
    "- Try your script on the full data set, debugging your script if necessary\n",
    "\n",
    "If you are working in the classroom workspace, you can just extract features based on the small subset of data contained here. Be sure to transfer over this work to the larger dataset when you work on your Spark cluster."
   ]
  },
  {
   "cell_type": "code",
   "execution_count": null,
   "metadata": {},
   "outputs": [],
   "source": [
    "df.filter(\"page = 'Cancellation Confirmation'\").count()"
   ]
  },
  {
   "cell_type": "code",
   "execution_count": null,
   "metadata": {},
   "outputs": [],
   "source": [
    "df_pd = df.filter(\"page = 'Downgrade'\").toPandas()\n",
    "df_pd"
   ]
  },
  {
   "cell_type": "code",
   "execution_count": null,
   "metadata": {},
   "outputs": [],
   "source": [
    "df.filter(\"page = 'Downgrade'\").count()"
   ]
  },
  {
   "cell_type": "code",
   "execution_count": null,
   "metadata": {},
   "outputs": [],
   "source": [
    "churn = udf(lambda x: int(x==\"Cancellation Confirmation\"), IntegerType())\n",
    "downgrade_churn = udf(lambda x: int(x==\"Downgrade\"), IntegerType())\n",
    "\n",
    "df = df.withColumn(\"downgraded\", downgrade_churn(\"page\")).withColumn(\"cancelled\", churn(\"page\"))\n",
    "\n"
   ]
  },
  {
   "cell_type": "code",
   "execution_count": null,
   "metadata": {},
   "outputs": [],
   "source": [
    "#distribution of users downgrades and cancellations\n",
    "df.select(['userId', 'downgraded', 'cancelled'])\\\n",
    "    .groupBy('userId').sum()\\\n",
    "    .withColumnRenamed('sum(downgraded)', 'downgraded')\\\n",
    "    .withColumnRenamed('sum(cancelled)', 'cancelled').describe().show()"
   ]
  },
  {
   "cell_type": "code",
   "execution_count": null,
   "metadata": {},
   "outputs": [],
   "source": [
    "windowvalue = Window.partitionBy(\"userId\").orderBy(desc(\"ts\")).rangeBetween(Window.unboundedPreceding, 0)\n",
    "\n",
    "\n",
    "df = df.withColumn(\"churn_phase\", Fsum(\"cancelled\").over(windowvalue))\\\n",
    "    .withColumn(\"downgrade_phase\", Fsum(\"downgraded\").over(windowvalue))"
   ]
  },
  {
   "cell_type": "code",
   "execution_count": null,
   "metadata": {},
   "outputs": [],
   "source": []
  },
  {
   "cell_type": "code",
   "execution_count": null,
   "metadata": {},
   "outputs": [],
   "source": []
  },
  {
   "cell_type": "code",
   "execution_count": null,
   "metadata": {},
   "outputs": [],
   "source": []
  },
  {
   "cell_type": "code",
   "execution_count": null,
   "metadata": {},
   "outputs": [],
   "source": []
  },
  {
   "cell_type": "code",
   "execution_count": null,
   "metadata": {},
   "outputs": [],
   "source": []
  },
  {
   "cell_type": "markdown",
   "metadata": {},
   "source": [
    "# Modeling\n",
    "Split the full dataset into train, test, and validation sets. Test out several of the machine learning methods you learned. Evaluate the accuracy of the various models, tuning parameters as necessary. Determine your winning model based on test accuracy and report results on the validation set. Since the churned users are a fairly small subset, I suggest using F1 score as the metric to optimize."
   ]
  },
  {
   "cell_type": "code",
   "execution_count": null,
   "metadata": {},
   "outputs": [],
   "source": []
  },
  {
   "cell_type": "markdown",
   "metadata": {},
   "source": [
    "# Final Steps\n",
    "Clean up your code, adding comments and renaming variables to make the code easier to read and maintain. Refer to the Spark Project Overview page and Data Scientist Capstone Project Rubric to make sure you are including all components of the capstone project and meet all expectations. Remember, this includes thorough documentation in a README file in a Github repository, as well as a web app or blog post."
   ]
  },
  {
   "cell_type": "code",
   "execution_count": null,
   "metadata": {},
   "outputs": [],
   "source": []
  }
 ],
 "metadata": {
  "kernelspec": {
   "display_name": "Python 3",
   "language": "python",
   "name": "python3"
  },
  "language_info": {
   "codemirror_mode": {
    "name": "ipython",
    "version": 3
   },
   "file_extension": ".py",
   "mimetype": "text/x-python",
   "name": "python",
   "nbconvert_exporter": "python",
   "pygments_lexer": "ipython3",
   "version": "3.6.3"
  }
 },
 "nbformat": 4,
 "nbformat_minor": 2
}
